{
 "cells": [
  {
   "cell_type": "markdown",
   "metadata": {},
   "source": [
    "# SIRD Model\n",
    "\n",
    "Basic SIRD model for Indonesia Covid \n",
    "(data until 20200404) using PSO optimization"
   ]
  },
  {
   "cell_type": "markdown",
   "metadata": {},
   "source": [
    "![SIRD](../images/Scheme-of-Susceptible-Infectious-Recovered-Death-SIRD-Model-Boxes-represent.png)"
   ]
  },
  {
   "cell_type": "code",
   "execution_count": 1,
   "metadata": {},
   "outputs": [],
   "source": [
    "PATH_DATA = '../data/raw/'\n",
    "PATH_DATA_INTERIM = '../data/interim/'\n",
    "PATH_SRC='../src/'\n",
    "PATH_IMG='../images/'"
   ]
  },
  {
   "cell_type": "code",
   "execution_count": 2,
   "metadata": {},
   "outputs": [],
   "source": [
    "import ipywidgets as widgets\n",
    "from ipywidgets import interact, interact_manual"
   ]
  },
  {
   "cell_type": "code",
   "execution_count": 3,
   "metadata": {},
   "outputs": [],
   "source": [
    "import pandas as pd\n",
    "import scipy.integrate as spi\n",
    "import numpy as np\n",
    "import seaborn as sns\n",
    "from sklearn.linear_model import LinearRegression\n",
    "import statsmodels.api as sm\n",
    "import matplotlib.pyplot as plt\n",
    "import datetime as dt\n",
    "import pyswarms as ps\n",
    "import sys\n",
    "\n",
    "sys.path.insert(1, PATH_SRC)\n",
    "from covid_model import sird_model, pso_sird"
   ]
  },
  {
   "cell_type": "code",
   "execution_count": 4,
   "metadata": {},
   "outputs": [],
   "source": [
    "## Assumption\n",
    "NUMB_OF_POPS=200000000\n",
    "CURR_DATE='20200404'"
   ]
  },
  {
   "cell_type": "code",
   "execution_count": null,
   "metadata": {},
   "outputs": [],
   "source": []
  },
  {
   "cell_type": "markdown",
   "metadata": {},
   "source": [
    "## Get The Data\n",
    "\n",
    "Getting the data and do the summary"
   ]
  },
  {
   "cell_type": "code",
   "execution_count": 5,
   "metadata": {},
   "outputs": [],
   "source": [
    "col_use=['Sus','Inf','Rec','Dea']\n",
    "col_use_pred=[x+'_pred' for x in col_use]"
   ]
  },
  {
   "cell_type": "code",
   "execution_count": 6,
   "metadata": {},
   "outputs": [],
   "source": [
    "## Get The Raw Data\n",
    "df_daily=pd.read_csv(PATH_DATA+CURR_DATE+'_DailyCase_ID.csv')\n",
    "df_daily=df_daily.fillna(0)\n",
    "\n",
    "## Get the compartment value\n",
    "df_daily['Rec']=df_daily['Sembuh (baru)'].cumsum()\n",
    "df_daily['Dea']=df_daily['Meninggal (baru)'].cumsum()\n",
    "df_daily['Inf']=df_daily['Kasus (Kumulatif)']-df_daily['Rec']-df_daily['Dea']\n",
    "df_daily['Sus']=NUMB_OF_POPS-df_daily['Inf']-df_daily['Rec']-df_daily['Dea']\n",
    "df_daily.to_csv(PATH_DATA_INTERIM+CURR_DATE+'_DailyCase_ID_SIRD.csv',index=False)\n",
    "\n",
    "## Standardized it by divide it by population number\n",
    "df_daily_sird=df_daily[col_use]/NUMB_OF_POPS\n",
    "df_daily_sird['weight']=2"
   ]
  },
  {
   "cell_type": "code",
   "execution_count": 7,
   "metadata": {},
   "outputs": [
    {
     "data": {
      "text/html": [
       "<div>\n",
       "<style scoped>\n",
       "    .dataframe tbody tr th:only-of-type {\n",
       "        vertical-align: middle;\n",
       "    }\n",
       "\n",
       "    .dataframe tbody tr th {\n",
       "        vertical-align: top;\n",
       "    }\n",
       "\n",
       "    .dataframe thead th {\n",
       "        text-align: right;\n",
       "    }\n",
       "</style>\n",
       "<table border=\"1\" class=\"dataframe\">\n",
       "  <thead>\n",
       "    <tr style=\"text-align: right;\">\n",
       "      <th></th>\n",
       "      <th>DT</th>\n",
       "      <th>Kasus (Kumulatif)</th>\n",
       "      <th>Kasus Baru</th>\n",
       "      <th>Sembuh (baru)</th>\n",
       "      <th>Meninggal (baru)</th>\n",
       "      <th>Rec</th>\n",
       "      <th>Dea</th>\n",
       "      <th>Inf</th>\n",
       "      <th>Sus</th>\n",
       "    </tr>\n",
       "  </thead>\n",
       "  <tbody>\n",
       "    <tr>\n",
       "      <th>24</th>\n",
       "      <td>2020-03-26 00:00:00</td>\n",
       "      <td>893</td>\n",
       "      <td>103.0</td>\n",
       "      <td>4.0</td>\n",
       "      <td>20.0</td>\n",
       "      <td>35.0</td>\n",
       "      <td>78.0</td>\n",
       "      <td>780.0</td>\n",
       "      <td>199999107.0</td>\n",
       "    </tr>\n",
       "    <tr>\n",
       "      <th>25</th>\n",
       "      <td>2020-03-27 00:00:00</td>\n",
       "      <td>1046</td>\n",
       "      <td>153.0</td>\n",
       "      <td>11.0</td>\n",
       "      <td>9.0</td>\n",
       "      <td>46.0</td>\n",
       "      <td>87.0</td>\n",
       "      <td>913.0</td>\n",
       "      <td>199998954.0</td>\n",
       "    </tr>\n",
       "    <tr>\n",
       "      <th>26</th>\n",
       "      <td>2020-03-28 00:00:00</td>\n",
       "      <td>1155</td>\n",
       "      <td>109.0</td>\n",
       "      <td>13.0</td>\n",
       "      <td>15.0</td>\n",
       "      <td>59.0</td>\n",
       "      <td>102.0</td>\n",
       "      <td>994.0</td>\n",
       "      <td>199998845.0</td>\n",
       "    </tr>\n",
       "    <tr>\n",
       "      <th>27</th>\n",
       "      <td>2020-03-29 00:00:00</td>\n",
       "      <td>1285</td>\n",
       "      <td>130.0</td>\n",
       "      <td>5.0</td>\n",
       "      <td>12.0</td>\n",
       "      <td>64.0</td>\n",
       "      <td>114.0</td>\n",
       "      <td>1107.0</td>\n",
       "      <td>199998715.0</td>\n",
       "    </tr>\n",
       "    <tr>\n",
       "      <th>28</th>\n",
       "      <td>2020-03-30 00:00:00</td>\n",
       "      <td>1414</td>\n",
       "      <td>129.0</td>\n",
       "      <td>11.0</td>\n",
       "      <td>8.0</td>\n",
       "      <td>75.0</td>\n",
       "      <td>122.0</td>\n",
       "      <td>1217.0</td>\n",
       "      <td>199998586.0</td>\n",
       "    </tr>\n",
       "    <tr>\n",
       "      <th>29</th>\n",
       "      <td>2020-03-31 00:00:00</td>\n",
       "      <td>1528</td>\n",
       "      <td>114.0</td>\n",
       "      <td>6.0</td>\n",
       "      <td>14.0</td>\n",
       "      <td>81.0</td>\n",
       "      <td>136.0</td>\n",
       "      <td>1311.0</td>\n",
       "      <td>199998472.0</td>\n",
       "    </tr>\n",
       "    <tr>\n",
       "      <th>30</th>\n",
       "      <td>2020-04-01 00:00:00</td>\n",
       "      <td>1677</td>\n",
       "      <td>149.0</td>\n",
       "      <td>22.0</td>\n",
       "      <td>21.0</td>\n",
       "      <td>103.0</td>\n",
       "      <td>157.0</td>\n",
       "      <td>1417.0</td>\n",
       "      <td>199998323.0</td>\n",
       "    </tr>\n",
       "    <tr>\n",
       "      <th>31</th>\n",
       "      <td>2020-04-02 00:00:00</td>\n",
       "      <td>1790</td>\n",
       "      <td>113.0</td>\n",
       "      <td>9.0</td>\n",
       "      <td>13.0</td>\n",
       "      <td>112.0</td>\n",
       "      <td>170.0</td>\n",
       "      <td>1508.0</td>\n",
       "      <td>199998210.0</td>\n",
       "    </tr>\n",
       "    <tr>\n",
       "      <th>32</th>\n",
       "      <td>2020-04-03 00:00:00</td>\n",
       "      <td>1986</td>\n",
       "      <td>196.0</td>\n",
       "      <td>22.0</td>\n",
       "      <td>11.0</td>\n",
       "      <td>134.0</td>\n",
       "      <td>181.0</td>\n",
       "      <td>1671.0</td>\n",
       "      <td>199998014.0</td>\n",
       "    </tr>\n",
       "    <tr>\n",
       "      <th>33</th>\n",
       "      <td>2020-04-04 00:00:00</td>\n",
       "      <td>2092</td>\n",
       "      <td>106.0</td>\n",
       "      <td>16.0</td>\n",
       "      <td>10.0</td>\n",
       "      <td>150.0</td>\n",
       "      <td>191.0</td>\n",
       "      <td>1751.0</td>\n",
       "      <td>199997908.0</td>\n",
       "    </tr>\n",
       "  </tbody>\n",
       "</table>\n",
       "</div>"
      ],
      "text/plain": [
       "                     DT  Kasus (Kumulatif)  Kasus Baru  Sembuh (baru)  \\\n",
       "24  2020-03-26 00:00:00                893       103.0            4.0   \n",
       "25  2020-03-27 00:00:00               1046       153.0           11.0   \n",
       "26  2020-03-28 00:00:00               1155       109.0           13.0   \n",
       "27  2020-03-29 00:00:00               1285       130.0            5.0   \n",
       "28  2020-03-30 00:00:00               1414       129.0           11.0   \n",
       "29  2020-03-31 00:00:00               1528       114.0            6.0   \n",
       "30  2020-04-01 00:00:00               1677       149.0           22.0   \n",
       "31  2020-04-02 00:00:00               1790       113.0            9.0   \n",
       "32  2020-04-03 00:00:00               1986       196.0           22.0   \n",
       "33  2020-04-04 00:00:00               2092       106.0           16.0   \n",
       "\n",
       "    Meninggal (baru)    Rec    Dea     Inf          Sus  \n",
       "24              20.0   35.0   78.0   780.0  199999107.0  \n",
       "25               9.0   46.0   87.0   913.0  199998954.0  \n",
       "26              15.0   59.0  102.0   994.0  199998845.0  \n",
       "27              12.0   64.0  114.0  1107.0  199998715.0  \n",
       "28               8.0   75.0  122.0  1217.0  199998586.0  \n",
       "29              14.0   81.0  136.0  1311.0  199998472.0  \n",
       "30              21.0  103.0  157.0  1417.0  199998323.0  \n",
       "31              13.0  112.0  170.0  1508.0  199998210.0  \n",
       "32              11.0  134.0  181.0  1671.0  199998014.0  \n",
       "33              10.0  150.0  191.0  1751.0  199997908.0  "
      ]
     },
     "execution_count": 7,
     "metadata": {},
     "output_type": "execute_result"
    }
   ],
   "source": [
    "df_daily.tail(10)"
   ]
  },
  {
   "cell_type": "code",
   "execution_count": 8,
   "metadata": {},
   "outputs": [
    {
     "data": {
      "text/plain": [
       "<matplotlib.axes._subplots.AxesSubplot at 0x1c1941ead0>"
      ]
     },
     "execution_count": 8,
     "metadata": {},
     "output_type": "execute_result"
    },
    {
     "data": {
      "image/png": "[encoded data removed]",
      "text/plain": [
       "<Figure size 432x288 with 1 Axes>"
      ]
     },
     "metadata": {
      "needs_background": "light"
     },
     "output_type": "display_data"
    }
   ],
   "source": [
    "df_daily['Kasus (Kumulatif)'].plot()"
   ]
  },
  {
   "cell_type": "code",
   "execution_count": 9,
   "metadata": {},
   "outputs": [
    {
     "data": {
      "text/html": [
       "<div>\n",
       "<style scoped>\n",
       "    .dataframe tbody tr th:only-of-type {\n",
       "        vertical-align: middle;\n",
       "    }\n",
       "\n",
       "    .dataframe tbody tr th {\n",
       "        vertical-align: top;\n",
       "    }\n",
       "\n",
       "    .dataframe thead th {\n",
       "        text-align: right;\n",
       "    }\n",
       "</style>\n",
       "<table border=\"1\" class=\"dataframe\">\n",
       "  <thead>\n",
       "    <tr style=\"text-align: right;\">\n",
       "      <th></th>\n",
       "      <th>Sus</th>\n",
       "      <th>Inf</th>\n",
       "      <th>Rec</th>\n",
       "      <th>Dea</th>\n",
       "      <th>weight</th>\n",
       "    </tr>\n",
       "  </thead>\n",
       "  <tbody>\n",
       "    <tr>\n",
       "      <th>0</th>\n",
       "      <td>1.000000</td>\n",
       "      <td>1.000000e-08</td>\n",
       "      <td>0.000000e+00</td>\n",
       "      <td>0.000000e+00</td>\n",
       "      <td>2</td>\n",
       "    </tr>\n",
       "    <tr>\n",
       "      <th>1</th>\n",
       "      <td>1.000000</td>\n",
       "      <td>1.000000e-08</td>\n",
       "      <td>0.000000e+00</td>\n",
       "      <td>0.000000e+00</td>\n",
       "      <td>2</td>\n",
       "    </tr>\n",
       "    <tr>\n",
       "      <th>2</th>\n",
       "      <td>1.000000</td>\n",
       "      <td>1.000000e-08</td>\n",
       "      <td>0.000000e+00</td>\n",
       "      <td>0.000000e+00</td>\n",
       "      <td>2</td>\n",
       "    </tr>\n",
       "    <tr>\n",
       "      <th>3</th>\n",
       "      <td>1.000000</td>\n",
       "      <td>1.000000e-08</td>\n",
       "      <td>0.000000e+00</td>\n",
       "      <td>0.000000e+00</td>\n",
       "      <td>2</td>\n",
       "    </tr>\n",
       "    <tr>\n",
       "      <th>4</th>\n",
       "      <td>1.000000</td>\n",
       "      <td>2.000000e-08</td>\n",
       "      <td>0.000000e+00</td>\n",
       "      <td>0.000000e+00</td>\n",
       "      <td>2</td>\n",
       "    </tr>\n",
       "    <tr>\n",
       "      <th>5</th>\n",
       "      <td>1.000000</td>\n",
       "      <td>2.000000e-08</td>\n",
       "      <td>0.000000e+00</td>\n",
       "      <td>0.000000e+00</td>\n",
       "      <td>2</td>\n",
       "    </tr>\n",
       "    <tr>\n",
       "      <th>6</th>\n",
       "      <td>1.000000</td>\n",
       "      <td>3.000000e-08</td>\n",
       "      <td>0.000000e+00</td>\n",
       "      <td>0.000000e+00</td>\n",
       "      <td>2</td>\n",
       "    </tr>\n",
       "    <tr>\n",
       "      <th>7</th>\n",
       "      <td>1.000000</td>\n",
       "      <td>9.500000e-08</td>\n",
       "      <td>0.000000e+00</td>\n",
       "      <td>0.000000e+00</td>\n",
       "      <td>2</td>\n",
       "    </tr>\n",
       "    <tr>\n",
       "      <th>8</th>\n",
       "      <td>1.000000</td>\n",
       "      <td>1.350000e-07</td>\n",
       "      <td>0.000000e+00</td>\n",
       "      <td>0.000000e+00</td>\n",
       "      <td>2</td>\n",
       "    </tr>\n",
       "    <tr>\n",
       "      <th>9</th>\n",
       "      <td>1.000000</td>\n",
       "      <td>1.500000e-07</td>\n",
       "      <td>1.000000e-08</td>\n",
       "      <td>1.000000e-08</td>\n",
       "      <td>2</td>\n",
       "    </tr>\n",
       "    <tr>\n",
       "      <th>10</th>\n",
       "      <td>1.000000</td>\n",
       "      <td>1.350000e-07</td>\n",
       "      <td>1.500000e-08</td>\n",
       "      <td>2.000000e-08</td>\n",
       "      <td>2</td>\n",
       "    </tr>\n",
       "    <tr>\n",
       "      <th>11</th>\n",
       "      <td>1.000000</td>\n",
       "      <td>3.000000e-07</td>\n",
       "      <td>2.500000e-08</td>\n",
       "      <td>2.000000e-08</td>\n",
       "      <td>2</td>\n",
       "    </tr>\n",
       "    <tr>\n",
       "      <th>12</th>\n",
       "      <td>1.000000</td>\n",
       "      <td>4.150000e-07</td>\n",
       "      <td>4.000000e-08</td>\n",
       "      <td>2.500000e-08</td>\n",
       "      <td>2</td>\n",
       "    </tr>\n",
       "    <tr>\n",
       "      <th>13</th>\n",
       "      <td>0.999999</td>\n",
       "      <td>5.200000e-07</td>\n",
       "      <td>4.000000e-08</td>\n",
       "      <td>2.500000e-08</td>\n",
       "      <td>2</td>\n",
       "    </tr>\n",
       "    <tr>\n",
       "      <th>14</th>\n",
       "      <td>0.999999</td>\n",
       "      <td>6.050000e-07</td>\n",
       "      <td>4.000000e-08</td>\n",
       "      <td>2.500000e-08</td>\n",
       "      <td>2</td>\n",
       "    </tr>\n",
       "    <tr>\n",
       "      <th>15</th>\n",
       "      <td>0.999999</td>\n",
       "      <td>7.800000e-07</td>\n",
       "      <td>4.500000e-08</td>\n",
       "      <td>3.500000e-08</td>\n",
       "      <td>2</td>\n",
       "    </tr>\n",
       "    <tr>\n",
       "      <th>16</th>\n",
       "      <td>0.999999</td>\n",
       "      <td>9.850000e-07</td>\n",
       "      <td>5.500000e-08</td>\n",
       "      <td>9.500000e-08</td>\n",
       "      <td>2</td>\n",
       "    </tr>\n",
       "    <tr>\n",
       "      <th>17</th>\n",
       "      <td>0.999998</td>\n",
       "      <td>1.345000e-06</td>\n",
       "      <td>7.500000e-08</td>\n",
       "      <td>1.250000e-07</td>\n",
       "      <td>2</td>\n",
       "    </tr>\n",
       "    <tr>\n",
       "      <th>18</th>\n",
       "      <td>0.999998</td>\n",
       "      <td>1.605000e-06</td>\n",
       "      <td>8.000000e-08</td>\n",
       "      <td>1.600000e-07</td>\n",
       "      <td>2</td>\n",
       "    </tr>\n",
       "    <tr>\n",
       "      <th>19</th>\n",
       "      <td>0.999998</td>\n",
       "      <td>1.960000e-06</td>\n",
       "      <td>1.000000e-07</td>\n",
       "      <td>1.900000e-07</td>\n",
       "      <td>2</td>\n",
       "    </tr>\n",
       "    <tr>\n",
       "      <th>20</th>\n",
       "      <td>0.999997</td>\n",
       "      <td>2.185000e-06</td>\n",
       "      <td>1.450000e-07</td>\n",
       "      <td>2.400000e-07</td>\n",
       "      <td>2</td>\n",
       "    </tr>\n",
       "    <tr>\n",
       "      <th>21</th>\n",
       "      <td>0.999997</td>\n",
       "      <td>2.500000e-06</td>\n",
       "      <td>1.500000e-07</td>\n",
       "      <td>2.450000e-07</td>\n",
       "      <td>2</td>\n",
       "    </tr>\n",
       "    <tr>\n",
       "      <th>22</th>\n",
       "      <td>0.999997</td>\n",
       "      <td>3.000000e-06</td>\n",
       "      <td>1.500000e-07</td>\n",
       "      <td>2.750000e-07</td>\n",
       "      <td>2</td>\n",
       "    </tr>\n",
       "    <tr>\n",
       "      <th>23</th>\n",
       "      <td>0.999996</td>\n",
       "      <td>3.505000e-06</td>\n",
       "      <td>1.550000e-07</td>\n",
       "      <td>2.900000e-07</td>\n",
       "      <td>2</td>\n",
       "    </tr>\n",
       "    <tr>\n",
       "      <th>24</th>\n",
       "      <td>0.999996</td>\n",
       "      <td>3.900000e-06</td>\n",
       "      <td>1.750000e-07</td>\n",
       "      <td>3.900000e-07</td>\n",
       "      <td>2</td>\n",
       "    </tr>\n",
       "    <tr>\n",
       "      <th>25</th>\n",
       "      <td>0.999995</td>\n",
       "      <td>4.565000e-06</td>\n",
       "      <td>2.300000e-07</td>\n",
       "      <td>4.350000e-07</td>\n",
       "      <td>2</td>\n",
       "    </tr>\n",
       "    <tr>\n",
       "      <th>26</th>\n",
       "      <td>0.999994</td>\n",
       "      <td>4.970000e-06</td>\n",
       "      <td>2.950000e-07</td>\n",
       "      <td>5.100000e-07</td>\n",
       "      <td>2</td>\n",
       "    </tr>\n",
       "    <tr>\n",
       "      <th>27</th>\n",
       "      <td>0.999994</td>\n",
       "      <td>5.535000e-06</td>\n",
       "      <td>3.200000e-07</td>\n",
       "      <td>5.700000e-07</td>\n",
       "      <td>2</td>\n",
       "    </tr>\n",
       "    <tr>\n",
       "      <th>28</th>\n",
       "      <td>0.999993</td>\n",
       "      <td>6.085000e-06</td>\n",
       "      <td>3.750000e-07</td>\n",
       "      <td>6.100000e-07</td>\n",
       "      <td>2</td>\n",
       "    </tr>\n",
       "    <tr>\n",
       "      <th>29</th>\n",
       "      <td>0.999992</td>\n",
       "      <td>6.555000e-06</td>\n",
       "      <td>4.050000e-07</td>\n",
       "      <td>6.800000e-07</td>\n",
       "      <td>2</td>\n",
       "    </tr>\n",
       "    <tr>\n",
       "      <th>30</th>\n",
       "      <td>0.999992</td>\n",
       "      <td>7.085000e-06</td>\n",
       "      <td>5.150000e-07</td>\n",
       "      <td>7.850000e-07</td>\n",
       "      <td>2</td>\n",
       "    </tr>\n",
       "    <tr>\n",
       "      <th>31</th>\n",
       "      <td>0.999991</td>\n",
       "      <td>7.540000e-06</td>\n",
       "      <td>5.600000e-07</td>\n",
       "      <td>8.500000e-07</td>\n",
       "      <td>2</td>\n",
       "    </tr>\n",
       "    <tr>\n",
       "      <th>32</th>\n",
       "      <td>0.999990</td>\n",
       "      <td>8.355000e-06</td>\n",
       "      <td>6.700000e-07</td>\n",
       "      <td>9.050000e-07</td>\n",
       "      <td>2</td>\n",
       "    </tr>\n",
       "    <tr>\n",
       "      <th>33</th>\n",
       "      <td>0.999990</td>\n",
       "      <td>8.755000e-06</td>\n",
       "      <td>7.500000e-07</td>\n",
       "      <td>9.550000e-07</td>\n",
       "      <td>2</td>\n",
       "    </tr>\n",
       "  </tbody>\n",
       "</table>\n",
       "</div>"
      ],
      "text/plain": [
       "         Sus           Inf           Rec           Dea  weight\n",
       "0   1.000000  1.000000e-08  0.000000e+00  0.000000e+00       2\n",
       "1   1.000000  1.000000e-08  0.000000e+00  0.000000e+00       2\n",
       "2   1.000000  1.000000e-08  0.000000e+00  0.000000e+00       2\n",
       "3   1.000000  1.000000e-08  0.000000e+00  0.000000e+00       2\n",
       "4   1.000000  2.000000e-08  0.000000e+00  0.000000e+00       2\n",
       "5   1.000000  2.000000e-08  0.000000e+00  0.000000e+00       2\n",
       "6   1.000000  3.000000e-08  0.000000e+00  0.000000e+00       2\n",
       "7   1.000000  9.500000e-08  0.000000e+00  0.000000e+00       2\n",
       "8   1.000000  1.350000e-07  0.000000e+00  0.000000e+00       2\n",
       "9   1.000000  1.500000e-07  1.000000e-08  1.000000e-08       2\n",
       "10  1.000000  1.350000e-07  1.500000e-08  2.000000e-08       2\n",
       "11  1.000000  3.000000e-07  2.500000e-08  2.000000e-08       2\n",
       "12  1.000000  4.150000e-07  4.000000e-08  2.500000e-08       2\n",
       "13  0.999999  5.200000e-07  4.000000e-08  2.500000e-08       2\n",
       "14  0.999999  6.050000e-07  4.000000e-08  2.500000e-08       2\n",
       "15  0.999999  7.800000e-07  4.500000e-08  3.500000e-08       2\n",
       "16  0.999999  9.850000e-07  5.500000e-08  9.500000e-08       2\n",
       "17  0.999998  1.345000e-06  7.500000e-08  1.250000e-07       2\n",
       "18  0.999998  1.605000e-06  8.000000e-08  1.600000e-07       2\n",
       "19  0.999998  1.960000e-06  1.000000e-07  1.900000e-07       2\n",
       "20  0.999997  2.185000e-06  1.450000e-07  2.400000e-07       2\n",
       "21  0.999997  2.500000e-06  1.500000e-07  2.450000e-07       2\n",
       "22  0.999997  3.000000e-06  1.500000e-07  2.750000e-07       2\n",
       "23  0.999996  3.505000e-06  1.550000e-07  2.900000e-07       2\n",
       "24  0.999996  3.900000e-06  1.750000e-07  3.900000e-07       2\n",
       "25  0.999995  4.565000e-06  2.300000e-07  4.350000e-07       2\n",
       "26  0.999994  4.970000e-06  2.950000e-07  5.100000e-07       2\n",
       "27  0.999994  5.535000e-06  3.200000e-07  5.700000e-07       2\n",
       "28  0.999993  6.085000e-06  3.750000e-07  6.100000e-07       2\n",
       "29  0.999992  6.555000e-06  4.050000e-07  6.800000e-07       2\n",
       "30  0.999992  7.085000e-06  5.150000e-07  7.850000e-07       2\n",
       "31  0.999991  7.540000e-06  5.600000e-07  8.500000e-07       2\n",
       "32  0.999990  8.355000e-06  6.700000e-07  9.050000e-07       2\n",
       "33  0.999990  8.755000e-06  7.500000e-07  9.550000e-07       2"
      ]
     },
     "execution_count": 9,
     "metadata": {},
     "output_type": "execute_result"
    }
   ],
   "source": [
    "df_daily_sird"
   ]
  },
  {
   "cell_type": "code",
   "execution_count": 10,
   "metadata": {},
   "outputs": [
    {
     "data": {
      "text/plain": [
       "<matplotlib.axes._subplots.AxesSubplot at 0x1c19783610>"
      ]
     },
     "execution_count": 10,
     "metadata": {},
     "output_type": "execute_result"
    },
    {
     "data": {
      "image/png": "[encoded data removed]",
      "text/plain": [
       "<Figure size 720x576 with 1 Axes>"
      ]
     },
     "metadata": {
      "needs_background": "light"
     },
     "output_type": "display_data"
    }
   ],
   "source": [
    "df_daily_sird[['Inf','Rec','Dea']].plot(figsize=(10,8))"
   ]
  },
  {
   "cell_type": "code",
   "execution_count": null,
   "metadata": {},
   "outputs": [],
   "source": []
  },
  {
   "cell_type": "markdown",
   "metadata": {},
   "source": [
    "## Tuning Parameter SIRD Model\n",
    "\n",
    "The tuning parameter is more focus on I and R.. meanwhile the newest data is more influence the model than the last one.. (using weight)"
   ]
  },
  {
   "cell_type": "code",
   "execution_count": 11,
   "metadata": {},
   "outputs": [],
   "source": [
    "# param_b,param_r,param_m"
   ]
  },
  {
   "cell_type": "code",
   "execution_count": 20,
   "metadata": {},
   "outputs": [],
   "source": [
    "## Summary\n",
    "## First 23 day --> [0.30421772, 0.01571879, 0.02715623] (1.13785449363775)\n",
    "## First 25 day --> [0.2942096 , 0.01569591, 0.02679847] (2.7496582873743516)\n",
    "## First 27 day --> [0.282616  , 0.01432964, 0.02584207] (5.365068009)\n",
    "## First 28 day --> [0.27636661, 0.01389041, 0.02523562]\n",
    "## First 34 day --> [0.25272228, 0.01689525, 0.02514914] (61.60118585319816)"
   ]
  },
  {
   "cell_type": "code",
   "execution_count": 13,
   "metadata": {},
   "outputs": [
    {
     "data": {
      "text/plain": [
       "(34, 5)"
      ]
     },
     "execution_count": 13,
     "metadata": {},
     "output_type": "execute_result"
    }
   ],
   "source": [
    "df_daily_sird.shape"
   ]
  },
  {
   "cell_type": "code",
   "execution_count": null,
   "metadata": {
    "scrolled": true
   },
   "outputs": [],
   "source": []
  },
  {
   "cell_type": "markdown",
   "metadata": {},
   "source": [
    "### Training All Data"
   ]
  },
  {
   "cell_type": "code",
   "execution_count": 14,
   "metadata": {},
   "outputs": [],
   "source": [
    "## all current data\n",
    "df_daily0=df_daily_sird.copy()\n",
    "prt=int(len(df_daily0)/5)+1\n",
    "weight_ls=[3.5]*prt+[3]*prt+[0.3]*prt+[0.1]*prt+[0.05]*prt\n",
    "weight_ls2=weight_ls[:len(df_daily0)]\n",
    "weight_ls2.sort()\n",
    "df_daily0['weight']=weight_ls2"
   ]
  },
  {
   "cell_type": "code",
   "execution_count": 15,
   "metadata": {},
   "outputs": [
    {
     "data": {
      "text/html": [
       "<div>\n",
       "<style scoped>\n",
       "    .dataframe tbody tr th:only-of-type {\n",
       "        vertical-align: middle;\n",
       "    }\n",
       "\n",
       "    .dataframe tbody tr th {\n",
       "        vertical-align: top;\n",
       "    }\n",
       "\n",
       "    .dataframe thead th {\n",
       "        text-align: right;\n",
       "    }\n",
       "</style>\n",
       "<table border=\"1\" class=\"dataframe\">\n",
       "  <thead>\n",
       "    <tr style=\"text-align: right;\">\n",
       "      <th></th>\n",
       "      <th>Sus</th>\n",
       "      <th>Inf</th>\n",
       "      <th>Rec</th>\n",
       "      <th>Dea</th>\n",
       "      <th>weight</th>\n",
       "    </tr>\n",
       "  </thead>\n",
       "  <tbody>\n",
       "    <tr>\n",
       "      <th>29</th>\n",
       "      <td>0.999992</td>\n",
       "      <td>0.000007</td>\n",
       "      <td>4.050000e-07</td>\n",
       "      <td>6.800000e-07</td>\n",
       "      <td>3.5</td>\n",
       "    </tr>\n",
       "    <tr>\n",
       "      <th>30</th>\n",
       "      <td>0.999992</td>\n",
       "      <td>0.000007</td>\n",
       "      <td>5.150000e-07</td>\n",
       "      <td>7.850000e-07</td>\n",
       "      <td>3.5</td>\n",
       "    </tr>\n",
       "    <tr>\n",
       "      <th>31</th>\n",
       "      <td>0.999991</td>\n",
       "      <td>0.000008</td>\n",
       "      <td>5.600000e-07</td>\n",
       "      <td>8.500000e-07</td>\n",
       "      <td>3.5</td>\n",
       "    </tr>\n",
       "    <tr>\n",
       "      <th>32</th>\n",
       "      <td>0.999990</td>\n",
       "      <td>0.000008</td>\n",
       "      <td>6.700000e-07</td>\n",
       "      <td>9.050000e-07</td>\n",
       "      <td>3.5</td>\n",
       "    </tr>\n",
       "    <tr>\n",
       "      <th>33</th>\n",
       "      <td>0.999990</td>\n",
       "      <td>0.000009</td>\n",
       "      <td>7.500000e-07</td>\n",
       "      <td>9.550000e-07</td>\n",
       "      <td>3.5</td>\n",
       "    </tr>\n",
       "  </tbody>\n",
       "</table>\n",
       "</div>"
      ],
      "text/plain": [
       "         Sus       Inf           Rec           Dea  weight\n",
       "29  0.999992  0.000007  4.050000e-07  6.800000e-07     3.5\n",
       "30  0.999992  0.000007  5.150000e-07  7.850000e-07     3.5\n",
       "31  0.999991  0.000008  5.600000e-07  8.500000e-07     3.5\n",
       "32  0.999990  0.000008  6.700000e-07  9.050000e-07     3.5\n",
       "33  0.999990  0.000009  7.500000e-07  9.550000e-07     3.5"
      ]
     },
     "execution_count": 15,
     "metadata": {},
     "output_type": "execute_result"
    }
   ],
   "source": [
    "df_daily0.tail()"
   ]
  },
  {
   "cell_type": "code",
   "execution_count": 18,
   "metadata": {
    "scrolled": true
   },
   "outputs": [
    {
     "name": "stderr",
     "output_type": "stream",
     "text": [
      "2020-04-05 12:44:50,627 - pyswarms.single.global_best - INFO - Optimize for 20 iters with {'c1': 0.15, 'c2': 0.95, 'w': 0.25}\n",
      "pyswarms.single.global_best: 100%|██████████|20/20, best_cost=61.6\n",
      "2020-04-05 12:45:10,806 - pyswarms.single.global_best - INFO - Optimization finished | best cost: 61.604406810575206, best pos: [0.25364059 0.01720385 0.02581895]\n",
      "2020-04-05 12:45:10,825 - pyswarms.single.global_best - INFO - Optimize for 20 iters with {'c1': 0.15, 'c2': 0.95, 'w': 0.25}\n",
      "pyswarms.single.global_best: 100%|██████████|20/20, best_cost=66.7\n",
      "2020-04-05 12:45:29,284 - pyswarms.single.global_best - INFO - Optimization finished | best cost: 66.73009286163177, best pos: [0.29130113 0.0277855  0.05435072]\n",
      "2020-04-05 12:45:29,297 - pyswarms.single.global_best - INFO - Optimize for 20 iters with {'c1': 0.15, 'c2': 0.95, 'w': 0.25}\n",
      "pyswarms.single.global_best: 100%|██████████|20/20, best_cost=62.7\n",
      "2020-04-05 12:45:45,097 - pyswarms.single.global_best - INFO - Optimization finished | best cost: 62.743402037174874, best pos: [0.26376576 0.01189712 0.04160168]\n",
      "2020-04-05 12:45:45,110 - pyswarms.single.global_best - INFO - Optimize for 40 iters with {'c1': 0.15, 'c2': 0.95, 'w': 0.25}\n",
      "pyswarms.single.global_best: 100%|██████████|40/40, best_cost=61.6\n",
      "2020-04-05 12:46:09,772 - pyswarms.single.global_best - INFO - Optimization finished | best cost: 61.60118585319816, best pos: [0.25272228 0.01689525 0.02514914]\n"
     ]
    }
   ],
   "source": [
    "all_param,cost_value=pso_sird(df0=df_daily0,population=NUMB_OF_POPS)"
   ]
  },
  {
   "cell_type": "code",
   "execution_count": 19,
   "metadata": {},
   "outputs": [
    {
     "data": {
      "text/plain": [
       "(array([0.25272228, 0.01689525, 0.02514914]), 61.60118585319816)"
      ]
     },
     "execution_count": 19,
     "metadata": {},
     "output_type": "execute_result"
    }
   ],
   "source": [
    "all_param,cost_value"
   ]
  },
  {
   "cell_type": "code",
   "execution_count": 21,
   "metadata": {},
   "outputs": [],
   "source": [
    "# all_param=[0.27808851,0.0143996,0.02582378] # --> (8.614889469)\n",
    "# all_param = [0.2559915 , 0.01757622, 0.02783833]"
   ]
  },
  {
   "cell_type": "code",
   "execution_count": 22,
   "metadata": {},
   "outputs": [],
   "source": [
    "## Predict\n",
    "T_start = 0.0\n",
    "T_inc=1.0\n",
    "# T_end = 23+4\n",
    "T_end = 30*6\n",
    "\n",
    "I0=2/NUMB_OF_POPS\n",
    "S0=1-I0\n",
    "INPUT = (S0, I0, 0.0, 0.0)\n",
    "col_use_pred=[x+'_pred' for x in col_use]\n",
    "T_range = np.arange(T_start, T_end+T_inc, T_inc)\n",
    "RES = sird_model(all_param,INPUT,T_range)\n",
    "df_sird_pred=pd.DataFrame(RES,columns=['Sus_pred','Inf_pred','Rec_pred','Dea_pred'])*NUMB_OF_POPS"
   ]
  },
  {
   "cell_type": "code",
   "execution_count": 23,
   "metadata": {},
   "outputs": [
    {
     "data": {
      "text/html": [
       "<div>\n",
       "<style scoped>\n",
       "    .dataframe tbody tr th:only-of-type {\n",
       "        vertical-align: middle;\n",
       "    }\n",
       "\n",
       "    .dataframe tbody tr th {\n",
       "        vertical-align: top;\n",
       "    }\n",
       "\n",
       "    .dataframe thead th {\n",
       "        text-align: right;\n",
       "    }\n",
       "</style>\n",
       "<table border=\"1\" class=\"dataframe\">\n",
       "  <thead>\n",
       "    <tr style=\"text-align: right;\">\n",
       "      <th></th>\n",
       "      <th>Inf</th>\n",
       "      <th>Rec</th>\n",
       "      <th>Dea</th>\n",
       "      <th>Inf_pred</th>\n",
       "      <th>Rec_pred</th>\n",
       "      <th>Dea_pred</th>\n",
       "      <th>Inf_pred_max</th>\n",
       "      <th>Inf_pred_min</th>\n",
       "      <th>Rec_pred_max</th>\n",
       "      <th>Rec_pred_min</th>\n",
       "    </tr>\n",
       "  </thead>\n",
       "  <tbody>\n",
       "    <tr>\n",
       "      <th>21</th>\n",
       "      <td>500.0</td>\n",
       "      <td>30.0</td>\n",
       "      <td>49.0</td>\n",
       "      <td>177.998060</td>\n",
       "      <td>14.114119</td>\n",
       "      <td>21.009333</td>\n",
       "      <td>554.632667</td>\n",
       "      <td>-198.636546</td>\n",
       "      <td>26.524063</td>\n",
       "      <td>1.704174</td>\n",
       "    </tr>\n",
       "    <tr>\n",
       "      <th>22</th>\n",
       "      <td>600.0</td>\n",
       "      <td>30.0</td>\n",
       "      <td>55.0</td>\n",
       "      <td>220.964051</td>\n",
       "      <td>17.559768</td>\n",
       "      <td>26.138296</td>\n",
       "      <td>597.598658</td>\n",
       "      <td>-155.670556</td>\n",
       "      <td>29.969713</td>\n",
       "      <td>5.149824</td>\n",
       "    </tr>\n",
       "    <tr>\n",
       "      <th>23</th>\n",
       "      <td>701.0</td>\n",
       "      <td>31.0</td>\n",
       "      <td>58.0</td>\n",
       "      <td>272.848938</td>\n",
       "      <td>21.720668</td>\n",
       "      <td>32.331933</td>\n",
       "      <td>649.483544</td>\n",
       "      <td>-103.785669</td>\n",
       "      <td>34.130613</td>\n",
       "      <td>9.310723</td>\n",
       "    </tr>\n",
       "    <tr>\n",
       "      <th>24</th>\n",
       "      <td>780.0</td>\n",
       "      <td>35.0</td>\n",
       "      <td>78.0</td>\n",
       "      <td>337.578527</td>\n",
       "      <td>26.911649</td>\n",
       "      <td>40.058880</td>\n",
       "      <td>714.213134</td>\n",
       "      <td>-39.056079</td>\n",
       "      <td>39.321594</td>\n",
       "      <td>14.501705</td>\n",
       "    </tr>\n",
       "    <tr>\n",
       "      <th>25</th>\n",
       "      <td>913.0</td>\n",
       "      <td>46.0</td>\n",
       "      <td>87.0</td>\n",
       "      <td>417.111620</td>\n",
       "      <td>33.289798</td>\n",
       "      <td>49.552966</td>\n",
       "      <td>793.746226</td>\n",
       "      <td>40.477013</td>\n",
       "      <td>45.699743</td>\n",
       "      <td>20.879854</td>\n",
       "    </tr>\n",
       "    <tr>\n",
       "      <th>26</th>\n",
       "      <td>994.0</td>\n",
       "      <td>59.0</td>\n",
       "      <td>102.0</td>\n",
       "      <td>516.562579</td>\n",
       "      <td>41.265265</td>\n",
       "      <td>61.424712</td>\n",
       "      <td>893.197186</td>\n",
       "      <td>139.927973</td>\n",
       "      <td>53.675209</td>\n",
       "      <td>28.855320</td>\n",
       "    </tr>\n",
       "    <tr>\n",
       "      <th>27</th>\n",
       "      <td>1107.0</td>\n",
       "      <td>64.0</td>\n",
       "      <td>114.0</td>\n",
       "      <td>638.356546</td>\n",
       "      <td>51.032535</td>\n",
       "      <td>75.963617</td>\n",
       "      <td>1014.991153</td>\n",
       "      <td>261.721940</td>\n",
       "      <td>63.442480</td>\n",
       "      <td>38.622590</td>\n",
       "    </tr>\n",
       "    <tr>\n",
       "      <th>28</th>\n",
       "      <td>1217.0</td>\n",
       "      <td>75.0</td>\n",
       "      <td>122.0</td>\n",
       "      <td>789.456593</td>\n",
       "      <td>63.150020</td>\n",
       "      <td>94.000894</td>\n",
       "      <td>1166.091200</td>\n",
       "      <td>412.821986</td>\n",
       "      <td>75.559964</td>\n",
       "      <td>50.740075</td>\n",
       "    </tr>\n",
       "    <tr>\n",
       "      <th>29</th>\n",
       "      <td>1311.0</td>\n",
       "      <td>81.0</td>\n",
       "      <td>136.0</td>\n",
       "      <td>975.814868</td>\n",
       "      <td>78.095060</td>\n",
       "      <td>116.247081</td>\n",
       "      <td>1352.449475</td>\n",
       "      <td>599.180261</td>\n",
       "      <td>90.505005</td>\n",
       "      <td>65.685116</td>\n",
       "    </tr>\n",
       "  </tbody>\n",
       "</table>\n",
       "</div>"
      ],
      "text/plain": [
       "       Inf   Rec    Dea    Inf_pred   Rec_pred    Dea_pred  Inf_pred_max  \\\n",
       "21   500.0  30.0   49.0  177.998060  14.114119   21.009333    554.632667   \n",
       "22   600.0  30.0   55.0  220.964051  17.559768   26.138296    597.598658   \n",
       "23   701.0  31.0   58.0  272.848938  21.720668   32.331933    649.483544   \n",
       "24   780.0  35.0   78.0  337.578527  26.911649   40.058880    714.213134   \n",
       "25   913.0  46.0   87.0  417.111620  33.289798   49.552966    793.746226   \n",
       "26   994.0  59.0  102.0  516.562579  41.265265   61.424712    893.197186   \n",
       "27  1107.0  64.0  114.0  638.356546  51.032535   75.963617   1014.991153   \n",
       "28  1217.0  75.0  122.0  789.456593  63.150020   94.000894   1166.091200   \n",
       "29  1311.0  81.0  136.0  975.814868  78.095060  116.247081   1352.449475   \n",
       "\n",
       "    Inf_pred_min  Rec_pred_max  Rec_pred_min  \n",
       "21   -198.636546     26.524063      1.704174  \n",
       "22   -155.670556     29.969713      5.149824  \n",
       "23   -103.785669     34.130613      9.310723  \n",
       "24    -39.056079     39.321594     14.501705  \n",
       "25     40.477013     45.699743     20.879854  \n",
       "26    139.927973     53.675209     28.855320  \n",
       "27    261.721940     63.442480     38.622590  \n",
       "28    412.821986     75.559964     50.740075  \n",
       "29    599.180261     90.505005     65.685116  "
      ]
     },
     "execution_count": 23,
     "metadata": {},
     "output_type": "execute_result"
    }
   ],
   "source": [
    "data_check=pd.concat([df_daily[['Inf','Rec','Dea']],df_sird_pred[['Inf_pred','Rec_pred','Dea_pred']]],axis=1)\n",
    "error_Inf=np.abs(data_check[26-prt:26]['Inf']-data_check[26-prt:26]['Inf_pred']).mean()\n",
    "error_Rec=np.abs(data_check[26-prt:26]['Rec']-data_check[26-prt:26]['Rec_pred']).mean()\n",
    "data_check['Inf_pred_max']=data_check['Inf_pred']+error_Inf\n",
    "data_check['Inf_pred_min']=data_check['Inf_pred']-error_Inf\n",
    "data_check['Rec_pred_max']=data_check['Rec_pred']+error_Rec\n",
    "data_check['Rec_pred_min']=data_check['Rec_pred']-error_Rec\n",
    "data_check[21:30]"
   ]
  },
  {
   "cell_type": "code",
   "execution_count": 24,
   "metadata": {},
   "outputs": [],
   "source": [
    "date_1 = dt.datetime.strptime(\"2020-03-02\", \"%Y-%m-%d\")\n",
    "all_date=[date_1 + dt.timedelta(days=int(i)) for i in range(T_end+1)]\n",
    "df_sird_pred.index=all_date"
   ]
  },
  {
   "cell_type": "code",
   "execution_count": null,
   "metadata": {},
   "outputs": [],
   "source": []
  },
  {
   "cell_type": "code",
   "execution_count": 25,
   "metadata": {},
   "outputs": [
    {
     "data": {
      "text/plain": [
       "<matplotlib.axes._subplots.AxesSubplot at 0x1c19a8e490>"
      ]
     },
     "execution_count": 25,
     "metadata": {},
     "output_type": "execute_result"
    },
    {
     "data": {
      "image/png": "[encoded data removed]",
      "text/plain": [
       "<Figure size 432x288 with 1 Axes>"
      ]
     },
     "metadata": {
      "needs_background": "light"
     },
     "output_type": "display_data"
    }
   ],
   "source": [
    "check_col='Inf'\n",
    "data_check[:35][[check_col,check_col+'_pred']].plot()"
   ]
  },
  {
   "cell_type": "code",
   "execution_count": 26,
   "metadata": {},
   "outputs": [],
   "source": [
    "# df_sird_pred['Dea_pred'].max()"
   ]
  },
  {
   "cell_type": "code",
   "execution_count": 27,
   "metadata": {},
   "outputs": [
    {
     "data": {
      "image/png": "[encoded data removed]",
      "text/plain": [
       "<Figure size 720x576 with 1 Axes>"
      ]
     },
     "metadata": {
      "needs_background": "light"
     },
     "output_type": "display_data"
    }
   ],
   "source": [
    "# df_sird_pred[['Inf_pred','Rec_pred','Dea_pred']].plot(figsize=(10,8))\n",
    "txt='SIRD Model \\ndengan Interaction Daily Rate = '+str(all_param[0])+' and \\nRecovery Daily Rate = '+str(\n",
    "            all_param[1])+' \\nand Death Daily Rate = '+str(all_param[2])+'\\n(Masih Prediksi Kasar)'\n",
    "sird_plot =df_sird_pred.plot(figsize=(10,8),title=txt)\n",
    "fig = sird_plot.get_figure()\n",
    "fig.savefig(PATH_IMG+CURR_DATE+\"sird_result.png\")"
   ]
  },
  {
   "cell_type": "code",
   "execution_count": null,
   "metadata": {},
   "outputs": [],
   "source": []
  },
  {
   "cell_type": "markdown",
   "metadata": {},
   "source": [
    "## Rate Changes"
   ]
  },
  {
   "cell_type": "code",
   "execution_count": 32,
   "metadata": {},
   "outputs": [],
   "source": [
    "## Summary\n",
    "Param_changes=[[23, 0.30421772, 0.01571879, 0.02715623],\n",
    "[25,0.2942096 , 0.01569591, 0.02679847], \n",
    "[27,0.282616  , 0.01432964, 0.02584207],\n",
    "[28,0.27636661, 0.01389041, 0.02523562],\n",
    "[34,0.25272228, 0.01689525, 0.02514914]]\n",
    "\n",
    "df_Param_changes=pd.DataFrame(Param_changes,columns=['Days','Contact Daily Rate','Recovery Daily Rate','Death Daily Rate'])\n",
    "df_Param_changes.index=df_Param_changes.Days\n",
    "del df_Param_changes['Days']\n"
   ]
  },
  {
   "cell_type": "code",
   "execution_count": 33,
   "metadata": {},
   "outputs": [
    {
     "data": {
      "text/html": [
       "<div>\n",
       "<style scoped>\n",
       "    .dataframe tbody tr th:only-of-type {\n",
       "        vertical-align: middle;\n",
       "    }\n",
       "\n",
       "    .dataframe tbody tr th {\n",
       "        vertical-align: top;\n",
       "    }\n",
       "\n",
       "    .dataframe thead th {\n",
       "        text-align: right;\n",
       "    }\n",
       "</style>\n",
       "<table border=\"1\" class=\"dataframe\">\n",
       "  <thead>\n",
       "    <tr style=\"text-align: right;\">\n",
       "      <th></th>\n",
       "      <th>Contact Daily Rate</th>\n",
       "      <th>Recovery Daily Rate</th>\n",
       "      <th>Death Daily Rate</th>\n",
       "    </tr>\n",
       "    <tr>\n",
       "      <th>Days</th>\n",
       "      <th></th>\n",
       "      <th></th>\n",
       "      <th></th>\n",
       "    </tr>\n",
       "  </thead>\n",
       "  <tbody>\n",
       "    <tr>\n",
       "      <th>23</th>\n",
       "      <td>0.304218</td>\n",
       "      <td>0.015719</td>\n",
       "      <td>0.027156</td>\n",
       "    </tr>\n",
       "    <tr>\n",
       "      <th>25</th>\n",
       "      <td>0.294210</td>\n",
       "      <td>0.015696</td>\n",
       "      <td>0.026798</td>\n",
       "    </tr>\n",
       "    <tr>\n",
       "      <th>27</th>\n",
       "      <td>0.282616</td>\n",
       "      <td>0.014330</td>\n",
       "      <td>0.025842</td>\n",
       "    </tr>\n",
       "    <tr>\n",
       "      <th>28</th>\n",
       "      <td>0.276367</td>\n",
       "      <td>0.013890</td>\n",
       "      <td>0.025236</td>\n",
       "    </tr>\n",
       "    <tr>\n",
       "      <th>34</th>\n",
       "      <td>0.252722</td>\n",
       "      <td>0.016895</td>\n",
       "      <td>0.025149</td>\n",
       "    </tr>\n",
       "  </tbody>\n",
       "</table>\n",
       "</div>"
      ],
      "text/plain": [
       "      Contact Daily Rate  Recovery Daily Rate  Death Daily Rate\n",
       "Days                                                           \n",
       "23              0.304218             0.015719          0.027156\n",
       "25              0.294210             0.015696          0.026798\n",
       "27              0.282616             0.014330          0.025842\n",
       "28              0.276367             0.013890          0.025236\n",
       "34              0.252722             0.016895          0.025149"
      ]
     },
     "execution_count": 33,
     "metadata": {},
     "output_type": "execute_result"
    }
   ],
   "source": [
    "df_Param_changes"
   ]
  },
  {
   "cell_type": "code",
   "execution_count": 34,
   "metadata": {},
   "outputs": [
    {
     "data": {
      "text/plain": [
       "<matplotlib.axes._subplots.AxesSubplot at 0x1c19ea9190>"
      ]
     },
     "execution_count": 34,
     "metadata": {},
     "output_type": "execute_result"
    },
    {
     "data": {
      "image/png": "[encoded data removed]",
      "text/plain": [
       "<Figure size 432x288 with 1 Axes>"
      ]
     },
     "metadata": {
      "needs_background": "light"
     },
     "output_type": "display_data"
    }
   ],
   "source": [
    "df_Param_changes[['Contact Daily Rate']].plot(kind='bar')"
   ]
  },
  {
   "cell_type": "code",
   "execution_count": 35,
   "metadata": {},
   "outputs": [
    {
     "data": {
      "text/plain": [
       "<matplotlib.axes._subplots.AxesSubplot at 0x1c19f91490>"
      ]
     },
     "execution_count": 35,
     "metadata": {},
     "output_type": "execute_result"
    },
    {
     "data": {
      "image/png": "[encoded data removed]",
      "text/plain": [
       "<Figure size 432x288 with 1 Axes>"
      ]
     },
     "metadata": {
      "needs_background": "light"
     },
     "output_type": "display_data"
    }
   ],
   "source": [
    "df_Param_changes[['Recovery Daily Rate','Death Daily Rate']].plot()"
   ]
  },
  {
   "cell_type": "code",
   "execution_count": null,
   "metadata": {},
   "outputs": [],
   "source": []
  },
  {
   "cell_type": "code",
   "execution_count": null,
   "metadata": {},
   "outputs": [],
   "source": []
  },
  {
   "cell_type": "code",
   "execution_count": null,
   "metadata": {},
   "outputs": [],
   "source": []
  },
  {
   "cell_type": "markdown",
   "metadata": {},
   "source": [
    "## Conclusion\n",
    "\n",
    "..."
   ]
  },
  {
   "cell_type": "code",
   "execution_count": null,
   "metadata": {},
   "outputs": [],
   "source": []
  },
  {
   "cell_type": "code",
   "execution_count": null,
   "metadata": {},
   "outputs": [],
   "source": []
  },
  {
   "cell_type": "code",
   "execution_count": null,
   "metadata": {},
   "outputs": [],
   "source": []
  }
 ],
 "metadata": {
  "kernelspec": {
   "display_name": "py37_env",
   "language": "python",
   "name": "myenv"
  },
  "language_info": {
   "codemirror_mode": {
    "name": "ipython",
    "version": 3
   },
   "file_extension": ".py",
   "mimetype": "text/x-python",
   "name": "python",
   "nbconvert_exporter": "python",
   "pygments_lexer": "ipython3",
   "version": "3.7.6"
  }
 },
 "nbformat": 4,
 "nbformat_minor": 4
}
