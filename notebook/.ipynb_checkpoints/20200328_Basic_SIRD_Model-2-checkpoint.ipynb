{
 "cells": [
  {
   "cell_type": "markdown",
   "metadata": {},
   "source": [
    "# SIRD Model 2\n",
    "\n",
    "Basic SIRD model for Indonesia Covid \n",
    "(data until 20200327)"
   ]
  },
  {
   "cell_type": "markdown",
   "metadata": {},
   "source": [
    "![SIRD](../images/Scheme-of-Susceptible-Infectious-Recovered-Death-SIRD-Model-Boxes-represent.png)"
   ]
  },
  {
   "cell_type": "code",
   "execution_count": 1,
   "metadata": {},
   "outputs": [],
   "source": [
    "import ipywidgets as widgets\n",
    "from ipywidgets import interact, interact_manual"
   ]
  },
  {
   "cell_type": "code",
   "execution_count": 62,
   "metadata": {},
   "outputs": [],
   "source": [
    "import pandas as pd\n",
    "import scipy.integrate as spi\n",
    "import numpy as np\n",
    "import seaborn as sns\n",
    "\n",
    "from sklearn.linear_model import LinearRegression\n",
    "import statsmodels.api as sm\n",
    "from bayes_opt import BayesianOptimization\n",
    "import matplotlib.pyplot as plt\n",
    "import datetime as dt"
   ]
  },
  {
   "cell_type": "code",
   "execution_count": 3,
   "metadata": {},
   "outputs": [],
   "source": [
    "PATH_DATA = '../data/raw/'"
   ]
  },
  {
   "cell_type": "code",
   "execution_count": 4,
   "metadata": {},
   "outputs": [],
   "source": [
    "## Assumption\n",
    "NUMB_OF_POPS=200000000"
   ]
  },
  {
   "cell_type": "markdown",
   "metadata": {},
   "source": [
    "## Get The Data\n",
    "\n",
    "Getting the data and do the summary"
   ]
  },
  {
   "cell_type": "code",
   "execution_count": 5,
   "metadata": {},
   "outputs": [],
   "source": [
    "df_daily=pd.read_csv(PATH_DATA+'20200327_DailyCase_ID.csv')\n",
    "df_daily=df_daily.fillna(0)"
   ]
  },
  {
   "cell_type": "code",
   "execution_count": 6,
   "metadata": {},
   "outputs": [
    {
     "data": {
      "text/html": [
       "<div>\n",
       "<style scoped>\n",
       "    .dataframe tbody tr th:only-of-type {\n",
       "        vertical-align: middle;\n",
       "    }\n",
       "\n",
       "    .dataframe tbody tr th {\n",
       "        vertical-align: top;\n",
       "    }\n",
       "\n",
       "    .dataframe thead th {\n",
       "        text-align: right;\n",
       "    }\n",
       "</style>\n",
       "<table border=\"1\" class=\"dataframe\">\n",
       "  <thead>\n",
       "    <tr style=\"text-align: right;\">\n",
       "      <th></th>\n",
       "      <th>DT</th>\n",
       "      <th>Kasus (Kumulatif)</th>\n",
       "      <th>Kasus Baru</th>\n",
       "      <th>Sembuh (baru)</th>\n",
       "      <th>Meninggal (baru)</th>\n",
       "    </tr>\n",
       "  </thead>\n",
       "  <tbody>\n",
       "    <tr>\n",
       "      <th>0</th>\n",
       "      <td>2020-03-02 00:00:00</td>\n",
       "      <td>2</td>\n",
       "      <td>2.0</td>\n",
       "      <td>0.0</td>\n",
       "      <td>0.0</td>\n",
       "    </tr>\n",
       "    <tr>\n",
       "      <th>1</th>\n",
       "      <td>2020-03-03 00:00:00</td>\n",
       "      <td>2</td>\n",
       "      <td>0.0</td>\n",
       "      <td>0.0</td>\n",
       "      <td>0.0</td>\n",
       "    </tr>\n",
       "    <tr>\n",
       "      <th>2</th>\n",
       "      <td>2020-03-04 00:00:00</td>\n",
       "      <td>2</td>\n",
       "      <td>0.0</td>\n",
       "      <td>0.0</td>\n",
       "      <td>0.0</td>\n",
       "    </tr>\n",
       "    <tr>\n",
       "      <th>3</th>\n",
       "      <td>2020-03-05 00:00:00</td>\n",
       "      <td>2</td>\n",
       "      <td>0.0</td>\n",
       "      <td>0.0</td>\n",
       "      <td>0.0</td>\n",
       "    </tr>\n",
       "    <tr>\n",
       "      <th>4</th>\n",
       "      <td>2020-03-06 00:00:00</td>\n",
       "      <td>4</td>\n",
       "      <td>2.0</td>\n",
       "      <td>0.0</td>\n",
       "      <td>0.0</td>\n",
       "    </tr>\n",
       "    <tr>\n",
       "      <th>5</th>\n",
       "      <td>2020-03-07 00:00:00</td>\n",
       "      <td>4</td>\n",
       "      <td>0.0</td>\n",
       "      <td>0.0</td>\n",
       "      <td>0.0</td>\n",
       "    </tr>\n",
       "    <tr>\n",
       "      <th>6</th>\n",
       "      <td>2020-03-08 00:00:00</td>\n",
       "      <td>6</td>\n",
       "      <td>2.0</td>\n",
       "      <td>0.0</td>\n",
       "      <td>0.0</td>\n",
       "    </tr>\n",
       "    <tr>\n",
       "      <th>7</th>\n",
       "      <td>2020-03-09 00:00:00</td>\n",
       "      <td>19</td>\n",
       "      <td>13.0</td>\n",
       "      <td>0.0</td>\n",
       "      <td>0.0</td>\n",
       "    </tr>\n",
       "    <tr>\n",
       "      <th>8</th>\n",
       "      <td>2020-03-10 00:00:00</td>\n",
       "      <td>27</td>\n",
       "      <td>8.0</td>\n",
       "      <td>0.0</td>\n",
       "      <td>0.0</td>\n",
       "    </tr>\n",
       "    <tr>\n",
       "      <th>9</th>\n",
       "      <td>2020-03-11 00:00:00</td>\n",
       "      <td>34</td>\n",
       "      <td>7.0</td>\n",
       "      <td>2.0</td>\n",
       "      <td>2.0</td>\n",
       "    </tr>\n",
       "    <tr>\n",
       "      <th>10</th>\n",
       "      <td>2020-03-12 00:00:00</td>\n",
       "      <td>34</td>\n",
       "      <td>0.0</td>\n",
       "      <td>1.0</td>\n",
       "      <td>2.0</td>\n",
       "    </tr>\n",
       "    <tr>\n",
       "      <th>11</th>\n",
       "      <td>2020-03-13 00:00:00</td>\n",
       "      <td>69</td>\n",
       "      <td>35.0</td>\n",
       "      <td>2.0</td>\n",
       "      <td>0.0</td>\n",
       "    </tr>\n",
       "    <tr>\n",
       "      <th>12</th>\n",
       "      <td>2020-03-14 00:00:00</td>\n",
       "      <td>96</td>\n",
       "      <td>27.0</td>\n",
       "      <td>3.0</td>\n",
       "      <td>1.0</td>\n",
       "    </tr>\n",
       "    <tr>\n",
       "      <th>13</th>\n",
       "      <td>2020-03-15 00:00:00</td>\n",
       "      <td>117</td>\n",
       "      <td>21.0</td>\n",
       "      <td>0.0</td>\n",
       "      <td>0.0</td>\n",
       "    </tr>\n",
       "    <tr>\n",
       "      <th>14</th>\n",
       "      <td>2020-03-16 00:00:00</td>\n",
       "      <td>134</td>\n",
       "      <td>17.0</td>\n",
       "      <td>0.0</td>\n",
       "      <td>0.0</td>\n",
       "    </tr>\n",
       "    <tr>\n",
       "      <th>15</th>\n",
       "      <td>2020-03-17 00:00:00</td>\n",
       "      <td>172</td>\n",
       "      <td>38.0</td>\n",
       "      <td>1.0</td>\n",
       "      <td>2.0</td>\n",
       "    </tr>\n",
       "    <tr>\n",
       "      <th>16</th>\n",
       "      <td>2020-03-18 00:00:00</td>\n",
       "      <td>227</td>\n",
       "      <td>55.0</td>\n",
       "      <td>2.0</td>\n",
       "      <td>12.0</td>\n",
       "    </tr>\n",
       "    <tr>\n",
       "      <th>17</th>\n",
       "      <td>2020-03-19 00:00:00</td>\n",
       "      <td>309</td>\n",
       "      <td>82.0</td>\n",
       "      <td>4.0</td>\n",
       "      <td>6.0</td>\n",
       "    </tr>\n",
       "    <tr>\n",
       "      <th>18</th>\n",
       "      <td>2020-03-20 00:00:00</td>\n",
       "      <td>369</td>\n",
       "      <td>60.0</td>\n",
       "      <td>1.0</td>\n",
       "      <td>7.0</td>\n",
       "    </tr>\n",
       "    <tr>\n",
       "      <th>19</th>\n",
       "      <td>2020-03-21 00:00:00</td>\n",
       "      <td>450</td>\n",
       "      <td>81.0</td>\n",
       "      <td>4.0</td>\n",
       "      <td>6.0</td>\n",
       "    </tr>\n",
       "    <tr>\n",
       "      <th>20</th>\n",
       "      <td>2020-03-22 00:00:00</td>\n",
       "      <td>514</td>\n",
       "      <td>64.0</td>\n",
       "      <td>9.0</td>\n",
       "      <td>10.0</td>\n",
       "    </tr>\n",
       "    <tr>\n",
       "      <th>21</th>\n",
       "      <td>2020-03-23 00:00:00</td>\n",
       "      <td>579</td>\n",
       "      <td>65.0</td>\n",
       "      <td>1.0</td>\n",
       "      <td>1.0</td>\n",
       "    </tr>\n",
       "    <tr>\n",
       "      <th>22</th>\n",
       "      <td>2020-03-24 00:00:00</td>\n",
       "      <td>685</td>\n",
       "      <td>106.0</td>\n",
       "      <td>0.0</td>\n",
       "      <td>6.0</td>\n",
       "    </tr>\n",
       "    <tr>\n",
       "      <th>23</th>\n",
       "      <td>2020-03-25 00:00:00</td>\n",
       "      <td>790</td>\n",
       "      <td>105.0</td>\n",
       "      <td>1.0</td>\n",
       "      <td>3.0</td>\n",
       "    </tr>\n",
       "    <tr>\n",
       "      <th>24</th>\n",
       "      <td>2020-03-26 00:00:00</td>\n",
       "      <td>893</td>\n",
       "      <td>103.0</td>\n",
       "      <td>4.0</td>\n",
       "      <td>20.0</td>\n",
       "    </tr>\n",
       "    <tr>\n",
       "      <th>25</th>\n",
       "      <td>2020-03-27 00:00:00</td>\n",
       "      <td>1046</td>\n",
       "      <td>153.0</td>\n",
       "      <td>11.0</td>\n",
       "      <td>9.0</td>\n",
       "    </tr>\n",
       "  </tbody>\n",
       "</table>\n",
       "</div>"
      ],
      "text/plain": [
       "                     DT  Kasus (Kumulatif)  Kasus Baru  Sembuh (baru)  \\\n",
       "0   2020-03-02 00:00:00                  2         2.0            0.0   \n",
       "1   2020-03-03 00:00:00                  2         0.0            0.0   \n",
       "2   2020-03-04 00:00:00                  2         0.0            0.0   \n",
       "3   2020-03-05 00:00:00                  2         0.0            0.0   \n",
       "4   2020-03-06 00:00:00                  4         2.0            0.0   \n",
       "5   2020-03-07 00:00:00                  4         0.0            0.0   \n",
       "6   2020-03-08 00:00:00                  6         2.0            0.0   \n",
       "7   2020-03-09 00:00:00                 19        13.0            0.0   \n",
       "8   2020-03-10 00:00:00                 27         8.0            0.0   \n",
       "9   2020-03-11 00:00:00                 34         7.0            2.0   \n",
       "10  2020-03-12 00:00:00                 34         0.0            1.0   \n",
       "11  2020-03-13 00:00:00                 69        35.0            2.0   \n",
       "12  2020-03-14 00:00:00                 96        27.0            3.0   \n",
       "13  2020-03-15 00:00:00                117        21.0            0.0   \n",
       "14  2020-03-16 00:00:00                134        17.0            0.0   \n",
       "15  2020-03-17 00:00:00                172        38.0            1.0   \n",
       "16  2020-03-18 00:00:00                227        55.0            2.0   \n",
       "17  2020-03-19 00:00:00                309        82.0            4.0   \n",
       "18  2020-03-20 00:00:00                369        60.0            1.0   \n",
       "19  2020-03-21 00:00:00                450        81.0            4.0   \n",
       "20  2020-03-22 00:00:00                514        64.0            9.0   \n",
       "21  2020-03-23 00:00:00                579        65.0            1.0   \n",
       "22  2020-03-24 00:00:00                685       106.0            0.0   \n",
       "23  2020-03-25 00:00:00                790       105.0            1.0   \n",
       "24  2020-03-26 00:00:00                893       103.0            4.0   \n",
       "25  2020-03-27 00:00:00               1046       153.0           11.0   \n",
       "\n",
       "    Meninggal (baru)  \n",
       "0                0.0  \n",
       "1                0.0  \n",
       "2                0.0  \n",
       "3                0.0  \n",
       "4                0.0  \n",
       "5                0.0  \n",
       "6                0.0  \n",
       "7                0.0  \n",
       "8                0.0  \n",
       "9                2.0  \n",
       "10               2.0  \n",
       "11               0.0  \n",
       "12               1.0  \n",
       "13               0.0  \n",
       "14               0.0  \n",
       "15               2.0  \n",
       "16              12.0  \n",
       "17               6.0  \n",
       "18               7.0  \n",
       "19               6.0  \n",
       "20              10.0  \n",
       "21               1.0  \n",
       "22               6.0  \n",
       "23               3.0  \n",
       "24              20.0  \n",
       "25               9.0  "
      ]
     },
     "execution_count": 6,
     "metadata": {},
     "output_type": "execute_result"
    }
   ],
   "source": [
    "df_daily"
   ]
  },
  {
   "cell_type": "code",
   "execution_count": 7,
   "metadata": {},
   "outputs": [],
   "source": [
    "df_daily['Rec']=df_daily['Sembuh (baru)'].cumsum()\n",
    "df_daily['Dea']=df_daily['Meninggal (baru)'].cumsum()\n",
    "df_daily['Inf']=df_daily['Kasus (Kumulatif)']-df_daily['Rec']-df_daily['Dea']\n",
    "df_daily['Sus']=NUMB_OF_POPS-df_daily['Inf']-df_daily['Rec']-df_daily['Dea']"
   ]
  },
  {
   "cell_type": "code",
   "execution_count": 8,
   "metadata": {},
   "outputs": [],
   "source": [
    "col_use=['Sus','Inf','Rec','Dea']"
   ]
  },
  {
   "cell_type": "code",
   "execution_count": 9,
   "metadata": {},
   "outputs": [],
   "source": [
    "df_daily_sird=df_daily[col_use]/NUMB_OF_POPS"
   ]
  },
  {
   "cell_type": "code",
   "execution_count": 10,
   "metadata": {},
   "outputs": [
    {
     "data": {
      "text/html": [
       "<div>\n",
       "<style scoped>\n",
       "    .dataframe tbody tr th:only-of-type {\n",
       "        vertical-align: middle;\n",
       "    }\n",
       "\n",
       "    .dataframe tbody tr th {\n",
       "        vertical-align: top;\n",
       "    }\n",
       "\n",
       "    .dataframe thead th {\n",
       "        text-align: right;\n",
       "    }\n",
       "</style>\n",
       "<table border=\"1\" class=\"dataframe\">\n",
       "  <thead>\n",
       "    <tr style=\"text-align: right;\">\n",
       "      <th></th>\n",
       "      <th>Sus</th>\n",
       "      <th>Inf</th>\n",
       "      <th>Rec</th>\n",
       "      <th>Dea</th>\n",
       "    </tr>\n",
       "  </thead>\n",
       "  <tbody>\n",
       "    <tr>\n",
       "      <th>0</th>\n",
       "      <td>1.000000</td>\n",
       "      <td>1.000000e-08</td>\n",
       "      <td>0.000000e+00</td>\n",
       "      <td>0.000000e+00</td>\n",
       "    </tr>\n",
       "    <tr>\n",
       "      <th>1</th>\n",
       "      <td>1.000000</td>\n",
       "      <td>1.000000e-08</td>\n",
       "      <td>0.000000e+00</td>\n",
       "      <td>0.000000e+00</td>\n",
       "    </tr>\n",
       "    <tr>\n",
       "      <th>2</th>\n",
       "      <td>1.000000</td>\n",
       "      <td>1.000000e-08</td>\n",
       "      <td>0.000000e+00</td>\n",
       "      <td>0.000000e+00</td>\n",
       "    </tr>\n",
       "    <tr>\n",
       "      <th>3</th>\n",
       "      <td>1.000000</td>\n",
       "      <td>1.000000e-08</td>\n",
       "      <td>0.000000e+00</td>\n",
       "      <td>0.000000e+00</td>\n",
       "    </tr>\n",
       "    <tr>\n",
       "      <th>4</th>\n",
       "      <td>1.000000</td>\n",
       "      <td>2.000000e-08</td>\n",
       "      <td>0.000000e+00</td>\n",
       "      <td>0.000000e+00</td>\n",
       "    </tr>\n",
       "    <tr>\n",
       "      <th>5</th>\n",
       "      <td>1.000000</td>\n",
       "      <td>2.000000e-08</td>\n",
       "      <td>0.000000e+00</td>\n",
       "      <td>0.000000e+00</td>\n",
       "    </tr>\n",
       "    <tr>\n",
       "      <th>6</th>\n",
       "      <td>1.000000</td>\n",
       "      <td>3.000000e-08</td>\n",
       "      <td>0.000000e+00</td>\n",
       "      <td>0.000000e+00</td>\n",
       "    </tr>\n",
       "    <tr>\n",
       "      <th>7</th>\n",
       "      <td>1.000000</td>\n",
       "      <td>9.500000e-08</td>\n",
       "      <td>0.000000e+00</td>\n",
       "      <td>0.000000e+00</td>\n",
       "    </tr>\n",
       "    <tr>\n",
       "      <th>8</th>\n",
       "      <td>1.000000</td>\n",
       "      <td>1.350000e-07</td>\n",
       "      <td>0.000000e+00</td>\n",
       "      <td>0.000000e+00</td>\n",
       "    </tr>\n",
       "    <tr>\n",
       "      <th>9</th>\n",
       "      <td>1.000000</td>\n",
       "      <td>1.500000e-07</td>\n",
       "      <td>1.000000e-08</td>\n",
       "      <td>1.000000e-08</td>\n",
       "    </tr>\n",
       "    <tr>\n",
       "      <th>10</th>\n",
       "      <td>1.000000</td>\n",
       "      <td>1.350000e-07</td>\n",
       "      <td>1.500000e-08</td>\n",
       "      <td>2.000000e-08</td>\n",
       "    </tr>\n",
       "    <tr>\n",
       "      <th>11</th>\n",
       "      <td>1.000000</td>\n",
       "      <td>3.000000e-07</td>\n",
       "      <td>2.500000e-08</td>\n",
       "      <td>2.000000e-08</td>\n",
       "    </tr>\n",
       "    <tr>\n",
       "      <th>12</th>\n",
       "      <td>1.000000</td>\n",
       "      <td>4.150000e-07</td>\n",
       "      <td>4.000000e-08</td>\n",
       "      <td>2.500000e-08</td>\n",
       "    </tr>\n",
       "    <tr>\n",
       "      <th>13</th>\n",
       "      <td>0.999999</td>\n",
       "      <td>5.200000e-07</td>\n",
       "      <td>4.000000e-08</td>\n",
       "      <td>2.500000e-08</td>\n",
       "    </tr>\n",
       "    <tr>\n",
       "      <th>14</th>\n",
       "      <td>0.999999</td>\n",
       "      <td>6.050000e-07</td>\n",
       "      <td>4.000000e-08</td>\n",
       "      <td>2.500000e-08</td>\n",
       "    </tr>\n",
       "    <tr>\n",
       "      <th>15</th>\n",
       "      <td>0.999999</td>\n",
       "      <td>7.800000e-07</td>\n",
       "      <td>4.500000e-08</td>\n",
       "      <td>3.500000e-08</td>\n",
       "    </tr>\n",
       "    <tr>\n",
       "      <th>16</th>\n",
       "      <td>0.999999</td>\n",
       "      <td>9.850000e-07</td>\n",
       "      <td>5.500000e-08</td>\n",
       "      <td>9.500000e-08</td>\n",
       "    </tr>\n",
       "    <tr>\n",
       "      <th>17</th>\n",
       "      <td>0.999998</td>\n",
       "      <td>1.345000e-06</td>\n",
       "      <td>7.500000e-08</td>\n",
       "      <td>1.250000e-07</td>\n",
       "    </tr>\n",
       "    <tr>\n",
       "      <th>18</th>\n",
       "      <td>0.999998</td>\n",
       "      <td>1.605000e-06</td>\n",
       "      <td>8.000000e-08</td>\n",
       "      <td>1.600000e-07</td>\n",
       "    </tr>\n",
       "    <tr>\n",
       "      <th>19</th>\n",
       "      <td>0.999998</td>\n",
       "      <td>1.960000e-06</td>\n",
       "      <td>1.000000e-07</td>\n",
       "      <td>1.900000e-07</td>\n",
       "    </tr>\n",
       "    <tr>\n",
       "      <th>20</th>\n",
       "      <td>0.999997</td>\n",
       "      <td>2.185000e-06</td>\n",
       "      <td>1.450000e-07</td>\n",
       "      <td>2.400000e-07</td>\n",
       "    </tr>\n",
       "    <tr>\n",
       "      <th>21</th>\n",
       "      <td>0.999997</td>\n",
       "      <td>2.500000e-06</td>\n",
       "      <td>1.500000e-07</td>\n",
       "      <td>2.450000e-07</td>\n",
       "    </tr>\n",
       "    <tr>\n",
       "      <th>22</th>\n",
       "      <td>0.999997</td>\n",
       "      <td>3.000000e-06</td>\n",
       "      <td>1.500000e-07</td>\n",
       "      <td>2.750000e-07</td>\n",
       "    </tr>\n",
       "    <tr>\n",
       "      <th>23</th>\n",
       "      <td>0.999996</td>\n",
       "      <td>3.505000e-06</td>\n",
       "      <td>1.550000e-07</td>\n",
       "      <td>2.900000e-07</td>\n",
       "    </tr>\n",
       "    <tr>\n",
       "      <th>24</th>\n",
       "      <td>0.999996</td>\n",
       "      <td>3.900000e-06</td>\n",
       "      <td>1.750000e-07</td>\n",
       "      <td>3.900000e-07</td>\n",
       "    </tr>\n",
       "    <tr>\n",
       "      <th>25</th>\n",
       "      <td>0.999995</td>\n",
       "      <td>4.565000e-06</td>\n",
       "      <td>2.300000e-07</td>\n",
       "      <td>4.350000e-07</td>\n",
       "    </tr>\n",
       "  </tbody>\n",
       "</table>\n",
       "</div>"
      ],
      "text/plain": [
       "         Sus           Inf           Rec           Dea\n",
       "0   1.000000  1.000000e-08  0.000000e+00  0.000000e+00\n",
       "1   1.000000  1.000000e-08  0.000000e+00  0.000000e+00\n",
       "2   1.000000  1.000000e-08  0.000000e+00  0.000000e+00\n",
       "3   1.000000  1.000000e-08  0.000000e+00  0.000000e+00\n",
       "4   1.000000  2.000000e-08  0.000000e+00  0.000000e+00\n",
       "5   1.000000  2.000000e-08  0.000000e+00  0.000000e+00\n",
       "6   1.000000  3.000000e-08  0.000000e+00  0.000000e+00\n",
       "7   1.000000  9.500000e-08  0.000000e+00  0.000000e+00\n",
       "8   1.000000  1.350000e-07  0.000000e+00  0.000000e+00\n",
       "9   1.000000  1.500000e-07  1.000000e-08  1.000000e-08\n",
       "10  1.000000  1.350000e-07  1.500000e-08  2.000000e-08\n",
       "11  1.000000  3.000000e-07  2.500000e-08  2.000000e-08\n",
       "12  1.000000  4.150000e-07  4.000000e-08  2.500000e-08\n",
       "13  0.999999  5.200000e-07  4.000000e-08  2.500000e-08\n",
       "14  0.999999  6.050000e-07  4.000000e-08  2.500000e-08\n",
       "15  0.999999  7.800000e-07  4.500000e-08  3.500000e-08\n",
       "16  0.999999  9.850000e-07  5.500000e-08  9.500000e-08\n",
       "17  0.999998  1.345000e-06  7.500000e-08  1.250000e-07\n",
       "18  0.999998  1.605000e-06  8.000000e-08  1.600000e-07\n",
       "19  0.999998  1.960000e-06  1.000000e-07  1.900000e-07\n",
       "20  0.999997  2.185000e-06  1.450000e-07  2.400000e-07\n",
       "21  0.999997  2.500000e-06  1.500000e-07  2.450000e-07\n",
       "22  0.999997  3.000000e-06  1.500000e-07  2.750000e-07\n",
       "23  0.999996  3.505000e-06  1.550000e-07  2.900000e-07\n",
       "24  0.999996  3.900000e-06  1.750000e-07  3.900000e-07\n",
       "25  0.999995  4.565000e-06  2.300000e-07  4.350000e-07"
      ]
     },
     "execution_count": 10,
     "metadata": {},
     "output_type": "execute_result"
    }
   ],
   "source": [
    "df_daily_sird"
   ]
  },
  {
   "cell_type": "code",
   "execution_count": 11,
   "metadata": {},
   "outputs": [
    {
     "data": {
      "text/plain": [
       "<matplotlib.axes._subplots.AxesSubplot at 0x1a255124d0>"
      ]
     },
     "execution_count": 11,
     "metadata": {},
     "output_type": "execute_result"
    },
    {
     "data": {
      "image/png": "[encoded data removed]",
      "text/plain": [
       "<Figure size 720x576 with 1 Axes>"
      ]
     },
     "metadata": {
      "needs_background": "light"
     },
     "output_type": "display_data"
    }
   ],
   "source": [
    "df_daily_sird[['Inf','Rec','Dea']].plot(figsize=(10,8))"
   ]
  },
  {
   "cell_type": "code",
   "execution_count": null,
   "metadata": {},
   "outputs": [],
   "source": []
  },
  {
   "cell_type": "markdown",
   "metadata": {},
   "source": [
    "## Define SIRD Model"
   ]
  },
  {
   "cell_type": "markdown",
   "metadata": {},
   "source": [
    "![SIRD derivative funtion](../images/SIRD-Model.png)"
   ]
  },
  {
   "cell_type": "code",
   "execution_count": 12,
   "metadata": {},
   "outputs": [],
   "source": [
    "def sird_model_diff(VALUE_ON_T,t):  \n",
    "    '''The main set of equations'''\n",
    "    Y=np.zeros((4))\n",
    "    dS,dI,dR,dD = VALUE_ON_T  \n",
    "    Y[0] = - param_b * dS * dI\n",
    "    Y[1] = (param_b * dS * dI) - (param_r * dI) - (param_m * dI)\n",
    "    Y[2] = param_r * dI\n",
    "    Y[3] = param_m * dI\n",
    "    \n",
    "    return Y   # For odeint (ordinary differential equation)"
   ]
  },
  {
   "cell_type": "code",
   "execution_count": null,
   "metadata": {},
   "outputs": [],
   "source": []
  },
  {
   "cell_type": "markdown",
   "metadata": {},
   "source": [
    "## Tuning Parameter SIRD Model"
   ]
  },
  {
   "cell_type": "code",
   "execution_count": 13,
   "metadata": {},
   "outputs": [
    {
     "data": {
      "text/html": [
       "<div>\n",
       "<style scoped>\n",
       "    .dataframe tbody tr th:only-of-type {\n",
       "        vertical-align: middle;\n",
       "    }\n",
       "\n",
       "    .dataframe tbody tr th {\n",
       "        vertical-align: top;\n",
       "    }\n",
       "\n",
       "    .dataframe thead th {\n",
       "        text-align: right;\n",
       "    }\n",
       "</style>\n",
       "<table border=\"1\" class=\"dataframe\">\n",
       "  <thead>\n",
       "    <tr style=\"text-align: right;\">\n",
       "      <th></th>\n",
       "      <th>Sus</th>\n",
       "      <th>Inf</th>\n",
       "      <th>Rec</th>\n",
       "      <th>Dea</th>\n",
       "    </tr>\n",
       "  </thead>\n",
       "  <tbody>\n",
       "    <tr>\n",
       "      <th>0</th>\n",
       "      <td>1.0</td>\n",
       "      <td>1.000000e-08</td>\n",
       "      <td>0.000000e+00</td>\n",
       "      <td>0.000000e+00</td>\n",
       "    </tr>\n",
       "    <tr>\n",
       "      <th>1</th>\n",
       "      <td>1.0</td>\n",
       "      <td>1.000000e-08</td>\n",
       "      <td>0.000000e+00</td>\n",
       "      <td>0.000000e+00</td>\n",
       "    </tr>\n",
       "    <tr>\n",
       "      <th>2</th>\n",
       "      <td>1.0</td>\n",
       "      <td>1.000000e-08</td>\n",
       "      <td>0.000000e+00</td>\n",
       "      <td>0.000000e+00</td>\n",
       "    </tr>\n",
       "    <tr>\n",
       "      <th>3</th>\n",
       "      <td>1.0</td>\n",
       "      <td>1.000000e-08</td>\n",
       "      <td>0.000000e+00</td>\n",
       "      <td>0.000000e+00</td>\n",
       "    </tr>\n",
       "    <tr>\n",
       "      <th>4</th>\n",
       "      <td>1.0</td>\n",
       "      <td>2.000000e-08</td>\n",
       "      <td>0.000000e+00</td>\n",
       "      <td>0.000000e+00</td>\n",
       "    </tr>\n",
       "    <tr>\n",
       "      <th>5</th>\n",
       "      <td>1.0</td>\n",
       "      <td>2.000000e-08</td>\n",
       "      <td>0.000000e+00</td>\n",
       "      <td>0.000000e+00</td>\n",
       "    </tr>\n",
       "    <tr>\n",
       "      <th>6</th>\n",
       "      <td>1.0</td>\n",
       "      <td>3.000000e-08</td>\n",
       "      <td>0.000000e+00</td>\n",
       "      <td>0.000000e+00</td>\n",
       "    </tr>\n",
       "    <tr>\n",
       "      <th>7</th>\n",
       "      <td>1.0</td>\n",
       "      <td>9.500000e-08</td>\n",
       "      <td>0.000000e+00</td>\n",
       "      <td>0.000000e+00</td>\n",
       "    </tr>\n",
       "    <tr>\n",
       "      <th>8</th>\n",
       "      <td>1.0</td>\n",
       "      <td>1.350000e-07</td>\n",
       "      <td>0.000000e+00</td>\n",
       "      <td>0.000000e+00</td>\n",
       "    </tr>\n",
       "    <tr>\n",
       "      <th>9</th>\n",
       "      <td>1.0</td>\n",
       "      <td>1.500000e-07</td>\n",
       "      <td>1.000000e-08</td>\n",
       "      <td>1.000000e-08</td>\n",
       "    </tr>\n",
       "  </tbody>\n",
       "</table>\n",
       "</div>"
      ],
      "text/plain": [
       "   Sus           Inf           Rec           Dea\n",
       "0  1.0  1.000000e-08  0.000000e+00  0.000000e+00\n",
       "1  1.0  1.000000e-08  0.000000e+00  0.000000e+00\n",
       "2  1.0  1.000000e-08  0.000000e+00  0.000000e+00\n",
       "3  1.0  1.000000e-08  0.000000e+00  0.000000e+00\n",
       "4  1.0  2.000000e-08  0.000000e+00  0.000000e+00\n",
       "5  1.0  2.000000e-08  0.000000e+00  0.000000e+00\n",
       "6  1.0  3.000000e-08  0.000000e+00  0.000000e+00\n",
       "7  1.0  9.500000e-08  0.000000e+00  0.000000e+00\n",
       "8  1.0  1.350000e-07  0.000000e+00  0.000000e+00\n",
       "9  1.0  1.500000e-07  1.000000e-08  1.000000e-08"
      ]
     },
     "execution_count": 13,
     "metadata": {},
     "output_type": "execute_result"
    }
   ],
   "source": [
    "df_daily_sird.head(10)"
   ]
  },
  {
   "cell_type": "code",
   "execution_count": 14,
   "metadata": {},
   "outputs": [],
   "source": [
    "for cc in col_use:\n",
    "    df_daily_sird[cc+'_before']=df_daily_sird[cc].shift(1)\n",
    "    df_daily_sird[cc+'_dt']=df_daily_sird[cc]-df_daily_sird[cc+'_before']"
   ]
  },
  {
   "cell_type": "code",
   "execution_count": 15,
   "metadata": {},
   "outputs": [],
   "source": [
    "col_use_t=['Sus_dt','Inf_dt','Rec_dt','Dea_dt']"
   ]
  },
  {
   "cell_type": "code",
   "execution_count": 16,
   "metadata": {},
   "outputs": [],
   "source": [
    "df_daily_sird2=df_daily_sird[col_use+col_use_t].dropna()"
   ]
  },
  {
   "cell_type": "code",
   "execution_count": 17,
   "metadata": {},
   "outputs": [],
   "source": [
    "def sird_model_diff(VALUE_ON_T,t,param_bk,param_rk,param_mk):  \n",
    "    '''The main set of equations'''\n",
    "    Y=np.zeros((4))\n",
    "    dS,dI,dR,dD = VALUE_ON_T  \n",
    "    Y[0] = - param_bk * dS * dI\n",
    "    Y[1] = (param_bk * dS * dI) - (param_rk * dI) - (param_mk * dI)\n",
    "    Y[2] = param_rk * dI\n",
    "    Y[3] = param_mk * dI\n",
    "    \n",
    "    return Y   # For odeint"
   ]
  },
  {
   "cell_type": "code",
   "execution_count": 18,
   "metadata": {},
   "outputs": [],
   "source": [
    "def targ_func(param_b,param_r,param_m,df=df_daily_sird2):\n",
    "    N=200000000000\n",
    "    T_start = 0.0\n",
    "    T_inc=1.0\n",
    "    T_end=26\n",
    "    I0=2/NUMB_OF_POPS\n",
    "    S0=1-I0\n",
    "    INPUT = (S0, I0, 0.0, 0.0)\n",
    "    \n",
    "    col_use_pred=[x+'_pred' for x in col_use]\n",
    "    T_range = np.arange(T_start, T_end+T_inc, T_inc)\n",
    "    RES = spi.odeint(sird_model_diff,INPUT,T_range, args=(param_b,param_r,param_m))\n",
    "    df_sird_pred=pd.DataFrame(RES,columns=col_use_pred)\n",
    "    df[col_use_pred]=df_sird_pred[1:len(df_daily_sird2)+1]\n",
    "    \n",
    "#     eS=((df['Sus']-df['Sus_pred'])**2).sum()*N*0.75\n",
    "#     eI=((df['Inf']-df['Inf_pred'])**2).sum()*N*0.1\n",
    "#     eR=((df['Rec']-df['Rec_pred'])**2).sum()*N*0.08\n",
    "#     eD=((df['Dea']-df['Dea_pred'])**2).sum()*N*0.07\n",
    "    \n",
    "    eS=((df['Sus']-df['Sus_pred'])**2).sum()*N*0.4\n",
    "    eI=((df['Inf']-df['Inf_pred'])**2).sum()*N*0.25\n",
    "    eR=((df['Rec']-df['Rec_pred'])**2).sum()*N*0.15\n",
    "    eD=((df['Dea']-df['Dea_pred'])**2).sum()*N*0.1\n",
    "    \n",
    "    return -(eS+eI+eR+eD)\n"
   ]
  },
  {
   "cell_type": "code",
   "execution_count": 19,
   "metadata": {},
   "outputs": [],
   "source": [
    "# targ_func(0.3,0.02,0.018)"
   ]
  },
  {
   "cell_type": "code",
   "execution_count": 20,
   "metadata": {},
   "outputs": [],
   "source": [
    "# Opt_Targ = BayesianOptimization(targ_func, {'param_b': (0.3, 0.38),'param_r': (0.04, 0.053),'param_m': (0.04, 0.053)})"
   ]
  },
  {
   "cell_type": "code",
   "execution_count": 21,
   "metadata": {},
   "outputs": [],
   "source": [
    "## v1\n",
    "# |   iter    |  target   |  param_b  |  param_m  |  param_r  |\n",
    "# -------------------------------------------------------------\n",
    "# |  12       | -0.7847   |  0.3112   |  0.02421  |  0.04432  |\n",
    "# |  44       | -0.7745   |  0.3185   |  0.0278   |  0.04745  |\n",
    "# |  58       | -0.7702   |  0.3144   |  0.032    |  0.03854  |\n",
    "# |  25       | -0.7674   |  0.3208   |  0.03564  |  0.04273  |\n",
    "# |  62       | -0.7669   |  0.3292   |  0.04154  |  0.04643  |\n",
    "\n",
    "## v2\n",
    "# |   iter    |  target   |  param_b  |  param_m  |  param_r  |\n",
    "# -------------------------------------------------------------\n",
    "# |  3        | -0.5764   |  0.3097   |  0.04021  |  0.02468  |\n",
    "# |  57       | -0.5715   |  0.3044   |  0.038    |  0.02     |\n",
    "# |  2        | -0.5667   |  0.2933   |  0.03018  |  0.01571  |\n",
    "# |  43       | -0.5663   |  0.2915   |  0.028    |  0.01657  |\n",
    "# |  55       | -0.5661   |  0.2938   |  0.02953  |  0.01762  |\n"
   ]
  },
  {
   "cell_type": "code",
   "execution_count": 22,
   "metadata": {},
   "outputs": [],
   "source": [
    "# Opt_Targ.maximize(init_points=40, n_iter=25)"
   ]
  },
  {
   "cell_type": "code",
   "execution_count": 23,
   "metadata": {},
   "outputs": [],
   "source": [
    "param_bc,param_rc,param_mc=0.2938,0.01762,0.02953\n",
    "# param_bc,param_rc,param_mc=0.3,0.02,0.03\n",
    "\n",
    "# param_bc,param_rc,param_mc=0.3292,0.04154,0.04643"
   ]
  },
  {
   "cell_type": "code",
   "execution_count": null,
   "metadata": {},
   "outputs": [],
   "source": []
  },
  {
   "cell_type": "markdown",
   "metadata": {},
   "source": [
    "## Implement the result"
   ]
  },
  {
   "cell_type": "code",
   "execution_count": 24,
   "metadata": {},
   "outputs": [],
   "source": [
    "T_start = 0.0\n",
    "T_inc=1.0\n",
    "T_end=30*6\n",
    "I0=2/NUMB_OF_POPS\n",
    "S0=1-I0\n",
    "INPUT = (S0, I0, 0.0, 0.0)\n",
    "\n",
    "col_use_pred=[x+'_pred' for x in col_use]\n",
    "T_range = np.arange(T_start, T_end+T_inc, T_inc)\n",
    "RES = spi.odeint(sird_model_diff,INPUT,T_range, args=(param_bc,param_rc,param_mc))"
   ]
  },
  {
   "cell_type": "code",
   "execution_count": null,
   "metadata": {},
   "outputs": [],
   "source": []
  },
  {
   "cell_type": "code",
   "execution_count": 25,
   "metadata": {},
   "outputs": [],
   "source": [
    "df_sird_pred=pd.DataFrame(RES,columns=['Sus','Inf','Rec','Dea'])"
   ]
  },
  {
   "cell_type": "code",
   "execution_count": 87,
   "metadata": {},
   "outputs": [
    {
     "data": {
      "text/plain": [
       "<matplotlib.axes._subplots.AxesSubplot at 0x1c272c9890>"
      ]
     },
     "execution_count": 87,
     "metadata": {},
     "output_type": "execute_result"
    },
    {
     "data": {
      "image/png": "[encoded data removed]",
      "text/plain": [
       "<Figure size 432x288 with 1 Axes>"
      ]
     },
     "metadata": {
      "needs_background": "light"
     },
     "output_type": "display_data"
    }
   ],
   "source": [
    "check_col='Inf'\n",
    "col_use_pred=[x+'_pred' for x in col_use]\n",
    "df_daily_sird2[col_use_pred]=df_sird_pred[1:len(df_daily_sird2)+1]\n",
    "df_daily_sird2[[check_col,check_col+'_pred']].plot()"
   ]
  },
  {
   "cell_type": "code",
   "execution_count": 123,
   "metadata": {},
   "outputs": [],
   "source": [
    "# df_sird_pred['Dea_pred'].max()"
   ]
  },
  {
   "cell_type": "code",
   "execution_count": 27,
   "metadata": {
    "scrolled": false
   },
   "outputs": [
    {
     "data": {
      "text/plain": [
       "<matplotlib.axes._subplots.AxesSubplot at 0x1c265d4310>"
      ]
     },
     "execution_count": 27,
     "metadata": {},
     "output_type": "execute_result"
    },
    {
     "data": {
      "image/png": "[encoded data removed]",
      "text/plain": [
       "<Figure size 720x576 with 1 Axes>"
      ]
     },
     "metadata": {
      "needs_background": "light"
     },
     "output_type": "display_data"
    }
   ],
   "source": [
    "# df_sird_pred[['Inf','Rec','Dea']].plot()\n",
    "df_sird_pred.plot(figsize=(10,8))"
   ]
  },
  {
   "cell_type": "code",
   "execution_count": null,
   "metadata": {},
   "outputs": [],
   "source": []
  },
  {
   "cell_type": "code",
   "execution_count": 67,
   "metadata": {},
   "outputs": [],
   "source": [
    "date_1 = dt.datetime.strptime(\"2020-03-02\", \"%Y-%m-%d\")"
   ]
  },
  {
   "cell_type": "markdown",
   "metadata": {},
   "source": [
    "## Interactive"
   ]
  },
  {
   "cell_type": "code",
   "execution_count": 77,
   "metadata": {},
   "outputs": [],
   "source": [
    "curr_bc = 0.2938\n",
    "curr_rc = 0.01762\n",
    "curr_mc = 0.02953"
   ]
  },
  {
   "cell_type": "code",
   "execution_count": 117,
   "metadata": {},
   "outputs": [
    {
     "data": {
      "application/vnd.jupyter.widget-view+json": {
       "model_id": "d27da2a176414164a8832f346995581b",
       "version_major": 2,
       "version_minor": 0
      },
      "text/plain": [
       "interactive(children=(FloatSlider(value=0.096, description='rco', max=0.2, step=0.008), FloatSlider(value=0.09…"
      ]
     },
     "metadata": {},
     "output_type": "display_data"
    }
   ],
   "source": [
    "@interact\n",
    "def show_graph(rco=(0,0.5,0.008),\n",
    "               mco=(0,0.5,0.0075),\n",
    "               bco=(0,0.5,0.005),\n",
    "               all_pred_metric=False,\n",
    "               metr=col_use,range_time=(3,365,2)):\n",
    "    \n",
    "    T_start = 0.0\n",
    "    T_inc=1.0\n",
    "    T_end=range_time\n",
    "    I0=2/NUMB_OF_POPS\n",
    "    S0=1-I0\n",
    "    INPUT = (S0, I0, 0.0, 0.0)\n",
    "\n",
    "    col_use_pred=[x+'_pred' for x in col_use]\n",
    "    T_range = np.arange(T_start, T_end+T_inc, T_inc)\n",
    "    RES = spi.odeint(sird_model_diff,INPUT,T_range, args=(bco,rco,mco))\n",
    "    df_sird_pred=pd.DataFrame(RES,columns=['Sus','Inf','Rec','Dea'])\n",
    "    \n",
    "    peak=df_sird_pred.Inf.idxmax()\n",
    "    numb_peak=str(round(df_sird_pred.Inf.max()*100,2))\n",
    "    numb_dead=str(round(df_sird_pred.Dea.max()*100,2))\n",
    "    \n",
    "    txt='SIRD Model with Interaction Daily Rate = '+str(bco)+' and Recovery Daily Rate = '+str(\n",
    "            rco)+' and Death Daily Rate = '+str(mco)\n",
    "    \n",
    "    if abs(rco-curr_rc)<0.005 and abs(mco-curr_mc)<0.005 and abs(bco-curr_bc)<0.005:\n",
    "        txt+=' (its CURRENT STATE)'\n",
    "    \n",
    "    end_date0 = date_1 + dt.timedelta(days=int(peak))\n",
    "    end_date0 = dt.datetime.strftime(end_date0,\"%Y-%m\")\n",
    "    txt+='\\nand the outbreak peak will have '+str(numb_peak)+'% people infection in Indonesia'\n",
    "    txt+='\\nand there will be '+str(numb_dead)+'% people dead because of Covid-19'\n",
    "    txt+='\\nwith the outbreak peak will happen on '+str(peak)+' day since first case'\n",
    "    end_date = date_1 + dt.timedelta(days=int(peak))\n",
    "    end_date = dt.datetime.strftime(end_date,\"%Y-%m\")\n",
    "    txt+='\\nwhich is happen in '+end_date\n",
    "    \n",
    "    all_date=[date_1 + dt.timedelta(days=int(i)) for i in range(range_time+1)]\n",
    "    \n",
    "    df_sird_pred.columns=col_use_pred\n",
    "    df_sird_pred2=pd.concat([df_sird_pred,df_daily_sird2[col_use]],axis=1)\n",
    "    df_sird_pred2.index=all_date\n",
    "    \n",
    "    df_sird_pred2=df_sird_pred2*NUMB_OF_POPS\n",
    "    \n",
    "    if all_pred_metric:\n",
    "        df_sird_pred2[col_use_pred].plot(figsize=(10,8),\n",
    "                      title=txt)\n",
    "    else:\n",
    "        df_sird_pred2[[metr,metr+'_pred']].plot(figsize=(10,8),\n",
    "                      title=txt)\n",
    "    \n",
    "    \n",
    "    \n",
    "#     df_daily_sird2[['Inf']].plot(figsize=(10,8),\n",
    "#                       title=txt)\n",
    "   \n",
    "#     df_sird_pred[['Inf']].plot(figsize=(10,8),\n",
    "#                       title=txt)"
   ]
  },
  {
   "cell_type": "code",
   "execution_count": null,
   "metadata": {},
   "outputs": [],
   "source": []
  },
  {
   "cell_type": "markdown",
   "metadata": {},
   "source": [
    "## Reference\n",
    "    \n",
    "    Data : https://kawalcovid19.blob.core.windows.net/viz/statistik_harian.html\n",
    "    \n",
    "    Source Script : http://epirecip.es/epicookbook/chapters/kr08/2_1/python_original\n",
    "    \n",
    "    Image 1 : https://www.researchgate.net/figure/Scheme-of-Susceptible-Infectious-Recovered-Death-SIRD-Model-Boxes-represent_fig1_41507287\n",
    "    \n",
    "    Image 2 : https://www.chegg.com/homework-help/questions-and-answers/codes-problem-code-1-function-siddeterm-simulation-deterministic-sird-model-using-differen-q21316613"
   ]
  },
  {
   "cell_type": "code",
   "execution_count": null,
   "metadata": {},
   "outputs": [],
   "source": []
  },
  {
   "cell_type": "code",
   "execution_count": null,
   "metadata": {},
   "outputs": [],
   "source": []
  }
 ],
 "metadata": {
  "kernelspec": {
   "display_name": "py37_env",
   "language": "python",
   "name": "myenv"
  },
  "language_info": {
   "codemirror_mode": {
    "name": "ipython",
    "version": 3
   },
   "file_extension": ".py",
   "mimetype": "text/x-python",
   "name": "python",
   "nbconvert_exporter": "python",
   "pygments_lexer": "ipython3",
   "version": "3.7.6"
  }
 },
 "nbformat": 4,
 "nbformat_minor": 4
}
