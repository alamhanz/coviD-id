{
 "cells": [
  {
   "cell_type": "markdown",
   "metadata": {},
   "source": [
    "# SIRD Model 3\n",
    "\n",
    "Basic SIRD model for Indonesia Covid \n",
    "(data until 20200328)"
   ]
  },
  {
   "cell_type": "markdown",
   "metadata": {},
   "source": [
    "![SIRD](../images/Scheme-of-Susceptible-Infectious-Recovered-Death-SIRD-Model-Boxes-represent.png)"
   ]
  },
  {
   "cell_type": "code",
   "execution_count": 1,
   "metadata": {},
   "outputs": [],
   "source": [
    "import ipywidgets as widgets\n",
    "from ipywidgets import interact, interact_manual"
   ]
  },
  {
   "cell_type": "code",
   "execution_count": 2,
   "metadata": {},
   "outputs": [],
   "source": [
    "import pandas as pd\n",
    "import scipy.integrate as spi\n",
    "import numpy as np\n",
    "import seaborn as sns\n",
    "\n",
    "from sklearn.linear_model import LinearRegression\n",
    "import statsmodels.api as sm\n",
    "from bayes_opt import BayesianOptimization\n",
    "import matplotlib.pyplot as plt\n",
    "import datetime as dt\n",
    "import pyswarms as ps\n",
    "from pyswarms.utils.functions import single_obj as fx"
   ]
  },
  {
   "cell_type": "code",
   "execution_count": 3,
   "metadata": {},
   "outputs": [],
   "source": [
    "PATH_DATA = '../data/raw/'"
   ]
  },
  {
   "cell_type": "code",
   "execution_count": 4,
   "metadata": {},
   "outputs": [],
   "source": [
    "## Assumption\n",
    "NUMB_OF_POPS=200000000"
   ]
  },
  {
   "cell_type": "code",
   "execution_count": 5,
   "metadata": {},
   "outputs": [
    {
     "data": {
      "text/plain": [
       "array([4., 9.])"
      ]
     },
     "execution_count": 5,
     "metadata": {},
     "output_type": "execute_result"
    }
   ],
   "source": [
    "aa=np.array([[2],[3]])\n",
    "fx.sphere(aa)"
   ]
  },
  {
   "cell_type": "markdown",
   "metadata": {},
   "source": [
    "## Get The Data\n",
    "\n",
    "Getting the data and do the summary"
   ]
  },
  {
   "cell_type": "code",
   "execution_count": 6,
   "metadata": {},
   "outputs": [],
   "source": [
    "df_daily=pd.read_csv(PATH_DATA+'20200328_DailyCase_ID.csv')\n",
    "df_daily=df_daily.fillna(0)\n",
    "\n",
    "df_daily['Rec']=df_daily['Sembuh (baru)'].cumsum()\n",
    "df_daily['Dea']=df_daily['Meninggal (baru)'].cumsum()\n",
    "df_daily['Inf']=df_daily['Kasus (Kumulatif)']-df_daily['Rec']-df_daily['Dea']\n",
    "df_daily['Sus']=NUMB_OF_POPS-df_daily['Inf']-df_daily['Rec']-df_daily['Dea']\n",
    "\n",
    "col_use=['Sus','Inf','Rec','Dea']\n",
    "df_daily_sird=df_daily[col_use]/NUMB_OF_POPS\n",
    "\n",
    "for cc in col_use:\n",
    "    df_daily_sird[cc+'_before']=df_daily_sird[cc].shift(1)\n",
    "    df_daily_sird[cc+'_dt']=df_daily_sird[cc]-df_daily_sird[cc+'_before']\n",
    "\n",
    "col_use_t=['Sus_dt','Inf_dt','Rec_dt','Dea_dt']\n",
    "df_daily_sird2=df_daily_sird[col_use+col_use_t].dropna()"
   ]
  },
  {
   "cell_type": "code",
   "execution_count": 7,
   "metadata": {},
   "outputs": [],
   "source": [
    "# df_daily_sird[['Inf','Rec','Dea']].plot(figsize=(10,8))"
   ]
  },
  {
   "cell_type": "markdown",
   "metadata": {},
   "source": [
    "## Tuning Parameter SIRD Model"
   ]
  },
  {
   "cell_type": "code",
   "execution_count": 8,
   "metadata": {},
   "outputs": [],
   "source": [
    "def sird_model_diff(VALUE_ON_T,t,param_bk,param_rk,param_mk):  \n",
    "    '''The main set of equations'''\n",
    "    Y=np.zeros((4))\n",
    "    dS,dI,dR,dD = VALUE_ON_T  \n",
    "    Y[0] = - param_bk * dS * dI\n",
    "    Y[1] = (param_bk * dS * dI) - (param_rk * dI) - (param_mk * dI)\n",
    "    Y[2] = param_rk * dI\n",
    "    Y[3] = param_mk * dI\n",
    "    \n",
    "    return Y   # For odeint"
   ]
  },
  {
   "cell_type": "code",
   "execution_count": 9,
   "metadata": {},
   "outputs": [],
   "source": [
    "def targ_func(x,df=df_daily_sird2):\n",
    "    param_b,param_r,param_m=x\n",
    "    N=200000000000\n",
    "    T_start = 0.0\n",
    "    T_inc=1.0\n",
    "    T_end=26\n",
    "    I0=2/NUMB_OF_POPS\n",
    "    S0=1-I0\n",
    "    INPUT = (S0, I0, 0.0, 0.0)\n",
    "    \n",
    "    col_use_pred=[x+'_pred' for x in col_use]\n",
    "    T_range = np.arange(T_start, T_end+T_inc, T_inc)\n",
    "    RES = spi.odeint(sird_model_diff,INPUT,T_range, args=(param_b,param_r,param_m))\n",
    "    df_sird_pred=pd.DataFrame(RES,columns=col_use_pred)\n",
    "    df[col_use_pred]=df_sird_pred[1:len(df_daily_sird2)+1]\n",
    "    \n",
    "    \n",
    "    eS=((df['Sus']-df['Sus_pred'])**2).sum()*N*0.4\n",
    "    eI=((df['Inf']-df['Inf_pred'])**2).sum()*N*0.25\n",
    "    eR=((df['Rec']-df['Rec_pred'])**2).sum()*N*0.15\n",
    "    eD=((df['Dea']-df['Dea_pred'])**2).sum()*N*0.1\n",
    "    \n",
    "    return (eS+eI+eR+eD)\n",
    "\n",
    "def opt_func(x):\n",
    "    all_res=[]\n",
    "    for i in x:\n",
    "        res=targ_func(i)\n",
    "        all_res.append(res)\n",
    "    return np.array(all_res)"
   ]
  },
  {
   "cell_type": "code",
   "execution_count": 10,
   "metadata": {},
   "outputs": [],
   "source": [
    "# targ_func([[0.3],[0.05],[0.05]])"
   ]
  },
  {
   "cell_type": "code",
   "execution_count": 11,
   "metadata": {
    "scrolled": true
   },
   "outputs": [
    {
     "name": "stderr",
     "output_type": "stream",
     "text": [
      "2020-03-28 18:08:54,305 - pyswarms.single.global_best - INFO - Optimize for 20 iters with {'c1': 0.15, 'c2': 0.95, 'w': 0.25}\n",
      "pyswarms.single.global_best: 100%|██████████|20/20, best_cost=0.862\n",
      "2020-03-28 18:09:06,133 - pyswarms.single.global_best - INFO - Optimization finished | best cost: 0.8615774850408408, best pos: [0.29124746 0.01848258 0.03083619]\n",
      "2020-03-28 18:09:06,141 - pyswarms.single.global_best - INFO - Optimize for 20 iters with {'c1': 0.15, 'c2': 0.95, 'w': 0.25}\n",
      "pyswarms.single.global_best: 100%|██████████|20/20, best_cost=0.862\n",
      "2020-03-28 18:09:17,856 - pyswarms.single.global_best - INFO - Optimization finished | best cost: 0.8615668208633501, best pos: [0.2905441  0.01806553 0.03046589]\n",
      "2020-03-28 18:09:17,864 - pyswarms.single.global_best - INFO - Optimize for 20 iters with {'c1': 0.15, 'c2': 0.95, 'w': 0.25}\n",
      "pyswarms.single.global_best: 100%|██████████|20/20, best_cost=0.862\n",
      "2020-03-28 18:09:29,634 - pyswarms.single.global_best - INFO - Optimization finished | best cost: 0.861544364361366, best pos: [0.2908679  0.01775299 0.03114017]\n",
      "2020-03-28 18:09:29,643 - pyswarms.single.global_best - INFO - Optimize for 40 iters with {'c1': 0.15, 'c2': 0.95, 'w': 0.25}\n",
      "pyswarms.single.global_best: 100%|██████████|40/40, best_cost=0.862\n",
      "2020-03-28 18:09:47,707 - pyswarms.single.global_best - INFO - Optimization finished | best cost: 0.8615443638647137, best pos: [0.29086823 0.01775272 0.03114078]\n"
     ]
    }
   ],
   "source": [
    "opt1 = {'c1': 0.15, 'c2': 0.95, 'w':0.25}\n",
    "pos_res=[]\n",
    "best_pos=[]\n",
    "min_func=100\n",
    "for i in range(3):\n",
    "    optimizer1 = ps.single.GlobalBestPSO(n_particles=200, dimensions=3, options=opt1,\n",
    "                                         bounds=([0.1,0.005,0.005],[0.5,0.1,0.1]))\n",
    "    # Perform optimization\n",
    "    cost, pos = optimizer1.optimize(opt_func, iters=20)\n",
    "    pos_res.append(pos)\n",
    "    if cost<min_func:\n",
    "        min_func=cost\n",
    "        best_pos=pos\n",
    "        \n",
    "max_bound2=np.array(pos_res).max(axis=0)\n",
    "max_bound2=max_bound2+(max_bound2*0.08)\n",
    "min_bound2=np.array(pos_res).min(axis=0)\n",
    "min_bound2=min_bound2-(min_bound2*0.08)\n",
    "optimizer2 = ps.single.GlobalBestPSO(n_particles=150, dimensions=3, options=opt1,\n",
    "                                         bounds=(min_bound2,max_bound2))\n",
    "cost, pos = optimizer2.optimize(opt_func, iters=40)\n",
    "pos_res.append(pos)\n",
    "if cost<min_func:\n",
    "    min_func=cost\n",
    "    best_pos=pos"
   ]
  },
  {
   "cell_type": "code",
   "execution_count": 90,
   "metadata": {
    "scrolled": true
   },
   "outputs": [
    {
     "data": {
      "text/plain": [
       "0.5659512231993404"
      ]
     },
     "execution_count": 90,
     "metadata": {},
     "output_type": "execute_result"
    }
   ],
   "source": [
    "# targ_func([0.2938,0.01762,0.02953])\n",
    "# [0.29493264 0.01717436 0.03094745] --> 20200327 ()\n",
    "# [0.29086823 0.01775272 0.03114078] --> 20200328 (0.861544363)"
   ]
  },
  {
   "cell_type": "code",
   "execution_count": null,
   "metadata": {},
   "outputs": [],
   "source": []
  },
  {
   "cell_type": "code",
   "execution_count": null,
   "metadata": {},
   "outputs": [],
   "source": []
  },
  {
   "cell_type": "code",
   "execution_count": 20,
   "metadata": {},
   "outputs": [],
   "source": [
    "# Opt_Targ = BayesianOptimization(targ_func, {'param_b': (0.3, 0.38),'param_r': (0.04, 0.053),'param_m': (0.04, 0.053)})"
   ]
  },
  {
   "cell_type": "code",
   "execution_count": 22,
   "metadata": {},
   "outputs": [],
   "source": [
    "# Opt_Targ.maximize(init_points=40, n_iter=25)"
   ]
  },
  {
   "cell_type": "code",
   "execution_count": 23,
   "metadata": {},
   "outputs": [],
   "source": [
    "param_bc,param_rc,param_mc=0.2938,0.01762,0.02953\n",
    "# param_bc,param_rc,param_mc=0.3,0.02,0.03\n",
    "\n",
    "# param_bc,param_rc,param_mc=0.3292,0.04154,0.04643"
   ]
  },
  {
   "cell_type": "code",
   "execution_count": null,
   "metadata": {},
   "outputs": [],
   "source": []
  },
  {
   "cell_type": "code",
   "execution_count": null,
   "metadata": {},
   "outputs": [],
   "source": []
  },
  {
   "cell_type": "code",
   "execution_count": 24,
   "metadata": {},
   "outputs": [],
   "source": [
    "T_start = 0.0\n",
    "T_inc=1.0\n",
    "T_end=30*6\n",
    "I0=2/NUMB_OF_POPS\n",
    "S0=1-I0\n",
    "INPUT = (S0, I0, 0.0, 0.0)\n",
    "\n",
    "col_use_pred=[x+'_pred' for x in col_use]\n",
    "T_range = np.arange(T_start, T_end+T_inc, T_inc)\n",
    "RES = spi.odeint(sird_model_diff,INPUT,T_range, args=(param_bc,param_rc,param_mc))"
   ]
  },
  {
   "cell_type": "code",
   "execution_count": null,
   "metadata": {},
   "outputs": [],
   "source": []
  },
  {
   "cell_type": "code",
   "execution_count": 25,
   "metadata": {},
   "outputs": [],
   "source": [
    "df_sird_pred=pd.DataFrame(RES,columns=['Sus','Inf','Rec','Dea'])"
   ]
  },
  {
   "cell_type": "code",
   "execution_count": 87,
   "metadata": {},
   "outputs": [
    {
     "data": {
      "text/plain": [
       "<matplotlib.axes._subplots.AxesSubplot at 0x1c272c9890>"
      ]
     },
     "execution_count": 87,
     "metadata": {},
     "output_type": "execute_result"
    },
    {
     "data": {
      "image/png": "[encoded data removed]",
      "text/plain": [
       "<Figure size 432x288 with 1 Axes>"
      ]
     },
     "metadata": {
      "needs_background": "light"
     },
     "output_type": "display_data"
    }
   ],
   "source": [
    "check_col='Inf'\n",
    "col_use_pred=[x+'_pred' for x in col_use]\n",
    "df_daily_sird2[col_use_pred]=df_sird_pred[1:len(df_daily_sird2)+1]\n",
    "df_daily_sird2[[check_col,check_col+'_pred']].plot()"
   ]
  },
  {
   "cell_type": "code",
   "execution_count": 123,
   "metadata": {},
   "outputs": [],
   "source": [
    "# df_sird_pred['Dea_pred'].max()"
   ]
  },
  {
   "cell_type": "code",
   "execution_count": 27,
   "metadata": {
    "scrolled": false
   },
   "outputs": [
    {
     "data": {
      "text/plain": [
       "<matplotlib.axes._subplots.AxesSubplot at 0x1c265d4310>"
      ]
     },
     "execution_count": 27,
     "metadata": {},
     "output_type": "execute_result"
    },
    {
     "data": {
      "image/png": "[encoded data removed]",
      "text/plain": [
       "<Figure size 720x576 with 1 Axes>"
      ]
     },
     "metadata": {
      "needs_background": "light"
     },
     "output_type": "display_data"
    }
   ],
   "source": [
    "# df_sird_pred[['Inf','Rec','Dea']].plot()\n",
    "df_sird_pred.plot(figsize=(10,8))"
   ]
  },
  {
   "cell_type": "code",
   "execution_count": null,
   "metadata": {},
   "outputs": [],
   "source": []
  },
  {
   "cell_type": "code",
   "execution_count": 67,
   "metadata": {},
   "outputs": [],
   "source": [
    "date_1 = dt.datetime.strptime(\"2020-03-02\", \"%Y-%m-%d\")"
   ]
  },
  {
   "cell_type": "markdown",
   "metadata": {},
   "source": [
    "## Interactive"
   ]
  },
  {
   "cell_type": "code",
   "execution_count": 77,
   "metadata": {},
   "outputs": [],
   "source": [
    "curr_bc = 0.2938\n",
    "curr_rc = 0.01762\n",
    "curr_mc = 0.02953"
   ]
  },
  {
   "cell_type": "code",
   "execution_count": 127,
   "metadata": {},
   "outputs": [
    {
     "data": {
      "application/vnd.jupyter.widget-view+json": {
       "model_id": "879b6f6ce39a4ece8f1f237b571e60b6",
       "version_major": 2,
       "version_minor": 0
      },
      "text/plain": [
       "interactive(children=(FloatSlider(value=0.248, description='rco', max=0.5, step=0.008), FloatSlider(value=0.24…"
      ]
     },
     "metadata": {},
     "output_type": "display_data"
    }
   ],
   "source": [
    "@interact\n",
    "def show_graph(rco=(0,0.5,0.008),\n",
    "               mco=(0,0.5,0.0075),\n",
    "               bco=(0,0.5,0.005),\n",
    "               all_pred_metric=False,\n",
    "               metr=col_use,range_time=(3,365,2)):\n",
    "    \n",
    "    T_start = 0.0\n",
    "    T_inc=1.0\n",
    "    T_end=range_time\n",
    "    I0=2/NUMB_OF_POPS\n",
    "    S0=1-I0\n",
    "    INPUT = (S0, I0, 0.0, 0.0)\n",
    "\n",
    "    col_use_pred=[x+'_pred' for x in col_use]\n",
    "    T_range = np.arange(T_start, T_end+T_inc, T_inc)\n",
    "    RES = spi.odeint(sird_model_diff,INPUT,T_range, args=(bco,rco,mco))\n",
    "    df_sird_pred=pd.DataFrame(RES,columns=['Sus','Inf','Rec','Dea'])\n",
    "    \n",
    "    peak=df_sird_pred.Inf.idxmax()\n",
    "    numb_peak=str(round(df_sird_pred.Inf.max()*100,2))\n",
    "    numb_dead=str(round(df_sird_pred.Dea.max()*100,2))\n",
    "    \n",
    "    txt='SIRD Model with Interaction Daily Rate = '+str(bco)+' and Recovery Daily Rate = '+str(\n",
    "            rco)+' and Death Daily Rate = '+str(mco)\n",
    "    \n",
    "    if abs(rco-curr_rc)<0.005 and abs(mco-curr_mc)<0.005 and abs(bco-curr_bc)<0.005:\n",
    "        txt+=' (its CURRENT STATE)'\n",
    "    \n",
    "    end_date0 = date_1 + dt.timedelta(days=int(range_time))\n",
    "    end_date0 = dt.datetime.strftime(end_date0,\"%Y-%m\")\n",
    "    txt+='\\nand the outbreak peak will have '+str(numb_peak)+'% people infection in Indonesia'\n",
    "    txt+='\\nand there will be '+str(numb_dead)+'% people dead because of Covid-19 on '+end_date0\n",
    "    txt+='\\nwith the outbreak peak will happen on '+str(peak)+' day since first case'\n",
    "    end_date = date_1 + dt.timedelta(days=int(peak))\n",
    "    end_date = dt.datetime.strftime(end_date,\"%Y-%m\")\n",
    "    txt+='\\nwhich is happen in '+end_date\n",
    "    \n",
    "    all_date=[date_1 + dt.timedelta(days=int(i)) for i in range(range_time+1)]\n",
    "    \n",
    "    df_sird_pred.columns=col_use_pred\n",
    "    df_sird_pred2=pd.concat([df_sird_pred,df_daily_sird2[col_use]],axis=1)\n",
    "    df_sird_pred2.index=all_date\n",
    "    \n",
    "    df_sird_pred2=df_sird_pred2*NUMB_OF_POPS\n",
    "    \n",
    "    if all_pred_metric:\n",
    "        df_sird_pred2[col_use_pred].plot(figsize=(10,8),\n",
    "                      title=txt)\n",
    "    else:\n",
    "        df_sird_pred2[[metr,metr+'_pred']].plot(figsize=(10,8),\n",
    "                      title=txt)\n",
    "    \n",
    "    \n",
    "    \n",
    "#     df_daily_sird2[['Inf']].plot(figsize=(10,8),\n",
    "#                       title=txt)\n",
    "   \n",
    "#     df_sird_pred[['Inf']].plot(figsize=(10,8),\n",
    "#                       title=txt)"
   ]
  },
  {
   "cell_type": "code",
   "execution_count": null,
   "metadata": {},
   "outputs": [],
   "source": []
  },
  {
   "cell_type": "markdown",
   "metadata": {},
   "source": [
    "## Reference\n",
    "    \n",
    "    Data : https://kawalcovid19.blob.core.windows.net/viz/statistik_harian.html\n",
    "    \n",
    "    Source Script : http://epirecip.es/epicookbook/chapters/kr08/2_1/python_original\n",
    "    \n",
    "    Image 1 : https://www.researchgate.net/figure/Scheme-of-Susceptible-Infectious-Recovered-Death-SIRD-Model-Boxes-represent_fig1_41507287\n",
    "    \n",
    "    Image 2 : https://www.chegg.com/homework-help/questions-and-answers/codes-problem-code-1-function-siddeterm-simulation-deterministic-sird-model-using-differen-q21316613"
   ]
  },
  {
   "cell_type": "code",
   "execution_count": null,
   "metadata": {},
   "outputs": [],
   "source": []
  },
  {
   "cell_type": "code",
   "execution_count": null,
   "metadata": {},
   "outputs": [],
   "source": []
  }
 ],
 "metadata": {
  "kernelspec": {
   "display_name": "py37_env",
   "language": "python",
   "name": "myenv"
  },
  "language_info": {
   "codemirror_mode": {
    "name": "ipython",
    "version": 3
   },
   "file_extension": ".py",
   "mimetype": "text/x-python",
   "name": "python",
   "nbconvert_exporter": "python",
   "pygments_lexer": "ipython3",
   "version": "3.7.6"
  }
 },
 "nbformat": 4,
 "nbformat_minor": 4
}
