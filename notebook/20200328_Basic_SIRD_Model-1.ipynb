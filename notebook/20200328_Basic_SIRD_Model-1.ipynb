{
 "cells": [
  {
   "cell_type": "markdown",
   "metadata": {},
   "source": [
    "# SIRD Model\n",
    "\n",
    "Basic SIRD model for Indonesia Covid \n",
    "(data until 20200327)"
   ]
  },
  {
   "cell_type": "markdown",
   "metadata": {},
   "source": [
    "![SIRD](../images/Scheme-of-Susceptible-Infectious-Recovered-Death-SIRD-Model-Boxes-represent.png)"
   ]
  },
  {
   "cell_type": "code",
   "execution_count": 1,
   "metadata": {},
   "outputs": [],
   "source": [
    "import pandas as pd\n",
    "import scipy.integrate as spi\n",
    "import numpy as np\n",
    "import seaborn as sns\n",
    "\n",
    "from sklearn.linear_model import LinearRegression\n",
    "import statsmodels.api as sm\n",
    "from bayes_opt import BayesianOptimization\n",
    "import matplotlib.pyplot as plt"
   ]
  },
  {
   "cell_type": "code",
   "execution_count": 2,
   "metadata": {},
   "outputs": [],
   "source": [
    "PATH_DATA = '../data/raw/'"
   ]
  },
  {
   "cell_type": "code",
   "execution_count": 3,
   "metadata": {},
   "outputs": [],
   "source": [
    "## Assumption\n",
    "NUMB_OF_POPS=200000000"
   ]
  },
  {
   "cell_type": "markdown",
   "metadata": {},
   "source": [
    "## Get The Data\n",
    "\n",
    "Getting the data and do the summary"
   ]
  },
  {
   "cell_type": "code",
   "execution_count": 4,
   "metadata": {},
   "outputs": [],
   "source": [
    "df_daily=pd.read_csv(PATH_DATA+'20200327_DailyCase_ID.csv')\n",
    "df_daily=df_daily.fillna(0)"
   ]
  },
  {
   "cell_type": "code",
   "execution_count": 5,
   "metadata": {},
   "outputs": [
    {
     "data": {
      "text/html": [
       "<div>\n",
       "<style scoped>\n",
       "    .dataframe tbody tr th:only-of-type {\n",
       "        vertical-align: middle;\n",
       "    }\n",
       "\n",
       "    .dataframe tbody tr th {\n",
       "        vertical-align: top;\n",
       "    }\n",
       "\n",
       "    .dataframe thead th {\n",
       "        text-align: right;\n",
       "    }\n",
       "</style>\n",
       "<table border=\"1\" class=\"dataframe\">\n",
       "  <thead>\n",
       "    <tr style=\"text-align: right;\">\n",
       "      <th></th>\n",
       "      <th>DT</th>\n",
       "      <th>Kasus (Kumulatif)</th>\n",
       "      <th>Kasus Baru</th>\n",
       "      <th>Sembuh (baru)</th>\n",
       "      <th>Meninggal (baru)</th>\n",
       "    </tr>\n",
       "  </thead>\n",
       "  <tbody>\n",
       "    <tr>\n",
       "      <th>0</th>\n",
       "      <td>2020-03-02 00:00:00</td>\n",
       "      <td>2</td>\n",
       "      <td>2.0</td>\n",
       "      <td>0.0</td>\n",
       "      <td>0.0</td>\n",
       "    </tr>\n",
       "    <tr>\n",
       "      <th>1</th>\n",
       "      <td>2020-03-03 00:00:00</td>\n",
       "      <td>2</td>\n",
       "      <td>0.0</td>\n",
       "      <td>0.0</td>\n",
       "      <td>0.0</td>\n",
       "    </tr>\n",
       "    <tr>\n",
       "      <th>2</th>\n",
       "      <td>2020-03-04 00:00:00</td>\n",
       "      <td>2</td>\n",
       "      <td>0.0</td>\n",
       "      <td>0.0</td>\n",
       "      <td>0.0</td>\n",
       "    </tr>\n",
       "    <tr>\n",
       "      <th>3</th>\n",
       "      <td>2020-03-05 00:00:00</td>\n",
       "      <td>2</td>\n",
       "      <td>0.0</td>\n",
       "      <td>0.0</td>\n",
       "      <td>0.0</td>\n",
       "    </tr>\n",
       "    <tr>\n",
       "      <th>4</th>\n",
       "      <td>2020-03-06 00:00:00</td>\n",
       "      <td>4</td>\n",
       "      <td>2.0</td>\n",
       "      <td>0.0</td>\n",
       "      <td>0.0</td>\n",
       "    </tr>\n",
       "    <tr>\n",
       "      <th>5</th>\n",
       "      <td>2020-03-07 00:00:00</td>\n",
       "      <td>4</td>\n",
       "      <td>0.0</td>\n",
       "      <td>0.0</td>\n",
       "      <td>0.0</td>\n",
       "    </tr>\n",
       "    <tr>\n",
       "      <th>6</th>\n",
       "      <td>2020-03-08 00:00:00</td>\n",
       "      <td>6</td>\n",
       "      <td>2.0</td>\n",
       "      <td>0.0</td>\n",
       "      <td>0.0</td>\n",
       "    </tr>\n",
       "    <tr>\n",
       "      <th>7</th>\n",
       "      <td>2020-03-09 00:00:00</td>\n",
       "      <td>19</td>\n",
       "      <td>13.0</td>\n",
       "      <td>0.0</td>\n",
       "      <td>0.0</td>\n",
       "    </tr>\n",
       "    <tr>\n",
       "      <th>8</th>\n",
       "      <td>2020-03-10 00:00:00</td>\n",
       "      <td>27</td>\n",
       "      <td>8.0</td>\n",
       "      <td>0.0</td>\n",
       "      <td>0.0</td>\n",
       "    </tr>\n",
       "    <tr>\n",
       "      <th>9</th>\n",
       "      <td>2020-03-11 00:00:00</td>\n",
       "      <td>34</td>\n",
       "      <td>7.0</td>\n",
       "      <td>2.0</td>\n",
       "      <td>2.0</td>\n",
       "    </tr>\n",
       "    <tr>\n",
       "      <th>10</th>\n",
       "      <td>2020-03-12 00:00:00</td>\n",
       "      <td>34</td>\n",
       "      <td>0.0</td>\n",
       "      <td>1.0</td>\n",
       "      <td>2.0</td>\n",
       "    </tr>\n",
       "    <tr>\n",
       "      <th>11</th>\n",
       "      <td>2020-03-13 00:00:00</td>\n",
       "      <td>69</td>\n",
       "      <td>35.0</td>\n",
       "      <td>2.0</td>\n",
       "      <td>0.0</td>\n",
       "    </tr>\n",
       "    <tr>\n",
       "      <th>12</th>\n",
       "      <td>2020-03-14 00:00:00</td>\n",
       "      <td>96</td>\n",
       "      <td>27.0</td>\n",
       "      <td>3.0</td>\n",
       "      <td>1.0</td>\n",
       "    </tr>\n",
       "    <tr>\n",
       "      <th>13</th>\n",
       "      <td>2020-03-15 00:00:00</td>\n",
       "      <td>117</td>\n",
       "      <td>21.0</td>\n",
       "      <td>0.0</td>\n",
       "      <td>0.0</td>\n",
       "    </tr>\n",
       "    <tr>\n",
       "      <th>14</th>\n",
       "      <td>2020-03-16 00:00:00</td>\n",
       "      <td>134</td>\n",
       "      <td>17.0</td>\n",
       "      <td>0.0</td>\n",
       "      <td>0.0</td>\n",
       "    </tr>\n",
       "    <tr>\n",
       "      <th>15</th>\n",
       "      <td>2020-03-17 00:00:00</td>\n",
       "      <td>172</td>\n",
       "      <td>38.0</td>\n",
       "      <td>1.0</td>\n",
       "      <td>2.0</td>\n",
       "    </tr>\n",
       "    <tr>\n",
       "      <th>16</th>\n",
       "      <td>2020-03-18 00:00:00</td>\n",
       "      <td>227</td>\n",
       "      <td>55.0</td>\n",
       "      <td>2.0</td>\n",
       "      <td>12.0</td>\n",
       "    </tr>\n",
       "    <tr>\n",
       "      <th>17</th>\n",
       "      <td>2020-03-19 00:00:00</td>\n",
       "      <td>309</td>\n",
       "      <td>82.0</td>\n",
       "      <td>4.0</td>\n",
       "      <td>6.0</td>\n",
       "    </tr>\n",
       "    <tr>\n",
       "      <th>18</th>\n",
       "      <td>2020-03-20 00:00:00</td>\n",
       "      <td>369</td>\n",
       "      <td>60.0</td>\n",
       "      <td>1.0</td>\n",
       "      <td>7.0</td>\n",
       "    </tr>\n",
       "    <tr>\n",
       "      <th>19</th>\n",
       "      <td>2020-03-21 00:00:00</td>\n",
       "      <td>450</td>\n",
       "      <td>81.0</td>\n",
       "      <td>4.0</td>\n",
       "      <td>6.0</td>\n",
       "    </tr>\n",
       "    <tr>\n",
       "      <th>20</th>\n",
       "      <td>2020-03-22 00:00:00</td>\n",
       "      <td>514</td>\n",
       "      <td>64.0</td>\n",
       "      <td>9.0</td>\n",
       "      <td>10.0</td>\n",
       "    </tr>\n",
       "    <tr>\n",
       "      <th>21</th>\n",
       "      <td>2020-03-23 00:00:00</td>\n",
       "      <td>579</td>\n",
       "      <td>65.0</td>\n",
       "      <td>1.0</td>\n",
       "      <td>1.0</td>\n",
       "    </tr>\n",
       "    <tr>\n",
       "      <th>22</th>\n",
       "      <td>2020-03-24 00:00:00</td>\n",
       "      <td>685</td>\n",
       "      <td>106.0</td>\n",
       "      <td>0.0</td>\n",
       "      <td>6.0</td>\n",
       "    </tr>\n",
       "    <tr>\n",
       "      <th>23</th>\n",
       "      <td>2020-03-25 00:00:00</td>\n",
       "      <td>790</td>\n",
       "      <td>105.0</td>\n",
       "      <td>1.0</td>\n",
       "      <td>3.0</td>\n",
       "    </tr>\n",
       "    <tr>\n",
       "      <th>24</th>\n",
       "      <td>2020-03-26 00:00:00</td>\n",
       "      <td>893</td>\n",
       "      <td>103.0</td>\n",
       "      <td>4.0</td>\n",
       "      <td>20.0</td>\n",
       "    </tr>\n",
       "    <tr>\n",
       "      <th>25</th>\n",
       "      <td>2020-03-27 00:00:00</td>\n",
       "      <td>1046</td>\n",
       "      <td>153.0</td>\n",
       "      <td>11.0</td>\n",
       "      <td>9.0</td>\n",
       "    </tr>\n",
       "  </tbody>\n",
       "</table>\n",
       "</div>"
      ],
      "text/plain": [
       "                     DT  Kasus (Kumulatif)  Kasus Baru  Sembuh (baru)  \\\n",
       "0   2020-03-02 00:00:00                  2         2.0            0.0   \n",
       "1   2020-03-03 00:00:00                  2         0.0            0.0   \n",
       "2   2020-03-04 00:00:00                  2         0.0            0.0   \n",
       "3   2020-03-05 00:00:00                  2         0.0            0.0   \n",
       "4   2020-03-06 00:00:00                  4         2.0            0.0   \n",
       "5   2020-03-07 00:00:00                  4         0.0            0.0   \n",
       "6   2020-03-08 00:00:00                  6         2.0            0.0   \n",
       "7   2020-03-09 00:00:00                 19        13.0            0.0   \n",
       "8   2020-03-10 00:00:00                 27         8.0            0.0   \n",
       "9   2020-03-11 00:00:00                 34         7.0            2.0   \n",
       "10  2020-03-12 00:00:00                 34         0.0            1.0   \n",
       "11  2020-03-13 00:00:00                 69        35.0            2.0   \n",
       "12  2020-03-14 00:00:00                 96        27.0            3.0   \n",
       "13  2020-03-15 00:00:00                117        21.0            0.0   \n",
       "14  2020-03-16 00:00:00                134        17.0            0.0   \n",
       "15  2020-03-17 00:00:00                172        38.0            1.0   \n",
       "16  2020-03-18 00:00:00                227        55.0            2.0   \n",
       "17  2020-03-19 00:00:00                309        82.0            4.0   \n",
       "18  2020-03-20 00:00:00                369        60.0            1.0   \n",
       "19  2020-03-21 00:00:00                450        81.0            4.0   \n",
       "20  2020-03-22 00:00:00                514        64.0            9.0   \n",
       "21  2020-03-23 00:00:00                579        65.0            1.0   \n",
       "22  2020-03-24 00:00:00                685       106.0            0.0   \n",
       "23  2020-03-25 00:00:00                790       105.0            1.0   \n",
       "24  2020-03-26 00:00:00                893       103.0            4.0   \n",
       "25  2020-03-27 00:00:00               1046       153.0           11.0   \n",
       "\n",
       "    Meninggal (baru)  \n",
       "0                0.0  \n",
       "1                0.0  \n",
       "2                0.0  \n",
       "3                0.0  \n",
       "4                0.0  \n",
       "5                0.0  \n",
       "6                0.0  \n",
       "7                0.0  \n",
       "8                0.0  \n",
       "9                2.0  \n",
       "10               2.0  \n",
       "11               0.0  \n",
       "12               1.0  \n",
       "13               0.0  \n",
       "14               0.0  \n",
       "15               2.0  \n",
       "16              12.0  \n",
       "17               6.0  \n",
       "18               7.0  \n",
       "19               6.0  \n",
       "20              10.0  \n",
       "21               1.0  \n",
       "22               6.0  \n",
       "23               3.0  \n",
       "24              20.0  \n",
       "25               9.0  "
      ]
     },
     "execution_count": 5,
     "metadata": {},
     "output_type": "execute_result"
    }
   ],
   "source": [
    "df_daily"
   ]
  },
  {
   "cell_type": "code",
   "execution_count": 6,
   "metadata": {},
   "outputs": [],
   "source": [
    "df_daily['Rec']=df_daily['Sembuh (baru)'].cumsum()\n",
    "df_daily['Dea']=df_daily['Meninggal (baru)'].cumsum()\n",
    "df_daily['Inf']=df_daily['Kasus (Kumulatif)']-df_daily['Rec']-df_daily['Dea']\n",
    "df_daily['Sus']=NUMB_OF_POPS-df_daily['Inf']-df_daily['Rec']-df_daily['Dea']"
   ]
  },
  {
   "cell_type": "code",
   "execution_count": 7,
   "metadata": {},
   "outputs": [],
   "source": [
    "col_use=['Sus','Inf','Rec','Dea']"
   ]
  },
  {
   "cell_type": "code",
   "execution_count": 8,
   "metadata": {},
   "outputs": [],
   "source": [
    "df_daily_sird=df_daily[col_use]/NUMB_OF_POPS"
   ]
  },
  {
   "cell_type": "code",
   "execution_count": 9,
   "metadata": {},
   "outputs": [
    {
     "data": {
      "text/html": [
       "<div>\n",
       "<style scoped>\n",
       "    .dataframe tbody tr th:only-of-type {\n",
       "        vertical-align: middle;\n",
       "    }\n",
       "\n",
       "    .dataframe tbody tr th {\n",
       "        vertical-align: top;\n",
       "    }\n",
       "\n",
       "    .dataframe thead th {\n",
       "        text-align: right;\n",
       "    }\n",
       "</style>\n",
       "<table border=\"1\" class=\"dataframe\">\n",
       "  <thead>\n",
       "    <tr style=\"text-align: right;\">\n",
       "      <th></th>\n",
       "      <th>Sus</th>\n",
       "      <th>Inf</th>\n",
       "      <th>Rec</th>\n",
       "      <th>Dea</th>\n",
       "    </tr>\n",
       "  </thead>\n",
       "  <tbody>\n",
       "    <tr>\n",
       "      <th>0</th>\n",
       "      <td>1.000000</td>\n",
       "      <td>1.000000e-08</td>\n",
       "      <td>0.000000e+00</td>\n",
       "      <td>0.000000e+00</td>\n",
       "    </tr>\n",
       "    <tr>\n",
       "      <th>1</th>\n",
       "      <td>1.000000</td>\n",
       "      <td>1.000000e-08</td>\n",
       "      <td>0.000000e+00</td>\n",
       "      <td>0.000000e+00</td>\n",
       "    </tr>\n",
       "    <tr>\n",
       "      <th>2</th>\n",
       "      <td>1.000000</td>\n",
       "      <td>1.000000e-08</td>\n",
       "      <td>0.000000e+00</td>\n",
       "      <td>0.000000e+00</td>\n",
       "    </tr>\n",
       "    <tr>\n",
       "      <th>3</th>\n",
       "      <td>1.000000</td>\n",
       "      <td>1.000000e-08</td>\n",
       "      <td>0.000000e+00</td>\n",
       "      <td>0.000000e+00</td>\n",
       "    </tr>\n",
       "    <tr>\n",
       "      <th>4</th>\n",
       "      <td>1.000000</td>\n",
       "      <td>2.000000e-08</td>\n",
       "      <td>0.000000e+00</td>\n",
       "      <td>0.000000e+00</td>\n",
       "    </tr>\n",
       "    <tr>\n",
       "      <th>5</th>\n",
       "      <td>1.000000</td>\n",
       "      <td>2.000000e-08</td>\n",
       "      <td>0.000000e+00</td>\n",
       "      <td>0.000000e+00</td>\n",
       "    </tr>\n",
       "    <tr>\n",
       "      <th>6</th>\n",
       "      <td>1.000000</td>\n",
       "      <td>3.000000e-08</td>\n",
       "      <td>0.000000e+00</td>\n",
       "      <td>0.000000e+00</td>\n",
       "    </tr>\n",
       "    <tr>\n",
       "      <th>7</th>\n",
       "      <td>1.000000</td>\n",
       "      <td>9.500000e-08</td>\n",
       "      <td>0.000000e+00</td>\n",
       "      <td>0.000000e+00</td>\n",
       "    </tr>\n",
       "    <tr>\n",
       "      <th>8</th>\n",
       "      <td>1.000000</td>\n",
       "      <td>1.350000e-07</td>\n",
       "      <td>0.000000e+00</td>\n",
       "      <td>0.000000e+00</td>\n",
       "    </tr>\n",
       "    <tr>\n",
       "      <th>9</th>\n",
       "      <td>1.000000</td>\n",
       "      <td>1.500000e-07</td>\n",
       "      <td>1.000000e-08</td>\n",
       "      <td>1.000000e-08</td>\n",
       "    </tr>\n",
       "    <tr>\n",
       "      <th>10</th>\n",
       "      <td>1.000000</td>\n",
       "      <td>1.350000e-07</td>\n",
       "      <td>1.500000e-08</td>\n",
       "      <td>2.000000e-08</td>\n",
       "    </tr>\n",
       "    <tr>\n",
       "      <th>11</th>\n",
       "      <td>1.000000</td>\n",
       "      <td>3.000000e-07</td>\n",
       "      <td>2.500000e-08</td>\n",
       "      <td>2.000000e-08</td>\n",
       "    </tr>\n",
       "    <tr>\n",
       "      <th>12</th>\n",
       "      <td>1.000000</td>\n",
       "      <td>4.150000e-07</td>\n",
       "      <td>4.000000e-08</td>\n",
       "      <td>2.500000e-08</td>\n",
       "    </tr>\n",
       "    <tr>\n",
       "      <th>13</th>\n",
       "      <td>0.999999</td>\n",
       "      <td>5.200000e-07</td>\n",
       "      <td>4.000000e-08</td>\n",
       "      <td>2.500000e-08</td>\n",
       "    </tr>\n",
       "    <tr>\n",
       "      <th>14</th>\n",
       "      <td>0.999999</td>\n",
       "      <td>6.050000e-07</td>\n",
       "      <td>4.000000e-08</td>\n",
       "      <td>2.500000e-08</td>\n",
       "    </tr>\n",
       "    <tr>\n",
       "      <th>15</th>\n",
       "      <td>0.999999</td>\n",
       "      <td>7.800000e-07</td>\n",
       "      <td>4.500000e-08</td>\n",
       "      <td>3.500000e-08</td>\n",
       "    </tr>\n",
       "    <tr>\n",
       "      <th>16</th>\n",
       "      <td>0.999999</td>\n",
       "      <td>9.850000e-07</td>\n",
       "      <td>5.500000e-08</td>\n",
       "      <td>9.500000e-08</td>\n",
       "    </tr>\n",
       "    <tr>\n",
       "      <th>17</th>\n",
       "      <td>0.999998</td>\n",
       "      <td>1.345000e-06</td>\n",
       "      <td>7.500000e-08</td>\n",
       "      <td>1.250000e-07</td>\n",
       "    </tr>\n",
       "    <tr>\n",
       "      <th>18</th>\n",
       "      <td>0.999998</td>\n",
       "      <td>1.605000e-06</td>\n",
       "      <td>8.000000e-08</td>\n",
       "      <td>1.600000e-07</td>\n",
       "    </tr>\n",
       "    <tr>\n",
       "      <th>19</th>\n",
       "      <td>0.999998</td>\n",
       "      <td>1.960000e-06</td>\n",
       "      <td>1.000000e-07</td>\n",
       "      <td>1.900000e-07</td>\n",
       "    </tr>\n",
       "    <tr>\n",
       "      <th>20</th>\n",
       "      <td>0.999997</td>\n",
       "      <td>2.185000e-06</td>\n",
       "      <td>1.450000e-07</td>\n",
       "      <td>2.400000e-07</td>\n",
       "    </tr>\n",
       "    <tr>\n",
       "      <th>21</th>\n",
       "      <td>0.999997</td>\n",
       "      <td>2.500000e-06</td>\n",
       "      <td>1.500000e-07</td>\n",
       "      <td>2.450000e-07</td>\n",
       "    </tr>\n",
       "    <tr>\n",
       "      <th>22</th>\n",
       "      <td>0.999997</td>\n",
       "      <td>3.000000e-06</td>\n",
       "      <td>1.500000e-07</td>\n",
       "      <td>2.750000e-07</td>\n",
       "    </tr>\n",
       "    <tr>\n",
       "      <th>23</th>\n",
       "      <td>0.999996</td>\n",
       "      <td>3.505000e-06</td>\n",
       "      <td>1.550000e-07</td>\n",
       "      <td>2.900000e-07</td>\n",
       "    </tr>\n",
       "    <tr>\n",
       "      <th>24</th>\n",
       "      <td>0.999996</td>\n",
       "      <td>3.900000e-06</td>\n",
       "      <td>1.750000e-07</td>\n",
       "      <td>3.900000e-07</td>\n",
       "    </tr>\n",
       "    <tr>\n",
       "      <th>25</th>\n",
       "      <td>0.999995</td>\n",
       "      <td>4.565000e-06</td>\n",
       "      <td>2.300000e-07</td>\n",
       "      <td>4.350000e-07</td>\n",
       "    </tr>\n",
       "  </tbody>\n",
       "</table>\n",
       "</div>"
      ],
      "text/plain": [
       "         Sus           Inf           Rec           Dea\n",
       "0   1.000000  1.000000e-08  0.000000e+00  0.000000e+00\n",
       "1   1.000000  1.000000e-08  0.000000e+00  0.000000e+00\n",
       "2   1.000000  1.000000e-08  0.000000e+00  0.000000e+00\n",
       "3   1.000000  1.000000e-08  0.000000e+00  0.000000e+00\n",
       "4   1.000000  2.000000e-08  0.000000e+00  0.000000e+00\n",
       "5   1.000000  2.000000e-08  0.000000e+00  0.000000e+00\n",
       "6   1.000000  3.000000e-08  0.000000e+00  0.000000e+00\n",
       "7   1.000000  9.500000e-08  0.000000e+00  0.000000e+00\n",
       "8   1.000000  1.350000e-07  0.000000e+00  0.000000e+00\n",
       "9   1.000000  1.500000e-07  1.000000e-08  1.000000e-08\n",
       "10  1.000000  1.350000e-07  1.500000e-08  2.000000e-08\n",
       "11  1.000000  3.000000e-07  2.500000e-08  2.000000e-08\n",
       "12  1.000000  4.150000e-07  4.000000e-08  2.500000e-08\n",
       "13  0.999999  5.200000e-07  4.000000e-08  2.500000e-08\n",
       "14  0.999999  6.050000e-07  4.000000e-08  2.500000e-08\n",
       "15  0.999999  7.800000e-07  4.500000e-08  3.500000e-08\n",
       "16  0.999999  9.850000e-07  5.500000e-08  9.500000e-08\n",
       "17  0.999998  1.345000e-06  7.500000e-08  1.250000e-07\n",
       "18  0.999998  1.605000e-06  8.000000e-08  1.600000e-07\n",
       "19  0.999998  1.960000e-06  1.000000e-07  1.900000e-07\n",
       "20  0.999997  2.185000e-06  1.450000e-07  2.400000e-07\n",
       "21  0.999997  2.500000e-06  1.500000e-07  2.450000e-07\n",
       "22  0.999997  3.000000e-06  1.500000e-07  2.750000e-07\n",
       "23  0.999996  3.505000e-06  1.550000e-07  2.900000e-07\n",
       "24  0.999996  3.900000e-06  1.750000e-07  3.900000e-07\n",
       "25  0.999995  4.565000e-06  2.300000e-07  4.350000e-07"
      ]
     },
     "execution_count": 9,
     "metadata": {},
     "output_type": "execute_result"
    }
   ],
   "source": [
    "df_daily_sird"
   ]
  },
  {
   "cell_type": "code",
   "execution_count": 10,
   "metadata": {},
   "outputs": [
    {
     "data": {
      "text/plain": [
       "<matplotlib.axes._subplots.AxesSubplot at 0x1c1e094f90>"
      ]
     },
     "execution_count": 10,
     "metadata": {},
     "output_type": "execute_result"
    },
    {
     "data": {
      "image/png": "[encoded data removed]",
      "text/plain": [
       "<Figure size 720x576 with 1 Axes>"
      ]
     },
     "metadata": {
      "needs_background": "light"
     },
     "output_type": "display_data"
    }
   ],
   "source": [
    "df_daily_sird[['Inf','Rec','Dea']].plot(figsize=(10,8))"
   ]
  },
  {
   "cell_type": "code",
   "execution_count": null,
   "metadata": {},
   "outputs": [],
   "source": []
  },
  {
   "cell_type": "code",
   "execution_count": null,
   "metadata": {},
   "outputs": [],
   "source": []
  },
  {
   "cell_type": "markdown",
   "metadata": {},
   "source": [
    "## Define SIRD Model"
   ]
  },
  {
   "cell_type": "markdown",
   "metadata": {},
   "source": [
    "![SIRD derivative funtion](../images/SIRD-Model.png)"
   ]
  },
  {
   "cell_type": "code",
   "execution_count": 11,
   "metadata": {},
   "outputs": [],
   "source": [
    "def sird_model_diff(VALUE_ON_T,t):  \n",
    "    '''The main set of equations'''\n",
    "    Y=np.zeros((4))\n",
    "    dS,dI,dR,dD = VALUE_ON_T  \n",
    "    Y[0] = - param_b * dS * dI\n",
    "    Y[1] = (param_b * dS * dI) - (param_r * dI) - (param_m * dI)\n",
    "    Y[2] = param_r * dI\n",
    "    Y[3] = param_m * dI\n",
    "    \n",
    "    return Y   # For odeint (ordinary differential equation)"
   ]
  },
  {
   "cell_type": "code",
   "execution_count": null,
   "metadata": {},
   "outputs": [],
   "source": []
  },
  {
   "cell_type": "markdown",
   "metadata": {},
   "source": [
    "## Determine the Parameter\n",
    "\n",
    "using simple linear regression"
   ]
  },
  {
   "cell_type": "code",
   "execution_count": 12,
   "metadata": {},
   "outputs": [
    {
     "data": {
      "text/html": [
       "<div>\n",
       "<style scoped>\n",
       "    .dataframe tbody tr th:only-of-type {\n",
       "        vertical-align: middle;\n",
       "    }\n",
       "\n",
       "    .dataframe tbody tr th {\n",
       "        vertical-align: top;\n",
       "    }\n",
       "\n",
       "    .dataframe thead th {\n",
       "        text-align: right;\n",
       "    }\n",
       "</style>\n",
       "<table border=\"1\" class=\"dataframe\">\n",
       "  <thead>\n",
       "    <tr style=\"text-align: right;\">\n",
       "      <th></th>\n",
       "      <th>Sus</th>\n",
       "      <th>Inf</th>\n",
       "      <th>Rec</th>\n",
       "      <th>Dea</th>\n",
       "    </tr>\n",
       "  </thead>\n",
       "  <tbody>\n",
       "    <tr>\n",
       "      <th>0</th>\n",
       "      <td>1.0</td>\n",
       "      <td>1.000000e-08</td>\n",
       "      <td>0.000000e+00</td>\n",
       "      <td>0.000000e+00</td>\n",
       "    </tr>\n",
       "    <tr>\n",
       "      <th>1</th>\n",
       "      <td>1.0</td>\n",
       "      <td>1.000000e-08</td>\n",
       "      <td>0.000000e+00</td>\n",
       "      <td>0.000000e+00</td>\n",
       "    </tr>\n",
       "    <tr>\n",
       "      <th>2</th>\n",
       "      <td>1.0</td>\n",
       "      <td>1.000000e-08</td>\n",
       "      <td>0.000000e+00</td>\n",
       "      <td>0.000000e+00</td>\n",
       "    </tr>\n",
       "    <tr>\n",
       "      <th>3</th>\n",
       "      <td>1.0</td>\n",
       "      <td>1.000000e-08</td>\n",
       "      <td>0.000000e+00</td>\n",
       "      <td>0.000000e+00</td>\n",
       "    </tr>\n",
       "    <tr>\n",
       "      <th>4</th>\n",
       "      <td>1.0</td>\n",
       "      <td>2.000000e-08</td>\n",
       "      <td>0.000000e+00</td>\n",
       "      <td>0.000000e+00</td>\n",
       "    </tr>\n",
       "    <tr>\n",
       "      <th>5</th>\n",
       "      <td>1.0</td>\n",
       "      <td>2.000000e-08</td>\n",
       "      <td>0.000000e+00</td>\n",
       "      <td>0.000000e+00</td>\n",
       "    </tr>\n",
       "    <tr>\n",
       "      <th>6</th>\n",
       "      <td>1.0</td>\n",
       "      <td>3.000000e-08</td>\n",
       "      <td>0.000000e+00</td>\n",
       "      <td>0.000000e+00</td>\n",
       "    </tr>\n",
       "    <tr>\n",
       "      <th>7</th>\n",
       "      <td>1.0</td>\n",
       "      <td>9.500000e-08</td>\n",
       "      <td>0.000000e+00</td>\n",
       "      <td>0.000000e+00</td>\n",
       "    </tr>\n",
       "    <tr>\n",
       "      <th>8</th>\n",
       "      <td>1.0</td>\n",
       "      <td>1.350000e-07</td>\n",
       "      <td>0.000000e+00</td>\n",
       "      <td>0.000000e+00</td>\n",
       "    </tr>\n",
       "    <tr>\n",
       "      <th>9</th>\n",
       "      <td>1.0</td>\n",
       "      <td>1.500000e-07</td>\n",
       "      <td>1.000000e-08</td>\n",
       "      <td>1.000000e-08</td>\n",
       "    </tr>\n",
       "  </tbody>\n",
       "</table>\n",
       "</div>"
      ],
      "text/plain": [
       "   Sus           Inf           Rec           Dea\n",
       "0  1.0  1.000000e-08  0.000000e+00  0.000000e+00\n",
       "1  1.0  1.000000e-08  0.000000e+00  0.000000e+00\n",
       "2  1.0  1.000000e-08  0.000000e+00  0.000000e+00\n",
       "3  1.0  1.000000e-08  0.000000e+00  0.000000e+00\n",
       "4  1.0  2.000000e-08  0.000000e+00  0.000000e+00\n",
       "5  1.0  2.000000e-08  0.000000e+00  0.000000e+00\n",
       "6  1.0  3.000000e-08  0.000000e+00  0.000000e+00\n",
       "7  1.0  9.500000e-08  0.000000e+00  0.000000e+00\n",
       "8  1.0  1.350000e-07  0.000000e+00  0.000000e+00\n",
       "9  1.0  1.500000e-07  1.000000e-08  1.000000e-08"
      ]
     },
     "execution_count": 12,
     "metadata": {},
     "output_type": "execute_result"
    }
   ],
   "source": [
    "df_daily_sird.head(10)"
   ]
  },
  {
   "cell_type": "code",
   "execution_count": 13,
   "metadata": {},
   "outputs": [],
   "source": [
    "for cc in col_use:\n",
    "    df_daily_sird[cc+'_before']=df_daily_sird[cc].shift(1)\n",
    "    df_daily_sird[cc+'_dt']=df_daily_sird[cc]-df_daily_sird[cc+'_before']"
   ]
  },
  {
   "cell_type": "code",
   "execution_count": 14,
   "metadata": {},
   "outputs": [],
   "source": [
    "# df_daily_sird"
   ]
  },
  {
   "cell_type": "code",
   "execution_count": 15,
   "metadata": {},
   "outputs": [],
   "source": [
    "col_use_t=['Sus_dt','Inf_dt','Rec_dt','Dea_dt']"
   ]
  },
  {
   "cell_type": "code",
   "execution_count": 16,
   "metadata": {},
   "outputs": [],
   "source": [
    "df_daily_sird2=df_daily_sird[col_use+col_use_t].dropna()"
   ]
  },
  {
   "cell_type": "code",
   "execution_count": null,
   "metadata": {},
   "outputs": [],
   "source": []
  },
  {
   "cell_type": "code",
   "execution_count": null,
   "metadata": {},
   "outputs": [],
   "source": []
  },
  {
   "cell_type": "code",
   "execution_count": 17,
   "metadata": {},
   "outputs": [
    {
     "data": {
      "text/plain": [
       "<matplotlib.axes._subplots.AxesSubplot at 0x1c1e3a1210>"
      ]
     },
     "execution_count": 17,
     "metadata": {},
     "output_type": "execute_result"
    },
    {
     "data": {
      "image/png": "[encoded data removed]",
      "text/plain": [
       "<Figure size 432x288 with 1 Axes>"
      ]
     },
     "metadata": {
      "needs_background": "light"
     },
     "output_type": "display_data"
    }
   ],
   "source": [
    "## param_b\n",
    "# Y[0] = - param_b * dS * dI\n",
    "df_daily_sird2['SI']=df_daily_sird2['Sus']*df_daily_sird2['Inf']\n",
    "sns.scatterplot(data=df_daily_sird2[['Sus_dt','SI']],x='SI',y='Sus_dt')"
   ]
  },
  {
   "cell_type": "code",
   "execution_count": 19,
   "metadata": {},
   "outputs": [
    {
     "data": {
      "text/html": [
       "<table class=\"simpletable\">\n",
       "<caption>GLS Regression Results</caption>\n",
       "<tr>\n",
       "  <th>Dep. Variable:</th>         <td>Sus_dt</td>      <th>  R-squared (uncentered):</th>      <td>   0.949</td>\n",
       "</tr>\n",
       "<tr>\n",
       "  <th>Model:</th>                   <td>GLS</td>       <th>  Adj. R-squared (uncentered):</th> <td>   0.947</td>\n",
       "</tr>\n",
       "<tr>\n",
       "  <th>Method:</th>             <td>Least Squares</td>  <th>  F-statistic:       </th>          <td>   445.4</td>\n",
       "</tr>\n",
       "<tr>\n",
       "  <th>Date:</th>             <td>Sat, 28 Mar 2020</td> <th>  Prob (F-statistic):</th>          <td>5.26e-17</td>\n",
       "</tr>\n",
       "<tr>\n",
       "  <th>Time:</th>                 <td>10:20:06</td>     <th>  Log-Likelihood:    </th>          <td>  377.33</td>\n",
       "</tr>\n",
       "<tr>\n",
       "  <th>No. Observations:</th>      <td>    25</td>      <th>  AIC:               </th>          <td>  -752.7</td>\n",
       "</tr>\n",
       "<tr>\n",
       "  <th>Df Residuals:</th>          <td>    24</td>      <th>  BIC:               </th>          <td>  -751.4</td>\n",
       "</tr>\n",
       "<tr>\n",
       "  <th>Df Model:</th>              <td>     1</td>      <th>                     </th>              <td> </td>   \n",
       "</tr>\n",
       "<tr>\n",
       "  <th>Covariance Type:</th>      <td>nonrobust</td>    <th>                     </th>              <td> </td>   \n",
       "</tr>\n",
       "</table>\n",
       "<table class=\"simpletable\">\n",
       "<tr>\n",
       "   <td></td>     <th>coef</th>     <th>std err</th>      <th>t</th>      <th>P>|t|</th>  <th>[0.025</th>    <th>0.975]</th>  \n",
       "</tr>\n",
       "<tr>\n",
       "  <th>SI</th> <td>   -0.1633</td> <td>    0.008</td> <td>  -21.105</td> <td> 0.000</td> <td>   -0.179</td> <td>   -0.147</td>\n",
       "</tr>\n",
       "</table>\n",
       "<table class=\"simpletable\">\n",
       "<tr>\n",
       "  <th>Omnibus:</th>       <td> 2.892</td> <th>  Durbin-Watson:     </th> <td>   1.216</td>\n",
       "</tr>\n",
       "<tr>\n",
       "  <th>Prob(Omnibus):</th> <td> 0.236</td> <th>  Jarque-Bera (JB):  </th> <td>   1.376</td>\n",
       "</tr>\n",
       "<tr>\n",
       "  <th>Skew:</th>          <td>-0.398</td> <th>  Prob(JB):          </th> <td>   0.502</td>\n",
       "</tr>\n",
       "<tr>\n",
       "  <th>Kurtosis:</th>      <td> 3.829</td> <th>  Cond. No.          </th> <td>    1.00</td>\n",
       "</tr>\n",
       "</table><br/><br/>Warnings:<br/>[1] Standard Errors assume that the covariance matrix of the errors is correctly specified.<br/>[2] The smallest eigenvalue is 7.91e-11. This might indicate that there are<br/>strong multicollinearity problems or that the design matrix is singular."
      ],
      "text/plain": [
       "<class 'statsmodels.iolib.summary.Summary'>\n",
       "\"\"\"\n",
       "                                 GLS Regression Results                                \n",
       "=======================================================================================\n",
       "Dep. Variable:                 Sus_dt   R-squared (uncentered):                   0.949\n",
       "Model:                            GLS   Adj. R-squared (uncentered):              0.947\n",
       "Method:                 Least Squares   F-statistic:                              445.4\n",
       "Date:                Sat, 28 Mar 2020   Prob (F-statistic):                    5.26e-17\n",
       "Time:                        10:20:06   Log-Likelihood:                          377.33\n",
       "No. Observations:                  25   AIC:                                     -752.7\n",
       "Df Residuals:                      24   BIC:                                     -751.4\n",
       "Df Model:                           1                                                  \n",
       "Covariance Type:            nonrobust                                                  \n",
       "==============================================================================\n",
       "                 coef    std err          t      P>|t|      [0.025      0.975]\n",
       "------------------------------------------------------------------------------\n",
       "SI            -0.1633      0.008    -21.105      0.000      -0.179      -0.147\n",
       "==============================================================================\n",
       "Omnibus:                        2.892   Durbin-Watson:                   1.216\n",
       "Prob(Omnibus):                  0.236   Jarque-Bera (JB):                1.376\n",
       "Skew:                          -0.398   Prob(JB):                        0.502\n",
       "Kurtosis:                       3.829   Cond. No.                         1.00\n",
       "==============================================================================\n",
       "\n",
       "Warnings:\n",
       "[1] Standard Errors assume that the covariance matrix of the errors is correctly specified.\n",
       "[2] The smallest eigenvalue is 7.91e-11. This might indicate that there are\n",
       "strong multicollinearity problems or that the design matrix is singular.\n",
       "\"\"\""
      ]
     },
     "execution_count": 19,
     "metadata": {},
     "output_type": "execute_result"
    }
   ],
   "source": [
    "param_b_df=df_daily_sird2[['Sus_dt','SI']]\n",
    "param_b_df=param_b_df.dropna()\n",
    "param_b_mod = sm.GLS(param_b_df['Sus_dt'],param_b_df['SI'])\n",
    "param_b_res = param_b_mod.fit()\n",
    "param_b_res.summary()"
   ]
  },
  {
   "cell_type": "code",
   "execution_count": 21,
   "metadata": {},
   "outputs": [],
   "source": [
    "b0=abs(param_b_res.params['SI'])\n",
    "range_param_b=param_b_res.conf_int(alpha=0.05, cols=None)\n",
    "range_param_b=range_param_b.values[0]\n",
    "param_b_max=abs(range_param_b[0])\n",
    "param_b_min=abs(range_param_b[1])\n",
    "param_b_pvalues=param_b_res.pvalues.values[0]"
   ]
  },
  {
   "cell_type": "code",
   "execution_count": null,
   "metadata": {},
   "outputs": [],
   "source": []
  },
  {
   "cell_type": "code",
   "execution_count": 22,
   "metadata": {},
   "outputs": [
    {
     "data": {
      "text/plain": [
       "<matplotlib.axes._subplots.AxesSubplot at 0x1c1fc44a10>"
      ]
     },
     "execution_count": 22,
     "metadata": {},
     "output_type": "execute_result"
    },
    {
     "data": {
      "image/png": "[encoded data removed]",
      "text/plain": [
       "<Figure size 432x288 with 1 Axes>"
      ]
     },
     "metadata": {
      "needs_background": "light"
     },
     "output_type": "display_data"
    }
   ],
   "source": [
    "## param_r\n",
    "# Y[2] = param_r * dI\n",
    "df_daily_sird2['days']=[i for i in range(len(df_daily_sird2))]\n",
    "df_daily_sird2['more_certain_days']=(df_daily_sird2['days']>3)\n",
    "sns.scatterplot(data=df_daily_sird2[['Rec_dt','Inf','more_certain_days']],x='Inf',y='Rec_dt',hue='more_certain_days')"
   ]
  },
  {
   "cell_type": "code",
   "execution_count": 23,
   "metadata": {},
   "outputs": [
    {
     "data": {
      "text/html": [
       "<table class=\"simpletable\">\n",
       "<caption>GLS Regression Results</caption>\n",
       "<tr>\n",
       "  <th>Dep. Variable:</th>         <td>Rec_dt</td>      <th>  R-squared (uncentered):</th>      <td>   0.568</td>\n",
       "</tr>\n",
       "<tr>\n",
       "  <th>Model:</th>                   <td>GLS</td>       <th>  Adj. R-squared (uncentered):</th> <td>   0.546</td>\n",
       "</tr>\n",
       "<tr>\n",
       "  <th>Method:</th>             <td>Least Squares</td>  <th>  F-statistic:       </th>          <td>   26.25</td>\n",
       "</tr>\n",
       "<tr>\n",
       "  <th>Date:</th>             <td>Sat, 28 Mar 2020</td> <th>  Prob (F-statistic):</th>          <td>5.17e-05</td>\n",
       "</tr>\n",
       "<tr>\n",
       "  <th>Time:</th>                 <td>10:20:36</td>     <th>  Log-Likelihood:    </th>          <td>  353.35</td>\n",
       "</tr>\n",
       "<tr>\n",
       "  <th>No. Observations:</th>      <td>    21</td>      <th>  AIC:               </th>          <td>  -704.7</td>\n",
       "</tr>\n",
       "<tr>\n",
       "  <th>Df Residuals:</th>          <td>    20</td>      <th>  BIC:               </th>          <td>  -703.7</td>\n",
       "</tr>\n",
       "<tr>\n",
       "  <th>Df Model:</th>              <td>     1</td>      <th>                     </th>              <td> </td>   \n",
       "</tr>\n",
       "<tr>\n",
       "  <th>Covariance Type:</th>      <td>nonrobust</td>    <th>                     </th>              <td> </td>   \n",
       "</tr>\n",
       "</table>\n",
       "<table class=\"simpletable\">\n",
       "<tr>\n",
       "   <td></td>      <th>coef</th>     <th>std err</th>      <th>t</th>      <th>P>|t|</th>  <th>[0.025</th>    <th>0.975]</th>  \n",
       "</tr>\n",
       "<tr>\n",
       "  <th>Inf</th> <td>    0.0070</td> <td>    0.001</td> <td>    5.124</td> <td> 0.000</td> <td>    0.004</td> <td>    0.010</td>\n",
       "</tr>\n",
       "</table>\n",
       "<table class=\"simpletable\">\n",
       "<tr>\n",
       "  <th>Omnibus:</th>       <td> 1.439</td> <th>  Durbin-Watson:     </th> <td>   1.474</td>\n",
       "</tr>\n",
       "<tr>\n",
       "  <th>Prob(Omnibus):</th> <td> 0.487</td> <th>  Jarque-Bera (JB):  </th> <td>   0.442</td>\n",
       "</tr>\n",
       "<tr>\n",
       "  <th>Skew:</th>          <td> 0.313</td> <th>  Prob(JB):          </th> <td>   0.802</td>\n",
       "</tr>\n",
       "<tr>\n",
       "  <th>Kurtosis:</th>      <td> 3.337</td> <th>  Cond. No.          </th> <td>    1.00</td>\n",
       "</tr>\n",
       "</table><br/><br/>Warnings:<br/>[1] Standard Errors assume that the covariance matrix of the errors is correctly specified.<br/>[2] The smallest eigenvalue is 7.91e-11. This might indicate that there are<br/>strong multicollinearity problems or that the design matrix is singular."
      ],
      "text/plain": [
       "<class 'statsmodels.iolib.summary.Summary'>\n",
       "\"\"\"\n",
       "                                 GLS Regression Results                                \n",
       "=======================================================================================\n",
       "Dep. Variable:                 Rec_dt   R-squared (uncentered):                   0.568\n",
       "Model:                            GLS   Adj. R-squared (uncentered):              0.546\n",
       "Method:                 Least Squares   F-statistic:                              26.25\n",
       "Date:                Sat, 28 Mar 2020   Prob (F-statistic):                    5.17e-05\n",
       "Time:                        10:20:36   Log-Likelihood:                          353.35\n",
       "No. Observations:                  21   AIC:                                     -704.7\n",
       "Df Residuals:                      20   BIC:                                     -703.7\n",
       "Df Model:                           1                                                  \n",
       "Covariance Type:            nonrobust                                                  \n",
       "==============================================================================\n",
       "                 coef    std err          t      P>|t|      [0.025      0.975]\n",
       "------------------------------------------------------------------------------\n",
       "Inf            0.0070      0.001      5.124      0.000       0.004       0.010\n",
       "==============================================================================\n",
       "Omnibus:                        1.439   Durbin-Watson:                   1.474\n",
       "Prob(Omnibus):                  0.487   Jarque-Bera (JB):                0.442\n",
       "Skew:                           0.313   Prob(JB):                        0.802\n",
       "Kurtosis:                       3.337   Cond. No.                         1.00\n",
       "==============================================================================\n",
       "\n",
       "Warnings:\n",
       "[1] Standard Errors assume that the covariance matrix of the errors is correctly specified.\n",
       "[2] The smallest eigenvalue is 7.91e-11. This might indicate that there are\n",
       "strong multicollinearity problems or that the design matrix is singular.\n",
       "\"\"\""
      ]
     },
     "execution_count": 23,
     "metadata": {},
     "output_type": "execute_result"
    }
   ],
   "source": [
    "param_r_df=df_daily_sird2[df_daily_sird2.more_certain_days][['Rec_dt','Inf']]\n",
    "param_r_mod = sm.GLS(param_r_df['Rec_dt'],param_r_df['Inf'])\n",
    "param_r_res = param_r_mod.fit()\n",
    "param_r_res.summary()"
   ]
  },
  {
   "cell_type": "code",
   "execution_count": 24,
   "metadata": {},
   "outputs": [],
   "source": [
    "r0=param_r_res.params['Inf']\n",
    "range_param_r=param_r_res.conf_int(alpha=0.05, cols=None)\n",
    "range_param_r=range_param_r.values[0]\n",
    "param_r_max=range_param_r[1]\n",
    "param_r_min=max(0,range_param_r[0])\n",
    "param_r_pvalues=param_r_res.pvalues.values[0]"
   ]
  },
  {
   "cell_type": "code",
   "execution_count": null,
   "metadata": {},
   "outputs": [],
   "source": []
  },
  {
   "cell_type": "code",
   "execution_count": 25,
   "metadata": {},
   "outputs": [
    {
     "data": {
      "text/plain": [
       "<matplotlib.axes._subplots.AxesSubplot at 0x1c20142350>"
      ]
     },
     "execution_count": 25,
     "metadata": {},
     "output_type": "execute_result"
    },
    {
     "data": {
      "image/png": "[encoded data removed]",
      "text/plain": [
       "<Figure size 432x288 with 1 Axes>"
      ]
     },
     "metadata": {
      "needs_background": "light"
     },
     "output_type": "display_data"
    }
   ],
   "source": [
    "## param_m\n",
    "# Y[3] = param_m * dI\n",
    "sns.scatterplot(data=df_daily_sird2[['Dea_dt','Inf','more_certain_days']],x='Inf',y='Dea_dt',hue='more_certain_days')"
   ]
  },
  {
   "cell_type": "code",
   "execution_count": 26,
   "metadata": {},
   "outputs": [
    {
     "data": {
      "text/html": [
       "<table class=\"simpletable\">\n",
       "<caption>GLS Regression Results</caption>\n",
       "<tr>\n",
       "  <th>Dep. Variable:</th>         <td>Dea_dt</td>      <th>  R-squared (uncentered):</th>      <td>   0.660</td>\n",
       "</tr>\n",
       "<tr>\n",
       "  <th>Model:</th>                   <td>GLS</td>       <th>  Adj. R-squared (uncentered):</th> <td>   0.643</td>\n",
       "</tr>\n",
       "<tr>\n",
       "  <th>Method:</th>             <td>Least Squares</td>  <th>  F-statistic:       </th>          <td>   38.80</td>\n",
       "</tr>\n",
       "<tr>\n",
       "  <th>Date:</th>             <td>Sat, 28 Mar 2020</td> <th>  Prob (F-statistic):</th>          <td>4.40e-06</td>\n",
       "</tr>\n",
       "<tr>\n",
       "  <th>Time:</th>                 <td>10:20:44</td>     <th>  Log-Likelihood:    </th>          <td>  343.40</td>\n",
       "</tr>\n",
       "<tr>\n",
       "  <th>No. Observations:</th>      <td>    21</td>      <th>  AIC:               </th>          <td>  -684.8</td>\n",
       "</tr>\n",
       "<tr>\n",
       "  <th>Df Residuals:</th>          <td>    20</td>      <th>  BIC:               </th>          <td>  -683.8</td>\n",
       "</tr>\n",
       "<tr>\n",
       "  <th>Df Model:</th>              <td>     1</td>      <th>                     </th>              <td> </td>   \n",
       "</tr>\n",
       "<tr>\n",
       "  <th>Covariance Type:</th>      <td>nonrobust</td>    <th>                     </th>              <td> </td>   \n",
       "</tr>\n",
       "</table>\n",
       "<table class=\"simpletable\">\n",
       "<tr>\n",
       "   <td></td>      <th>coef</th>     <th>std err</th>      <th>t</th>      <th>P>|t|</th>  <th>[0.025</th>    <th>0.975]</th>  \n",
       "</tr>\n",
       "<tr>\n",
       "  <th>Inf</th> <td>    0.0137</td> <td>    0.002</td> <td>    6.229</td> <td> 0.000</td> <td>    0.009</td> <td>    0.018</td>\n",
       "</tr>\n",
       "</table>\n",
       "<table class=\"simpletable\">\n",
       "<tr>\n",
       "  <th>Omnibus:</th>       <td> 4.314</td> <th>  Durbin-Watson:     </th> <td>   2.323</td>\n",
       "</tr>\n",
       "<tr>\n",
       "  <th>Prob(Omnibus):</th> <td> 0.116</td> <th>  Jarque-Bera (JB):  </th> <td>   2.291</td>\n",
       "</tr>\n",
       "<tr>\n",
       "  <th>Skew:</th>          <td> 0.686</td> <th>  Prob(JB):          </th> <td>   0.318</td>\n",
       "</tr>\n",
       "<tr>\n",
       "  <th>Kurtosis:</th>      <td> 3.857</td> <th>  Cond. No.          </th> <td>    1.00</td>\n",
       "</tr>\n",
       "</table><br/><br/>Warnings:<br/>[1] Standard Errors assume that the covariance matrix of the errors is correctly specified.<br/>[2] The smallest eigenvalue is 7.91e-11. This might indicate that there are<br/>strong multicollinearity problems or that the design matrix is singular."
      ],
      "text/plain": [
       "<class 'statsmodels.iolib.summary.Summary'>\n",
       "\"\"\"\n",
       "                                 GLS Regression Results                                \n",
       "=======================================================================================\n",
       "Dep. Variable:                 Dea_dt   R-squared (uncentered):                   0.660\n",
       "Model:                            GLS   Adj. R-squared (uncentered):              0.643\n",
       "Method:                 Least Squares   F-statistic:                              38.80\n",
       "Date:                Sat, 28 Mar 2020   Prob (F-statistic):                    4.40e-06\n",
       "Time:                        10:20:44   Log-Likelihood:                          343.40\n",
       "No. Observations:                  21   AIC:                                     -684.8\n",
       "Df Residuals:                      20   BIC:                                     -683.8\n",
       "Df Model:                           1                                                  \n",
       "Covariance Type:            nonrobust                                                  \n",
       "==============================================================================\n",
       "                 coef    std err          t      P>|t|      [0.025      0.975]\n",
       "------------------------------------------------------------------------------\n",
       "Inf            0.0137      0.002      6.229      0.000       0.009       0.018\n",
       "==============================================================================\n",
       "Omnibus:                        4.314   Durbin-Watson:                   2.323\n",
       "Prob(Omnibus):                  0.116   Jarque-Bera (JB):                2.291\n",
       "Skew:                           0.686   Prob(JB):                        0.318\n",
       "Kurtosis:                       3.857   Cond. No.                         1.00\n",
       "==============================================================================\n",
       "\n",
       "Warnings:\n",
       "[1] Standard Errors assume that the covariance matrix of the errors is correctly specified.\n",
       "[2] The smallest eigenvalue is 7.91e-11. This might indicate that there are\n",
       "strong multicollinearity problems or that the design matrix is singular.\n",
       "\"\"\""
      ]
     },
     "execution_count": 26,
     "metadata": {},
     "output_type": "execute_result"
    }
   ],
   "source": [
    "param_m_df=df_daily_sird2[df_daily_sird2.more_certain_days][['Dea_dt','Inf']]\n",
    "param_m_mod = sm.GLS(param_m_df['Dea_dt'],param_m_df['Inf'])\n",
    "param_m_res = param_m_mod.fit()\n",
    "param_m_res.summary()"
   ]
  },
  {
   "cell_type": "code",
   "execution_count": null,
   "metadata": {},
   "outputs": [],
   "source": []
  },
  {
   "cell_type": "code",
   "execution_count": 27,
   "metadata": {},
   "outputs": [],
   "source": [
    "m0=param_m_res.params['Inf']\n",
    "range_param_m=param_m_res.conf_int(alpha=0.05, cols=None)\n",
    "range_param_m=range_param_m.values[0]\n",
    "param_m_max=range_param_m[1]\n",
    "param_m_min=max(0,range_param_m[0])\n",
    "param_m_pvalues=param_m_res.pvalues.values[0]"
   ]
  },
  {
   "cell_type": "code",
   "execution_count": 28,
   "metadata": {},
   "outputs": [
    {
     "data": {
      "text/plain": [
       "array([0.00417104, 0.00989918])"
      ]
     },
     "execution_count": 28,
     "metadata": {},
     "output_type": "execute_result"
    }
   ],
   "source": [
    "range_param_r"
   ]
  },
  {
   "cell_type": "code",
   "execution_count": 29,
   "metadata": {},
   "outputs": [
    {
     "data": {
      "text/plain": [
       "array([0.00913541, 0.01833526])"
      ]
     },
     "execution_count": 29,
     "metadata": {},
     "output_type": "execute_result"
    }
   ],
   "source": [
    "range_param_m"
   ]
  },
  {
   "cell_type": "code",
   "execution_count": 30,
   "metadata": {},
   "outputs": [
    {
     "data": {
      "text/plain": [
       "array([-0.17924109, -0.14730797])"
      ]
     },
     "execution_count": 30,
     "metadata": {},
     "output_type": "execute_result"
    }
   ],
   "source": [
    "range_param_b"
   ]
  },
  {
   "cell_type": "code",
   "execution_count": null,
   "metadata": {},
   "outputs": [],
   "source": []
  },
  {
   "cell_type": "code",
   "execution_count": 32,
   "metadata": {},
   "outputs": [],
   "source": [
    "def targ_func(param_b,param_r,param_m,df=df_daily_sird2):\n",
    "    N=1000000\n",
    "    true_Sdt=df['Sus_dt']*N\n",
    "    true_Idt=df['Inf_dt']*N\n",
    "    \n",
    "    pred_Sdt=(-param_b*df['Sus']*df['Inf'])*N\n",
    "    pred_Rdt=(param_r*df['Inf'])*N\n",
    "    pred_Ddt=(param_m*df['Dea'])*N\n",
    "    pred_Idt=((param_b*df['Sus']*df['Inf'])*N)-pred_Rdt-pred_Ddt\n",
    "    \n",
    "    e1=((true_Sdt-pred_Sdt)**2).sum()*0.85\n",
    "    e2=((true_Idt-pred_Idt)**2).sum()*0.15\n",
    "    \n",
    "    return -(e1+e2)\n"
   ]
  },
  {
   "cell_type": "code",
   "execution_count": null,
   "metadata": {},
   "outputs": [],
   "source": []
  },
  {
   "cell_type": "code",
   "execution_count": 135,
   "metadata": {},
   "outputs": [],
   "source": [
    "# Opt_Targ = BayesianOptimization(targ_func, {'param_b': (0.14730797, 0.17924109),'param_r': (0.00417104, 0.00989918),'param_m': (0.00913541, 0.01833526)})\n",
    "Opt_Targ = BayesianOptimization(targ_func, {'param_b': (0.26, 0.29),'param_r': (0.00417104, 0.00989918),'param_m': (0.00913541, 0.01833526)})"
   ]
  },
  {
   "cell_type": "code",
   "execution_count": 136,
   "metadata": {},
   "outputs": [],
   "source": [
    "## v1\n",
    "# |   iter    |  target   |  param_b  |  param_m  |  param_r  |\n",
    "# -------------------------------------------------------------\n",
    "# |  53       | -0.4165   |  0.1754   |  0.01455  |  0.007979 |\n",
    "# |  135      | -0.1393   |  0.1626   |  0.01896  |  0.01029  |"
   ]
  },
  {
   "cell_type": "code",
   "execution_count": null,
   "metadata": {},
   "outputs": [
    {
     "name": "stdout",
     "output_type": "stream",
     "text": [
      "|   iter    |  target   |  param_b  |  param_m  |  param_r  |\n",
      "-------------------------------------------------------------\n",
      "| \u001b[0m 1       \u001b[0m | \u001b[0m-1.383   \u001b[0m | \u001b[0m 0.2884  \u001b[0m | \u001b[0m 0.009659\u001b[0m | \u001b[0m 0.009674\u001b[0m |\n",
      "| \u001b[95m 2       \u001b[0m | \u001b[95m-1.088   \u001b[0m | \u001b[95m 0.2719  \u001b[0m | \u001b[95m 0.01645 \u001b[0m | \u001b[95m 0.004358\u001b[0m |\n",
      "| \u001b[95m 3       \u001b[0m | \u001b[95m-1.06    \u001b[0m | \u001b[95m 0.2703  \u001b[0m | \u001b[95m 0.01004 \u001b[0m | \u001b[95m 0.004763\u001b[0m |\n",
      "| \u001b[95m 4       \u001b[0m | \u001b[95m-1.012   \u001b[0m | \u001b[95m 0.2675  \u001b[0m | \u001b[95m 0.01499 \u001b[0m | \u001b[95m 0.00429 \u001b[0m |\n",
      "| \u001b[0m 5       \u001b[0m | \u001b[0m-1.276   \u001b[0m | \u001b[0m 0.2821  \u001b[0m | \u001b[0m 0.0109  \u001b[0m | \u001b[0m 0.004457\u001b[0m |\n",
      "| \u001b[0m 6       \u001b[0m | \u001b[0m-1.397   \u001b[0m | \u001b[0m 0.2892  \u001b[0m | \u001b[0m 0.01682 \u001b[0m | \u001b[0m 0.009894\u001b[0m |\n",
      "| \u001b[95m 7       \u001b[0m | \u001b[95m-0.9812  \u001b[0m | \u001b[95m 0.2658  \u001b[0m | \u001b[95m 0.01199 \u001b[0m | \u001b[95m 0.005813\u001b[0m |\n",
      "| \u001b[0m 8       \u001b[0m | \u001b[0m-0.9882  \u001b[0m | \u001b[0m 0.2663  \u001b[0m | \u001b[0m 0.01201 \u001b[0m | \u001b[0m 0.005959\u001b[0m |\n",
      "| \u001b[95m 9       \u001b[0m | \u001b[95m-0.8999  \u001b[0m | \u001b[95m 0.2611  \u001b[0m | \u001b[95m 0.0176  \u001b[0m | \u001b[95m 0.007013\u001b[0m |\n",
      "| \u001b[0m 10      \u001b[0m | \u001b[0m-1.104   \u001b[0m | \u001b[0m 0.2728  \u001b[0m | \u001b[0m 0.01246 \u001b[0m | \u001b[0m 0.004321\u001b[0m |\n",
      "| \u001b[0m 11      \u001b[0m | \u001b[0m-1.374   \u001b[0m | \u001b[0m 0.2878  \u001b[0m | \u001b[0m 0.01695 \u001b[0m | \u001b[0m 0.007765\u001b[0m |\n",
      "| \u001b[0m 12      \u001b[0m | \u001b[0m-1.397   \u001b[0m | \u001b[0m 0.2889  \u001b[0m | \u001b[0m 0.01449 \u001b[0m | \u001b[0m 0.007779\u001b[0m |\n",
      "| \u001b[0m 13      \u001b[0m | \u001b[0m-1.123   \u001b[0m | \u001b[0m 0.274   \u001b[0m | \u001b[0m 0.01171 \u001b[0m | \u001b[0m 0.005248\u001b[0m |\n",
      "| \u001b[0m 14      \u001b[0m | \u001b[0m-1.243   \u001b[0m | \u001b[0m 0.2811  \u001b[0m | \u001b[0m 0.00989 \u001b[0m | \u001b[0m 0.009312\u001b[0m |\n",
      "| \u001b[0m 15      \u001b[0m | \u001b[0m-1.259   \u001b[0m | \u001b[0m 0.2819  \u001b[0m | \u001b[0m 0.01046 \u001b[0m | \u001b[0m 0.008689\u001b[0m |\n",
      "| \u001b[0m 16      \u001b[0m | \u001b[0m-1.201   \u001b[0m | \u001b[0m 0.2787  \u001b[0m | \u001b[0m 0.01235 \u001b[0m | \u001b[0m 0.007562\u001b[0m |\n",
      "| \u001b[0m 17      \u001b[0m | \u001b[0m-1.209   \u001b[0m | \u001b[0m 0.2794  \u001b[0m | \u001b[0m 0.0155  \u001b[0m | \u001b[0m 0.008941\u001b[0m |\n",
      "| \u001b[0m 18      \u001b[0m | \u001b[0m-1.145   \u001b[0m | \u001b[0m 0.276   \u001b[0m | \u001b[0m 0.01675 \u001b[0m | \u001b[0m 0.009843\u001b[0m |\n",
      "| \u001b[0m 19      \u001b[0m | \u001b[0m-1.235   \u001b[0m | \u001b[0m 0.2803  \u001b[0m | \u001b[0m 0.01555 \u001b[0m | \u001b[0m 0.006475\u001b[0m |\n",
      "| \u001b[0m 20      \u001b[0m | \u001b[0m-1.309   \u001b[0m | \u001b[0m 0.2847  \u001b[0m | \u001b[0m 0.009142\u001b[0m | \u001b[0m 0.009888\u001b[0m |\n",
      "| \u001b[0m 21      \u001b[0m | \u001b[0m-1.118   \u001b[0m | \u001b[0m 0.2742  \u001b[0m | \u001b[0m 0.0127  \u001b[0m | \u001b[0m 0.008069\u001b[0m |\n",
      "| \u001b[0m 22      \u001b[0m | \u001b[0m-1.096   \u001b[0m | \u001b[0m 0.2728  \u001b[0m | \u001b[0m 0.01389 \u001b[0m | \u001b[0m 0.007058\u001b[0m |\n",
      "| \u001b[0m 23      \u001b[0m | \u001b[0m-1.208   \u001b[0m | \u001b[0m 0.2787  \u001b[0m | \u001b[0m 0.01833 \u001b[0m | \u001b[0m 0.005053\u001b[0m |\n",
      "| \u001b[0m 24      \u001b[0m | \u001b[0m-1.066   \u001b[0m | \u001b[0m 0.271   \u001b[0m | \u001b[0m 0.01323 \u001b[0m | \u001b[0m 0.006811\u001b[0m |\n",
      "| \u001b[95m 25      \u001b[0m | \u001b[95m-0.8944  \u001b[0m | \u001b[95m 0.2603  \u001b[0m | \u001b[95m 0.01023 \u001b[0m | \u001b[95m 0.005048\u001b[0m |\n",
      "| \u001b[0m 26      \u001b[0m | \u001b[0m-1.366   \u001b[0m | \u001b[0m 0.2873  \u001b[0m | \u001b[0m 0.01487 \u001b[0m | \u001b[0m 0.007677\u001b[0m |\n",
      "| \u001b[0m 27      \u001b[0m | \u001b[0m-1.337   \u001b[0m | \u001b[0m 0.2853  \u001b[0m | \u001b[0m 0.0096  \u001b[0m | \u001b[0m 0.004932\u001b[0m |\n",
      "| \u001b[0m 28      \u001b[0m | \u001b[0m-1.255   \u001b[0m | \u001b[0m 0.2814  \u001b[0m | \u001b[0m 0.01529 \u001b[0m | \u001b[0m 0.006408\u001b[0m |\n",
      "| \u001b[0m 29      \u001b[0m | \u001b[0m-1.35    \u001b[0m | \u001b[0m 0.2869  \u001b[0m | \u001b[0m 0.01803 \u001b[0m | \u001b[0m 0.00986 \u001b[0m |\n",
      "| \u001b[0m 30      \u001b[0m | \u001b[0m-1.254   \u001b[0m | \u001b[0m 0.2812  \u001b[0m | \u001b[0m 0.01473 \u001b[0m | \u001b[0m 0.00534 \u001b[0m |\n",
      "| \u001b[95m 31      \u001b[0m | \u001b[95m-0.8772  \u001b[0m | \u001b[95m 0.26    \u001b[0m | \u001b[95m 0.009135\u001b[0m | \u001b[95m 0.009899\u001b[0m |\n",
      "| \u001b[95m 32      \u001b[0m | \u001b[95m-0.875   \u001b[0m | \u001b[95m 0.26    \u001b[0m | \u001b[95m 0.01834 \u001b[0m | \u001b[95m 0.009899\u001b[0m |\n",
      "| \u001b[95m 33      \u001b[0m | \u001b[95m-0.875   \u001b[0m | \u001b[95m 0.26    \u001b[0m | \u001b[95m 0.01834 \u001b[0m | \u001b[95m 0.009899\u001b[0m |\n",
      "| \u001b[0m 34      \u001b[0m | \u001b[0m-0.8755  \u001b[0m | \u001b[0m 0.26    \u001b[0m | \u001b[0m 0.01703 \u001b[0m | \u001b[0m 0.009884\u001b[0m |\n",
      "| \u001b[0m 35      \u001b[0m | \u001b[0m-0.8753  \u001b[0m | \u001b[0m 0.26    \u001b[0m | \u001b[0m 0.01736 \u001b[0m | \u001b[0m 0.009879\u001b[0m |\n",
      "| \u001b[0m 36      \u001b[0m | \u001b[0m-0.875   \u001b[0m | \u001b[0m 0.26    \u001b[0m | \u001b[0m 0.01834 \u001b[0m | \u001b[0m 0.009899\u001b[0m |\n",
      "| \u001b[95m 37      \u001b[0m | \u001b[95m-0.875   \u001b[0m | \u001b[95m 0.26    \u001b[0m | \u001b[95m 0.01834 \u001b[0m | \u001b[95m 0.009899\u001b[0m |\n"
     ]
    }
   ],
   "source": [
    "Opt_Targ.maximize(init_points=30, n_iter=20)"
   ]
  },
  {
   "cell_type": "code",
   "execution_count": 37,
   "metadata": {},
   "outputs": [
    {
     "data": {
      "text/plain": [
       "(0.16327453097814512, 0.007035109518407132, 0.013735334175600345)"
      ]
     },
     "execution_count": 37,
     "metadata": {},
     "output_type": "execute_result"
    }
   ],
   "source": [
    "b0,r0,m0"
   ]
  },
  {
   "cell_type": "code",
   "execution_count": 129,
   "metadata": {},
   "outputs": [],
   "source": [
    "# param_bo=0.1928\n",
    "# param_ro=0.006604\n",
    "# param_mo=0.4942\n",
    "\n",
    "# param_bo=0.1784 \n",
    "# param_ro=0.00655\n",
    "# param_mo=0.1654\n",
    "\n",
    "param_bo=0.1621 \n",
    "param_ro=0.009834\n",
    "param_mo=0.01832\n",
    "\n",
    "param_bo=0.28\n",
    "param_ro=0.009834\n",
    "param_mo=0.01832"
   ]
  },
  {
   "cell_type": "markdown",
   "metadata": {},
   "source": [
    "## Running SIRD Model"
   ]
  },
  {
   "cell_type": "code",
   "execution_count": 130,
   "metadata": {},
   "outputs": [],
   "source": [
    "def sird_model_diff(VALUE_ON_T,t):  \n",
    "    '''The main set of equations'''\n",
    "    Y=np.zeros((4))\n",
    "    dS,dI,dR,dD = VALUE_ON_T  \n",
    "    Y[0] = - param_bo * dS * dI\n",
    "    Y[1] = (param_bo * dS * dI) - (param_ro * dI) - (param_mo * dI)\n",
    "    Y[2] = param_ro * dI\n",
    "    Y[3] = param_mo * dI\n",
    "    \n",
    "    return Y   # For odeint"
   ]
  },
  {
   "cell_type": "code",
   "execution_count": 131,
   "metadata": {},
   "outputs": [],
   "source": [
    "T_start = 0.0\n",
    "T_inc=1.0\n",
    "T_end=30*4\n",
    "I0=2/NUMB_OF_POPS\n",
    "S0=1-I0\n",
    "INPUT = (S0, I0, 0.0, 0.0)\n",
    "\n",
    "T_range = np.arange(T_start, T_end+T_inc, T_inc)\n",
    "RES = spi.odeint(sird_model_diff,INPUT,T_range)"
   ]
  },
  {
   "cell_type": "code",
   "execution_count": 132,
   "metadata": {},
   "outputs": [],
   "source": [
    "df_sird_pred=pd.DataFrame(RES,columns=['Sus','Inf','Rec','Dea'])"
   ]
  },
  {
   "cell_type": "code",
   "execution_count": null,
   "metadata": {},
   "outputs": [],
   "source": []
  },
  {
   "cell_type": "code",
   "execution_count": 133,
   "metadata": {},
   "outputs": [
    {
     "data": {
      "text/plain": [
       "<matplotlib.axes._subplots.AxesSubplot at 0x1c22dadb10>"
      ]
     },
     "execution_count": 133,
     "metadata": {},
     "output_type": "execute_result"
    },
    {
     "data": {
      "image/png": "[encoded data removed]",
      "text/plain": [
       "<Figure size 432x288 with 1 Axes>"
      ]
     },
     "metadata": {
      "needs_background": "light"
     },
     "output_type": "display_data"
    }
   ],
   "source": [
    "check_col='Sus'\n",
    "col_use_pred=[x+'_pred' for x in col_use]\n",
    "df_daily_sird2[col_use_pred]=df_sird_pred[1:len(df_daily_sird2)+1]\n",
    "df_daily_sird2[[check_col,check_col+'_pred']].plot()"
   ]
  },
  {
   "cell_type": "code",
   "execution_count": 134,
   "metadata": {},
   "outputs": [
    {
     "data": {
      "text/plain": [
       "<matplotlib.axes._subplots.AxesSubplot at 0x1c22e74d10>"
      ]
     },
     "execution_count": 134,
     "metadata": {},
     "output_type": "execute_result"
    },
    {
     "data": {
      "image/png": "[encoded data removed]",
      "text/plain": [
       "<Figure size 432x288 with 1 Axes>"
      ]
     },
     "metadata": {
      "needs_background": "light"
     },
     "output_type": "display_data"
    }
   ],
   "source": [
    "df_sird_pred[['Inf','Rec','Dea']].plot()\n",
    "# df_sird_pred.plot(figsize=(10,8))"
   ]
  },
  {
   "cell_type": "code",
   "execution_count": 48,
   "metadata": {},
   "outputs": [],
   "source": [
    "# df_sird_pred"
   ]
  },
  {
   "cell_type": "code",
   "execution_count": 77,
   "metadata": {},
   "outputs": [],
   "source": [
    "# pd.DataFrame(RES,columns=['Sus','Inf','Rec','Dea'])"
   ]
  },
  {
   "cell_type": "code",
   "execution_count": null,
   "metadata": {},
   "outputs": [],
   "source": []
  },
  {
   "cell_type": "markdown",
   "metadata": {},
   "source": [
    "## Reference\n",
    "    \n",
    "    Data : https://kawalcovid19.blob.core.windows.net/viz/statistik_harian.html\n",
    "    \n",
    "    Source Script : http://epirecip.es/epicookbook/chapters/kr08/2_1/python_original\n",
    "    \n",
    "    Image 1 : https://www.researchgate.net/figure/Scheme-of-Susceptible-Infectious-Recovered-Death-SIRD-Model-Boxes-represent_fig1_41507287\n",
    "    \n",
    "    Image 2 : https://www.chegg.com/homework-help/questions-and-answers/codes-problem-code-1-function-siddeterm-simulation-deterministic-sird-model-using-differen-q21316613"
   ]
  },
  {
   "cell_type": "code",
   "execution_count": null,
   "metadata": {},
   "outputs": [],
   "source": []
  },
  {
   "cell_type": "code",
   "execution_count": null,
   "metadata": {},
   "outputs": [],
   "source": []
  }
 ],
 "metadata": {
  "kernelspec": {
   "display_name": "py37_env",
   "language": "python",
   "name": "myenv"
  },
  "language_info": {
   "codemirror_mode": {
    "name": "ipython",
    "version": 3
   },
   "file_extension": ".py",
   "mimetype": "text/x-python",
   "name": "python",
   "nbconvert_exporter": "python",
   "pygments_lexer": "ipython3",
   "version": "3.7.6"
  }
 },
 "nbformat": 4,
 "nbformat_minor": 4
}
