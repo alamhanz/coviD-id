{
 "cells": [
  {
   "cell_type": "markdown",
   "metadata": {},
   "source": [
    "# SIRD Model\n",
    "\n",
    "Basic SIRD model for Indonesia Covid \n",
    "(data until 20200330) using PSO optimization"
   ]
  },
  {
   "cell_type": "markdown",
   "metadata": {},
   "source": [
    "![SIRD](../images/Scheme-of-Susceptible-Infectious-Recovered-Death-SIRD-Model-Boxes-represent.png)"
   ]
  },
  {
   "cell_type": "code",
   "execution_count": 1,
   "metadata": {},
   "outputs": [],
   "source": [
    "PATH_DATA = '../data/raw/'\n",
    "PATH_DATA_INTERIM = '../data/interim/'\n",
    "PATH_SRC='../src/'\n",
    "PATH_IMG='../images/'"
   ]
  },
  {
   "cell_type": "code",
   "execution_count": 2,
   "metadata": {},
   "outputs": [],
   "source": [
    "import ipywidgets as widgets\n",
    "from ipywidgets import interact, interact_manual"
   ]
  },
  {
   "cell_type": "code",
   "execution_count": 3,
   "metadata": {},
   "outputs": [],
   "source": [
    "import pandas as pd\n",
    "import scipy.integrate as spi\n",
    "import numpy as np\n",
    "import seaborn as sns\n",
    "from sklearn.linear_model import LinearRegression\n",
    "import statsmodels.api as sm\n",
    "import matplotlib.pyplot as plt\n",
    "import datetime as dt\n",
    "import pyswarms as ps\n",
    "import sys\n",
    "\n",
    "sys.path.insert(1, PATH_SRC)\n",
    "from covid_model import sird_model, pso_sird"
   ]
  },
  {
   "cell_type": "code",
   "execution_count": 4,
   "metadata": {},
   "outputs": [],
   "source": [
    "## Assumption\n",
    "NUMB_OF_POPS=200000000\n",
    "CURR_DATE='20200330'"
   ]
  },
  {
   "cell_type": "code",
   "execution_count": null,
   "metadata": {},
   "outputs": [],
   "source": []
  },
  {
   "cell_type": "markdown",
   "metadata": {},
   "source": [
    "## Get The Data\n",
    "\n",
    "Getting the data and do the summary"
   ]
  },
  {
   "cell_type": "code",
   "execution_count": 5,
   "metadata": {},
   "outputs": [],
   "source": [
    "col_use=['Sus','Inf','Rec','Dea']\n",
    "col_use_pred=[x+'_pred' for x in col_use]"
   ]
  },
  {
   "cell_type": "code",
   "execution_count": 6,
   "metadata": {},
   "outputs": [],
   "source": [
    "## Get The Raw Data\n",
    "df_daily=pd.read_csv(PATH_DATA+CURR_DATE+'_DailyCase_ID.csv')\n",
    "df_daily=df_daily.fillna(0)\n",
    "\n",
    "## Get the compartment value\n",
    "df_daily['Rec']=df_daily['Sembuh (baru)'].cumsum()\n",
    "df_daily['Dea']=df_daily['Meninggal (baru)'].cumsum()\n",
    "df_daily['Inf']=df_daily['Kasus (Kumulatif)']-df_daily['Rec']-df_daily['Dea']\n",
    "df_daily['Sus']=NUMB_OF_POPS-df_daily['Inf']-df_daily['Rec']-df_daily['Dea']\n",
    "df_daily.to_csv(PATH_DATA_INTERIM+CURR_DATE+'_DailyCase_ID_SIRD.csv',index=False)\n",
    "\n",
    "## Standardized it by divide it by population number\n",
    "df_daily_sird=df_daily[col_use]/NUMB_OF_POPS\n",
    "df_daily_sird['weight']=2"
   ]
  },
  {
   "cell_type": "code",
   "execution_count": 9,
   "metadata": {},
   "outputs": [
    {
     "data": {
      "text/html": [
       "<div>\n",
       "<style scoped>\n",
       "    .dataframe tbody tr th:only-of-type {\n",
       "        vertical-align: middle;\n",
       "    }\n",
       "\n",
       "    .dataframe tbody tr th {\n",
       "        vertical-align: top;\n",
       "    }\n",
       "\n",
       "    .dataframe thead th {\n",
       "        text-align: right;\n",
       "    }\n",
       "</style>\n",
       "<table border=\"1\" class=\"dataframe\">\n",
       "  <thead>\n",
       "    <tr style=\"text-align: right;\">\n",
       "      <th></th>\n",
       "      <th>DT</th>\n",
       "      <th>Kasus (Kumulatif)</th>\n",
       "      <th>Kasus Baru</th>\n",
       "      <th>Sembuh (baru)</th>\n",
       "      <th>Meninggal (baru)</th>\n",
       "      <th>Rec</th>\n",
       "      <th>Dea</th>\n",
       "      <th>Inf</th>\n",
       "      <th>Sus</th>\n",
       "    </tr>\n",
       "  </thead>\n",
       "  <tbody>\n",
       "    <tr>\n",
       "      <th>19</th>\n",
       "      <td>2020-03-21 00:00:00</td>\n",
       "      <td>450</td>\n",
       "      <td>81.0</td>\n",
       "      <td>4.0</td>\n",
       "      <td>6.0</td>\n",
       "      <td>20.0</td>\n",
       "      <td>38.0</td>\n",
       "      <td>392.0</td>\n",
       "      <td>199999550.0</td>\n",
       "    </tr>\n",
       "    <tr>\n",
       "      <th>20</th>\n",
       "      <td>2020-03-22 00:00:00</td>\n",
       "      <td>514</td>\n",
       "      <td>64.0</td>\n",
       "      <td>9.0</td>\n",
       "      <td>10.0</td>\n",
       "      <td>29.0</td>\n",
       "      <td>48.0</td>\n",
       "      <td>437.0</td>\n",
       "      <td>199999486.0</td>\n",
       "    </tr>\n",
       "    <tr>\n",
       "      <th>21</th>\n",
       "      <td>2020-03-23 00:00:00</td>\n",
       "      <td>579</td>\n",
       "      <td>65.0</td>\n",
       "      <td>1.0</td>\n",
       "      <td>1.0</td>\n",
       "      <td>30.0</td>\n",
       "      <td>49.0</td>\n",
       "      <td>500.0</td>\n",
       "      <td>199999421.0</td>\n",
       "    </tr>\n",
       "    <tr>\n",
       "      <th>22</th>\n",
       "      <td>2020-03-24 00:00:00</td>\n",
       "      <td>685</td>\n",
       "      <td>106.0</td>\n",
       "      <td>0.0</td>\n",
       "      <td>6.0</td>\n",
       "      <td>30.0</td>\n",
       "      <td>55.0</td>\n",
       "      <td>600.0</td>\n",
       "      <td>199999315.0</td>\n",
       "    </tr>\n",
       "    <tr>\n",
       "      <th>23</th>\n",
       "      <td>2020-03-25 00:00:00</td>\n",
       "      <td>790</td>\n",
       "      <td>105.0</td>\n",
       "      <td>1.0</td>\n",
       "      <td>3.0</td>\n",
       "      <td>31.0</td>\n",
       "      <td>58.0</td>\n",
       "      <td>701.0</td>\n",
       "      <td>199999210.0</td>\n",
       "    </tr>\n",
       "    <tr>\n",
       "      <th>24</th>\n",
       "      <td>2020-03-26 00:00:00</td>\n",
       "      <td>893</td>\n",
       "      <td>103.0</td>\n",
       "      <td>4.0</td>\n",
       "      <td>20.0</td>\n",
       "      <td>35.0</td>\n",
       "      <td>78.0</td>\n",
       "      <td>780.0</td>\n",
       "      <td>199999107.0</td>\n",
       "    </tr>\n",
       "    <tr>\n",
       "      <th>25</th>\n",
       "      <td>2020-03-27 00:00:00</td>\n",
       "      <td>1046</td>\n",
       "      <td>153.0</td>\n",
       "      <td>11.0</td>\n",
       "      <td>9.0</td>\n",
       "      <td>46.0</td>\n",
       "      <td>87.0</td>\n",
       "      <td>913.0</td>\n",
       "      <td>199998954.0</td>\n",
       "    </tr>\n",
       "    <tr>\n",
       "      <th>26</th>\n",
       "      <td>2020-03-28 00:00:00</td>\n",
       "      <td>1155</td>\n",
       "      <td>109.0</td>\n",
       "      <td>13.0</td>\n",
       "      <td>15.0</td>\n",
       "      <td>59.0</td>\n",
       "      <td>102.0</td>\n",
       "      <td>994.0</td>\n",
       "      <td>199998845.0</td>\n",
       "    </tr>\n",
       "    <tr>\n",
       "      <th>27</th>\n",
       "      <td>2020-03-29 00:00:00</td>\n",
       "      <td>1285</td>\n",
       "      <td>130.0</td>\n",
       "      <td>5.0</td>\n",
       "      <td>12.0</td>\n",
       "      <td>64.0</td>\n",
       "      <td>114.0</td>\n",
       "      <td>1107.0</td>\n",
       "      <td>199998715.0</td>\n",
       "    </tr>\n",
       "    <tr>\n",
       "      <th>28</th>\n",
       "      <td>2020-03-30 00:00:00</td>\n",
       "      <td>1414</td>\n",
       "      <td>129.0</td>\n",
       "      <td>11.0</td>\n",
       "      <td>8.0</td>\n",
       "      <td>75.0</td>\n",
       "      <td>122.0</td>\n",
       "      <td>1217.0</td>\n",
       "      <td>199998586.0</td>\n",
       "    </tr>\n",
       "  </tbody>\n",
       "</table>\n",
       "</div>"
      ],
      "text/plain": [
       "                     DT  Kasus (Kumulatif)  Kasus Baru  Sembuh (baru)  \\\n",
       "19  2020-03-21 00:00:00                450        81.0            4.0   \n",
       "20  2020-03-22 00:00:00                514        64.0            9.0   \n",
       "21  2020-03-23 00:00:00                579        65.0            1.0   \n",
       "22  2020-03-24 00:00:00                685       106.0            0.0   \n",
       "23  2020-03-25 00:00:00                790       105.0            1.0   \n",
       "24  2020-03-26 00:00:00                893       103.0            4.0   \n",
       "25  2020-03-27 00:00:00               1046       153.0           11.0   \n",
       "26  2020-03-28 00:00:00               1155       109.0           13.0   \n",
       "27  2020-03-29 00:00:00               1285       130.0            5.0   \n",
       "28  2020-03-30 00:00:00               1414       129.0           11.0   \n",
       "\n",
       "    Meninggal (baru)   Rec    Dea     Inf          Sus  \n",
       "19               6.0  20.0   38.0   392.0  199999550.0  \n",
       "20              10.0  29.0   48.0   437.0  199999486.0  \n",
       "21               1.0  30.0   49.0   500.0  199999421.0  \n",
       "22               6.0  30.0   55.0   600.0  199999315.0  \n",
       "23               3.0  31.0   58.0   701.0  199999210.0  \n",
       "24              20.0  35.0   78.0   780.0  199999107.0  \n",
       "25               9.0  46.0   87.0   913.0  199998954.0  \n",
       "26              15.0  59.0  102.0   994.0  199998845.0  \n",
       "27              12.0  64.0  114.0  1107.0  199998715.0  \n",
       "28               8.0  75.0  122.0  1217.0  199998586.0  "
      ]
     },
     "execution_count": 9,
     "metadata": {},
     "output_type": "execute_result"
    }
   ],
   "source": [
    "df_daily.tail(10)"
   ]
  },
  {
   "cell_type": "code",
   "execution_count": 67,
   "metadata": {},
   "outputs": [
    {
     "data": {
      "text/plain": [
       "<matplotlib.axes._subplots.AxesSubplot at 0x1c24b23610>"
      ]
     },
     "execution_count": 67,
     "metadata": {},
     "output_type": "execute_result"
    },
    {
     "data": {
      "image/png": "[encoded data removed]",
      "text/plain": [
       "<Figure size 432x288 with 1 Axes>"
      ]
     },
     "metadata": {
      "needs_background": "light"
     },
     "output_type": "display_data"
    }
   ],
   "source": [
    "df_daily['Kasus (Kumulatif)'].plot()"
   ]
  },
  {
   "cell_type": "code",
   "execution_count": 10,
   "metadata": {},
   "outputs": [
    {
     "data": {
      "text/html": [
       "<div>\n",
       "<style scoped>\n",
       "    .dataframe tbody tr th:only-of-type {\n",
       "        vertical-align: middle;\n",
       "    }\n",
       "\n",
       "    .dataframe tbody tr th {\n",
       "        vertical-align: top;\n",
       "    }\n",
       "\n",
       "    .dataframe thead th {\n",
       "        text-align: right;\n",
       "    }\n",
       "</style>\n",
       "<table border=\"1\" class=\"dataframe\">\n",
       "  <thead>\n",
       "    <tr style=\"text-align: right;\">\n",
       "      <th></th>\n",
       "      <th>Sus</th>\n",
       "      <th>Inf</th>\n",
       "      <th>Rec</th>\n",
       "      <th>Dea</th>\n",
       "      <th>weight</th>\n",
       "    </tr>\n",
       "  </thead>\n",
       "  <tbody>\n",
       "    <tr>\n",
       "      <th>0</th>\n",
       "      <td>1.000000</td>\n",
       "      <td>1.000000e-08</td>\n",
       "      <td>0.000000e+00</td>\n",
       "      <td>0.000000e+00</td>\n",
       "      <td>2</td>\n",
       "    </tr>\n",
       "    <tr>\n",
       "      <th>1</th>\n",
       "      <td>1.000000</td>\n",
       "      <td>1.000000e-08</td>\n",
       "      <td>0.000000e+00</td>\n",
       "      <td>0.000000e+00</td>\n",
       "      <td>2</td>\n",
       "    </tr>\n",
       "    <tr>\n",
       "      <th>2</th>\n",
       "      <td>1.000000</td>\n",
       "      <td>1.000000e-08</td>\n",
       "      <td>0.000000e+00</td>\n",
       "      <td>0.000000e+00</td>\n",
       "      <td>2</td>\n",
       "    </tr>\n",
       "    <tr>\n",
       "      <th>3</th>\n",
       "      <td>1.000000</td>\n",
       "      <td>1.000000e-08</td>\n",
       "      <td>0.000000e+00</td>\n",
       "      <td>0.000000e+00</td>\n",
       "      <td>2</td>\n",
       "    </tr>\n",
       "    <tr>\n",
       "      <th>4</th>\n",
       "      <td>1.000000</td>\n",
       "      <td>2.000000e-08</td>\n",
       "      <td>0.000000e+00</td>\n",
       "      <td>0.000000e+00</td>\n",
       "      <td>2</td>\n",
       "    </tr>\n",
       "    <tr>\n",
       "      <th>5</th>\n",
       "      <td>1.000000</td>\n",
       "      <td>2.000000e-08</td>\n",
       "      <td>0.000000e+00</td>\n",
       "      <td>0.000000e+00</td>\n",
       "      <td>2</td>\n",
       "    </tr>\n",
       "    <tr>\n",
       "      <th>6</th>\n",
       "      <td>1.000000</td>\n",
       "      <td>3.000000e-08</td>\n",
       "      <td>0.000000e+00</td>\n",
       "      <td>0.000000e+00</td>\n",
       "      <td>2</td>\n",
       "    </tr>\n",
       "    <tr>\n",
       "      <th>7</th>\n",
       "      <td>1.000000</td>\n",
       "      <td>9.500000e-08</td>\n",
       "      <td>0.000000e+00</td>\n",
       "      <td>0.000000e+00</td>\n",
       "      <td>2</td>\n",
       "    </tr>\n",
       "    <tr>\n",
       "      <th>8</th>\n",
       "      <td>1.000000</td>\n",
       "      <td>1.350000e-07</td>\n",
       "      <td>0.000000e+00</td>\n",
       "      <td>0.000000e+00</td>\n",
       "      <td>2</td>\n",
       "    </tr>\n",
       "    <tr>\n",
       "      <th>9</th>\n",
       "      <td>1.000000</td>\n",
       "      <td>1.500000e-07</td>\n",
       "      <td>1.000000e-08</td>\n",
       "      <td>1.000000e-08</td>\n",
       "      <td>2</td>\n",
       "    </tr>\n",
       "    <tr>\n",
       "      <th>10</th>\n",
       "      <td>1.000000</td>\n",
       "      <td>1.350000e-07</td>\n",
       "      <td>1.500000e-08</td>\n",
       "      <td>2.000000e-08</td>\n",
       "      <td>2</td>\n",
       "    </tr>\n",
       "    <tr>\n",
       "      <th>11</th>\n",
       "      <td>1.000000</td>\n",
       "      <td>3.000000e-07</td>\n",
       "      <td>2.500000e-08</td>\n",
       "      <td>2.000000e-08</td>\n",
       "      <td>2</td>\n",
       "    </tr>\n",
       "    <tr>\n",
       "      <th>12</th>\n",
       "      <td>1.000000</td>\n",
       "      <td>4.150000e-07</td>\n",
       "      <td>4.000000e-08</td>\n",
       "      <td>2.500000e-08</td>\n",
       "      <td>2</td>\n",
       "    </tr>\n",
       "    <tr>\n",
       "      <th>13</th>\n",
       "      <td>0.999999</td>\n",
       "      <td>5.200000e-07</td>\n",
       "      <td>4.000000e-08</td>\n",
       "      <td>2.500000e-08</td>\n",
       "      <td>2</td>\n",
       "    </tr>\n",
       "    <tr>\n",
       "      <th>14</th>\n",
       "      <td>0.999999</td>\n",
       "      <td>6.050000e-07</td>\n",
       "      <td>4.000000e-08</td>\n",
       "      <td>2.500000e-08</td>\n",
       "      <td>2</td>\n",
       "    </tr>\n",
       "    <tr>\n",
       "      <th>15</th>\n",
       "      <td>0.999999</td>\n",
       "      <td>7.800000e-07</td>\n",
       "      <td>4.500000e-08</td>\n",
       "      <td>3.500000e-08</td>\n",
       "      <td>2</td>\n",
       "    </tr>\n",
       "    <tr>\n",
       "      <th>16</th>\n",
       "      <td>0.999999</td>\n",
       "      <td>9.850000e-07</td>\n",
       "      <td>5.500000e-08</td>\n",
       "      <td>9.500000e-08</td>\n",
       "      <td>2</td>\n",
       "    </tr>\n",
       "    <tr>\n",
       "      <th>17</th>\n",
       "      <td>0.999998</td>\n",
       "      <td>1.345000e-06</td>\n",
       "      <td>7.500000e-08</td>\n",
       "      <td>1.250000e-07</td>\n",
       "      <td>2</td>\n",
       "    </tr>\n",
       "    <tr>\n",
       "      <th>18</th>\n",
       "      <td>0.999998</td>\n",
       "      <td>1.605000e-06</td>\n",
       "      <td>8.000000e-08</td>\n",
       "      <td>1.600000e-07</td>\n",
       "      <td>2</td>\n",
       "    </tr>\n",
       "    <tr>\n",
       "      <th>19</th>\n",
       "      <td>0.999998</td>\n",
       "      <td>1.960000e-06</td>\n",
       "      <td>1.000000e-07</td>\n",
       "      <td>1.900000e-07</td>\n",
       "      <td>2</td>\n",
       "    </tr>\n",
       "    <tr>\n",
       "      <th>20</th>\n",
       "      <td>0.999997</td>\n",
       "      <td>2.185000e-06</td>\n",
       "      <td>1.450000e-07</td>\n",
       "      <td>2.400000e-07</td>\n",
       "      <td>2</td>\n",
       "    </tr>\n",
       "    <tr>\n",
       "      <th>21</th>\n",
       "      <td>0.999997</td>\n",
       "      <td>2.500000e-06</td>\n",
       "      <td>1.500000e-07</td>\n",
       "      <td>2.450000e-07</td>\n",
       "      <td>2</td>\n",
       "    </tr>\n",
       "    <tr>\n",
       "      <th>22</th>\n",
       "      <td>0.999997</td>\n",
       "      <td>3.000000e-06</td>\n",
       "      <td>1.500000e-07</td>\n",
       "      <td>2.750000e-07</td>\n",
       "      <td>2</td>\n",
       "    </tr>\n",
       "    <tr>\n",
       "      <th>23</th>\n",
       "      <td>0.999996</td>\n",
       "      <td>3.505000e-06</td>\n",
       "      <td>1.550000e-07</td>\n",
       "      <td>2.900000e-07</td>\n",
       "      <td>2</td>\n",
       "    </tr>\n",
       "    <tr>\n",
       "      <th>24</th>\n",
       "      <td>0.999996</td>\n",
       "      <td>3.900000e-06</td>\n",
       "      <td>1.750000e-07</td>\n",
       "      <td>3.900000e-07</td>\n",
       "      <td>2</td>\n",
       "    </tr>\n",
       "    <tr>\n",
       "      <th>25</th>\n",
       "      <td>0.999995</td>\n",
       "      <td>4.565000e-06</td>\n",
       "      <td>2.300000e-07</td>\n",
       "      <td>4.350000e-07</td>\n",
       "      <td>2</td>\n",
       "    </tr>\n",
       "    <tr>\n",
       "      <th>26</th>\n",
       "      <td>0.999994</td>\n",
       "      <td>4.970000e-06</td>\n",
       "      <td>2.950000e-07</td>\n",
       "      <td>5.100000e-07</td>\n",
       "      <td>2</td>\n",
       "    </tr>\n",
       "    <tr>\n",
       "      <th>27</th>\n",
       "      <td>0.999994</td>\n",
       "      <td>5.535000e-06</td>\n",
       "      <td>3.200000e-07</td>\n",
       "      <td>5.700000e-07</td>\n",
       "      <td>2</td>\n",
       "    </tr>\n",
       "    <tr>\n",
       "      <th>28</th>\n",
       "      <td>0.999993</td>\n",
       "      <td>6.085000e-06</td>\n",
       "      <td>3.750000e-07</td>\n",
       "      <td>6.100000e-07</td>\n",
       "      <td>2</td>\n",
       "    </tr>\n",
       "  </tbody>\n",
       "</table>\n",
       "</div>"
      ],
      "text/plain": [
       "         Sus           Inf           Rec           Dea  weight\n",
       "0   1.000000  1.000000e-08  0.000000e+00  0.000000e+00       2\n",
       "1   1.000000  1.000000e-08  0.000000e+00  0.000000e+00       2\n",
       "2   1.000000  1.000000e-08  0.000000e+00  0.000000e+00       2\n",
       "3   1.000000  1.000000e-08  0.000000e+00  0.000000e+00       2\n",
       "4   1.000000  2.000000e-08  0.000000e+00  0.000000e+00       2\n",
       "5   1.000000  2.000000e-08  0.000000e+00  0.000000e+00       2\n",
       "6   1.000000  3.000000e-08  0.000000e+00  0.000000e+00       2\n",
       "7   1.000000  9.500000e-08  0.000000e+00  0.000000e+00       2\n",
       "8   1.000000  1.350000e-07  0.000000e+00  0.000000e+00       2\n",
       "9   1.000000  1.500000e-07  1.000000e-08  1.000000e-08       2\n",
       "10  1.000000  1.350000e-07  1.500000e-08  2.000000e-08       2\n",
       "11  1.000000  3.000000e-07  2.500000e-08  2.000000e-08       2\n",
       "12  1.000000  4.150000e-07  4.000000e-08  2.500000e-08       2\n",
       "13  0.999999  5.200000e-07  4.000000e-08  2.500000e-08       2\n",
       "14  0.999999  6.050000e-07  4.000000e-08  2.500000e-08       2\n",
       "15  0.999999  7.800000e-07  4.500000e-08  3.500000e-08       2\n",
       "16  0.999999  9.850000e-07  5.500000e-08  9.500000e-08       2\n",
       "17  0.999998  1.345000e-06  7.500000e-08  1.250000e-07       2\n",
       "18  0.999998  1.605000e-06  8.000000e-08  1.600000e-07       2\n",
       "19  0.999998  1.960000e-06  1.000000e-07  1.900000e-07       2\n",
       "20  0.999997  2.185000e-06  1.450000e-07  2.400000e-07       2\n",
       "21  0.999997  2.500000e-06  1.500000e-07  2.450000e-07       2\n",
       "22  0.999997  3.000000e-06  1.500000e-07  2.750000e-07       2\n",
       "23  0.999996  3.505000e-06  1.550000e-07  2.900000e-07       2\n",
       "24  0.999996  3.900000e-06  1.750000e-07  3.900000e-07       2\n",
       "25  0.999995  4.565000e-06  2.300000e-07  4.350000e-07       2\n",
       "26  0.999994  4.970000e-06  2.950000e-07  5.100000e-07       2\n",
       "27  0.999994  5.535000e-06  3.200000e-07  5.700000e-07       2\n",
       "28  0.999993  6.085000e-06  3.750000e-07  6.100000e-07       2"
      ]
     },
     "execution_count": 10,
     "metadata": {},
     "output_type": "execute_result"
    }
   ],
   "source": [
    "df_daily_sird"
   ]
  },
  {
   "cell_type": "code",
   "execution_count": 11,
   "metadata": {},
   "outputs": [
    {
     "data": {
      "text/plain": [
       "<matplotlib.axes._subplots.AxesSubplot at 0x1c240b5ad0>"
      ]
     },
     "execution_count": 11,
     "metadata": {},
     "output_type": "execute_result"
    },
    {
     "data": {
      "image/png": "[encoded data removed]",
      "text/plain": [
       "<Figure size 720x576 with 1 Axes>"
      ]
     },
     "metadata": {
      "needs_background": "light"
     },
     "output_type": "display_data"
    }
   ],
   "source": [
    "df_daily_sird[['Inf','Rec','Dea']].plot(figsize=(10,8))"
   ]
  },
  {
   "cell_type": "code",
   "execution_count": null,
   "metadata": {},
   "outputs": [],
   "source": []
  },
  {
   "cell_type": "markdown",
   "metadata": {},
   "source": [
    "## Tuning Parameter SIRD Model\n",
    "\n",
    "The tuning parameter is more focus on I and R.. meanwhile the newest data is more influence the model than the last one.. (using weight)"
   ]
  },
  {
   "cell_type": "code",
   "execution_count": 12,
   "metadata": {},
   "outputs": [],
   "source": [
    "# param_b,param_r,param_m"
   ]
  },
  {
   "cell_type": "code",
   "execution_count": 14,
   "metadata": {},
   "outputs": [],
   "source": [
    "## Summary\n",
    "## First 23 day --> [0.30421772, 0.01571879, 0.02715623] (1.13785449363775)\n",
    "## First 25 day --> [0.2942096 , 0.01569591, 0.02679847] (2.7496582873743516)\n",
    "## First 27 day --> [0.282616  , 0.01432964, 0.02584207] (5.365068009)\n",
    "## First 28 day --> [0.27636661, 0.01389041, 0.02523562]\n",
    "\n"
   ]
  },
  {
   "cell_type": "code",
   "execution_count": null,
   "metadata": {
    "scrolled": true
   },
   "outputs": [],
   "source": []
  },
  {
   "cell_type": "markdown",
   "metadata": {},
   "source": [
    "### Training All Data"
   ]
  },
  {
   "cell_type": "code",
   "execution_count": 52,
   "metadata": {},
   "outputs": [
    {
     "name": "stderr",
     "output_type": "stream",
     "text": [
      "/Users/alamhanz/anaconda/envs/py37_env/lib/python3.7/site-packages/ipykernel_launcher.py:7: SettingWithCopyWarning: \n",
      "A value is trying to be set on a copy of a slice from a DataFrame.\n",
      "Try using .loc[row_indexer,col_indexer] = value instead\n",
      "\n",
      "See the caveats in the documentation: http://pandas.pydata.org/pandas-docs/stable/user_guide/indexing.html#returning-a-view-versus-a-copy\n",
      "  import sys\n"
     ]
    }
   ],
   "source": [
    "## all current data\n",
    "df_daily0=df_daily_sird[:28]\n",
    "prt=int(len(df_daily0)/5)+1\n",
    "weight_ls=[3.5]*prt+[3]*prt+[1]*prt+[0.2]*prt+[0.1]*prt\n",
    "weight_ls2=weight_ls[:len(df_daily0)]\n",
    "weight_ls2.sort()\n",
    "df_daily0['weight']=weight_ls2"
   ]
  },
  {
   "cell_type": "code",
   "execution_count": 53,
   "metadata": {},
   "outputs": [
    {
     "data": {
      "text/html": [
       "<div>\n",
       "<style scoped>\n",
       "    .dataframe tbody tr th:only-of-type {\n",
       "        vertical-align: middle;\n",
       "    }\n",
       "\n",
       "    .dataframe tbody tr th {\n",
       "        vertical-align: top;\n",
       "    }\n",
       "\n",
       "    .dataframe thead th {\n",
       "        text-align: right;\n",
       "    }\n",
       "</style>\n",
       "<table border=\"1\" class=\"dataframe\">\n",
       "  <thead>\n",
       "    <tr style=\"text-align: right;\">\n",
       "      <th></th>\n",
       "      <th>Sus</th>\n",
       "      <th>Inf</th>\n",
       "      <th>Rec</th>\n",
       "      <th>Dea</th>\n",
       "      <th>weight</th>\n",
       "    </tr>\n",
       "  </thead>\n",
       "  <tbody>\n",
       "    <tr>\n",
       "      <th>23</th>\n",
       "      <td>0.999996</td>\n",
       "      <td>0.000004</td>\n",
       "      <td>1.550000e-07</td>\n",
       "      <td>2.900000e-07</td>\n",
       "      <td>3.5</td>\n",
       "    </tr>\n",
       "    <tr>\n",
       "      <th>24</th>\n",
       "      <td>0.999996</td>\n",
       "      <td>0.000004</td>\n",
       "      <td>1.750000e-07</td>\n",
       "      <td>3.900000e-07</td>\n",
       "      <td>3.5</td>\n",
       "    </tr>\n",
       "    <tr>\n",
       "      <th>25</th>\n",
       "      <td>0.999995</td>\n",
       "      <td>0.000005</td>\n",
       "      <td>2.300000e-07</td>\n",
       "      <td>4.350000e-07</td>\n",
       "      <td>3.5</td>\n",
       "    </tr>\n",
       "    <tr>\n",
       "      <th>26</th>\n",
       "      <td>0.999994</td>\n",
       "      <td>0.000005</td>\n",
       "      <td>2.950000e-07</td>\n",
       "      <td>5.100000e-07</td>\n",
       "      <td>3.5</td>\n",
       "    </tr>\n",
       "    <tr>\n",
       "      <th>27</th>\n",
       "      <td>0.999994</td>\n",
       "      <td>0.000006</td>\n",
       "      <td>3.200000e-07</td>\n",
       "      <td>5.700000e-07</td>\n",
       "      <td>3.5</td>\n",
       "    </tr>\n",
       "  </tbody>\n",
       "</table>\n",
       "</div>"
      ],
      "text/plain": [
       "         Sus       Inf           Rec           Dea  weight\n",
       "23  0.999996  0.000004  1.550000e-07  2.900000e-07     3.5\n",
       "24  0.999996  0.000004  1.750000e-07  3.900000e-07     3.5\n",
       "25  0.999995  0.000005  2.300000e-07  4.350000e-07     3.5\n",
       "26  0.999994  0.000005  2.950000e-07  5.100000e-07     3.5\n",
       "27  0.999994  0.000006  3.200000e-07  5.700000e-07     3.5"
      ]
     },
     "execution_count": 53,
     "metadata": {},
     "output_type": "execute_result"
    }
   ],
   "source": [
    "df_daily0.tail()"
   ]
  },
  {
   "cell_type": "code",
   "execution_count": 55,
   "metadata": {
    "scrolled": true
   },
   "outputs": [
    {
     "name": "stderr",
     "output_type": "stream",
     "text": [
      "2020-03-30 21:28:29,339 - pyswarms.single.global_best - INFO - Optimize for 20 iters with {'c1': 0.15, 'c2': 0.95, 'w': 0.25}\n",
      "pyswarms.single.global_best: 100%|██████████|20/20, best_cost=11  \n",
      "2020-03-30 21:28:45,133 - pyswarms.single.global_best - INFO - Optimization finished | best cost: 10.978668013459126, best pos: [0.31921722 0.03536919 0.04864461]\n",
      "2020-03-30 21:28:45,147 - pyswarms.single.global_best - INFO - Optimize for 20 iters with {'c1': 0.15, 'c2': 0.95, 'w': 0.25}\n",
      "pyswarms.single.global_best: 100%|██████████|20/20, best_cost=9.23\n",
      "2020-03-30 21:29:00,375 - pyswarms.single.global_best - INFO - Optimization finished | best cost: 9.229328615505098, best pos: [0.28161181 0.01438738 0.02953311]\n",
      "2020-03-30 21:29:00,390 - pyswarms.single.global_best - INFO - Optimize for 20 iters with {'c1': 0.15, 'c2': 0.95, 'w': 0.25}\n",
      "pyswarms.single.global_best: 100%|██████████|20/20, best_cost=9.21\n",
      "2020-03-30 21:29:15,806 - pyswarms.single.global_best - INFO - Optimization finished | best cost: 9.211271791520387, best pos: [0.27820013 0.01440062 0.02592518]\n",
      "2020-03-30 21:29:15,820 - pyswarms.single.global_best - INFO - Optimize for 40 iters with {'c1': 0.15, 'c2': 0.95, 'w': 0.25}\n",
      "pyswarms.single.global_best: 100%|██████████|40/40, best_cost=9.21\n",
      "2020-03-30 21:29:39,206 - pyswarms.single.global_best - INFO - Optimization finished | best cost: 9.214987691349396, best pos: [0.27958894 0.01578442 0.02600516]\n"
     ]
    }
   ],
   "source": [
    "all_param,cost_value=pso_sird(df0=df_daily0,population=NUMB_OF_POPS)"
   ]
  },
  {
   "cell_type": "code",
   "execution_count": 57,
   "metadata": {},
   "outputs": [
    {
     "data": {
      "text/plain": [
       "(array([0.27958894, 0.01578442, 0.02600516]), 9.211271791520387)"
      ]
     },
     "execution_count": 57,
     "metadata": {},
     "output_type": "execute_result"
    }
   ],
   "source": [
    "all_param,cost_value"
   ]
  },
  {
   "cell_type": "code",
   "execution_count": 58,
   "metadata": {},
   "outputs": [],
   "source": [
    "# all_param=[0.27808851,0.0143996,0.02582378] # --> (8.614889469)\n",
    "all_param=[0.27958894, 0.01578442, 0.02600516]"
   ]
  },
  {
   "cell_type": "code",
   "execution_count": 59,
   "metadata": {},
   "outputs": [],
   "source": [
    "## Predict\n",
    "T_start = 0.0\n",
    "T_inc=1.0\n",
    "# T_end = 23+4\n",
    "T_end = 30*6\n",
    "\n",
    "I0=2/NUMB_OF_POPS\n",
    "S0=1-I0\n",
    "INPUT = (S0, I0, 0.0, 0.0)\n",
    "col_use_pred=[x+'_pred' for x in col_use]\n",
    "T_range = np.arange(T_start, T_end+T_inc, T_inc)\n",
    "RES = sird_model(all_param,INPUT,T_range)\n",
    "df_sird_pred=pd.DataFrame(RES,columns=['Sus_pred','Inf_pred','Rec_pred','Dea_pred'])*NUMB_OF_POPS"
   ]
  },
  {
   "cell_type": "code",
   "execution_count": 60,
   "metadata": {},
   "outputs": [
    {
     "data": {
      "text/html": [
       "<div>\n",
       "<style scoped>\n",
       "    .dataframe tbody tr th:only-of-type {\n",
       "        vertical-align: middle;\n",
       "    }\n",
       "\n",
       "    .dataframe tbody tr th {\n",
       "        vertical-align: top;\n",
       "    }\n",
       "\n",
       "    .dataframe thead th {\n",
       "        text-align: right;\n",
       "    }\n",
       "</style>\n",
       "<table border=\"1\" class=\"dataframe\">\n",
       "  <thead>\n",
       "    <tr style=\"text-align: right;\">\n",
       "      <th></th>\n",
       "      <th>Inf</th>\n",
       "      <th>Rec</th>\n",
       "      <th>Dea</th>\n",
       "      <th>Inf_pred</th>\n",
       "      <th>Rec_pred</th>\n",
       "      <th>Dea_pred</th>\n",
       "      <th>Inf_pred_max</th>\n",
       "      <th>Inf_pred_min</th>\n",
       "      <th>Rec_pred_max</th>\n",
       "      <th>Rec_pred_min</th>\n",
       "    </tr>\n",
       "  </thead>\n",
       "  <tbody>\n",
       "    <tr>\n",
       "      <th>21</th>\n",
       "      <td>500.0</td>\n",
       "      <td>30.0</td>\n",
       "      <td>49.0</td>\n",
       "      <td>316.896988</td>\n",
       "      <td>20.901957</td>\n",
       "      <td>34.436409</td>\n",
       "      <td>478.817243</td>\n",
       "      <td>154.976734</td>\n",
       "      <td>28.354261</td>\n",
       "      <td>13.449654</td>\n",
       "    </tr>\n",
       "    <tr>\n",
       "      <th>22</th>\n",
       "      <td>600.0</td>\n",
       "      <td>30.0</td>\n",
       "      <td>55.0</td>\n",
       "      <td>402.959624</td>\n",
       "      <td>26.614556</td>\n",
       "      <td>43.848034</td>\n",
       "      <td>564.879878</td>\n",
       "      <td>241.039369</td>\n",
       "      <td>34.066860</td>\n",
       "      <td>19.162253</td>\n",
       "    </tr>\n",
       "    <tr>\n",
       "      <th>23</th>\n",
       "      <td>701.0</td>\n",
       "      <td>31.0</td>\n",
       "      <td>58.0</td>\n",
       "      <td>511.977373</td>\n",
       "      <td>33.850856</td>\n",
       "      <td>55.769990</td>\n",
       "      <td>673.897628</td>\n",
       "      <td>350.057119</td>\n",
       "      <td>41.303160</td>\n",
       "      <td>26.398553</td>\n",
       "    </tr>\n",
       "    <tr>\n",
       "      <th>24</th>\n",
       "      <td>780.0</td>\n",
       "      <td>35.0</td>\n",
       "      <td>78.0</td>\n",
       "      <td>650.854265</td>\n",
       "      <td>43.069133</td>\n",
       "      <td>70.957292</td>\n",
       "      <td>812.774520</td>\n",
       "      <td>488.934011</td>\n",
       "      <td>50.521437</td>\n",
       "      <td>35.616829</td>\n",
       "    </tr>\n",
       "    <tr>\n",
       "      <th>25</th>\n",
       "      <td>913.0</td>\n",
       "      <td>46.0</td>\n",
       "      <td>87.0</td>\n",
       "      <td>826.975268</td>\n",
       "      <td>54.759587</td>\n",
       "      <td>90.217558</td>\n",
       "      <td>988.895522</td>\n",
       "      <td>665.055013</td>\n",
       "      <td>62.211891</td>\n",
       "      <td>47.307283</td>\n",
       "    </tr>\n",
       "    <tr>\n",
       "      <th>26</th>\n",
       "      <td>994.0</td>\n",
       "      <td>59.0</td>\n",
       "      <td>102.0</td>\n",
       "      <td>1050.456691</td>\n",
       "      <td>69.593723</td>\n",
       "      <td>114.657105</td>\n",
       "      <td>1212.376946</td>\n",
       "      <td>888.536437</td>\n",
       "      <td>77.046027</td>\n",
       "      <td>62.141419</td>\n",
       "    </tr>\n",
       "    <tr>\n",
       "      <th>27</th>\n",
       "      <td>1107.0</td>\n",
       "      <td>64.0</td>\n",
       "      <td>114.0</td>\n",
       "      <td>1334.017518</td>\n",
       "      <td>88.415812</td>\n",
       "      <td>145.666888</td>\n",
       "      <td>1495.937773</td>\n",
       "      <td>1172.097264</td>\n",
       "      <td>95.868116</td>\n",
       "      <td>80.963508</td>\n",
       "    </tr>\n",
       "    <tr>\n",
       "      <th>28</th>\n",
       "      <td>1217.0</td>\n",
       "      <td>75.0</td>\n",
       "      <td>122.0</td>\n",
       "      <td>1693.902654</td>\n",
       "      <td>112.304179</td>\n",
       "      <td>185.023469</td>\n",
       "      <td>1855.822908</td>\n",
       "      <td>1531.982400</td>\n",
       "      <td>119.756483</td>\n",
       "      <td>104.851876</td>\n",
       "    </tr>\n",
       "    <tr>\n",
       "      <th>29</th>\n",
       "      <td>NaN</td>\n",
       "      <td>NaN</td>\n",
       "      <td>NaN</td>\n",
       "      <td>2148.303472</td>\n",
       "      <td>142.466364</td>\n",
       "      <td>234.716295</td>\n",
       "      <td>2310.223727</td>\n",
       "      <td>1986.383218</td>\n",
       "      <td>149.918667</td>\n",
       "      <td>135.014060</td>\n",
       "    </tr>\n",
       "  </tbody>\n",
       "</table>\n",
       "</div>"
      ],
      "text/plain": [
       "       Inf   Rec    Dea     Inf_pred    Rec_pred    Dea_pred  Inf_pred_max  \\\n",
       "21   500.0  30.0   49.0   316.896988   20.901957   34.436409    478.817243   \n",
       "22   600.0  30.0   55.0   402.959624   26.614556   43.848034    564.879878   \n",
       "23   701.0  31.0   58.0   511.977373   33.850856   55.769990    673.897628   \n",
       "24   780.0  35.0   78.0   650.854265   43.069133   70.957292    812.774520   \n",
       "25   913.0  46.0   87.0   826.975268   54.759587   90.217558    988.895522   \n",
       "26   994.0  59.0  102.0  1050.456691   69.593723  114.657105   1212.376946   \n",
       "27  1107.0  64.0  114.0  1334.017518   88.415812  145.666888   1495.937773   \n",
       "28  1217.0  75.0  122.0  1693.902654  112.304179  185.023469   1855.822908   \n",
       "29     NaN   NaN    NaN  2148.303472  142.466364  234.716295   2310.223727   \n",
       "\n",
       "    Inf_pred_min  Rec_pred_max  Rec_pred_min  \n",
       "21    154.976734     28.354261     13.449654  \n",
       "22    241.039369     34.066860     19.162253  \n",
       "23    350.057119     41.303160     26.398553  \n",
       "24    488.934011     50.521437     35.616829  \n",
       "25    665.055013     62.211891     47.307283  \n",
       "26    888.536437     77.046027     62.141419  \n",
       "27   1172.097264     95.868116     80.963508  \n",
       "28   1531.982400    119.756483    104.851876  \n",
       "29   1986.383218    149.918667    135.014060  "
      ]
     },
     "execution_count": 60,
     "metadata": {},
     "output_type": "execute_result"
    }
   ],
   "source": [
    "data_check=pd.concat([df_daily[['Inf','Rec','Dea']],df_sird_pred[['Inf_pred','Rec_pred','Dea_pred']]],axis=1)\n",
    "error_Inf=np.abs(data_check[26-prt:26]['Inf']-data_check[26-prt:26]['Inf_pred']).mean()\n",
    "error_Rec=np.abs(data_check[26-prt:26]['Rec']-data_check[26-prt:26]['Rec_pred']).mean()\n",
    "data_check['Inf_pred_max']=data_check['Inf_pred']+error_Inf\n",
    "data_check['Inf_pred_min']=data_check['Inf_pred']-error_Inf\n",
    "data_check['Rec_pred_max']=data_check['Rec_pred']+error_Rec\n",
    "data_check['Rec_pred_min']=data_check['Rec_pred']-error_Rec\n",
    "data_check[21:30]"
   ]
  },
  {
   "cell_type": "code",
   "execution_count": 61,
   "metadata": {},
   "outputs": [],
   "source": [
    "date_1 = dt.datetime.strptime(\"2020-03-02\", \"%Y-%m-%d\")\n",
    "all_date=[date_1 + dt.timedelta(days=int(i)) for i in range(T_end+1)]\n",
    "df_sird_pred.index=all_date"
   ]
  },
  {
   "cell_type": "code",
   "execution_count": null,
   "metadata": {},
   "outputs": [],
   "source": []
  },
  {
   "cell_type": "code",
   "execution_count": 64,
   "metadata": {},
   "outputs": [
    {
     "data": {
      "text/plain": [
       "<matplotlib.axes._subplots.AxesSubplot at 0x1c2526dc50>"
      ]
     },
     "execution_count": 64,
     "metadata": {},
     "output_type": "execute_result"
    },
    {
     "data": {
      "image/png": "[encoded data removed]",
      "text/plain": [
       "<Figure size 432x288 with 1 Axes>"
      ]
     },
     "metadata": {
      "needs_background": "light"
     },
     "output_type": "display_data"
    }
   ],
   "source": [
    "check_col='Rec'\n",
    "data_check[:29][[check_col,check_col+'_pred']].plot()"
   ]
  },
  {
   "cell_type": "code",
   "execution_count": 65,
   "metadata": {},
   "outputs": [],
   "source": [
    "# df_sird_pred['Dea_pred'].max()"
   ]
  },
  {
   "cell_type": "code",
   "execution_count": 66,
   "metadata": {},
   "outputs": [
    {
     "data": {
      "image/png": "[encoded data removed]",
      "text/plain": [
       "<Figure size 720x576 with 1 Axes>"
      ]
     },
     "metadata": {
      "needs_background": "light"
     },
     "output_type": "display_data"
    }
   ],
   "source": [
    "# df_sird_pred[['Inf_pred','Rec_pred','Dea_pred']].plot(figsize=(10,8))\n",
    "txt='SIRD Model \\ndengan Interaction Daily Rate = '+str(all_param[0])+' and \\nRecovery Daily Rate = '+str(\n",
    "            all_param[1])+' \\nand Death Daily Rate = '+str(all_param[2])+'\\n(Masih Prediksi Kasar)'\n",
    "sird_plot =df_sird_pred.plot(figsize=(10,8),title=txt)\n",
    "fig = sird_plot.get_figure()\n",
    "fig.savefig(PATH_IMG+CURR_DATE+\"sird_result.png\")"
   ]
  },
  {
   "cell_type": "code",
   "execution_count": null,
   "metadata": {},
   "outputs": [],
   "source": []
  },
  {
   "cell_type": "markdown",
   "metadata": {},
   "source": [
    "## Conclusion\n",
    "\n",
    "..."
   ]
  },
  {
   "cell_type": "code",
   "execution_count": null,
   "metadata": {},
   "outputs": [],
   "source": []
  },
  {
   "cell_type": "code",
   "execution_count": null,
   "metadata": {},
   "outputs": [],
   "source": []
  }
 ],
 "metadata": {
  "kernelspec": {
   "display_name": "py37_env",
   "language": "python",
   "name": "myenv"
  },
  "language_info": {
   "codemirror_mode": {
    "name": "ipython",
    "version": 3
   },
   "file_extension": ".py",
   "mimetype": "text/x-python",
   "name": "python",
   "nbconvert_exporter": "python",
   "pygments_lexer": "ipython3",
   "version": "3.7.6"
  }
 },
 "nbformat": 4,
 "nbformat_minor": 4
}
