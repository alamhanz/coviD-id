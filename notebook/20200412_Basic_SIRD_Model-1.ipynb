{
 "cells": [
  {
   "cell_type": "markdown",
   "metadata": {},
   "source": [
    "# SIRD Model\n",
    "\n",
    "Basic SIRD model for Indonesia Covid \n",
    "(data until 20200412) using PSO optimization"
   ]
  },
  {
   "cell_type": "markdown",
   "metadata": {},
   "source": [
    "![SIRD](../images/Scheme-of-Susceptible-Infectious-Recovered-Death-SIRD-Model-Boxes-represent.png)"
   ]
  },
  {
   "cell_type": "code",
   "execution_count": 1,
   "metadata": {},
   "outputs": [],
   "source": [
    "PATH_DATA = '../data/raw/'\n",
    "PATH_DATA_INTERIM = '../data/interim/'\n",
    "PATH_SRC='../src/'\n",
    "PATH_IMG='../images/'"
   ]
  },
  {
   "cell_type": "code",
   "execution_count": 2,
   "metadata": {},
   "outputs": [],
   "source": [
    "import ipywidgets as widgets\n",
    "from ipywidgets import interact, interact_manual"
   ]
  },
  {
   "cell_type": "code",
   "execution_count": 3,
   "metadata": {},
   "outputs": [],
   "source": [
    "import pandas as pd\n",
    "import scipy.integrate as spi\n",
    "import numpy as np\n",
    "import seaborn as sns\n",
    "from sklearn.linear_model import LinearRegression\n",
    "import statsmodels.api as sm\n",
    "import matplotlib.pyplot as plt\n",
    "import datetime as dt\n",
    "import pyswarms as ps\n",
    "import sys\n",
    "\n",
    "sys.path.insert(1, PATH_SRC)\n",
    "from covid_model import sird_model, pso_sird"
   ]
  },
  {
   "cell_type": "code",
   "execution_count": 4,
   "metadata": {},
   "outputs": [],
   "source": [
    "## Assumption\n",
    "NUMB_OF_POPS=200000000\n",
    "CURR_DATE='20200412'"
   ]
  },
  {
   "cell_type": "code",
   "execution_count": null,
   "metadata": {},
   "outputs": [],
   "source": []
  },
  {
   "cell_type": "markdown",
   "metadata": {},
   "source": [
    "## Get The Data\n",
    "\n",
    "Getting the data and do the summary"
   ]
  },
  {
   "cell_type": "code",
   "execution_count": 5,
   "metadata": {},
   "outputs": [],
   "source": [
    "col_use=['Sus','Inf','Rec','Dea']\n",
    "col_use_pred=[x+'_pred' for x in col_use]"
   ]
  },
  {
   "cell_type": "code",
   "execution_count": 6,
   "metadata": {},
   "outputs": [],
   "source": [
    "## Get The Raw Data\n",
    "df_daily0=pd.read_csv(PATH_DATA+'20200404_DailyCase_ID.csv')\n",
    "df_daily1=pd.read_csv(PATH_DATA+CURR_DATE+'_DailyCase_ID.csv')\n",
    "df_daily=pd.concat([df_daily0,df_daily1]).drop_duplicates()\n",
    "df_daily=df_daily.reset_index()\n",
    "del df_daily['index']\n",
    "df_daily=df_daily.fillna(0)\n",
    "\n",
    "## Get the compartment value\n",
    "df_daily['Rec']=df_daily['Sembuh (baru)'].cumsum()\n",
    "df_daily['Dea']=df_daily['Meninggal (baru)'].cumsum()\n",
    "df_daily['Inf']=df_daily['Kasus (Kumulatif)']-df_daily['Rec']-df_daily['Dea']\n",
    "df_daily['Sus']=NUMB_OF_POPS-df_daily['Inf']-df_daily['Rec']-df_daily['Dea']\n",
    "df_daily.to_csv(PATH_DATA_INTERIM+CURR_DATE+'_DailyCase_ID_SIRD.csv',index=False)\n",
    "\n",
    "## Standardized it by divide it by population number\n",
    "df_daily_sird=df_daily[col_use]/NUMB_OF_POPS\n",
    "df_daily_sird['weight']=2"
   ]
  },
  {
   "cell_type": "code",
   "execution_count": 7,
   "metadata": {},
   "outputs": [
    {
     "data": {
      "text/plain": [
       "<matplotlib.axes._subplots.AxesSubplot at 0x1a20a0c190>"
      ]
     },
     "execution_count": 7,
     "metadata": {},
     "output_type": "execute_result"
    },
    {
     "data": {
      "image/png": "[encoded data removed]",
      "text/plain": [
       "<Figure size 432x288 with 1 Axes>"
      ]
     },
     "metadata": {
      "needs_background": "light"
     },
     "output_type": "display_data"
    }
   ],
   "source": [
    "df_daily['Kasus (Kumulatif)'].plot()"
   ]
  },
  {
   "cell_type": "code",
   "execution_count": 8,
   "metadata": {},
   "outputs": [
    {
     "data": {
      "text/html": [
       "<div>\n",
       "<style scoped>\n",
       "    .dataframe tbody tr th:only-of-type {\n",
       "        vertical-align: middle;\n",
       "    }\n",
       "\n",
       "    .dataframe tbody tr th {\n",
       "        vertical-align: top;\n",
       "    }\n",
       "\n",
       "    .dataframe thead th {\n",
       "        text-align: right;\n",
       "    }\n",
       "</style>\n",
       "<table border=\"1\" class=\"dataframe\">\n",
       "  <thead>\n",
       "    <tr style=\"text-align: right;\">\n",
       "      <th></th>\n",
       "      <th>Sus</th>\n",
       "      <th>Inf</th>\n",
       "      <th>Rec</th>\n",
       "      <th>Dea</th>\n",
       "      <th>weight</th>\n",
       "    </tr>\n",
       "  </thead>\n",
       "  <tbody>\n",
       "    <tr>\n",
       "      <th>0</th>\n",
       "      <td>1.000000</td>\n",
       "      <td>1.000000e-08</td>\n",
       "      <td>0.000000e+00</td>\n",
       "      <td>0.000000e+00</td>\n",
       "      <td>2</td>\n",
       "    </tr>\n",
       "    <tr>\n",
       "      <th>1</th>\n",
       "      <td>1.000000</td>\n",
       "      <td>1.000000e-08</td>\n",
       "      <td>0.000000e+00</td>\n",
       "      <td>0.000000e+00</td>\n",
       "      <td>2</td>\n",
       "    </tr>\n",
       "    <tr>\n",
       "      <th>2</th>\n",
       "      <td>1.000000</td>\n",
       "      <td>1.000000e-08</td>\n",
       "      <td>0.000000e+00</td>\n",
       "      <td>0.000000e+00</td>\n",
       "      <td>2</td>\n",
       "    </tr>\n",
       "    <tr>\n",
       "      <th>3</th>\n",
       "      <td>1.000000</td>\n",
       "      <td>1.000000e-08</td>\n",
       "      <td>0.000000e+00</td>\n",
       "      <td>0.000000e+00</td>\n",
       "      <td>2</td>\n",
       "    </tr>\n",
       "    <tr>\n",
       "      <th>4</th>\n",
       "      <td>1.000000</td>\n",
       "      <td>2.000000e-08</td>\n",
       "      <td>0.000000e+00</td>\n",
       "      <td>0.000000e+00</td>\n",
       "      <td>2</td>\n",
       "    </tr>\n",
       "    <tr>\n",
       "      <th>5</th>\n",
       "      <td>1.000000</td>\n",
       "      <td>2.000000e-08</td>\n",
       "      <td>0.000000e+00</td>\n",
       "      <td>0.000000e+00</td>\n",
       "      <td>2</td>\n",
       "    </tr>\n",
       "    <tr>\n",
       "      <th>6</th>\n",
       "      <td>1.000000</td>\n",
       "      <td>3.000000e-08</td>\n",
       "      <td>0.000000e+00</td>\n",
       "      <td>0.000000e+00</td>\n",
       "      <td>2</td>\n",
       "    </tr>\n",
       "    <tr>\n",
       "      <th>7</th>\n",
       "      <td>1.000000</td>\n",
       "      <td>9.500000e-08</td>\n",
       "      <td>0.000000e+00</td>\n",
       "      <td>0.000000e+00</td>\n",
       "      <td>2</td>\n",
       "    </tr>\n",
       "    <tr>\n",
       "      <th>8</th>\n",
       "      <td>1.000000</td>\n",
       "      <td>1.350000e-07</td>\n",
       "      <td>0.000000e+00</td>\n",
       "      <td>0.000000e+00</td>\n",
       "      <td>2</td>\n",
       "    </tr>\n",
       "    <tr>\n",
       "      <th>9</th>\n",
       "      <td>1.000000</td>\n",
       "      <td>1.500000e-07</td>\n",
       "      <td>1.000000e-08</td>\n",
       "      <td>1.000000e-08</td>\n",
       "      <td>2</td>\n",
       "    </tr>\n",
       "    <tr>\n",
       "      <th>10</th>\n",
       "      <td>1.000000</td>\n",
       "      <td>1.350000e-07</td>\n",
       "      <td>1.500000e-08</td>\n",
       "      <td>2.000000e-08</td>\n",
       "      <td>2</td>\n",
       "    </tr>\n",
       "    <tr>\n",
       "      <th>11</th>\n",
       "      <td>1.000000</td>\n",
       "      <td>3.000000e-07</td>\n",
       "      <td>2.500000e-08</td>\n",
       "      <td>2.000000e-08</td>\n",
       "      <td>2</td>\n",
       "    </tr>\n",
       "    <tr>\n",
       "      <th>12</th>\n",
       "      <td>1.000000</td>\n",
       "      <td>4.150000e-07</td>\n",
       "      <td>4.000000e-08</td>\n",
       "      <td>2.500000e-08</td>\n",
       "      <td>2</td>\n",
       "    </tr>\n",
       "    <tr>\n",
       "      <th>13</th>\n",
       "      <td>0.999999</td>\n",
       "      <td>5.200000e-07</td>\n",
       "      <td>4.000000e-08</td>\n",
       "      <td>2.500000e-08</td>\n",
       "      <td>2</td>\n",
       "    </tr>\n",
       "    <tr>\n",
       "      <th>14</th>\n",
       "      <td>0.999999</td>\n",
       "      <td>6.050000e-07</td>\n",
       "      <td>4.000000e-08</td>\n",
       "      <td>2.500000e-08</td>\n",
       "      <td>2</td>\n",
       "    </tr>\n",
       "    <tr>\n",
       "      <th>15</th>\n",
       "      <td>0.999999</td>\n",
       "      <td>7.800000e-07</td>\n",
       "      <td>4.500000e-08</td>\n",
       "      <td>3.500000e-08</td>\n",
       "      <td>2</td>\n",
       "    </tr>\n",
       "    <tr>\n",
       "      <th>16</th>\n",
       "      <td>0.999999</td>\n",
       "      <td>9.850000e-07</td>\n",
       "      <td>5.500000e-08</td>\n",
       "      <td>9.500000e-08</td>\n",
       "      <td>2</td>\n",
       "    </tr>\n",
       "    <tr>\n",
       "      <th>17</th>\n",
       "      <td>0.999998</td>\n",
       "      <td>1.345000e-06</td>\n",
       "      <td>7.500000e-08</td>\n",
       "      <td>1.250000e-07</td>\n",
       "      <td>2</td>\n",
       "    </tr>\n",
       "    <tr>\n",
       "      <th>18</th>\n",
       "      <td>0.999998</td>\n",
       "      <td>1.605000e-06</td>\n",
       "      <td>8.000000e-08</td>\n",
       "      <td>1.600000e-07</td>\n",
       "      <td>2</td>\n",
       "    </tr>\n",
       "    <tr>\n",
       "      <th>19</th>\n",
       "      <td>0.999998</td>\n",
       "      <td>1.960000e-06</td>\n",
       "      <td>1.000000e-07</td>\n",
       "      <td>1.900000e-07</td>\n",
       "      <td>2</td>\n",
       "    </tr>\n",
       "    <tr>\n",
       "      <th>20</th>\n",
       "      <td>0.999997</td>\n",
       "      <td>2.185000e-06</td>\n",
       "      <td>1.450000e-07</td>\n",
       "      <td>2.400000e-07</td>\n",
       "      <td>2</td>\n",
       "    </tr>\n",
       "    <tr>\n",
       "      <th>21</th>\n",
       "      <td>0.999997</td>\n",
       "      <td>2.500000e-06</td>\n",
       "      <td>1.500000e-07</td>\n",
       "      <td>2.450000e-07</td>\n",
       "      <td>2</td>\n",
       "    </tr>\n",
       "    <tr>\n",
       "      <th>22</th>\n",
       "      <td>0.999997</td>\n",
       "      <td>3.000000e-06</td>\n",
       "      <td>1.500000e-07</td>\n",
       "      <td>2.750000e-07</td>\n",
       "      <td>2</td>\n",
       "    </tr>\n",
       "    <tr>\n",
       "      <th>23</th>\n",
       "      <td>0.999996</td>\n",
       "      <td>3.505000e-06</td>\n",
       "      <td>1.550000e-07</td>\n",
       "      <td>2.900000e-07</td>\n",
       "      <td>2</td>\n",
       "    </tr>\n",
       "    <tr>\n",
       "      <th>24</th>\n",
       "      <td>0.999996</td>\n",
       "      <td>3.900000e-06</td>\n",
       "      <td>1.750000e-07</td>\n",
       "      <td>3.900000e-07</td>\n",
       "      <td>2</td>\n",
       "    </tr>\n",
       "    <tr>\n",
       "      <th>25</th>\n",
       "      <td>0.999995</td>\n",
       "      <td>4.565000e-06</td>\n",
       "      <td>2.300000e-07</td>\n",
       "      <td>4.350000e-07</td>\n",
       "      <td>2</td>\n",
       "    </tr>\n",
       "    <tr>\n",
       "      <th>26</th>\n",
       "      <td>0.999994</td>\n",
       "      <td>4.970000e-06</td>\n",
       "      <td>2.950000e-07</td>\n",
       "      <td>5.100000e-07</td>\n",
       "      <td>2</td>\n",
       "    </tr>\n",
       "    <tr>\n",
       "      <th>27</th>\n",
       "      <td>0.999994</td>\n",
       "      <td>5.535000e-06</td>\n",
       "      <td>3.200000e-07</td>\n",
       "      <td>5.700000e-07</td>\n",
       "      <td>2</td>\n",
       "    </tr>\n",
       "    <tr>\n",
       "      <th>28</th>\n",
       "      <td>0.999993</td>\n",
       "      <td>6.085000e-06</td>\n",
       "      <td>3.750000e-07</td>\n",
       "      <td>6.100000e-07</td>\n",
       "      <td>2</td>\n",
       "    </tr>\n",
       "    <tr>\n",
       "      <th>29</th>\n",
       "      <td>0.999992</td>\n",
       "      <td>6.555000e-06</td>\n",
       "      <td>4.050000e-07</td>\n",
       "      <td>6.800000e-07</td>\n",
       "      <td>2</td>\n",
       "    </tr>\n",
       "    <tr>\n",
       "      <th>30</th>\n",
       "      <td>0.999992</td>\n",
       "      <td>7.085000e-06</td>\n",
       "      <td>5.150000e-07</td>\n",
       "      <td>7.850000e-07</td>\n",
       "      <td>2</td>\n",
       "    </tr>\n",
       "    <tr>\n",
       "      <th>31</th>\n",
       "      <td>0.999991</td>\n",
       "      <td>7.540000e-06</td>\n",
       "      <td>5.600000e-07</td>\n",
       "      <td>8.500000e-07</td>\n",
       "      <td>2</td>\n",
       "    </tr>\n",
       "    <tr>\n",
       "      <th>32</th>\n",
       "      <td>0.999990</td>\n",
       "      <td>8.355000e-06</td>\n",
       "      <td>6.700000e-07</td>\n",
       "      <td>9.050000e-07</td>\n",
       "      <td>2</td>\n",
       "    </tr>\n",
       "    <tr>\n",
       "      <th>33</th>\n",
       "      <td>0.999990</td>\n",
       "      <td>8.755000e-06</td>\n",
       "      <td>7.500000e-07</td>\n",
       "      <td>9.550000e-07</td>\n",
       "      <td>2</td>\n",
       "    </tr>\n",
       "    <tr>\n",
       "      <th>34</th>\n",
       "      <td>0.999989</td>\n",
       "      <td>9.555000e-06</td>\n",
       "      <td>8.200000e-07</td>\n",
       "      <td>9.900000e-07</td>\n",
       "      <td>2</td>\n",
       "    </tr>\n",
       "    <tr>\n",
       "      <th>35</th>\n",
       "      <td>0.999988</td>\n",
       "      <td>1.045000e-05</td>\n",
       "      <td>9.600000e-07</td>\n",
       "      <td>1.045000e-06</td>\n",
       "      <td>2</td>\n",
       "    </tr>\n",
       "    <tr>\n",
       "      <th>36</th>\n",
       "      <td>0.999986</td>\n",
       "      <td>1.156500e-05</td>\n",
       "      <td>1.020000e-06</td>\n",
       "      <td>1.105000e-06</td>\n",
       "      <td>2</td>\n",
       "    </tr>\n",
       "    <tr>\n",
       "      <th>37</th>\n",
       "      <td>0.999985</td>\n",
       "      <td>1.247000e-05</td>\n",
       "      <td>1.110000e-06</td>\n",
       "      <td>1.200000e-06</td>\n",
       "      <td>2</td>\n",
       "    </tr>\n",
       "    <tr>\n",
       "      <th>38</th>\n",
       "      <td>0.999984</td>\n",
       "      <td>1.380500e-05</td>\n",
       "      <td>1.260000e-06</td>\n",
       "      <td>1.400000e-06</td>\n",
       "      <td>2</td>\n",
       "    </tr>\n",
       "    <tr>\n",
       "      <th>39</th>\n",
       "      <td>0.999982</td>\n",
       "      <td>1.462000e-05</td>\n",
       "      <td>1.410000e-06</td>\n",
       "      <td>1.530000e-06</td>\n",
       "      <td>2</td>\n",
       "    </tr>\n",
       "    <tr>\n",
       "      <th>40</th>\n",
       "      <td>0.999981</td>\n",
       "      <td>1.614500e-05</td>\n",
       "      <td>1.430000e-06</td>\n",
       "      <td>1.635000e-06</td>\n",
       "      <td>2</td>\n",
       "    </tr>\n",
       "    <tr>\n",
       "      <th>41</th>\n",
       "      <td>0.999979</td>\n",
       "      <td>1.754500e-05</td>\n",
       "      <td>1.795000e-06</td>\n",
       "      <td>1.865000e-06</td>\n",
       "      <td>2</td>\n",
       "    </tr>\n",
       "  </tbody>\n",
       "</table>\n",
       "</div>"
      ],
      "text/plain": [
       "         Sus           Inf           Rec           Dea  weight\n",
       "0   1.000000  1.000000e-08  0.000000e+00  0.000000e+00       2\n",
       "1   1.000000  1.000000e-08  0.000000e+00  0.000000e+00       2\n",
       "2   1.000000  1.000000e-08  0.000000e+00  0.000000e+00       2\n",
       "3   1.000000  1.000000e-08  0.000000e+00  0.000000e+00       2\n",
       "4   1.000000  2.000000e-08  0.000000e+00  0.000000e+00       2\n",
       "5   1.000000  2.000000e-08  0.000000e+00  0.000000e+00       2\n",
       "6   1.000000  3.000000e-08  0.000000e+00  0.000000e+00       2\n",
       "7   1.000000  9.500000e-08  0.000000e+00  0.000000e+00       2\n",
       "8   1.000000  1.350000e-07  0.000000e+00  0.000000e+00       2\n",
       "9   1.000000  1.500000e-07  1.000000e-08  1.000000e-08       2\n",
       "10  1.000000  1.350000e-07  1.500000e-08  2.000000e-08       2\n",
       "11  1.000000  3.000000e-07  2.500000e-08  2.000000e-08       2\n",
       "12  1.000000  4.150000e-07  4.000000e-08  2.500000e-08       2\n",
       "13  0.999999  5.200000e-07  4.000000e-08  2.500000e-08       2\n",
       "14  0.999999  6.050000e-07  4.000000e-08  2.500000e-08       2\n",
       "15  0.999999  7.800000e-07  4.500000e-08  3.500000e-08       2\n",
       "16  0.999999  9.850000e-07  5.500000e-08  9.500000e-08       2\n",
       "17  0.999998  1.345000e-06  7.500000e-08  1.250000e-07       2\n",
       "18  0.999998  1.605000e-06  8.000000e-08  1.600000e-07       2\n",
       "19  0.999998  1.960000e-06  1.000000e-07  1.900000e-07       2\n",
       "20  0.999997  2.185000e-06  1.450000e-07  2.400000e-07       2\n",
       "21  0.999997  2.500000e-06  1.500000e-07  2.450000e-07       2\n",
       "22  0.999997  3.000000e-06  1.500000e-07  2.750000e-07       2\n",
       "23  0.999996  3.505000e-06  1.550000e-07  2.900000e-07       2\n",
       "24  0.999996  3.900000e-06  1.750000e-07  3.900000e-07       2\n",
       "25  0.999995  4.565000e-06  2.300000e-07  4.350000e-07       2\n",
       "26  0.999994  4.970000e-06  2.950000e-07  5.100000e-07       2\n",
       "27  0.999994  5.535000e-06  3.200000e-07  5.700000e-07       2\n",
       "28  0.999993  6.085000e-06  3.750000e-07  6.100000e-07       2\n",
       "29  0.999992  6.555000e-06  4.050000e-07  6.800000e-07       2\n",
       "30  0.999992  7.085000e-06  5.150000e-07  7.850000e-07       2\n",
       "31  0.999991  7.540000e-06  5.600000e-07  8.500000e-07       2\n",
       "32  0.999990  8.355000e-06  6.700000e-07  9.050000e-07       2\n",
       "33  0.999990  8.755000e-06  7.500000e-07  9.550000e-07       2\n",
       "34  0.999989  9.555000e-06  8.200000e-07  9.900000e-07       2\n",
       "35  0.999988  1.045000e-05  9.600000e-07  1.045000e-06       2\n",
       "36  0.999986  1.156500e-05  1.020000e-06  1.105000e-06       2\n",
       "37  0.999985  1.247000e-05  1.110000e-06  1.200000e-06       2\n",
       "38  0.999984  1.380500e-05  1.260000e-06  1.400000e-06       2\n",
       "39  0.999982  1.462000e-05  1.410000e-06  1.530000e-06       2\n",
       "40  0.999981  1.614500e-05  1.430000e-06  1.635000e-06       2\n",
       "41  0.999979  1.754500e-05  1.795000e-06  1.865000e-06       2"
      ]
     },
     "execution_count": 8,
     "metadata": {},
     "output_type": "execute_result"
    }
   ],
   "source": [
    "df_daily_sird"
   ]
  },
  {
   "cell_type": "code",
   "execution_count": 9,
   "metadata": {},
   "outputs": [
    {
     "data": {
      "text/plain": [
       "<matplotlib.axes._subplots.AxesSubplot at 0x1c22c0f250>"
      ]
     },
     "execution_count": 9,
     "metadata": {},
     "output_type": "execute_result"
    },
    {
     "data": {
      "image/png": "[encoded data removed]",
      "text/plain": [
       "<Figure size 720x576 with 1 Axes>"
      ]
     },
     "metadata": {
      "needs_background": "light"
     },
     "output_type": "display_data"
    }
   ],
   "source": [
    "df_daily_sird[['Inf','Rec','Dea']].plot(figsize=(10,8))"
   ]
  },
  {
   "cell_type": "code",
   "execution_count": null,
   "metadata": {},
   "outputs": [],
   "source": []
  },
  {
   "cell_type": "code",
   "execution_count": null,
   "metadata": {},
   "outputs": [],
   "source": []
  },
  {
   "cell_type": "markdown",
   "metadata": {},
   "source": [
    "## Tuning Parameter SIRD Model\n",
    "\n",
    "The tuning parameter is more focus on I and R.. meanwhile the newest data is more influence the model than the last one.. (using weight)"
   ]
  },
  {
   "cell_type": "code",
   "execution_count": 10,
   "metadata": {},
   "outputs": [],
   "source": [
    "# param_b,param_r,param_m"
   ]
  },
  {
   "cell_type": "code",
   "execution_count": 11,
   "metadata": {},
   "outputs": [],
   "source": [
    "## Summary\n",
    "## First 23 day --> [0.30421772, 0.01571879, 0.02715623] (1.13785449363775)\n",
    "## First 25 day --> [0.2942096 , 0.01569591, 0.02679847] (2.7496582873743516)\n",
    "## First 27 day --> [0.282616  , 0.01432964, 0.02584207] (5.365068009)\n",
    "## First 28 day --> [0.27636661, 0.01389041, 0.02523562]\n",
    "## First 34 day --> [0.25272228, 0.01689525, 0.02514914] (61.60118585319816)\n",
    "## First 42 day --> [0.22767359, 0.02074732, 0.0213562 ] (255.07607154442)"
   ]
  },
  {
   "cell_type": "code",
   "execution_count": 12,
   "metadata": {},
   "outputs": [
    {
     "data": {
      "text/plain": [
       "(42, 5)"
      ]
     },
     "execution_count": 12,
     "metadata": {},
     "output_type": "execute_result"
    }
   ],
   "source": [
    "df_daily_sird.shape"
   ]
  },
  {
   "cell_type": "code",
   "execution_count": null,
   "metadata": {
    "scrolled": true
   },
   "outputs": [],
   "source": []
  },
  {
   "cell_type": "markdown",
   "metadata": {},
   "source": [
    "### Training All Data"
   ]
  },
  {
   "cell_type": "code",
   "execution_count": 13,
   "metadata": {},
   "outputs": [],
   "source": [
    "## all current data\n",
    "df_daily0=df_daily_sird.copy()\n",
    "prt=int(len(df_daily0)/5)+1\n",
    "weight_ls=[3.5]*prt+[3]*prt+[0.3]*prt+[0.1]*prt+[0.05]*prt\n",
    "weight_ls2=weight_ls[:len(df_daily0)]\n",
    "weight_ls2.sort()\n",
    "df_daily0['weight']=weight_ls2"
   ]
  },
  {
   "cell_type": "code",
   "execution_count": 14,
   "metadata": {},
   "outputs": [
    {
     "data": {
      "text/html": [
       "<div>\n",
       "<style scoped>\n",
       "    .dataframe tbody tr th:only-of-type {\n",
       "        vertical-align: middle;\n",
       "    }\n",
       "\n",
       "    .dataframe tbody tr th {\n",
       "        vertical-align: top;\n",
       "    }\n",
       "\n",
       "    .dataframe thead th {\n",
       "        text-align: right;\n",
       "    }\n",
       "</style>\n",
       "<table border=\"1\" class=\"dataframe\">\n",
       "  <thead>\n",
       "    <tr style=\"text-align: right;\">\n",
       "      <th></th>\n",
       "      <th>Sus</th>\n",
       "      <th>Inf</th>\n",
       "      <th>Rec</th>\n",
       "      <th>Dea</th>\n",
       "      <th>weight</th>\n",
       "    </tr>\n",
       "  </thead>\n",
       "  <tbody>\n",
       "    <tr>\n",
       "      <th>37</th>\n",
       "      <td>0.999985</td>\n",
       "      <td>0.000012</td>\n",
       "      <td>0.000001</td>\n",
       "      <td>0.000001</td>\n",
       "      <td>3.5</td>\n",
       "    </tr>\n",
       "    <tr>\n",
       "      <th>38</th>\n",
       "      <td>0.999984</td>\n",
       "      <td>0.000014</td>\n",
       "      <td>0.000001</td>\n",
       "      <td>0.000001</td>\n",
       "      <td>3.5</td>\n",
       "    </tr>\n",
       "    <tr>\n",
       "      <th>39</th>\n",
       "      <td>0.999982</td>\n",
       "      <td>0.000015</td>\n",
       "      <td>0.000001</td>\n",
       "      <td>0.000002</td>\n",
       "      <td>3.5</td>\n",
       "    </tr>\n",
       "    <tr>\n",
       "      <th>40</th>\n",
       "      <td>0.999981</td>\n",
       "      <td>0.000016</td>\n",
       "      <td>0.000001</td>\n",
       "      <td>0.000002</td>\n",
       "      <td>3.5</td>\n",
       "    </tr>\n",
       "    <tr>\n",
       "      <th>41</th>\n",
       "      <td>0.999979</td>\n",
       "      <td>0.000018</td>\n",
       "      <td>0.000002</td>\n",
       "      <td>0.000002</td>\n",
       "      <td>3.5</td>\n",
       "    </tr>\n",
       "  </tbody>\n",
       "</table>\n",
       "</div>"
      ],
      "text/plain": [
       "         Sus       Inf       Rec       Dea  weight\n",
       "37  0.999985  0.000012  0.000001  0.000001     3.5\n",
       "38  0.999984  0.000014  0.000001  0.000001     3.5\n",
       "39  0.999982  0.000015  0.000001  0.000002     3.5\n",
       "40  0.999981  0.000016  0.000001  0.000002     3.5\n",
       "41  0.999979  0.000018  0.000002  0.000002     3.5"
      ]
     },
     "execution_count": 14,
     "metadata": {},
     "output_type": "execute_result"
    }
   ],
   "source": [
    "df_daily0.tail()"
   ]
  },
  {
   "cell_type": "code",
   "execution_count": 19,
   "metadata": {
    "scrolled": true
   },
   "outputs": [
    {
     "name": "stderr",
     "output_type": "stream",
     "text": [
      "2020-04-12 22:08:52,165 - pyswarms.single.global_best - INFO - Optimize for 20 iters with {'c1': 0.15, 'c2': 0.95, 'w': 0.25}\n",
      "pyswarms.single.global_best: 100%|██████████|20/20, best_cost=356\n",
      "2020-04-12 22:09:11,000 - pyswarms.single.global_best - INFO - Optimization finished | best cost: 356.3698711517976, best pos: [0.29737067 0.02528526 0.08935134]\n",
      "2020-04-12 22:09:11,018 - pyswarms.single.global_best - INFO - Optimize for 20 iters with {'c1': 0.15, 'c2': 0.95, 'w': 0.25}\n",
      "pyswarms.single.global_best: 100%|██████████|20/20, best_cost=660   \n",
      "2020-04-12 22:09:29,629 - pyswarms.single.global_best - INFO - Optimization finished | best cost: 660.1418585035774, best pos: [0.40864025 0.08026195 0.15228144]\n",
      "2020-04-12 22:09:29,648 - pyswarms.single.global_best - INFO - Optimize for 20 iters with {'c1': 0.15, 'c2': 0.95, 'w': 0.25}\n",
      "pyswarms.single.global_best: 100%|██████████|20/20, best_cost=255\n",
      "2020-04-12 22:09:55,263 - pyswarms.single.global_best - INFO - Optimization finished | best cost: 255.10499511004957, best pos: [0.2258369  0.01908111 0.02112857]\n",
      "2020-04-12 22:09:55,278 - pyswarms.single.global_best - INFO - Optimize for 40 iters with {'c1': 0.15, 'c2': 0.95, 'w': 0.25}\n",
      "pyswarms.single.global_best: 100%|██████████|40/40, best_cost=277\n",
      "2020-04-12 22:10:25,141 - pyswarms.single.global_best - INFO - Optimization finished | best cost: 277.0352600782962, best pos: [0.25916641 0.03373441 0.04105927]\n"
     ]
    }
   ],
   "source": [
    "all_param,cost_value=pso_sird(df0=df_daily0,population=NUMB_OF_POPS)"
   ]
  },
  {
   "cell_type": "code",
   "execution_count": 20,
   "metadata": {},
   "outputs": [
    {
     "data": {
      "text/plain": [
       "(array([0.25916641, 0.03373441, 0.04105927]), 255.10499511004957)"
      ]
     },
     "execution_count": 20,
     "metadata": {},
     "output_type": "execute_result"
    }
   ],
   "source": [
    "all_param,cost_value"
   ]
  },
  {
   "cell_type": "code",
   "execution_count": 21,
   "metadata": {},
   "outputs": [],
   "source": [
    "# all_param=[0.27808851,0.0143996,0.02582378] # --> (8.614889469)\n",
    "all_param = [0.22767359, 0.02074732, 0.0213562 ]"
   ]
  },
  {
   "cell_type": "code",
   "execution_count": 22,
   "metadata": {},
   "outputs": [],
   "source": [
    "## Predict\n",
    "T_start = 0.0\n",
    "T_inc=1.0\n",
    "# T_end = 23+4\n",
    "T_end = 30*6\n",
    "\n",
    "I0=2/NUMB_OF_POPS\n",
    "S0=1-I0\n",
    "INPUT = (S0, I0, 0.0, 0.0)\n",
    "col_use_pred=[x+'_pred' for x in col_use]\n",
    "T_range = np.arange(T_start, T_end+T_inc, T_inc)\n",
    "RES = sird_model(all_param,INPUT,T_range)\n",
    "df_sird_pred=pd.DataFrame(RES,columns=['Sus_pred','Inf_pred','Rec_pred','Dea_pred'])*NUMB_OF_POPS"
   ]
  },
  {
   "cell_type": "code",
   "execution_count": 23,
   "metadata": {},
   "outputs": [
    {
     "data": {
      "text/html": [
       "<div>\n",
       "<style scoped>\n",
       "    .dataframe tbody tr th:only-of-type {\n",
       "        vertical-align: middle;\n",
       "    }\n",
       "\n",
       "    .dataframe tbody tr th {\n",
       "        vertical-align: top;\n",
       "    }\n",
       "\n",
       "    .dataframe thead th {\n",
       "        text-align: right;\n",
       "    }\n",
       "</style>\n",
       "<table border=\"1\" class=\"dataframe\">\n",
       "  <thead>\n",
       "    <tr style=\"text-align: right;\">\n",
       "      <th></th>\n",
       "      <th>Inf</th>\n",
       "      <th>Rec</th>\n",
       "      <th>Dea</th>\n",
       "      <th>Inf_pred</th>\n",
       "      <th>Rec_pred</th>\n",
       "      <th>Dea_pred</th>\n",
       "      <th>Inf_pred_max</th>\n",
       "      <th>Inf_pred_min</th>\n",
       "      <th>Rec_pred_max</th>\n",
       "      <th>Rec_pred_min</th>\n",
       "    </tr>\n",
       "  </thead>\n",
       "  <tbody>\n",
       "    <tr>\n",
       "      <th>21</th>\n",
       "      <td>500.0</td>\n",
       "      <td>30.0</td>\n",
       "      <td>49.0</td>\n",
       "      <td>104.445400</td>\n",
       "      <td>11.453724</td>\n",
       "      <td>11.789861</td>\n",
       "      <td>533.184530</td>\n",
       "      <td>-324.293730</td>\n",
       "      <td>26.579610</td>\n",
       "      <td>-3.672161</td>\n",
       "    </tr>\n",
       "    <tr>\n",
       "      <th>22</th>\n",
       "      <td>600.0</td>\n",
       "      <td>30.0</td>\n",
       "      <td>55.0</td>\n",
       "      <td>126.046759</td>\n",
       "      <td>13.868827</td>\n",
       "      <td>14.275841</td>\n",
       "      <td>554.785889</td>\n",
       "      <td>-302.692371</td>\n",
       "      <td>28.994712</td>\n",
       "      <td>-1.257059</td>\n",
       "    </tr>\n",
       "    <tr>\n",
       "      <th>23</th>\n",
       "      <td>701.0</td>\n",
       "      <td>31.0</td>\n",
       "      <td>58.0</td>\n",
       "      <td>151.866207</td>\n",
       "      <td>16.755526</td>\n",
       "      <td>17.247257</td>\n",
       "      <td>580.605337</td>\n",
       "      <td>-276.872923</td>\n",
       "      <td>31.881411</td>\n",
       "      <td>1.629640</td>\n",
       "    </tr>\n",
       "    <tr>\n",
       "      <th>24</th>\n",
       "      <td>780.0</td>\n",
       "      <td>35.0</td>\n",
       "      <td>78.0</td>\n",
       "      <td>183.792556</td>\n",
       "      <td>20.324997</td>\n",
       "      <td>20.921483</td>\n",
       "      <td>612.531686</td>\n",
       "      <td>-244.946574</td>\n",
       "      <td>35.450883</td>\n",
       "      <td>5.199112</td>\n",
       "    </tr>\n",
       "    <tr>\n",
       "      <th>25</th>\n",
       "      <td>913.0</td>\n",
       "      <td>46.0</td>\n",
       "      <td>87.0</td>\n",
       "      <td>221.913999</td>\n",
       "      <td>24.587102</td>\n",
       "      <td>25.308670</td>\n",
       "      <td>650.653129</td>\n",
       "      <td>-206.825131</td>\n",
       "      <td>39.712988</td>\n",
       "      <td>9.461216</td>\n",
       "    </tr>\n",
       "    <tr>\n",
       "      <th>26</th>\n",
       "      <td>994.0</td>\n",
       "      <td>59.0</td>\n",
       "      <td>102.0</td>\n",
       "      <td>267.101672</td>\n",
       "      <td>29.639236</td>\n",
       "      <td>30.509071</td>\n",
       "      <td>695.840801</td>\n",
       "      <td>-161.637458</td>\n",
       "      <td>44.765122</td>\n",
       "      <td>14.513350</td>\n",
       "    </tr>\n",
       "    <tr>\n",
       "      <th>27</th>\n",
       "      <td>1107.0</td>\n",
       "      <td>64.0</td>\n",
       "      <td>114.0</td>\n",
       "      <td>322.379575</td>\n",
       "      <td>35.819495</td>\n",
       "      <td>36.870704</td>\n",
       "      <td>751.118705</td>\n",
       "      <td>-106.359555</td>\n",
       "      <td>50.945380</td>\n",
       "      <td>20.693609</td>\n",
       "    </tr>\n",
       "    <tr>\n",
       "      <th>28</th>\n",
       "      <td>1217.0</td>\n",
       "      <td>75.0</td>\n",
       "      <td>122.0</td>\n",
       "      <td>388.324371</td>\n",
       "      <td>43.192351</td>\n",
       "      <td>44.459935</td>\n",
       "      <td>817.063501</td>\n",
       "      <td>-40.414758</td>\n",
       "      <td>58.318237</td>\n",
       "      <td>28.066466</td>\n",
       "    </tr>\n",
       "    <tr>\n",
       "      <th>29</th>\n",
       "      <td>1311.0</td>\n",
       "      <td>81.0</td>\n",
       "      <td>136.0</td>\n",
       "      <td>468.900760</td>\n",
       "      <td>52.201077</td>\n",
       "      <td>53.733043</td>\n",
       "      <td>897.639890</td>\n",
       "      <td>40.161631</td>\n",
       "      <td>67.326963</td>\n",
       "      <td>37.075191</td>\n",
       "    </tr>\n",
       "  </tbody>\n",
       "</table>\n",
       "</div>"
      ],
      "text/plain": [
       "       Inf   Rec    Dea    Inf_pred   Rec_pred   Dea_pred  Inf_pred_max  \\\n",
       "21   500.0  30.0   49.0  104.445400  11.453724  11.789861    533.184530   \n",
       "22   600.0  30.0   55.0  126.046759  13.868827  14.275841    554.785889   \n",
       "23   701.0  31.0   58.0  151.866207  16.755526  17.247257    580.605337   \n",
       "24   780.0  35.0   78.0  183.792556  20.324997  20.921483    612.531686   \n",
       "25   913.0  46.0   87.0  221.913999  24.587102  25.308670    650.653129   \n",
       "26   994.0  59.0  102.0  267.101672  29.639236  30.509071    695.840801   \n",
       "27  1107.0  64.0  114.0  322.379575  35.819495  36.870704    751.118705   \n",
       "28  1217.0  75.0  122.0  388.324371  43.192351  44.459935    817.063501   \n",
       "29  1311.0  81.0  136.0  468.900760  52.201077  53.733043    897.639890   \n",
       "\n",
       "    Inf_pred_min  Rec_pred_max  Rec_pred_min  \n",
       "21   -324.293730     26.579610     -3.672161  \n",
       "22   -302.692371     28.994712     -1.257059  \n",
       "23   -276.872923     31.881411      1.629640  \n",
       "24   -244.946574     35.450883      5.199112  \n",
       "25   -206.825131     39.712988      9.461216  \n",
       "26   -161.637458     44.765122     14.513350  \n",
       "27   -106.359555     50.945380     20.693609  \n",
       "28    -40.414758     58.318237     28.066466  \n",
       "29     40.161631     67.326963     37.075191  "
      ]
     },
     "execution_count": 23,
     "metadata": {},
     "output_type": "execute_result"
    }
   ],
   "source": [
    "data_check=pd.concat([df_daily[['Inf','Rec','Dea']],df_sird_pred[['Inf_pred','Rec_pred','Dea_pred']]],axis=1)\n",
    "error_Inf=np.abs(data_check[26-prt:26]['Inf']-data_check[26-prt:26]['Inf_pred']).mean()\n",
    "error_Rec=np.abs(data_check[26-prt:26]['Rec']-data_check[26-prt:26]['Rec_pred']).mean()\n",
    "data_check['Inf_pred_max']=data_check['Inf_pred']+error_Inf\n",
    "data_check['Inf_pred_min']=data_check['Inf_pred']-error_Inf\n",
    "data_check['Rec_pred_max']=data_check['Rec_pred']+error_Rec\n",
    "data_check['Rec_pred_min']=data_check['Rec_pred']-error_Rec\n",
    "data_check[21:30]"
   ]
  },
  {
   "cell_type": "code",
   "execution_count": 24,
   "metadata": {},
   "outputs": [],
   "source": [
    "date_1 = dt.datetime.strptime(\"2020-03-02\", \"%Y-%m-%d\")\n",
    "all_date=[date_1 + dt.timedelta(days=int(i)) for i in range(T_end+1)]\n",
    "df_sird_pred.index=all_date"
   ]
  },
  {
   "cell_type": "code",
   "execution_count": null,
   "metadata": {},
   "outputs": [],
   "source": []
  },
  {
   "cell_type": "code",
   "execution_count": 26,
   "metadata": {},
   "outputs": [
    {
     "data": {
      "text/plain": [
       "<matplotlib.axes._subplots.AxesSubplot at 0x1c22ea2cd0>"
      ]
     },
     "execution_count": 26,
     "metadata": {},
     "output_type": "execute_result"
    },
    {
     "data": {
      "image/png": "[encoded data removed]",
      "text/plain": [
       "<Figure size 432x288 with 1 Axes>"
      ]
     },
     "metadata": {
      "needs_background": "light"
     },
     "output_type": "display_data"
    }
   ],
   "source": [
    "check_col='Dea'\n",
    "data_check[:35][[check_col,check_col+'_pred']].plot()"
   ]
  },
  {
   "cell_type": "code",
   "execution_count": 27,
   "metadata": {},
   "outputs": [],
   "source": [
    "# df_sird_pred['Dea_pred'].max()"
   ]
  },
  {
   "cell_type": "code",
   "execution_count": 28,
   "metadata": {},
   "outputs": [
    {
     "data": {
      "image/png": "[encoded data removed]",
      "text/plain": [
       "<Figure size 720x576 with 1 Axes>"
      ]
     },
     "metadata": {
      "needs_background": "light"
     },
     "output_type": "display_data"
    }
   ],
   "source": [
    "# df_sird_pred[['Inf_pred','Rec_pred','Dea_pred']].plot(figsize=(10,8))\n",
    "txt='SIRD Model \\ndengan Interaction Daily Rate = '+str(all_param[0])+' and \\nRecovery Daily Rate = '+str(\n",
    "            all_param[1])+' \\nand Death Daily Rate = '+str(all_param[2])+'\\n(Masih Prediksi Kasar)'\n",
    "sird_plot =df_sird_pred.plot(figsize=(10,8),title=txt)\n",
    "fig = sird_plot.get_figure()\n",
    "fig.savefig(PATH_IMG+CURR_DATE+\"sird_result.png\")"
   ]
  },
  {
   "cell_type": "code",
   "execution_count": null,
   "metadata": {},
   "outputs": [],
   "source": []
  },
  {
   "cell_type": "markdown",
   "metadata": {},
   "source": [
    "## Rate Changes"
   ]
  },
  {
   "cell_type": "code",
   "execution_count": 29,
   "metadata": {},
   "outputs": [],
   "source": [
    "## Summary\n",
    "Param_changes=[[23, 0.30421772, 0.01571879, 0.02715623],\n",
    "[25,0.2942096 , 0.01569591, 0.02679847], \n",
    "[27,0.282616  , 0.01432964, 0.02584207],\n",
    "[28,0.27636661, 0.01389041, 0.02523562],\n",
    "[34,0.25272228, 0.01689525, 0.02514914],\n",
    "[42,0.22767359, 0.02074732, 0.0213562 ]]\n",
    "\n",
    "df_Param_changes=pd.DataFrame(Param_changes,columns=['Days','Contact Daily Rate','Recovery Daily Rate','Death Daily Rate'])\n",
    "df_Param_changes.index=df_Param_changes.Days\n",
    "del df_Param_changes['Days']\n"
   ]
  },
  {
   "cell_type": "code",
   "execution_count": 30,
   "metadata": {},
   "outputs": [
    {
     "data": {
      "text/html": [
       "<div>\n",
       "<style scoped>\n",
       "    .dataframe tbody tr th:only-of-type {\n",
       "        vertical-align: middle;\n",
       "    }\n",
       "\n",
       "    .dataframe tbody tr th {\n",
       "        vertical-align: top;\n",
       "    }\n",
       "\n",
       "    .dataframe thead th {\n",
       "        text-align: right;\n",
       "    }\n",
       "</style>\n",
       "<table border=\"1\" class=\"dataframe\">\n",
       "  <thead>\n",
       "    <tr style=\"text-align: right;\">\n",
       "      <th></th>\n",
       "      <th>Contact Daily Rate</th>\n",
       "      <th>Recovery Daily Rate</th>\n",
       "      <th>Death Daily Rate</th>\n",
       "    </tr>\n",
       "    <tr>\n",
       "      <th>Days</th>\n",
       "      <th></th>\n",
       "      <th></th>\n",
       "      <th></th>\n",
       "    </tr>\n",
       "  </thead>\n",
       "  <tbody>\n",
       "    <tr>\n",
       "      <th>23</th>\n",
       "      <td>0.304218</td>\n",
       "      <td>0.015719</td>\n",
       "      <td>0.027156</td>\n",
       "    </tr>\n",
       "    <tr>\n",
       "      <th>25</th>\n",
       "      <td>0.294210</td>\n",
       "      <td>0.015696</td>\n",
       "      <td>0.026798</td>\n",
       "    </tr>\n",
       "    <tr>\n",
       "      <th>27</th>\n",
       "      <td>0.282616</td>\n",
       "      <td>0.014330</td>\n",
       "      <td>0.025842</td>\n",
       "    </tr>\n",
       "    <tr>\n",
       "      <th>28</th>\n",
       "      <td>0.276367</td>\n",
       "      <td>0.013890</td>\n",
       "      <td>0.025236</td>\n",
       "    </tr>\n",
       "    <tr>\n",
       "      <th>34</th>\n",
       "      <td>0.252722</td>\n",
       "      <td>0.016895</td>\n",
       "      <td>0.025149</td>\n",
       "    </tr>\n",
       "    <tr>\n",
       "      <th>42</th>\n",
       "      <td>0.227674</td>\n",
       "      <td>0.020747</td>\n",
       "      <td>0.021356</td>\n",
       "    </tr>\n",
       "  </tbody>\n",
       "</table>\n",
       "</div>"
      ],
      "text/plain": [
       "      Contact Daily Rate  Recovery Daily Rate  Death Daily Rate\n",
       "Days                                                           \n",
       "23              0.304218             0.015719          0.027156\n",
       "25              0.294210             0.015696          0.026798\n",
       "27              0.282616             0.014330          0.025842\n",
       "28              0.276367             0.013890          0.025236\n",
       "34              0.252722             0.016895          0.025149\n",
       "42              0.227674             0.020747          0.021356"
      ]
     },
     "execution_count": 30,
     "metadata": {},
     "output_type": "execute_result"
    }
   ],
   "source": [
    "df_Param_changes"
   ]
  },
  {
   "cell_type": "code",
   "execution_count": 31,
   "metadata": {},
   "outputs": [
    {
     "data": {
      "text/plain": [
       "<matplotlib.axes._subplots.AxesSubplot at 0x1c230fec50>"
      ]
     },
     "execution_count": 31,
     "metadata": {},
     "output_type": "execute_result"
    },
    {
     "data": {
      "image/png": "[encoded data removed]",
      "text/plain": [
       "<Figure size 432x288 with 1 Axes>"
      ]
     },
     "metadata": {
      "needs_background": "light"
     },
     "output_type": "display_data"
    }
   ],
   "source": [
    "df_Param_changes[['Contact Daily Rate']].plot(kind='bar')"
   ]
  },
  {
   "cell_type": "code",
   "execution_count": 32,
   "metadata": {},
   "outputs": [
    {
     "data": {
      "text/plain": [
       "<matplotlib.axes._subplots.AxesSubplot at 0x1c230d7050>"
      ]
     },
     "execution_count": 32,
     "metadata": {},
     "output_type": "execute_result"
    },
    {
     "data": {
      "image/png": "[encoded data removed]",
      "text/plain": [
       "<Figure size 432x288 with 1 Axes>"
      ]
     },
     "metadata": {
      "needs_background": "light"
     },
     "output_type": "display_data"
    }
   ],
   "source": [
    "df_Param_changes[['Recovery Daily Rate','Death Daily Rate']].plot()"
   ]
  },
  {
   "cell_type": "code",
   "execution_count": null,
   "metadata": {},
   "outputs": [],
   "source": []
  },
  {
   "cell_type": "code",
   "execution_count": null,
   "metadata": {},
   "outputs": [],
   "source": []
  },
  {
   "cell_type": "markdown",
   "metadata": {},
   "source": [
    "## Conclusion\n",
    "\n",
    "..."
   ]
  },
  {
   "cell_type": "code",
   "execution_count": null,
   "metadata": {},
   "outputs": [],
   "source": []
  },
  {
   "cell_type": "code",
   "execution_count": null,
   "metadata": {},
   "outputs": [],
   "source": []
  }
 ],
 "metadata": {
  "kernelspec": {
   "display_name": "py37_env",
   "language": "python",
   "name": "myenv"
  },
  "language_info": {
   "codemirror_mode": {
    "name": "ipython",
    "version": 3
   },
   "file_extension": ".py",
   "mimetype": "text/x-python",
   "name": "python",
   "nbconvert_exporter": "python",
   "pygments_lexer": "ipython3",
   "version": "3.7.6"
  }
 },
 "nbformat": 4,
 "nbformat_minor": 4
}
