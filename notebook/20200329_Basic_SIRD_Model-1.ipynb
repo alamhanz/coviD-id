{
 "cells": [
  {
   "cell_type": "markdown",
   "metadata": {},
   "source": [
    "# SIRD Model\n",
    "\n",
    "Basic SIRD model for Indonesia Covid \n",
    "(data until 20200329) using PSO optimization"
   ]
  },
  {
   "cell_type": "markdown",
   "metadata": {},
   "source": [
    "![SIRD](../images/Scheme-of-Susceptible-Infectious-Recovered-Death-SIRD-Model-Boxes-represent.png)"
   ]
  },
  {
   "cell_type": "code",
   "execution_count": 46,
   "metadata": {},
   "outputs": [],
   "source": [
    "PATH_DATA = '../data/raw/'\n",
    "PATH_DATA_INTERIM = '../data/interim/'\n",
    "PATH_SRC='../src/'\n",
    "PATH_IMG='../images/'"
   ]
  },
  {
   "cell_type": "code",
   "execution_count": 2,
   "metadata": {},
   "outputs": [],
   "source": [
    "import ipywidgets as widgets\n",
    "from ipywidgets import interact, interact_manual"
   ]
  },
  {
   "cell_type": "code",
   "execution_count": 3,
   "metadata": {},
   "outputs": [],
   "source": [
    "import pandas as pd\n",
    "import scipy.integrate as spi\n",
    "import numpy as np\n",
    "import seaborn as sns\n",
    "from sklearn.linear_model import LinearRegression\n",
    "import statsmodels.api as sm\n",
    "import matplotlib.pyplot as plt\n",
    "import datetime as dt\n",
    "import pyswarms as ps\n",
    "import sys\n",
    "\n",
    "sys.path.insert(1, PATH_SRC)\n",
    "from covid_model import sird_model, pso_sird"
   ]
  },
  {
   "cell_type": "code",
   "execution_count": 4,
   "metadata": {},
   "outputs": [],
   "source": [
    "## Assumption\n",
    "NUMB_OF_POPS=200000000\n",
    "CURR_DATE='20200329'"
   ]
  },
  {
   "cell_type": "code",
   "execution_count": null,
   "metadata": {},
   "outputs": [],
   "source": []
  },
  {
   "cell_type": "markdown",
   "metadata": {},
   "source": [
    "## Get The Data\n",
    "\n",
    "Getting the data and do the summary"
   ]
  },
  {
   "cell_type": "code",
   "execution_count": 5,
   "metadata": {},
   "outputs": [],
   "source": [
    "col_use=['Sus','Inf','Rec','Dea']\n",
    "col_use_pred=[x+'_pred' for x in col_use]"
   ]
  },
  {
   "cell_type": "code",
   "execution_count": 45,
   "metadata": {},
   "outputs": [],
   "source": [
    "## Get The Raw Data\n",
    "df_daily=pd.read_csv(PATH_DATA+CURR_DATE+'_DailyCase_ID.csv')\n",
    "df_daily=df_daily.fillna(0)\n",
    "\n",
    "## Get the compartment value\n",
    "df_daily['Rec']=df_daily['Sembuh (baru)'].cumsum()\n",
    "df_daily['Dea']=df_daily['Meninggal (baru)'].cumsum()\n",
    "df_daily['Inf']=df_daily['Kasus (Kumulatif)']-df_daily['Rec']-df_daily['Dea']\n",
    "df_daily['Sus']=NUMB_OF_POPS-df_daily['Inf']-df_daily['Rec']-df_daily['Dea']\n",
    "df_daily.to_csv(PATH_DATA_INTERIM+CURR_DATE+'_DailyCase_ID_SIRD.csv',index=False)\n",
    "\n",
    "## Standardized it by divide it by population number\n",
    "df_daily_sird=df_daily[col_use]/NUMB_OF_POPS\n",
    "df_daily_sird['weight']=2"
   ]
  },
  {
   "cell_type": "code",
   "execution_count": 7,
   "metadata": {},
   "outputs": [
    {
     "data": {
      "text/html": [
       "<div>\n",
       "<style scoped>\n",
       "    .dataframe tbody tr th:only-of-type {\n",
       "        vertical-align: middle;\n",
       "    }\n",
       "\n",
       "    .dataframe tbody tr th {\n",
       "        vertical-align: top;\n",
       "    }\n",
       "\n",
       "    .dataframe thead th {\n",
       "        text-align: right;\n",
       "    }\n",
       "</style>\n",
       "<table border=\"1\" class=\"dataframe\">\n",
       "  <thead>\n",
       "    <tr style=\"text-align: right;\">\n",
       "      <th></th>\n",
       "      <th>Sus</th>\n",
       "      <th>Inf</th>\n",
       "      <th>Rec</th>\n",
       "      <th>Dea</th>\n",
       "      <th>weight</th>\n",
       "    </tr>\n",
       "  </thead>\n",
       "  <tbody>\n",
       "    <tr>\n",
       "      <th>0</th>\n",
       "      <td>1.000000</td>\n",
       "      <td>1.000000e-08</td>\n",
       "      <td>0.000000e+00</td>\n",
       "      <td>0.000000e+00</td>\n",
       "      <td>2</td>\n",
       "    </tr>\n",
       "    <tr>\n",
       "      <th>1</th>\n",
       "      <td>1.000000</td>\n",
       "      <td>1.000000e-08</td>\n",
       "      <td>0.000000e+00</td>\n",
       "      <td>0.000000e+00</td>\n",
       "      <td>2</td>\n",
       "    </tr>\n",
       "    <tr>\n",
       "      <th>2</th>\n",
       "      <td>1.000000</td>\n",
       "      <td>1.000000e-08</td>\n",
       "      <td>0.000000e+00</td>\n",
       "      <td>0.000000e+00</td>\n",
       "      <td>2</td>\n",
       "    </tr>\n",
       "    <tr>\n",
       "      <th>3</th>\n",
       "      <td>1.000000</td>\n",
       "      <td>1.000000e-08</td>\n",
       "      <td>0.000000e+00</td>\n",
       "      <td>0.000000e+00</td>\n",
       "      <td>2</td>\n",
       "    </tr>\n",
       "    <tr>\n",
       "      <th>4</th>\n",
       "      <td>1.000000</td>\n",
       "      <td>2.000000e-08</td>\n",
       "      <td>0.000000e+00</td>\n",
       "      <td>0.000000e+00</td>\n",
       "      <td>2</td>\n",
       "    </tr>\n",
       "    <tr>\n",
       "      <th>5</th>\n",
       "      <td>1.000000</td>\n",
       "      <td>2.000000e-08</td>\n",
       "      <td>0.000000e+00</td>\n",
       "      <td>0.000000e+00</td>\n",
       "      <td>2</td>\n",
       "    </tr>\n",
       "    <tr>\n",
       "      <th>6</th>\n",
       "      <td>1.000000</td>\n",
       "      <td>3.000000e-08</td>\n",
       "      <td>0.000000e+00</td>\n",
       "      <td>0.000000e+00</td>\n",
       "      <td>2</td>\n",
       "    </tr>\n",
       "    <tr>\n",
       "      <th>7</th>\n",
       "      <td>1.000000</td>\n",
       "      <td>9.500000e-08</td>\n",
       "      <td>0.000000e+00</td>\n",
       "      <td>0.000000e+00</td>\n",
       "      <td>2</td>\n",
       "    </tr>\n",
       "    <tr>\n",
       "      <th>8</th>\n",
       "      <td>1.000000</td>\n",
       "      <td>1.350000e-07</td>\n",
       "      <td>0.000000e+00</td>\n",
       "      <td>0.000000e+00</td>\n",
       "      <td>2</td>\n",
       "    </tr>\n",
       "    <tr>\n",
       "      <th>9</th>\n",
       "      <td>1.000000</td>\n",
       "      <td>1.500000e-07</td>\n",
       "      <td>1.000000e-08</td>\n",
       "      <td>1.000000e-08</td>\n",
       "      <td>2</td>\n",
       "    </tr>\n",
       "    <tr>\n",
       "      <th>10</th>\n",
       "      <td>1.000000</td>\n",
       "      <td>1.350000e-07</td>\n",
       "      <td>1.500000e-08</td>\n",
       "      <td>2.000000e-08</td>\n",
       "      <td>2</td>\n",
       "    </tr>\n",
       "    <tr>\n",
       "      <th>11</th>\n",
       "      <td>1.000000</td>\n",
       "      <td>3.000000e-07</td>\n",
       "      <td>2.500000e-08</td>\n",
       "      <td>2.000000e-08</td>\n",
       "      <td>2</td>\n",
       "    </tr>\n",
       "    <tr>\n",
       "      <th>12</th>\n",
       "      <td>1.000000</td>\n",
       "      <td>4.150000e-07</td>\n",
       "      <td>4.000000e-08</td>\n",
       "      <td>2.500000e-08</td>\n",
       "      <td>2</td>\n",
       "    </tr>\n",
       "    <tr>\n",
       "      <th>13</th>\n",
       "      <td>0.999999</td>\n",
       "      <td>5.200000e-07</td>\n",
       "      <td>4.000000e-08</td>\n",
       "      <td>2.500000e-08</td>\n",
       "      <td>2</td>\n",
       "    </tr>\n",
       "    <tr>\n",
       "      <th>14</th>\n",
       "      <td>0.999999</td>\n",
       "      <td>6.050000e-07</td>\n",
       "      <td>4.000000e-08</td>\n",
       "      <td>2.500000e-08</td>\n",
       "      <td>2</td>\n",
       "    </tr>\n",
       "    <tr>\n",
       "      <th>15</th>\n",
       "      <td>0.999999</td>\n",
       "      <td>7.800000e-07</td>\n",
       "      <td>4.500000e-08</td>\n",
       "      <td>3.500000e-08</td>\n",
       "      <td>2</td>\n",
       "    </tr>\n",
       "    <tr>\n",
       "      <th>16</th>\n",
       "      <td>0.999999</td>\n",
       "      <td>9.850000e-07</td>\n",
       "      <td>5.500000e-08</td>\n",
       "      <td>9.500000e-08</td>\n",
       "      <td>2</td>\n",
       "    </tr>\n",
       "    <tr>\n",
       "      <th>17</th>\n",
       "      <td>0.999998</td>\n",
       "      <td>1.345000e-06</td>\n",
       "      <td>7.500000e-08</td>\n",
       "      <td>1.250000e-07</td>\n",
       "      <td>2</td>\n",
       "    </tr>\n",
       "    <tr>\n",
       "      <th>18</th>\n",
       "      <td>0.999998</td>\n",
       "      <td>1.605000e-06</td>\n",
       "      <td>8.000000e-08</td>\n",
       "      <td>1.600000e-07</td>\n",
       "      <td>2</td>\n",
       "    </tr>\n",
       "    <tr>\n",
       "      <th>19</th>\n",
       "      <td>0.999998</td>\n",
       "      <td>1.960000e-06</td>\n",
       "      <td>1.000000e-07</td>\n",
       "      <td>1.900000e-07</td>\n",
       "      <td>2</td>\n",
       "    </tr>\n",
       "    <tr>\n",
       "      <th>20</th>\n",
       "      <td>0.999997</td>\n",
       "      <td>2.185000e-06</td>\n",
       "      <td>1.450000e-07</td>\n",
       "      <td>2.400000e-07</td>\n",
       "      <td>2</td>\n",
       "    </tr>\n",
       "    <tr>\n",
       "      <th>21</th>\n",
       "      <td>0.999997</td>\n",
       "      <td>2.500000e-06</td>\n",
       "      <td>1.500000e-07</td>\n",
       "      <td>2.450000e-07</td>\n",
       "      <td>2</td>\n",
       "    </tr>\n",
       "    <tr>\n",
       "      <th>22</th>\n",
       "      <td>0.999997</td>\n",
       "      <td>3.000000e-06</td>\n",
       "      <td>1.500000e-07</td>\n",
       "      <td>2.750000e-07</td>\n",
       "      <td>2</td>\n",
       "    </tr>\n",
       "    <tr>\n",
       "      <th>23</th>\n",
       "      <td>0.999996</td>\n",
       "      <td>3.505000e-06</td>\n",
       "      <td>1.550000e-07</td>\n",
       "      <td>2.900000e-07</td>\n",
       "      <td>2</td>\n",
       "    </tr>\n",
       "    <tr>\n",
       "      <th>24</th>\n",
       "      <td>0.999996</td>\n",
       "      <td>3.900000e-06</td>\n",
       "      <td>1.750000e-07</td>\n",
       "      <td>3.900000e-07</td>\n",
       "      <td>2</td>\n",
       "    </tr>\n",
       "    <tr>\n",
       "      <th>25</th>\n",
       "      <td>0.999995</td>\n",
       "      <td>4.565000e-06</td>\n",
       "      <td>2.300000e-07</td>\n",
       "      <td>4.350000e-07</td>\n",
       "      <td>2</td>\n",
       "    </tr>\n",
       "    <tr>\n",
       "      <th>26</th>\n",
       "      <td>0.999994</td>\n",
       "      <td>4.970000e-06</td>\n",
       "      <td>2.950000e-07</td>\n",
       "      <td>5.100000e-07</td>\n",
       "      <td>2</td>\n",
       "    </tr>\n",
       "  </tbody>\n",
       "</table>\n",
       "</div>"
      ],
      "text/plain": [
       "         Sus           Inf           Rec           Dea  weight\n",
       "0   1.000000  1.000000e-08  0.000000e+00  0.000000e+00       2\n",
       "1   1.000000  1.000000e-08  0.000000e+00  0.000000e+00       2\n",
       "2   1.000000  1.000000e-08  0.000000e+00  0.000000e+00       2\n",
       "3   1.000000  1.000000e-08  0.000000e+00  0.000000e+00       2\n",
       "4   1.000000  2.000000e-08  0.000000e+00  0.000000e+00       2\n",
       "5   1.000000  2.000000e-08  0.000000e+00  0.000000e+00       2\n",
       "6   1.000000  3.000000e-08  0.000000e+00  0.000000e+00       2\n",
       "7   1.000000  9.500000e-08  0.000000e+00  0.000000e+00       2\n",
       "8   1.000000  1.350000e-07  0.000000e+00  0.000000e+00       2\n",
       "9   1.000000  1.500000e-07  1.000000e-08  1.000000e-08       2\n",
       "10  1.000000  1.350000e-07  1.500000e-08  2.000000e-08       2\n",
       "11  1.000000  3.000000e-07  2.500000e-08  2.000000e-08       2\n",
       "12  1.000000  4.150000e-07  4.000000e-08  2.500000e-08       2\n",
       "13  0.999999  5.200000e-07  4.000000e-08  2.500000e-08       2\n",
       "14  0.999999  6.050000e-07  4.000000e-08  2.500000e-08       2\n",
       "15  0.999999  7.800000e-07  4.500000e-08  3.500000e-08       2\n",
       "16  0.999999  9.850000e-07  5.500000e-08  9.500000e-08       2\n",
       "17  0.999998  1.345000e-06  7.500000e-08  1.250000e-07       2\n",
       "18  0.999998  1.605000e-06  8.000000e-08  1.600000e-07       2\n",
       "19  0.999998  1.960000e-06  1.000000e-07  1.900000e-07       2\n",
       "20  0.999997  2.185000e-06  1.450000e-07  2.400000e-07       2\n",
       "21  0.999997  2.500000e-06  1.500000e-07  2.450000e-07       2\n",
       "22  0.999997  3.000000e-06  1.500000e-07  2.750000e-07       2\n",
       "23  0.999996  3.505000e-06  1.550000e-07  2.900000e-07       2\n",
       "24  0.999996  3.900000e-06  1.750000e-07  3.900000e-07       2\n",
       "25  0.999995  4.565000e-06  2.300000e-07  4.350000e-07       2\n",
       "26  0.999994  4.970000e-06  2.950000e-07  5.100000e-07       2"
      ]
     },
     "execution_count": 7,
     "metadata": {},
     "output_type": "execute_result"
    }
   ],
   "source": [
    "df_daily_sird"
   ]
  },
  {
   "cell_type": "code",
   "execution_count": 8,
   "metadata": {},
   "outputs": [
    {
     "data": {
      "text/plain": [
       "<matplotlib.axes._subplots.AxesSubplot at 0x107f1a110>"
      ]
     },
     "execution_count": 8,
     "metadata": {},
     "output_type": "execute_result"
    },
    {
     "data": {
      "image/png": "[encoded data removed]",
      "text/plain": [
       "<Figure size 720x576 with 1 Axes>"
      ]
     },
     "metadata": {
      "needs_background": "light"
     },
     "output_type": "display_data"
    }
   ],
   "source": [
    "df_daily_sird[['Inf','Rec','Dea']].plot(figsize=(10,8))"
   ]
  },
  {
   "cell_type": "code",
   "execution_count": null,
   "metadata": {},
   "outputs": [],
   "source": []
  },
  {
   "cell_type": "markdown",
   "metadata": {},
   "source": [
    "## Tuning Parameter SIRD Model\n",
    "\n",
    "The tuning parameter is more focus on I and R.. meanwhile the newest data is more influence the model than the last one.. (using weight)"
   ]
  },
  {
   "cell_type": "code",
   "execution_count": 9,
   "metadata": {},
   "outputs": [],
   "source": [
    "# param_b,param_r,param_m"
   ]
  },
  {
   "cell_type": "code",
   "execution_count": 10,
   "metadata": {},
   "outputs": [],
   "source": [
    "## Summary\n",
    "## First 23 day --> [0.30421772, 0.01571879, 0.02715623] (1.13785449363775)\n",
    "## First 25 day --> [0.2942096 , 0.01569591, 0.02679847] (2.7496582873743516)\n",
    "## All current Data --> [0.282616  , 0.01432964, 0.02584207] (5.365068009)\n"
   ]
  },
  {
   "cell_type": "code",
   "execution_count": null,
   "metadata": {
    "scrolled": true
   },
   "outputs": [],
   "source": []
  },
  {
   "cell_type": "markdown",
   "metadata": {},
   "source": [
    "### Training with first 23st day \n",
    "\n",
    "Train the parameter with first 23st day..\n",
    "compare the result for the next 4 day.."
   ]
  },
  {
   "cell_type": "code",
   "execution_count": 12,
   "metadata": {},
   "outputs": [
    {
     "name": "stderr",
     "output_type": "stream",
     "text": [
      "/Users/alamhanz/anaconda/envs/py37_env/lib/python3.7/site-packages/ipykernel_launcher.py:7: SettingWithCopyWarning: \n",
      "A value is trying to be set on a copy of a slice from a DataFrame.\n",
      "Try using .loc[row_indexer,col_indexer] = value instead\n",
      "\n",
      "See the caveats in the documentation: http://pandas.pydata.org/pandas-docs/stable/user_guide/indexing.html#returning-a-view-versus-a-copy\n",
      "  import sys\n"
     ]
    }
   ],
   "source": [
    "## first 23\n",
    "df_daily0=df_daily_sird[:23]\n",
    "prt=int(len(df_daily0)/4)+1\n",
    "weight_ls=[3.5]*prt+[2]*prt+[1]*prt+[0.5]*prt\n",
    "weight_ls2=weight_ls[:len(df_daily0)]\n",
    "weight_ls2.sort()\n",
    "df_daily0['weight']=weight_ls2"
   ]
  },
  {
   "cell_type": "code",
   "execution_count": 13,
   "metadata": {},
   "outputs": [
    {
     "data": {
      "text/html": [
       "<div>\n",
       "<style scoped>\n",
       "    .dataframe tbody tr th:only-of-type {\n",
       "        vertical-align: middle;\n",
       "    }\n",
       "\n",
       "    .dataframe tbody tr th {\n",
       "        vertical-align: top;\n",
       "    }\n",
       "\n",
       "    .dataframe thead th {\n",
       "        text-align: right;\n",
       "    }\n",
       "</style>\n",
       "<table border=\"1\" class=\"dataframe\">\n",
       "  <thead>\n",
       "    <tr style=\"text-align: right;\">\n",
       "      <th></th>\n",
       "      <th>Sus</th>\n",
       "      <th>Inf</th>\n",
       "      <th>Rec</th>\n",
       "      <th>Dea</th>\n",
       "      <th>weight</th>\n",
       "    </tr>\n",
       "  </thead>\n",
       "  <tbody>\n",
       "    <tr>\n",
       "      <th>18</th>\n",
       "      <td>0.999998</td>\n",
       "      <td>0.000002</td>\n",
       "      <td>8.000000e-08</td>\n",
       "      <td>1.600000e-07</td>\n",
       "      <td>3.5</td>\n",
       "    </tr>\n",
       "    <tr>\n",
       "      <th>19</th>\n",
       "      <td>0.999998</td>\n",
       "      <td>0.000002</td>\n",
       "      <td>1.000000e-07</td>\n",
       "      <td>1.900000e-07</td>\n",
       "      <td>3.5</td>\n",
       "    </tr>\n",
       "    <tr>\n",
       "      <th>20</th>\n",
       "      <td>0.999997</td>\n",
       "      <td>0.000002</td>\n",
       "      <td>1.450000e-07</td>\n",
       "      <td>2.400000e-07</td>\n",
       "      <td>3.5</td>\n",
       "    </tr>\n",
       "    <tr>\n",
       "      <th>21</th>\n",
       "      <td>0.999997</td>\n",
       "      <td>0.000003</td>\n",
       "      <td>1.500000e-07</td>\n",
       "      <td>2.450000e-07</td>\n",
       "      <td>3.5</td>\n",
       "    </tr>\n",
       "    <tr>\n",
       "      <th>22</th>\n",
       "      <td>0.999997</td>\n",
       "      <td>0.000003</td>\n",
       "      <td>1.500000e-07</td>\n",
       "      <td>2.750000e-07</td>\n",
       "      <td>3.5</td>\n",
       "    </tr>\n",
       "  </tbody>\n",
       "</table>\n",
       "</div>"
      ],
      "text/plain": [
       "         Sus       Inf           Rec           Dea  weight\n",
       "18  0.999998  0.000002  8.000000e-08  1.600000e-07     3.5\n",
       "19  0.999998  0.000002  1.000000e-07  1.900000e-07     3.5\n",
       "20  0.999997  0.000002  1.450000e-07  2.400000e-07     3.5\n",
       "21  0.999997  0.000003  1.500000e-07  2.450000e-07     3.5\n",
       "22  0.999997  0.000003  1.500000e-07  2.750000e-07     3.5"
      ]
     },
     "execution_count": 13,
     "metadata": {},
     "output_type": "execute_result"
    }
   ],
   "source": [
    "df_daily0.tail()"
   ]
  },
  {
   "cell_type": "code",
   "execution_count": 13,
   "metadata": {
    "scrolled": true
   },
   "outputs": [
    {
     "name": "stderr",
     "output_type": "stream",
     "text": [
      "2020-03-29 18:47:33,272 - pyswarms.single.global_best - INFO - Optimize for 20 iters with {'c1': 0.15, 'c2': 0.95, 'w': 0.25}\n",
      "pyswarms.single.global_best:   0%|          |0/20/Users/alamhanz/anaconda/envs/py37_env/lib/python3.7/site-packages/pandas/core/frame.py:3509: SettingWithCopyWarning: \n",
      "A value is trying to be set on a copy of a slice from a DataFrame.\n",
      "Try using .loc[row_indexer,col_indexer] = value instead\n",
      "\n",
      "See the caveats in the documentation: http://pandas.pydata.org/pandas-docs/stable/user_guide/indexing.html#returning-a-view-versus-a-copy\n",
      "  self[k1] = value[k2]\n",
      "pyswarms.single.global_best: 100%|██████████|20/20, best_cost=1.14\n",
      "2020-03-29 18:47:49,475 - pyswarms.single.global_best - INFO - Optimization finished | best cost: 1.13785487457048, best pos: [0.30422245 0.01574597 0.02713631]\n",
      "2020-03-29 18:47:49,487 - pyswarms.single.global_best - INFO - Optimize for 20 iters with {'c1': 0.15, 'c2': 0.95, 'w': 0.25}\n",
      "pyswarms.single.global_best: 100%|██████████|20/20, best_cost=1.26\n",
      "2020-03-29 18:48:05,222 - pyswarms.single.global_best - INFO - Optimization finished | best cost: 1.256106055441527, best pos: [0.32759171 0.02522222 0.04264962]\n",
      "2020-03-29 18:48:05,234 - pyswarms.single.global_best - INFO - Optimize for 20 iters with {'c1': 0.15, 'c2': 0.95, 'w': 0.25}\n",
      "pyswarms.single.global_best: 100%|██████████|20/20, best_cost=1.42\n",
      "2020-03-29 18:48:20,925 - pyswarms.single.global_best - INFO - Optimization finished | best cost: 1.422941960469049, best pos: [0.3407504  0.02777873 0.05415033]\n",
      "2020-03-29 18:48:20,937 - pyswarms.single.global_best - INFO - Optimize for 40 iters with {'c1': 0.15, 'c2': 0.95, 'w': 0.25}\n",
      "pyswarms.single.global_best: 100%|██████████|40/40, best_cost=1.14\n",
      "2020-03-29 18:48:45,133 - pyswarms.single.global_best - INFO - Optimization finished | best cost: 1.1378544936377588, best pos: [0.30421772 0.01571879 0.02715623]\n"
     ]
    }
   ],
   "source": [
    "all_param,cost_value=pso_sird(df0=df_daily0,population=NUMB_OF_POPS)"
   ]
  },
  {
   "cell_type": "code",
   "execution_count": 14,
   "metadata": {},
   "outputs": [
    {
     "data": {
      "text/plain": [
       "(array([0.30421772, 0.01571879, 0.02715623]), 1.1378544936377588)"
      ]
     },
     "execution_count": 14,
     "metadata": {},
     "output_type": "execute_result"
    }
   ],
   "source": [
    "# all_param,cost_value\n",
    "# all_param=[0.30421772, 0.01571879, 0.02715623] (1.13785449363775)\n",
    "all_param,cost_value"
   ]
  },
  {
   "cell_type": "code",
   "execution_count": 15,
   "metadata": {},
   "outputs": [],
   "source": [
    "## Predict\n",
    "T_start = 0.0\n",
    "T_inc=1.0\n",
    "T_end = 23+4\n",
    "I0=2/NUMB_OF_POPS\n",
    "S0=1-I0\n",
    "INPUT = (S0, I0, 0.0, 0.0)\n",
    "col_use_pred=[x+'_pred' for x in col_use]\n",
    "T_range = np.arange(T_start, T_end+T_inc, T_inc)\n",
    "RES = sird_model(all_param,INPUT,T_range)\n",
    "df_sird_pred=pd.DataFrame(RES,columns=['Sus_pred','Inf_pred','Rec_pred','Dea_pred'])*NUMB_OF_POPS"
   ]
  },
  {
   "cell_type": "code",
   "execution_count": 16,
   "metadata": {},
   "outputs": [
    {
     "data": {
      "text/html": [
       "<div>\n",
       "<style scoped>\n",
       "    .dataframe tbody tr th:only-of-type {\n",
       "        vertical-align: middle;\n",
       "    }\n",
       "\n",
       "    .dataframe tbody tr th {\n",
       "        vertical-align: top;\n",
       "    }\n",
       "\n",
       "    .dataframe thead th {\n",
       "        text-align: right;\n",
       "    }\n",
       "</style>\n",
       "<table border=\"1\" class=\"dataframe\">\n",
       "  <thead>\n",
       "    <tr style=\"text-align: right;\">\n",
       "      <th></th>\n",
       "      <th>Inf</th>\n",
       "      <th>Rec</th>\n",
       "      <th>Dea</th>\n",
       "      <th>Inf_pred</th>\n",
       "      <th>Rec_pred</th>\n",
       "      <th>Dea_pred</th>\n",
       "      <th>Rec_pred_max</th>\n",
       "      <th>Rec_pred_min</th>\n",
       "      <th>Inf_pred_max</th>\n",
       "      <th>Inf_pred_min</th>\n",
       "    </tr>\n",
       "  </thead>\n",
       "  <tbody>\n",
       "    <tr>\n",
       "      <th>15</th>\n",
       "      <td>156.0</td>\n",
       "      <td>9.0</td>\n",
       "      <td>7.0</td>\n",
       "      <td>106.571076</td>\n",
       "      <td>6.289563</td>\n",
       "      <td>10.866031</td>\n",
       "      <td>10.399978</td>\n",
       "      <td>2.179147</td>\n",
       "      <td>171.990722</td>\n",
       "      <td>41.151430</td>\n",
       "    </tr>\n",
       "    <tr>\n",
       "      <th>16</th>\n",
       "      <td>197.0</td>\n",
       "      <td>11.0</td>\n",
       "      <td>19.0</td>\n",
       "      <td>139.351063</td>\n",
       "      <td>8.261159</td>\n",
       "      <td>14.272217</td>\n",
       "      <td>12.371574</td>\n",
       "      <td>4.150743</td>\n",
       "      <td>204.770709</td>\n",
       "      <td>73.931417</td>\n",
       "    </tr>\n",
       "    <tr>\n",
       "      <th>17</th>\n",
       "      <td>269.0</td>\n",
       "      <td>15.0</td>\n",
       "      <td>25.0</td>\n",
       "      <td>181.275693</td>\n",
       "      <td>10.782772</td>\n",
       "      <td>18.628629</td>\n",
       "      <td>14.893187</td>\n",
       "      <td>6.672356</td>\n",
       "      <td>246.695339</td>\n",
       "      <td>115.856047</td>\n",
       "    </tr>\n",
       "    <tr>\n",
       "      <th>18</th>\n",
       "      <td>321.0</td>\n",
       "      <td>16.0</td>\n",
       "      <td>32.0</td>\n",
       "      <td>236.793288</td>\n",
       "      <td>14.121953</td>\n",
       "      <td>24.397496</td>\n",
       "      <td>18.232369</td>\n",
       "      <td>10.011538</td>\n",
       "      <td>302.212934</td>\n",
       "      <td>171.373642</td>\n",
       "    </tr>\n",
       "    <tr>\n",
       "      <th>19</th>\n",
       "      <td>392.0</td>\n",
       "      <td>20.0</td>\n",
       "      <td>38.0</td>\n",
       "      <td>308.587151</td>\n",
       "      <td>18.440095</td>\n",
       "      <td>31.857642</td>\n",
       "      <td>22.550510</td>\n",
       "      <td>14.329680</td>\n",
       "      <td>374.006797</td>\n",
       "      <td>243.167505</td>\n",
       "    </tr>\n",
       "    <tr>\n",
       "      <th>20</th>\n",
       "      <td>437.0</td>\n",
       "      <td>29.0</td>\n",
       "      <td>48.0</td>\n",
       "      <td>401.234117</td>\n",
       "      <td>24.012478</td>\n",
       "      <td>41.484653</td>\n",
       "      <td>28.122894</td>\n",
       "      <td>19.902063</td>\n",
       "      <td>466.653763</td>\n",
       "      <td>335.814471</td>\n",
       "    </tr>\n",
       "    <tr>\n",
       "      <th>21</th>\n",
       "      <td>500.0</td>\n",
       "      <td>30.0</td>\n",
       "      <td>49.0</td>\n",
       "      <td>521.806772</td>\n",
       "      <td>31.264497</td>\n",
       "      <td>54.013452</td>\n",
       "      <td>35.374913</td>\n",
       "      <td>27.154082</td>\n",
       "      <td>587.226418</td>\n",
       "      <td>456.387126</td>\n",
       "    </tr>\n",
       "    <tr>\n",
       "      <th>22</th>\n",
       "      <td>600.0</td>\n",
       "      <td>30.0</td>\n",
       "      <td>55.0</td>\n",
       "      <td>679.601354</td>\n",
       "      <td>40.755293</td>\n",
       "      <td>70.410025</td>\n",
       "      <td>44.865709</td>\n",
       "      <td>36.644878</td>\n",
       "      <td>745.021000</td>\n",
       "      <td>614.181708</td>\n",
       "    </tr>\n",
       "    <tr>\n",
       "      <th>23</th>\n",
       "      <td>701.0</td>\n",
       "      <td>31.0</td>\n",
       "      <td>58.0</td>\n",
       "      <td>884.001747</td>\n",
       "      <td>53.049282</td>\n",
       "      <td>91.649476</td>\n",
       "      <td>57.159697</td>\n",
       "      <td>48.938866</td>\n",
       "      <td>949.421393</td>\n",
       "      <td>818.582101</td>\n",
       "    </tr>\n",
       "    <tr>\n",
       "      <th>24</th>\n",
       "      <td>780.0</td>\n",
       "      <td>35.0</td>\n",
       "      <td>78.0</td>\n",
       "      <td>1149.915700</td>\n",
       "      <td>69.043127</td>\n",
       "      <td>119.280907</td>\n",
       "      <td>73.153543</td>\n",
       "      <td>64.932712</td>\n",
       "      <td>1215.335346</td>\n",
       "      <td>1084.496054</td>\n",
       "    </tr>\n",
       "    <tr>\n",
       "      <th>25</th>\n",
       "      <td>913.0</td>\n",
       "      <td>46.0</td>\n",
       "      <td>87.0</td>\n",
       "      <td>1495.155277</td>\n",
       "      <td>89.808190</td>\n",
       "      <td>155.155231</td>\n",
       "      <td>93.918605</td>\n",
       "      <td>85.697775</td>\n",
       "      <td>1560.574923</td>\n",
       "      <td>1429.735631</td>\n",
       "    </tr>\n",
       "    <tr>\n",
       "      <th>26</th>\n",
       "      <td>994.0</td>\n",
       "      <td>59.0</td>\n",
       "      <td>102.0</td>\n",
       "      <td>1944.040394</td>\n",
       "      <td>116.807276</td>\n",
       "      <td>201.799634</td>\n",
       "      <td>120.917691</td>\n",
       "      <td>112.696861</td>\n",
       "      <td>2009.460040</td>\n",
       "      <td>1878.620748</td>\n",
       "    </tr>\n",
       "    <tr>\n",
       "      <th>27</th>\n",
       "      <td>NaN</td>\n",
       "      <td>NaN</td>\n",
       "      <td>NaN</td>\n",
       "      <td>2527.577968</td>\n",
       "      <td>151.905425</td>\n",
       "      <td>262.436214</td>\n",
       "      <td>156.015841</td>\n",
       "      <td>147.795010</td>\n",
       "      <td>2592.997614</td>\n",
       "      <td>2462.158322</td>\n",
       "    </tr>\n",
       "  </tbody>\n",
       "</table>\n",
       "</div>"
      ],
      "text/plain": [
       "      Inf   Rec    Dea     Inf_pred    Rec_pred    Dea_pred  Rec_pred_max  \\\n",
       "15  156.0   9.0    7.0   106.571076    6.289563   10.866031     10.399978   \n",
       "16  197.0  11.0   19.0   139.351063    8.261159   14.272217     12.371574   \n",
       "17  269.0  15.0   25.0   181.275693   10.782772   18.628629     14.893187   \n",
       "18  321.0  16.0   32.0   236.793288   14.121953   24.397496     18.232369   \n",
       "19  392.0  20.0   38.0   308.587151   18.440095   31.857642     22.550510   \n",
       "20  437.0  29.0   48.0   401.234117   24.012478   41.484653     28.122894   \n",
       "21  500.0  30.0   49.0   521.806772   31.264497   54.013452     35.374913   \n",
       "22  600.0  30.0   55.0   679.601354   40.755293   70.410025     44.865709   \n",
       "23  701.0  31.0   58.0   884.001747   53.049282   91.649476     57.159697   \n",
       "24  780.0  35.0   78.0  1149.915700   69.043127  119.280907     73.153543   \n",
       "25  913.0  46.0   87.0  1495.155277   89.808190  155.155231     93.918605   \n",
       "26  994.0  59.0  102.0  1944.040394  116.807276  201.799634    120.917691   \n",
       "27    NaN   NaN    NaN  2527.577968  151.905425  262.436214    156.015841   \n",
       "\n",
       "    Rec_pred_min  Inf_pred_max  Inf_pred_min  \n",
       "15      2.179147    171.990722     41.151430  \n",
       "16      4.150743    204.770709     73.931417  \n",
       "17      6.672356    246.695339    115.856047  \n",
       "18     10.011538    302.212934    171.373642  \n",
       "19     14.329680    374.006797    243.167505  \n",
       "20     19.902063    466.653763    335.814471  \n",
       "21     27.154082    587.226418    456.387126  \n",
       "22     36.644878    745.021000    614.181708  \n",
       "23     48.938866    949.421393    818.582101  \n",
       "24     64.932712   1215.335346   1084.496054  \n",
       "25     85.697775   1560.574923   1429.735631  \n",
       "26    112.696861   2009.460040   1878.620748  \n",
       "27    147.795010   2592.997614   2462.158322  "
      ]
     },
     "execution_count": 16,
     "metadata": {},
     "output_type": "execute_result"
    }
   ],
   "source": [
    "data_check=pd.concat([df_daily[['Inf','Rec','Dea']],df_sird_pred[['Inf_pred','Rec_pred','Dea_pred']]],axis=1)\n",
    "error_Inf=np.abs(data_check[23-prt:23]['Inf']-data_check[23-prt:23]['Inf_pred']).mean()\n",
    "error_Rec=np.abs(data_check[23-prt:23]['Rec']-data_check[23-prt:23]['Rec_pred']).mean()\n",
    "data_check['Rec_pred_max']=data_check['Rec_pred']+error_Rec\n",
    "data_check['Rec_pred_min']=data_check['Rec_pred']-error_Rec\n",
    "data_check['Inf_pred_max']=data_check['Inf_pred']+error_Inf\n",
    "data_check['Inf_pred_min']=data_check['Inf_pred']-error_Inf\n",
    "data_check[15:] ## Above 22 is prediction"
   ]
  },
  {
   "cell_type": "code",
   "execution_count": 17,
   "metadata": {},
   "outputs": [
    {
     "data": {
      "text/plain": [
       "521.2782791689833"
      ]
     },
     "execution_count": 17,
     "metadata": {},
     "output_type": "execute_result"
    }
   ],
   "source": [
    "np.abs(data_check[23:27]['Inf']-data_check[23:27]['Inf_pred']).mean()"
   ]
  },
  {
   "cell_type": "code",
   "execution_count": 18,
   "metadata": {},
   "outputs": [
    {
     "data": {
      "text/plain": [
       "39.426968780714375"
      ]
     },
     "execution_count": 18,
     "metadata": {},
     "output_type": "execute_result"
    }
   ],
   "source": [
    "np.abs(data_check[23:27]['Rec']-data_check[23:27]['Rec_pred']).mean()"
   ]
  },
  {
   "cell_type": "code",
   "execution_count": null,
   "metadata": {},
   "outputs": [],
   "source": []
  },
  {
   "cell_type": "markdown",
   "metadata": {},
   "source": [
    "### Training with first 25st day \n",
    "\n",
    "Train the parameter with first 25st day..\n",
    "compare the result for the next 2 day.."
   ]
  },
  {
   "cell_type": "code",
   "execution_count": 19,
   "metadata": {},
   "outputs": [
    {
     "name": "stderr",
     "output_type": "stream",
     "text": [
      "/Users/alamhanz/anaconda/envs/py37_env/lib/python3.7/site-packages/ipykernel_launcher.py:7: SettingWithCopyWarning: \n",
      "A value is trying to be set on a copy of a slice from a DataFrame.\n",
      "Try using .loc[row_indexer,col_indexer] = value instead\n",
      "\n",
      "See the caveats in the documentation: http://pandas.pydata.org/pandas-docs/stable/user_guide/indexing.html#returning-a-view-versus-a-copy\n",
      "  import sys\n"
     ]
    }
   ],
   "source": [
    "## first 25\n",
    "df_daily0=df_daily_sird[:25]\n",
    "prt=int(len(df_daily0)/4)+1\n",
    "weight_ls=[3.5]*prt+[2]*prt+[1]*prt+[0.5]*prt\n",
    "weight_ls2=weight_ls[:len(df_daily0)]\n",
    "weight_ls2.sort()\n",
    "df_daily0['weight']=weight_ls2"
   ]
  },
  {
   "cell_type": "code",
   "execution_count": 20,
   "metadata": {},
   "outputs": [
    {
     "data": {
      "text/html": [
       "<div>\n",
       "<style scoped>\n",
       "    .dataframe tbody tr th:only-of-type {\n",
       "        vertical-align: middle;\n",
       "    }\n",
       "\n",
       "    .dataframe tbody tr th {\n",
       "        vertical-align: top;\n",
       "    }\n",
       "\n",
       "    .dataframe thead th {\n",
       "        text-align: right;\n",
       "    }\n",
       "</style>\n",
       "<table border=\"1\" class=\"dataframe\">\n",
       "  <thead>\n",
       "    <tr style=\"text-align: right;\">\n",
       "      <th></th>\n",
       "      <th>Sus</th>\n",
       "      <th>Inf</th>\n",
       "      <th>Rec</th>\n",
       "      <th>Dea</th>\n",
       "      <th>weight</th>\n",
       "    </tr>\n",
       "  </thead>\n",
       "  <tbody>\n",
       "    <tr>\n",
       "      <th>20</th>\n",
       "      <td>0.999997</td>\n",
       "      <td>0.000002</td>\n",
       "      <td>1.450000e-07</td>\n",
       "      <td>2.400000e-07</td>\n",
       "      <td>3.5</td>\n",
       "    </tr>\n",
       "    <tr>\n",
       "      <th>21</th>\n",
       "      <td>0.999997</td>\n",
       "      <td>0.000003</td>\n",
       "      <td>1.500000e-07</td>\n",
       "      <td>2.450000e-07</td>\n",
       "      <td>3.5</td>\n",
       "    </tr>\n",
       "    <tr>\n",
       "      <th>22</th>\n",
       "      <td>0.999997</td>\n",
       "      <td>0.000003</td>\n",
       "      <td>1.500000e-07</td>\n",
       "      <td>2.750000e-07</td>\n",
       "      <td>3.5</td>\n",
       "    </tr>\n",
       "    <tr>\n",
       "      <th>23</th>\n",
       "      <td>0.999996</td>\n",
       "      <td>0.000004</td>\n",
       "      <td>1.550000e-07</td>\n",
       "      <td>2.900000e-07</td>\n",
       "      <td>3.5</td>\n",
       "    </tr>\n",
       "    <tr>\n",
       "      <th>24</th>\n",
       "      <td>0.999996</td>\n",
       "      <td>0.000004</td>\n",
       "      <td>1.750000e-07</td>\n",
       "      <td>3.900000e-07</td>\n",
       "      <td>3.5</td>\n",
       "    </tr>\n",
       "  </tbody>\n",
       "</table>\n",
       "</div>"
      ],
      "text/plain": [
       "         Sus       Inf           Rec           Dea  weight\n",
       "20  0.999997  0.000002  1.450000e-07  2.400000e-07     3.5\n",
       "21  0.999997  0.000003  1.500000e-07  2.450000e-07     3.5\n",
       "22  0.999997  0.000003  1.500000e-07  2.750000e-07     3.5\n",
       "23  0.999996  0.000004  1.550000e-07  2.900000e-07     3.5\n",
       "24  0.999996  0.000004  1.750000e-07  3.900000e-07     3.5"
      ]
     },
     "execution_count": 20,
     "metadata": {},
     "output_type": "execute_result"
    }
   ],
   "source": [
    "df_daily0.tail()"
   ]
  },
  {
   "cell_type": "code",
   "execution_count": 21,
   "metadata": {
    "scrolled": true
   },
   "outputs": [
    {
     "name": "stderr",
     "output_type": "stream",
     "text": [
      "2020-03-29 18:49:22,468 - pyswarms.single.global_best - INFO - Optimize for 20 iters with {'c1': 0.15, 'c2': 0.95, 'w': 0.25}\n",
      "pyswarms.single.global_best: 100%|██████████|20/20, best_cost=6.64\n",
      "2020-03-29 18:49:39,465 - pyswarms.single.global_best - INFO - Optimization finished | best cost: 6.641908087978618, best pos: [0.39529562 0.06460647 0.08685332]\n",
      "2020-03-29 18:49:39,477 - pyswarms.single.global_best - INFO - Optimize for 20 iters with {'c1': 0.15, 'c2': 0.95, 'w': 0.25}\n",
      "pyswarms.single.global_best: 100%|██████████|20/20, best_cost=2.75\n",
      "2020-03-29 18:49:57,233 - pyswarms.single.global_best - INFO - Optimization finished | best cost: 2.7496582873743516, best pos: [0.2920497  0.01284591 0.0274068 ]\n",
      "2020-03-29 18:49:57,246 - pyswarms.single.global_best - INFO - Optimize for 20 iters with {'c1': 0.15, 'c2': 0.95, 'w': 0.25}\n",
      "pyswarms.single.global_best: 100%|██████████|20/20, best_cost=3.65\n",
      "2020-03-29 18:50:13,458 - pyswarms.single.global_best - INFO - Optimization finished | best cost: 3.6533370402919885, best pos: [0.33820543 0.0336686  0.05567892]\n",
      "2020-03-29 18:50:13,470 - pyswarms.single.global_best - INFO - Optimize for 40 iters with {'c1': 0.15, 'c2': 0.95, 'w': 0.25}\n",
      "pyswarms.single.global_best: 100%|██████████|40/40, best_cost=2.75\n",
      "2020-03-29 18:50:37,215 - pyswarms.single.global_best - INFO - Optimization finished | best cost: 2.7526397643002154, best pos: [0.2942096  0.01569591 0.02679847]\n"
     ]
    }
   ],
   "source": [
    "all_param,cost_value=pso_sird(df0=df_daily0,population=NUMB_OF_POPS)"
   ]
  },
  {
   "cell_type": "code",
   "execution_count": 22,
   "metadata": {},
   "outputs": [
    {
     "data": {
      "text/plain": [
       "(array([0.2942096 , 0.01569591, 0.02679847]), 2.7496582873743516)"
      ]
     },
     "execution_count": 22,
     "metadata": {},
     "output_type": "execute_result"
    }
   ],
   "source": [
    "# all_param,cost_value\n",
    "# all_param=[0.2942096 , 0.01569591, 0.02679847] (2.7496582873743516)\n",
    "all_param,cost_value"
   ]
  },
  {
   "cell_type": "code",
   "execution_count": 23,
   "metadata": {},
   "outputs": [],
   "source": [
    "## Predict\n",
    "T_start = 0.0\n",
    "T_inc=1.0\n",
    "# T_end = 23+4\n",
    "T_end = 30*6\n",
    "\n",
    "I0=2/NUMB_OF_POPS\n",
    "S0=1-I0\n",
    "INPUT = (S0, I0, 0.0, 0.0)\n",
    "col_use_pred=[x+'_pred' for x in col_use]\n",
    "T_range = np.arange(T_start, T_end+T_inc, T_inc)\n",
    "RES = sird_model(all_param,INPUT,T_range)\n",
    "df_sird_pred=pd.DataFrame(RES,columns=['Sus_pred','Inf_pred','Rec_pred','Dea_pred'])*NUMB_OF_POPS"
   ]
  },
  {
   "cell_type": "code",
   "execution_count": 24,
   "metadata": {},
   "outputs": [
    {
     "data": {
      "text/html": [
       "<div>\n",
       "<style scoped>\n",
       "    .dataframe tbody tr th:only-of-type {\n",
       "        vertical-align: middle;\n",
       "    }\n",
       "\n",
       "    .dataframe tbody tr th {\n",
       "        vertical-align: top;\n",
       "    }\n",
       "\n",
       "    .dataframe thead th {\n",
       "        text-align: right;\n",
       "    }\n",
       "</style>\n",
       "<table border=\"1\" class=\"dataframe\">\n",
       "  <thead>\n",
       "    <tr style=\"text-align: right;\">\n",
       "      <th></th>\n",
       "      <th>Inf</th>\n",
       "      <th>Rec</th>\n",
       "      <th>Dea</th>\n",
       "      <th>Inf_pred</th>\n",
       "      <th>Rec_pred</th>\n",
       "      <th>Dea_pred</th>\n",
       "      <th>Inf_pred_max</th>\n",
       "      <th>Inf_pred_min</th>\n",
       "      <th>Rec_pred_max</th>\n",
       "      <th>Rec_pred_min</th>\n",
       "    </tr>\n",
       "  </thead>\n",
       "  <tbody>\n",
       "    <tr>\n",
       "      <th>20</th>\n",
       "      <td>437.0</td>\n",
       "      <td>29.0</td>\n",
       "      <td>48.0</td>\n",
       "      <td>330.234858</td>\n",
       "      <td>20.467387</td>\n",
       "      <td>34.945062</td>\n",
       "      <td>427.881257</td>\n",
       "      <td>232.588459</td>\n",
       "      <td>25.227338</td>\n",
       "      <td>15.707436</td>\n",
       "    </tr>\n",
       "    <tr>\n",
       "      <th>21</th>\n",
       "      <td>500.0</td>\n",
       "      <td>30.0</td>\n",
       "      <td>49.0</td>\n",
       "      <td>425.776257</td>\n",
       "      <td>26.424968</td>\n",
       "      <td>45.116758</td>\n",
       "      <td>523.422657</td>\n",
       "      <td>328.129858</td>\n",
       "      <td>31.184918</td>\n",
       "      <td>21.665017</td>\n",
       "    </tr>\n",
       "    <tr>\n",
       "      <th>22</th>\n",
       "      <td>600.0</td>\n",
       "      <td>30.0</td>\n",
       "      <td>55.0</td>\n",
       "      <td>548.728337</td>\n",
       "      <td>34.091775</td>\n",
       "      <td>58.206707</td>\n",
       "      <td>646.374736</td>\n",
       "      <td>451.081938</td>\n",
       "      <td>38.851726</td>\n",
       "      <td>29.331824</td>\n",
       "    </tr>\n",
       "    <tr>\n",
       "      <th>23</th>\n",
       "      <td>701.0</td>\n",
       "      <td>31.0</td>\n",
       "      <td>58.0</td>\n",
       "      <td>707.033154</td>\n",
       "      <td>43.963049</td>\n",
       "      <td>75.060460</td>\n",
       "      <td>804.679553</td>\n",
       "      <td>609.386754</td>\n",
       "      <td>48.723000</td>\n",
       "      <td>39.203098</td>\n",
       "    </tr>\n",
       "    <tr>\n",
       "      <th>24</th>\n",
       "      <td>780.0</td>\n",
       "      <td>35.0</td>\n",
       "      <td>78.0</td>\n",
       "      <td>910.980322</td>\n",
       "      <td>56.680419</td>\n",
       "      <td>96.773505</td>\n",
       "      <td>1008.626721</td>\n",
       "      <td>813.333923</td>\n",
       "      <td>61.440370</td>\n",
       "      <td>51.920468</td>\n",
       "    </tr>\n",
       "    <tr>\n",
       "      <th>25</th>\n",
       "      <td>913.0</td>\n",
       "      <td>46.0</td>\n",
       "      <td>87.0</td>\n",
       "      <td>1173.933682</td>\n",
       "      <td>73.077218</td>\n",
       "      <td>124.768636</td>\n",
       "      <td>1271.580081</td>\n",
       "      <td>1076.287282</td>\n",
       "      <td>77.837169</td>\n",
       "      <td>68.317267</td>\n",
       "    </tr>\n",
       "    <tr>\n",
       "      <th>26</th>\n",
       "      <td>994.0</td>\n",
       "      <td>59.0</td>\n",
       "      <td>102.0</td>\n",
       "      <td>1511.579435</td>\n",
       "      <td>94.131601</td>\n",
       "      <td>160.715907</td>\n",
       "      <td>1609.225834</td>\n",
       "      <td>1413.933036</td>\n",
       "      <td>98.891552</td>\n",
       "      <td>89.371650</td>\n",
       "    </tr>\n",
       "    <tr>\n",
       "      <th>27</th>\n",
       "      <td>NaN</td>\n",
       "      <td>NaN</td>\n",
       "      <td>NaN</td>\n",
       "      <td>1946.482269</td>\n",
       "      <td>121.250660</td>\n",
       "      <td>207.017725</td>\n",
       "      <td>2044.128669</td>\n",
       "      <td>1848.835870</td>\n",
       "      <td>126.010611</td>\n",
       "      <td>116.490709</td>\n",
       "    </tr>\n",
       "    <tr>\n",
       "      <th>28</th>\n",
       "      <td>NaN</td>\n",
       "      <td>NaN</td>\n",
       "      <td>NaN</td>\n",
       "      <td>2506.435961</td>\n",
       "      <td>156.167586</td>\n",
       "      <td>266.633256</td>\n",
       "      <td>2604.082360</td>\n",
       "      <td>2408.789561</td>\n",
       "      <td>160.927537</td>\n",
       "      <td>151.407635</td>\n",
       "    </tr>\n",
       "  </tbody>\n",
       "</table>\n",
       "</div>"
      ],
      "text/plain": [
       "      Inf   Rec    Dea     Inf_pred    Rec_pred    Dea_pred  Inf_pred_max  \\\n",
       "20  437.0  29.0   48.0   330.234858   20.467387   34.945062    427.881257   \n",
       "21  500.0  30.0   49.0   425.776257   26.424968   45.116758    523.422657   \n",
       "22  600.0  30.0   55.0   548.728337   34.091775   58.206707    646.374736   \n",
       "23  701.0  31.0   58.0   707.033154   43.963049   75.060460    804.679553   \n",
       "24  780.0  35.0   78.0   910.980322   56.680419   96.773505   1008.626721   \n",
       "25  913.0  46.0   87.0  1173.933682   73.077218  124.768636   1271.580081   \n",
       "26  994.0  59.0  102.0  1511.579435   94.131601  160.715907   1609.225834   \n",
       "27    NaN   NaN    NaN  1946.482269  121.250660  207.017725   2044.128669   \n",
       "28    NaN   NaN    NaN  2506.435961  156.167586  266.633256   2604.082360   \n",
       "\n",
       "    Inf_pred_min  Rec_pred_max  Rec_pred_min  \n",
       "20    232.588459     25.227338     15.707436  \n",
       "21    328.129858     31.184918     21.665017  \n",
       "22    451.081938     38.851726     29.331824  \n",
       "23    609.386754     48.723000     39.203098  \n",
       "24    813.333923     61.440370     51.920468  \n",
       "25   1076.287282     77.837169     68.317267  \n",
       "26   1413.933036     98.891552     89.371650  \n",
       "27   1848.835870    126.010611    116.490709  \n",
       "28   2408.789561    160.927537    151.407635  "
      ]
     },
     "execution_count": 24,
     "metadata": {},
     "output_type": "execute_result"
    }
   ],
   "source": [
    "data_check=pd.concat([df_daily[['Inf','Rec','Dea']],df_sird_pred[['Inf_pred','Rec_pred','Dea_pred']]],axis=1)\n",
    "error_Inf=np.abs(data_check[23-prt:23]['Inf']-data_check[23-prt:23]['Inf_pred']).mean()\n",
    "error_Rec=np.abs(data_check[23-prt:23]['Rec']-data_check[23-prt:23]['Rec_pred']).mean()\n",
    "data_check['Inf_pred_max']=data_check['Inf_pred']+error_Inf\n",
    "data_check['Inf_pred_min']=data_check['Inf_pred']-error_Inf\n",
    "data_check['Rec_pred_max']=data_check['Rec_pred']+error_Rec\n",
    "data_check['Rec_pred_min']=data_check['Rec_pred']-error_Rec\n",
    "data_check[20:29] ## Above 24 is prediction"
   ]
  },
  {
   "cell_type": "code",
   "execution_count": 27,
   "metadata": {},
   "outputs": [
    {
     "data": {
      "text/plain": [
       "303.16447956568976"
      ]
     },
     "execution_count": 27,
     "metadata": {},
     "output_type": "execute_result"
    }
   ],
   "source": [
    "np.abs(data_check[24:27]['Inf']-data_check[24:27]['Inf_pred']).mean()"
   ]
  },
  {
   "cell_type": "code",
   "execution_count": 28,
   "metadata": {},
   "outputs": [
    {
     "data": {
      "text/plain": [
       "27.96307939155848"
      ]
     },
     "execution_count": 28,
     "metadata": {},
     "output_type": "execute_result"
    }
   ],
   "source": [
    "np.abs(data_check[24:27]['Rec']-data_check[24:27]['Rec_pred']).mean()"
   ]
  },
  {
   "cell_type": "code",
   "execution_count": null,
   "metadata": {},
   "outputs": [],
   "source": []
  },
  {
   "cell_type": "markdown",
   "metadata": {},
   "source": [
    "### Training All Data"
   ]
  },
  {
   "cell_type": "code",
   "execution_count": 24,
   "metadata": {},
   "outputs": [],
   "source": [
    "## all current data\n",
    "df_daily0=df_daily_sird.copy()\n",
    "prt=int(len(df_daily0)/4)+1\n",
    "weight_ls=[3.5]*prt+[2]*prt+[1]*prt+[0.5]*prt\n",
    "weight_ls2=weight_ls[:len(df_daily0)]\n",
    "weight_ls2.sort()\n",
    "df_daily0['weight']=weight_ls2"
   ]
  },
  {
   "cell_type": "code",
   "execution_count": 25,
   "metadata": {},
   "outputs": [
    {
     "data": {
      "text/html": [
       "<div>\n",
       "<style scoped>\n",
       "    .dataframe tbody tr th:only-of-type {\n",
       "        vertical-align: middle;\n",
       "    }\n",
       "\n",
       "    .dataframe tbody tr th {\n",
       "        vertical-align: top;\n",
       "    }\n",
       "\n",
       "    .dataframe thead th {\n",
       "        text-align: right;\n",
       "    }\n",
       "</style>\n",
       "<table border=\"1\" class=\"dataframe\">\n",
       "  <thead>\n",
       "    <tr style=\"text-align: right;\">\n",
       "      <th></th>\n",
       "      <th>Sus</th>\n",
       "      <th>Inf</th>\n",
       "      <th>Rec</th>\n",
       "      <th>Dea</th>\n",
       "      <th>weight</th>\n",
       "    </tr>\n",
       "  </thead>\n",
       "  <tbody>\n",
       "    <tr>\n",
       "      <th>22</th>\n",
       "      <td>0.999997</td>\n",
       "      <td>0.000003</td>\n",
       "      <td>1.500000e-07</td>\n",
       "      <td>2.750000e-07</td>\n",
       "      <td>3.5</td>\n",
       "    </tr>\n",
       "    <tr>\n",
       "      <th>23</th>\n",
       "      <td>0.999996</td>\n",
       "      <td>0.000004</td>\n",
       "      <td>1.550000e-07</td>\n",
       "      <td>2.900000e-07</td>\n",
       "      <td>3.5</td>\n",
       "    </tr>\n",
       "    <tr>\n",
       "      <th>24</th>\n",
       "      <td>0.999996</td>\n",
       "      <td>0.000004</td>\n",
       "      <td>1.750000e-07</td>\n",
       "      <td>3.900000e-07</td>\n",
       "      <td>3.5</td>\n",
       "    </tr>\n",
       "    <tr>\n",
       "      <th>25</th>\n",
       "      <td>0.999995</td>\n",
       "      <td>0.000005</td>\n",
       "      <td>2.300000e-07</td>\n",
       "      <td>4.350000e-07</td>\n",
       "      <td>3.5</td>\n",
       "    </tr>\n",
       "    <tr>\n",
       "      <th>26</th>\n",
       "      <td>0.999994</td>\n",
       "      <td>0.000005</td>\n",
       "      <td>2.950000e-07</td>\n",
       "      <td>5.100000e-07</td>\n",
       "      <td>3.5</td>\n",
       "    </tr>\n",
       "  </tbody>\n",
       "</table>\n",
       "</div>"
      ],
      "text/plain": [
       "         Sus       Inf           Rec           Dea  weight\n",
       "22  0.999997  0.000003  1.500000e-07  2.750000e-07     3.5\n",
       "23  0.999996  0.000004  1.550000e-07  2.900000e-07     3.5\n",
       "24  0.999996  0.000004  1.750000e-07  3.900000e-07     3.5\n",
       "25  0.999995  0.000005  2.300000e-07  4.350000e-07     3.5\n",
       "26  0.999994  0.000005  2.950000e-07  5.100000e-07     3.5"
      ]
     },
     "execution_count": 25,
     "metadata": {},
     "output_type": "execute_result"
    }
   ],
   "source": [
    "df_daily0.tail()"
   ]
  },
  {
   "cell_type": "code",
   "execution_count": 26,
   "metadata": {
    "scrolled": true
   },
   "outputs": [],
   "source": [
    "# all_param,cost_value=pso_sird(df0=df_daily0,population=NUMB_OF_POPS)"
   ]
  },
  {
   "cell_type": "code",
   "execution_count": 27,
   "metadata": {},
   "outputs": [],
   "source": [
    "# all_param,cost_value"
   ]
  },
  {
   "cell_type": "code",
   "execution_count": 28,
   "metadata": {},
   "outputs": [],
   "source": [
    "all_param=[0.282616  , 0.01432964, 0.02584207]"
   ]
  },
  {
   "cell_type": "code",
   "execution_count": 29,
   "metadata": {},
   "outputs": [],
   "source": [
    "## Predict\n",
    "T_start = 0.0\n",
    "T_inc=1.0\n",
    "# T_end = 23+4\n",
    "T_end = 30*6\n",
    "\n",
    "I0=2/NUMB_OF_POPS\n",
    "S0=1-I0\n",
    "INPUT = (S0, I0, 0.0, 0.0)\n",
    "col_use_pred=[x+'_pred' for x in col_use]\n",
    "T_range = np.arange(T_start, T_end+T_inc, T_inc)\n",
    "RES = sird_model(all_param,INPUT,T_range)\n",
    "df_sird_pred=pd.DataFrame(RES,columns=['Sus_pred','Inf_pred','Rec_pred','Dea_pred'])*NUMB_OF_POPS"
   ]
  },
  {
   "cell_type": "code",
   "execution_count": 30,
   "metadata": {},
   "outputs": [
    {
     "data": {
      "text/html": [
       "<div>\n",
       "<style scoped>\n",
       "    .dataframe tbody tr th:only-of-type {\n",
       "        vertical-align: middle;\n",
       "    }\n",
       "\n",
       "    .dataframe tbody tr th {\n",
       "        vertical-align: top;\n",
       "    }\n",
       "\n",
       "    .dataframe thead th {\n",
       "        text-align: right;\n",
       "    }\n",
       "</style>\n",
       "<table border=\"1\" class=\"dataframe\">\n",
       "  <thead>\n",
       "    <tr style=\"text-align: right;\">\n",
       "      <th></th>\n",
       "      <th>Inf</th>\n",
       "      <th>Rec</th>\n",
       "      <th>Dea</th>\n",
       "      <th>Inf_pred</th>\n",
       "      <th>Rec_pred</th>\n",
       "      <th>Dea_pred</th>\n",
       "      <th>Inf_pred_max</th>\n",
       "      <th>Inf_pred_min</th>\n",
       "      <th>Rec_pred_max</th>\n",
       "      <th>Rec_pred_min</th>\n",
       "    </tr>\n",
       "  </thead>\n",
       "  <tbody>\n",
       "    <tr>\n",
       "      <th>20</th>\n",
       "      <td>437.0</td>\n",
       "      <td>29.0</td>\n",
       "      <td>48.0</td>\n",
       "      <td>274.360593</td>\n",
       "      <td>16.097856</td>\n",
       "      <td>29.030870</td>\n",
       "      <td>394.735983</td>\n",
       "      <td>153.985202</td>\n",
       "      <td>23.648035</td>\n",
       "      <td>8.547676</td>\n",
       "    </tr>\n",
       "    <tr>\n",
       "      <th>21</th>\n",
       "      <td>500.0</td>\n",
       "      <td>30.0</td>\n",
       "      <td>49.0</td>\n",
       "      <td>349.742274</td>\n",
       "      <td>20.553290</td>\n",
       "      <td>37.065800</td>\n",
       "      <td>470.117664</td>\n",
       "      <td>229.366884</td>\n",
       "      <td>28.103470</td>\n",
       "      <td>13.003111</td>\n",
       "    </tr>\n",
       "    <tr>\n",
       "      <th>22</th>\n",
       "      <td>600.0</td>\n",
       "      <td>30.0</td>\n",
       "      <td>55.0</td>\n",
       "      <td>446.390442</td>\n",
       "      <td>26.265684</td>\n",
       "      <td>47.367530</td>\n",
       "      <td>566.765833</td>\n",
       "      <td>326.015052</td>\n",
       "      <td>33.815864</td>\n",
       "      <td>18.715505</td>\n",
       "    </tr>\n",
       "    <tr>\n",
       "      <th>23</th>\n",
       "      <td>701.0</td>\n",
       "      <td>31.0</td>\n",
       "      <td>58.0</td>\n",
       "      <td>570.614845</td>\n",
       "      <td>33.607979</td>\n",
       "      <td>60.608623</td>\n",
       "      <td>690.990235</td>\n",
       "      <td>450.239455</td>\n",
       "      <td>41.158158</td>\n",
       "      <td>26.057800</td>\n",
       "    </tr>\n",
       "    <tr>\n",
       "      <th>24</th>\n",
       "      <td>780.0</td>\n",
       "      <td>35.0</td>\n",
       "      <td>78.0</td>\n",
       "      <td>728.044912</td>\n",
       "      <td>42.912906</td>\n",
       "      <td>77.389126</td>\n",
       "      <td>848.420302</td>\n",
       "      <td>607.669522</td>\n",
       "      <td>50.463085</td>\n",
       "      <td>35.362727</td>\n",
       "    </tr>\n",
       "    <tr>\n",
       "      <th>25</th>\n",
       "      <td>913.0</td>\n",
       "      <td>46.0</td>\n",
       "      <td>87.0</td>\n",
       "      <td>929.107299</td>\n",
       "      <td>54.796742</td>\n",
       "      <td>98.820433</td>\n",
       "      <td>1049.482690</td>\n",
       "      <td>808.731909</td>\n",
       "      <td>62.346921</td>\n",
       "      <td>47.246562</td>\n",
       "    </tr>\n",
       "    <tr>\n",
       "      <th>26</th>\n",
       "      <td>994.0</td>\n",
       "      <td>59.0</td>\n",
       "      <td>102.0</td>\n",
       "      <td>1186.405116</td>\n",
       "      <td>70.004410</td>\n",
       "      <td>126.245939</td>\n",
       "      <td>1306.780506</td>\n",
       "      <td>1066.029726</td>\n",
       "      <td>77.554589</td>\n",
       "      <td>62.454231</td>\n",
       "    </tr>\n",
       "    <tr>\n",
       "      <th>27</th>\n",
       "      <td>NaN</td>\n",
       "      <td>NaN</td>\n",
       "      <td>NaN</td>\n",
       "      <td>1513.493166</td>\n",
       "      <td>89.337089</td>\n",
       "      <td>161.110489</td>\n",
       "      <td>1633.868556</td>\n",
       "      <td>1393.117775</td>\n",
       "      <td>96.887268</td>\n",
       "      <td>81.786910</td>\n",
       "    </tr>\n",
       "    <tr>\n",
       "      <th>28</th>\n",
       "      <td>NaN</td>\n",
       "      <td>NaN</td>\n",
       "      <td>NaN</td>\n",
       "      <td>1930.922303</td>\n",
       "      <td>114.009480</td>\n",
       "      <td>205.604675</td>\n",
       "      <td>2051.297693</td>\n",
       "      <td>1810.546913</td>\n",
       "      <td>121.559660</td>\n",
       "      <td>106.459301</td>\n",
       "    </tr>\n",
       "  </tbody>\n",
       "</table>\n",
       "</div>"
      ],
      "text/plain": [
       "      Inf   Rec    Dea     Inf_pred    Rec_pred    Dea_pred  Inf_pred_max  \\\n",
       "20  437.0  29.0   48.0   274.360593   16.097856   29.030870    394.735983   \n",
       "21  500.0  30.0   49.0   349.742274   20.553290   37.065800    470.117664   \n",
       "22  600.0  30.0   55.0   446.390442   26.265684   47.367530    566.765833   \n",
       "23  701.0  31.0   58.0   570.614845   33.607979   60.608623    690.990235   \n",
       "24  780.0  35.0   78.0   728.044912   42.912906   77.389126    848.420302   \n",
       "25  913.0  46.0   87.0   929.107299   54.796742   98.820433   1049.482690   \n",
       "26  994.0  59.0  102.0  1186.405116   70.004410  126.245939   1306.780506   \n",
       "27    NaN   NaN    NaN  1513.493166   89.337089  161.110489   1633.868556   \n",
       "28    NaN   NaN    NaN  1930.922303  114.009480  205.604675   2051.297693   \n",
       "\n",
       "    Inf_pred_min  Rec_pred_max  Rec_pred_min  \n",
       "20    153.985202     23.648035      8.547676  \n",
       "21    229.366884     28.103470     13.003111  \n",
       "22    326.015052     33.815864     18.715505  \n",
       "23    450.239455     41.158158     26.057800  \n",
       "24    607.669522     50.463085     35.362727  \n",
       "25    808.731909     62.346921     47.246562  \n",
       "26   1066.029726     77.554589     62.454231  \n",
       "27   1393.117775     96.887268     81.786910  \n",
       "28   1810.546913    121.559660    106.459301  "
      ]
     },
     "execution_count": 30,
     "metadata": {},
     "output_type": "execute_result"
    }
   ],
   "source": [
    "data_check=pd.concat([df_daily[['Inf','Rec','Dea']],df_sird_pred[['Inf_pred','Rec_pred','Dea_pred']]],axis=1)\n",
    "error_Inf=np.abs(data_check[26-prt:26]['Inf']-data_check[26-prt:26]['Inf_pred']).mean()\n",
    "error_Rec=np.abs(data_check[26-prt:26]['Rec']-data_check[26-prt:26]['Rec_pred']).mean()\n",
    "data_check['Inf_pred_max']=data_check['Inf_pred']+error_Inf\n",
    "data_check['Inf_pred_min']=data_check['Inf_pred']-error_Inf\n",
    "data_check['Rec_pred_max']=data_check['Rec_pred']+error_Rec\n",
    "data_check['Rec_pred_min']=data_check['Rec_pred']-error_Rec\n",
    "data_check[20:29]"
   ]
  },
  {
   "cell_type": "code",
   "execution_count": 32,
   "metadata": {},
   "outputs": [],
   "source": [
    "date_1 = dt.datetime.strptime(\"2020-03-02\", \"%Y-%m-%d\")\n",
    "all_date=[date_1 + dt.timedelta(days=int(i)) for i in range(T_end+1)]\n",
    "df_sird_pred.index=all_date"
   ]
  },
  {
   "cell_type": "code",
   "execution_count": null,
   "metadata": {},
   "outputs": [],
   "source": []
  },
  {
   "cell_type": "code",
   "execution_count": 33,
   "metadata": {},
   "outputs": [
    {
     "data": {
      "text/plain": [
       "<matplotlib.axes._subplots.AxesSubplot at 0x1c1d2cc350>"
      ]
     },
     "execution_count": 33,
     "metadata": {},
     "output_type": "execute_result"
    },
    {
     "data": {
      "image/png": "[encoded data removed]",
      "text/plain": [
       "<Figure size 432x288 with 1 Axes>"
      ]
     },
     "metadata": {
      "needs_background": "light"
     },
     "output_type": "display_data"
    }
   ],
   "source": [
    "check_col='Inf'\n",
    "data_check[:29][[check_col,check_col+'_pred']].plot()"
   ]
  },
  {
   "cell_type": "code",
   "execution_count": 34,
   "metadata": {},
   "outputs": [],
   "source": [
    "# df_sird_pred['Dea_pred'].max()"
   ]
  },
  {
   "cell_type": "code",
   "execution_count": 48,
   "metadata": {},
   "outputs": [
    {
     "data": {
      "image/png": "[encoded data removed]",
      "text/plain": [
       "<Figure size 720x576 with 1 Axes>"
      ]
     },
     "metadata": {
      "needs_background": "light"
     },
     "output_type": "display_data"
    }
   ],
   "source": [
    "# df_sird_pred[['Inf_pred','Rec_pred','Dea_pred']].plot(figsize=(10,8))\n",
    "txt='SIRD Model \\ndengan Interaction Daily Rate = '+str(all_param[0])+' and \\nRecovery Daily Rate = '+str(\n",
    "            all_param[1])+' \\nand Death Daily Rate = '+str(all_param[2])+'\\n(Masih Prediksi Kasar)'\n",
    "sird_plot =df_sird_pred.plot(figsize=(10,8),title=txt)\n",
    "fig = sird_plot.get_figure()\n",
    "fig.savefig(PATH_IMG+CURR_DATE+\"sird_result.png\")"
   ]
  },
  {
   "cell_type": "code",
   "execution_count": null,
   "metadata": {},
   "outputs": [],
   "source": []
  },
  {
   "cell_type": "markdown",
   "metadata": {},
   "source": [
    "## Conclusion\n",
    "\n",
    "Distancing mulai terlihat efeknya.. namun, hal ini tidak dibarengi dengan Recover Daily ratenya.. Pemerintah harus bisa recover lebih cepat.. \n",
    "\n",
    "Prediction :Hari ini ada 200 kasus baru,, semoga selasa tidak sampai 230 kasus baru T__T"
   ]
  },
  {
   "cell_type": "code",
   "execution_count": null,
   "metadata": {},
   "outputs": [],
   "source": []
  },
  {
   "cell_type": "code",
   "execution_count": null,
   "metadata": {},
   "outputs": [],
   "source": []
  },
  {
   "cell_type": "markdown",
   "metadata": {},
   "source": [
    "## Reference\n",
    "    \n",
    "    Data : https://kawalcovid19.blob.core.windows.net/viz/statistik_harian.html\n",
    "    \n",
    "    Source Script : http://epirecip.es/epicookbook/chapters/kr08/2_1/python_original\n",
    "    \n",
    "    Image 1 : https://www.researchgate.net/figure/Scheme-of-Susceptible-Infectious-Recovered-Death-SIRD-Model-Boxes-represent_fig1_41507287\n",
    "    \n",
    "    Image 2 : https://www.chegg.com/homework-help/questions-and-answers/codes-problem-code-1-function-siddeterm-simulation-deterministic-sird-model-using-differen-q21316613"
   ]
  },
  {
   "cell_type": "code",
   "execution_count": null,
   "metadata": {},
   "outputs": [],
   "source": []
  }
 ],
 "metadata": {
  "kernelspec": {
   "display_name": "py37_env",
   "language": "python",
   "name": "myenv"
  },
  "language_info": {
   "codemirror_mode": {
    "name": "ipython",
    "version": 3
   },
   "file_extension": ".py",
   "mimetype": "text/x-python",
   "name": "python",
   "nbconvert_exporter": "python",
   "pygments_lexer": "ipython3",
   "version": "3.7.6"
  }
 },
 "nbformat": 4,
 "nbformat_minor": 4
}
