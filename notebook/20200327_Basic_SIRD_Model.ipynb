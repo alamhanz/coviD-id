{
 "cells": [
  {
   "cell_type": "markdown",
   "metadata": {},
   "source": [
    "# SIRD Model\n",
    "\n",
    "Basic SIRD model for Indonesia Covid \n",
    "(data until 20200327)"
   ]
  },
  {
   "cell_type": "markdown",
   "metadata": {},
   "source": [
    "![SIRD](../images/Scheme-of-Susceptible-Infectious-Recovered-Death-SIRD-Model-Boxes-represent.png)"
   ]
  },
  {
   "cell_type": "code",
   "execution_count": 1,
   "metadata": {},
   "outputs": [],
   "source": [
    "import pandas as pd\n",
    "import scipy.integrate as spi\n",
    "import numpy as np\n",
    "import seaborn as sns\n",
    "\n",
    "from sklearn.linear_model import LinearRegression\n",
    "import statsmodels.api as sm\n",
    "from bayes_opt import BayesianOptimization"
   ]
  },
  {
   "cell_type": "code",
   "execution_count": 2,
   "metadata": {},
   "outputs": [],
   "source": [
    "PATH_DATA = '../data/raw/'"
   ]
  },
  {
   "cell_type": "code",
   "execution_count": 3,
   "metadata": {},
   "outputs": [],
   "source": [
    "## Assumption\n",
    "NUMB_OF_POPS=10000"
   ]
  },
  {
   "cell_type": "markdown",
   "metadata": {},
   "source": [
    "## Get The Data\n",
    "\n",
    "Getting the data and do the summary"
   ]
  },
  {
   "cell_type": "code",
   "execution_count": 4,
   "metadata": {},
   "outputs": [],
   "source": [
    "df_daily=pd.read_csv(PATH_DATA+'20200327_DailyCase_ID.csv')\n",
    "df_daily=df_daily.fillna(0)"
   ]
  },
  {
   "cell_type": "code",
   "execution_count": 5,
   "metadata": {},
   "outputs": [
    {
     "data": {
      "text/html": [
       "<div>\n",
       "<style scoped>\n",
       "    .dataframe tbody tr th:only-of-type {\n",
       "        vertical-align: middle;\n",
       "    }\n",
       "\n",
       "    .dataframe tbody tr th {\n",
       "        vertical-align: top;\n",
       "    }\n",
       "\n",
       "    .dataframe thead th {\n",
       "        text-align: right;\n",
       "    }\n",
       "</style>\n",
       "<table border=\"1\" class=\"dataframe\">\n",
       "  <thead>\n",
       "    <tr style=\"text-align: right;\">\n",
       "      <th></th>\n",
       "      <th>DT</th>\n",
       "      <th>Kasus (Kumulatif)</th>\n",
       "      <th>Kasus Baru</th>\n",
       "      <th>Sembuh (baru)</th>\n",
       "      <th>Meninggal (baru)</th>\n",
       "    </tr>\n",
       "  </thead>\n",
       "  <tbody>\n",
       "    <tr>\n",
       "      <th>0</th>\n",
       "      <td>2020-03-02 00:00:00</td>\n",
       "      <td>2</td>\n",
       "      <td>2.0</td>\n",
       "      <td>0.0</td>\n",
       "      <td>0.0</td>\n",
       "    </tr>\n",
       "    <tr>\n",
       "      <th>1</th>\n",
       "      <td>2020-03-03 00:00:00</td>\n",
       "      <td>2</td>\n",
       "      <td>0.0</td>\n",
       "      <td>0.0</td>\n",
       "      <td>0.0</td>\n",
       "    </tr>\n",
       "    <tr>\n",
       "      <th>2</th>\n",
       "      <td>2020-03-04 00:00:00</td>\n",
       "      <td>2</td>\n",
       "      <td>0.0</td>\n",
       "      <td>0.0</td>\n",
       "      <td>0.0</td>\n",
       "    </tr>\n",
       "    <tr>\n",
       "      <th>3</th>\n",
       "      <td>2020-03-05 00:00:00</td>\n",
       "      <td>2</td>\n",
       "      <td>0.0</td>\n",
       "      <td>0.0</td>\n",
       "      <td>0.0</td>\n",
       "    </tr>\n",
       "    <tr>\n",
       "      <th>4</th>\n",
       "      <td>2020-03-06 00:00:00</td>\n",
       "      <td>4</td>\n",
       "      <td>2.0</td>\n",
       "      <td>0.0</td>\n",
       "      <td>0.0</td>\n",
       "    </tr>\n",
       "    <tr>\n",
       "      <th>5</th>\n",
       "      <td>2020-03-07 00:00:00</td>\n",
       "      <td>4</td>\n",
       "      <td>0.0</td>\n",
       "      <td>0.0</td>\n",
       "      <td>0.0</td>\n",
       "    </tr>\n",
       "    <tr>\n",
       "      <th>6</th>\n",
       "      <td>2020-03-08 00:00:00</td>\n",
       "      <td>6</td>\n",
       "      <td>2.0</td>\n",
       "      <td>0.0</td>\n",
       "      <td>0.0</td>\n",
       "    </tr>\n",
       "    <tr>\n",
       "      <th>7</th>\n",
       "      <td>2020-03-09 00:00:00</td>\n",
       "      <td>19</td>\n",
       "      <td>13.0</td>\n",
       "      <td>0.0</td>\n",
       "      <td>0.0</td>\n",
       "    </tr>\n",
       "    <tr>\n",
       "      <th>8</th>\n",
       "      <td>2020-03-10 00:00:00</td>\n",
       "      <td>27</td>\n",
       "      <td>8.0</td>\n",
       "      <td>0.0</td>\n",
       "      <td>0.0</td>\n",
       "    </tr>\n",
       "    <tr>\n",
       "      <th>9</th>\n",
       "      <td>2020-03-11 00:00:00</td>\n",
       "      <td>34</td>\n",
       "      <td>7.0</td>\n",
       "      <td>2.0</td>\n",
       "      <td>2.0</td>\n",
       "    </tr>\n",
       "    <tr>\n",
       "      <th>10</th>\n",
       "      <td>2020-03-12 00:00:00</td>\n",
       "      <td>34</td>\n",
       "      <td>0.0</td>\n",
       "      <td>1.0</td>\n",
       "      <td>2.0</td>\n",
       "    </tr>\n",
       "    <tr>\n",
       "      <th>11</th>\n",
       "      <td>2020-03-13 00:00:00</td>\n",
       "      <td>69</td>\n",
       "      <td>35.0</td>\n",
       "      <td>2.0</td>\n",
       "      <td>0.0</td>\n",
       "    </tr>\n",
       "    <tr>\n",
       "      <th>12</th>\n",
       "      <td>2020-03-14 00:00:00</td>\n",
       "      <td>96</td>\n",
       "      <td>27.0</td>\n",
       "      <td>3.0</td>\n",
       "      <td>1.0</td>\n",
       "    </tr>\n",
       "    <tr>\n",
       "      <th>13</th>\n",
       "      <td>2020-03-15 00:00:00</td>\n",
       "      <td>117</td>\n",
       "      <td>21.0</td>\n",
       "      <td>0.0</td>\n",
       "      <td>0.0</td>\n",
       "    </tr>\n",
       "    <tr>\n",
       "      <th>14</th>\n",
       "      <td>2020-03-16 00:00:00</td>\n",
       "      <td>134</td>\n",
       "      <td>17.0</td>\n",
       "      <td>0.0</td>\n",
       "      <td>0.0</td>\n",
       "    </tr>\n",
       "    <tr>\n",
       "      <th>15</th>\n",
       "      <td>2020-03-17 00:00:00</td>\n",
       "      <td>172</td>\n",
       "      <td>38.0</td>\n",
       "      <td>1.0</td>\n",
       "      <td>2.0</td>\n",
       "    </tr>\n",
       "    <tr>\n",
       "      <th>16</th>\n",
       "      <td>2020-03-18 00:00:00</td>\n",
       "      <td>227</td>\n",
       "      <td>55.0</td>\n",
       "      <td>2.0</td>\n",
       "      <td>12.0</td>\n",
       "    </tr>\n",
       "    <tr>\n",
       "      <th>17</th>\n",
       "      <td>2020-03-19 00:00:00</td>\n",
       "      <td>309</td>\n",
       "      <td>82.0</td>\n",
       "      <td>4.0</td>\n",
       "      <td>6.0</td>\n",
       "    </tr>\n",
       "    <tr>\n",
       "      <th>18</th>\n",
       "      <td>2020-03-20 00:00:00</td>\n",
       "      <td>369</td>\n",
       "      <td>60.0</td>\n",
       "      <td>1.0</td>\n",
       "      <td>7.0</td>\n",
       "    </tr>\n",
       "    <tr>\n",
       "      <th>19</th>\n",
       "      <td>2020-03-21 00:00:00</td>\n",
       "      <td>450</td>\n",
       "      <td>81.0</td>\n",
       "      <td>4.0</td>\n",
       "      <td>6.0</td>\n",
       "    </tr>\n",
       "    <tr>\n",
       "      <th>20</th>\n",
       "      <td>2020-03-22 00:00:00</td>\n",
       "      <td>514</td>\n",
       "      <td>64.0</td>\n",
       "      <td>9.0</td>\n",
       "      <td>10.0</td>\n",
       "    </tr>\n",
       "    <tr>\n",
       "      <th>21</th>\n",
       "      <td>2020-03-23 00:00:00</td>\n",
       "      <td>579</td>\n",
       "      <td>65.0</td>\n",
       "      <td>1.0</td>\n",
       "      <td>1.0</td>\n",
       "    </tr>\n",
       "    <tr>\n",
       "      <th>22</th>\n",
       "      <td>2020-03-24 00:00:00</td>\n",
       "      <td>685</td>\n",
       "      <td>106.0</td>\n",
       "      <td>0.0</td>\n",
       "      <td>6.0</td>\n",
       "    </tr>\n",
       "    <tr>\n",
       "      <th>23</th>\n",
       "      <td>2020-03-25 00:00:00</td>\n",
       "      <td>790</td>\n",
       "      <td>105.0</td>\n",
       "      <td>1.0</td>\n",
       "      <td>3.0</td>\n",
       "    </tr>\n",
       "    <tr>\n",
       "      <th>24</th>\n",
       "      <td>2020-03-26 00:00:00</td>\n",
       "      <td>893</td>\n",
       "      <td>103.0</td>\n",
       "      <td>4.0</td>\n",
       "      <td>20.0</td>\n",
       "    </tr>\n",
       "    <tr>\n",
       "      <th>25</th>\n",
       "      <td>2020-03-27 00:00:00</td>\n",
       "      <td>1046</td>\n",
       "      <td>153.0</td>\n",
       "      <td>11.0</td>\n",
       "      <td>9.0</td>\n",
       "    </tr>\n",
       "  </tbody>\n",
       "</table>\n",
       "</div>"
      ],
      "text/plain": [
       "                     DT  Kasus (Kumulatif)  Kasus Baru  Sembuh (baru)  \\\n",
       "0   2020-03-02 00:00:00                  2         2.0            0.0   \n",
       "1   2020-03-03 00:00:00                  2         0.0            0.0   \n",
       "2   2020-03-04 00:00:00                  2         0.0            0.0   \n",
       "3   2020-03-05 00:00:00                  2         0.0            0.0   \n",
       "4   2020-03-06 00:00:00                  4         2.0            0.0   \n",
       "5   2020-03-07 00:00:00                  4         0.0            0.0   \n",
       "6   2020-03-08 00:00:00                  6         2.0            0.0   \n",
       "7   2020-03-09 00:00:00                 19        13.0            0.0   \n",
       "8   2020-03-10 00:00:00                 27         8.0            0.0   \n",
       "9   2020-03-11 00:00:00                 34         7.0            2.0   \n",
       "10  2020-03-12 00:00:00                 34         0.0            1.0   \n",
       "11  2020-03-13 00:00:00                 69        35.0            2.0   \n",
       "12  2020-03-14 00:00:00                 96        27.0            3.0   \n",
       "13  2020-03-15 00:00:00                117        21.0            0.0   \n",
       "14  2020-03-16 00:00:00                134        17.0            0.0   \n",
       "15  2020-03-17 00:00:00                172        38.0            1.0   \n",
       "16  2020-03-18 00:00:00                227        55.0            2.0   \n",
       "17  2020-03-19 00:00:00                309        82.0            4.0   \n",
       "18  2020-03-20 00:00:00                369        60.0            1.0   \n",
       "19  2020-03-21 00:00:00                450        81.0            4.0   \n",
       "20  2020-03-22 00:00:00                514        64.0            9.0   \n",
       "21  2020-03-23 00:00:00                579        65.0            1.0   \n",
       "22  2020-03-24 00:00:00                685       106.0            0.0   \n",
       "23  2020-03-25 00:00:00                790       105.0            1.0   \n",
       "24  2020-03-26 00:00:00                893       103.0            4.0   \n",
       "25  2020-03-27 00:00:00               1046       153.0           11.0   \n",
       "\n",
       "    Meninggal (baru)  \n",
       "0                0.0  \n",
       "1                0.0  \n",
       "2                0.0  \n",
       "3                0.0  \n",
       "4                0.0  \n",
       "5                0.0  \n",
       "6                0.0  \n",
       "7                0.0  \n",
       "8                0.0  \n",
       "9                2.0  \n",
       "10               2.0  \n",
       "11               0.0  \n",
       "12               1.0  \n",
       "13               0.0  \n",
       "14               0.0  \n",
       "15               2.0  \n",
       "16              12.0  \n",
       "17               6.0  \n",
       "18               7.0  \n",
       "19               6.0  \n",
       "20              10.0  \n",
       "21               1.0  \n",
       "22               6.0  \n",
       "23               3.0  \n",
       "24              20.0  \n",
       "25               9.0  "
      ]
     },
     "execution_count": 5,
     "metadata": {},
     "output_type": "execute_result"
    }
   ],
   "source": [
    "df_daily"
   ]
  },
  {
   "cell_type": "code",
   "execution_count": 6,
   "metadata": {},
   "outputs": [],
   "source": [
    "df_daily['Rec']=df_daily['Sembuh (baru)'].cumsum()\n",
    "df_daily['Dea']=df_daily['Meninggal (baru)'].cumsum()\n",
    "df_daily['Inf']=df_daily['Kasus (Kumulatif)']-df_daily['Rec']-df_daily['Dea']\n",
    "df_daily['Sus']=NUMB_OF_POPS-df_daily['Inf']-df_daily['Rec']-df_daily['Dea']"
   ]
  },
  {
   "cell_type": "code",
   "execution_count": 7,
   "metadata": {},
   "outputs": [],
   "source": [
    "col_use=['Sus','Inf','Rec','Dea']"
   ]
  },
  {
   "cell_type": "code",
   "execution_count": 8,
   "metadata": {},
   "outputs": [],
   "source": [
    "df_daily_sird=df_daily[col_use]/NUMB_OF_POPS"
   ]
  },
  {
   "cell_type": "code",
   "execution_count": 9,
   "metadata": {},
   "outputs": [
    {
     "data": {
      "text/html": [
       "<div>\n",
       "<style scoped>\n",
       "    .dataframe tbody tr th:only-of-type {\n",
       "        vertical-align: middle;\n",
       "    }\n",
       "\n",
       "    .dataframe tbody tr th {\n",
       "        vertical-align: top;\n",
       "    }\n",
       "\n",
       "    .dataframe thead th {\n",
       "        text-align: right;\n",
       "    }\n",
       "</style>\n",
       "<table border=\"1\" class=\"dataframe\">\n",
       "  <thead>\n",
       "    <tr style=\"text-align: right;\">\n",
       "      <th></th>\n",
       "      <th>Sus</th>\n",
       "      <th>Inf</th>\n",
       "      <th>Rec</th>\n",
       "      <th>Dea</th>\n",
       "    </tr>\n",
       "  </thead>\n",
       "  <tbody>\n",
       "    <tr>\n",
       "      <th>0</th>\n",
       "      <td>0.9998</td>\n",
       "      <td>0.0002</td>\n",
       "      <td>0.0</td>\n",
       "      <td>0.0</td>\n",
       "    </tr>\n",
       "    <tr>\n",
       "      <th>1</th>\n",
       "      <td>0.9998</td>\n",
       "      <td>0.0002</td>\n",
       "      <td>0.0</td>\n",
       "      <td>0.0</td>\n",
       "    </tr>\n",
       "    <tr>\n",
       "      <th>2</th>\n",
       "      <td>0.9998</td>\n",
       "      <td>0.0002</td>\n",
       "      <td>0.0</td>\n",
       "      <td>0.0</td>\n",
       "    </tr>\n",
       "    <tr>\n",
       "      <th>3</th>\n",
       "      <td>0.9998</td>\n",
       "      <td>0.0002</td>\n",
       "      <td>0.0</td>\n",
       "      <td>0.0</td>\n",
       "    </tr>\n",
       "    <tr>\n",
       "      <th>4</th>\n",
       "      <td>0.9996</td>\n",
       "      <td>0.0004</td>\n",
       "      <td>0.0</td>\n",
       "      <td>0.0</td>\n",
       "    </tr>\n",
       "  </tbody>\n",
       "</table>\n",
       "</div>"
      ],
      "text/plain": [
       "      Sus     Inf  Rec  Dea\n",
       "0  0.9998  0.0002  0.0  0.0\n",
       "1  0.9998  0.0002  0.0  0.0\n",
       "2  0.9998  0.0002  0.0  0.0\n",
       "3  0.9998  0.0002  0.0  0.0\n",
       "4  0.9996  0.0004  0.0  0.0"
      ]
     },
     "execution_count": 9,
     "metadata": {},
     "output_type": "execute_result"
    }
   ],
   "source": [
    "df_daily_sird.head()"
   ]
  },
  {
   "cell_type": "code",
   "execution_count": null,
   "metadata": {},
   "outputs": [],
   "source": []
  },
  {
   "cell_type": "markdown",
   "metadata": {},
   "source": [
    "## Define SIRD Model"
   ]
  },
  {
   "cell_type": "markdown",
   "metadata": {},
   "source": [
    "![SIRD derivative funtion](../images/SIRD-Model.png)"
   ]
  },
  {
   "cell_type": "code",
   "execution_count": 10,
   "metadata": {},
   "outputs": [],
   "source": [
    "def sird_model_diff(VALUE_ON_T,t):  \n",
    "    '''The main set of equations'''\n",
    "    Y=np.zeros((4))\n",
    "    dS,dI,dR,dD = VALUE_ON_T  \n",
    "    Y[0] = - param_b * dS * dI\n",
    "    Y[1] = (param_b * dS * dI) - (param_r * dI) - (param_m * dI)\n",
    "    Y[2] = param_r * dI\n",
    "    Y[3] = param_m * dI\n",
    "    \n",
    "    return Y   # For odeint"
   ]
  },
  {
   "cell_type": "code",
   "execution_count": null,
   "metadata": {},
   "outputs": [],
   "source": []
  },
  {
   "cell_type": "markdown",
   "metadata": {},
   "source": [
    "## Determine the Parameter\n",
    "\n",
    "using simple linear regression"
   ]
  },
  {
   "cell_type": "code",
   "execution_count": 11,
   "metadata": {},
   "outputs": [
    {
     "data": {
      "text/html": [
       "<div>\n",
       "<style scoped>\n",
       "    .dataframe tbody tr th:only-of-type {\n",
       "        vertical-align: middle;\n",
       "    }\n",
       "\n",
       "    .dataframe tbody tr th {\n",
       "        vertical-align: top;\n",
       "    }\n",
       "\n",
       "    .dataframe thead th {\n",
       "        text-align: right;\n",
       "    }\n",
       "</style>\n",
       "<table border=\"1\" class=\"dataframe\">\n",
       "  <thead>\n",
       "    <tr style=\"text-align: right;\">\n",
       "      <th></th>\n",
       "      <th>Sus</th>\n",
       "      <th>Inf</th>\n",
       "      <th>Rec</th>\n",
       "      <th>Dea</th>\n",
       "    </tr>\n",
       "  </thead>\n",
       "  <tbody>\n",
       "    <tr>\n",
       "      <th>0</th>\n",
       "      <td>0.9998</td>\n",
       "      <td>0.0002</td>\n",
       "      <td>0.0000</td>\n",
       "      <td>0.0000</td>\n",
       "    </tr>\n",
       "    <tr>\n",
       "      <th>1</th>\n",
       "      <td>0.9998</td>\n",
       "      <td>0.0002</td>\n",
       "      <td>0.0000</td>\n",
       "      <td>0.0000</td>\n",
       "    </tr>\n",
       "    <tr>\n",
       "      <th>2</th>\n",
       "      <td>0.9998</td>\n",
       "      <td>0.0002</td>\n",
       "      <td>0.0000</td>\n",
       "      <td>0.0000</td>\n",
       "    </tr>\n",
       "    <tr>\n",
       "      <th>3</th>\n",
       "      <td>0.9998</td>\n",
       "      <td>0.0002</td>\n",
       "      <td>0.0000</td>\n",
       "      <td>0.0000</td>\n",
       "    </tr>\n",
       "    <tr>\n",
       "      <th>4</th>\n",
       "      <td>0.9996</td>\n",
       "      <td>0.0004</td>\n",
       "      <td>0.0000</td>\n",
       "      <td>0.0000</td>\n",
       "    </tr>\n",
       "    <tr>\n",
       "      <th>5</th>\n",
       "      <td>0.9996</td>\n",
       "      <td>0.0004</td>\n",
       "      <td>0.0000</td>\n",
       "      <td>0.0000</td>\n",
       "    </tr>\n",
       "    <tr>\n",
       "      <th>6</th>\n",
       "      <td>0.9994</td>\n",
       "      <td>0.0006</td>\n",
       "      <td>0.0000</td>\n",
       "      <td>0.0000</td>\n",
       "    </tr>\n",
       "    <tr>\n",
       "      <th>7</th>\n",
       "      <td>0.9981</td>\n",
       "      <td>0.0019</td>\n",
       "      <td>0.0000</td>\n",
       "      <td>0.0000</td>\n",
       "    </tr>\n",
       "    <tr>\n",
       "      <th>8</th>\n",
       "      <td>0.9973</td>\n",
       "      <td>0.0027</td>\n",
       "      <td>0.0000</td>\n",
       "      <td>0.0000</td>\n",
       "    </tr>\n",
       "    <tr>\n",
       "      <th>9</th>\n",
       "      <td>0.9966</td>\n",
       "      <td>0.0030</td>\n",
       "      <td>0.0002</td>\n",
       "      <td>0.0002</td>\n",
       "    </tr>\n",
       "  </tbody>\n",
       "</table>\n",
       "</div>"
      ],
      "text/plain": [
       "      Sus     Inf     Rec     Dea\n",
       "0  0.9998  0.0002  0.0000  0.0000\n",
       "1  0.9998  0.0002  0.0000  0.0000\n",
       "2  0.9998  0.0002  0.0000  0.0000\n",
       "3  0.9998  0.0002  0.0000  0.0000\n",
       "4  0.9996  0.0004  0.0000  0.0000\n",
       "5  0.9996  0.0004  0.0000  0.0000\n",
       "6  0.9994  0.0006  0.0000  0.0000\n",
       "7  0.9981  0.0019  0.0000  0.0000\n",
       "8  0.9973  0.0027  0.0000  0.0000\n",
       "9  0.9966  0.0030  0.0002  0.0002"
      ]
     },
     "execution_count": 11,
     "metadata": {},
     "output_type": "execute_result"
    }
   ],
   "source": [
    "df_daily_sird.head(10)"
   ]
  },
  {
   "cell_type": "code",
   "execution_count": 12,
   "metadata": {},
   "outputs": [],
   "source": [
    "for cc in col_use:\n",
    "    df_daily_sird[cc+'_before']=df_daily_sird[cc].shift(1)\n",
    "    df_daily_sird[cc+'_dt']=df_daily_sird[cc]-df_daily_sird[cc+'_before']"
   ]
  },
  {
   "cell_type": "code",
   "execution_count": 13,
   "metadata": {},
   "outputs": [],
   "source": [
    "col_use_t=['Sus_dt','Inf_dt','Rec_dt','Dea_dt']"
   ]
  },
  {
   "cell_type": "code",
   "execution_count": 15,
   "metadata": {},
   "outputs": [],
   "source": [
    "df_daily_sird2=df_daily_sird[col_use+col_use_t].dropna()"
   ]
  },
  {
   "cell_type": "code",
   "execution_count": null,
   "metadata": {},
   "outputs": [],
   "source": []
  },
  {
   "cell_type": "code",
   "execution_count": 71,
   "metadata": {},
   "outputs": [],
   "source": [
    "# def targ_func(param_b,param_r,param_m,df=df_daily_sird2):\n",
    "#     N=100\n",
    "#     true_Sdt=df['Sus_dt']*N\n",
    "#     true_Idt=df['Inf_dt']*N\n",
    "#     true_Rdt=df['Rec_dt']*N\n",
    "#     true_Ddt=df['Dea_dt']*N\n",
    "    \n",
    "#     pred_Sdt=(-param_b*df['Sus']*df['Inf'])*N\n",
    "#     pred_Rdt=(param_r*df['Inf'])*N\n",
    "#     pred_Ddt=(param_m*df['Dea'])*N\n",
    "#     pred_Idt=((param_b*df['Sus']*df['Inf'])*N)-pred_Rdt-pred_Ddt\n",
    "    \n",
    "#     e1=((true_Sdt-pred_Sdt)**2).sum()\n",
    "#     e2=((true_Idt-pred_Idt)**2).sum()\n",
    "#     e3=((true_Rdt-pred_Rdt)**2).sum()\n",
    "#     e4=((true_Ddt-pred_Ddt)**2).sum()\n",
    "    \n",
    "#     return -(e1+e2+e3+e4)\n",
    "\n",
    "def targ_func2(param_b,param_r,param_m,df=df_daily_sird2):\n",
    "    N=100\n",
    "    true_Sdt=df['Sus_dt']*N\n",
    "    true_Idt=df['Inf_dt']*N\n",
    "    true_Rdt=df['Rec_dt']*N\n",
    "    \n",
    "    pred_Sdt=(-param_b*df['Sus']*df['Inf'])*N\n",
    "    pred_Rdt=(param_r*df['Inf'])*N\n",
    "    pred_Idt=((param_b*df['Sus']*df['Inf'])*N)-((param_m*df['Dea'])*N)-pred_Rdt\n",
    "    \n",
    "    e1=((true_Sdt-pred_Sdt)**2).sum()*0.8\n",
    "    e2=((true_Idt-pred_Idt)**2).sum()*0.15\n",
    "    e3=((true_Rdt-pred_Rdt)**2).sum()*0.05\n",
    "    \n",
    "    return -(e1+e2+e3)"
   ]
  },
  {
   "cell_type": "code",
   "execution_count": 73,
   "metadata": {},
   "outputs": [
    {
     "data": {
      "text/plain": [
       "-0.4522127522224243"
      ]
     },
     "execution_count": 73,
     "metadata": {},
     "output_type": "execute_result"
    }
   ],
   "source": [
    "# targ_func(0.5,0.03,0.2)\n",
    "targ_func2(0.193,0.0066,0.49442)"
   ]
  },
  {
   "cell_type": "code",
   "execution_count": 77,
   "metadata": {},
   "outputs": [],
   "source": [
    "# Opt_Targ = BayesianOptimization(targ_func, {'param_b': (0.001, 5),'param_r': (0.001, 5),'param_m': (0.001, 5)})\n",
    "# Opt_Targ = BayesianOptimization(targ_func, {'param_b': (0.08, 0.85),'param_r': (0.00000085, 1),'param_m': (0.1, 4)})\n",
    "# Opt_Targ = BayesianOptimization(targ_func, {'param_b': (0.1, 0.2),'param_r': (0.0005, 0.085),'param_m': (0.1, 0.2)})\n",
    "# Opt_Targ = BayesianOptimization(targ_func, {'param_b': (0, 0.18),'param_r': (0, 0.008),'param_m': (0, 0.18)})\n",
    "\n",
    "Opt_Targ2 = BayesianOptimization(targ_func2, {'param_b': (0, 1.5),'param_r': (0, 1.5),'param_m': (0, 1.5)})"
   ]
  },
  {
   "cell_type": "code",
   "execution_count": 78,
   "metadata": {},
   "outputs": [],
   "source": [
    "## v1\n",
    "# |   iter    |  target   |  param_b  |  param_m  |  param_r  |\n",
    "# -------------------------------------------------------------\n",
    "# |  20       | -0.8346   |  0.1797   |  0.1868   |  0.007753 |\n",
    "# |  102      | -0.8332   |  0.1792   |  0.1515   |  0.009    |\n",
    "# |  76       | -0.8328   |  0.1771   |  0.1656   |  0.007827 |\n",
    "# |  101      | -0.8327   |  0.1771   |  0.14     |  0.007617 |\n",
    "# |  105      | -0.8323   |  0.1759   |  0.1571   |  0.006353 |\n",
    "# |  107      | -0.8313   |  0.1782   |  0.1726   |  0.005968 |\n",
    "# |  113      | -0.8309   |  0.1784   |  0.1654   |  0.00655  |\n",
    "# |  176      | -0.8308   |  0.1777   |  0.1622   |  0.00675  |\n",
    "\n",
    "\n",
    "## v2\n",
    "# |   iter    |  target   |  param_b  |  param_m  |  param_r  |\n",
    "# -------------------------------------------------------------\n",
    "# |  111      | -0.5306   |  0.1906   |  0.8673   |  8.632e-0 |\n",
    "# |  132      | -0.4301   |  0.1866   |  0.5688   |  1.541e-0 |\n",
    "# |  185      | -0.393    |  0.1788   |  0.3451   |  0.000996 |\n",
    "# |  188      | -0.3919   |  0.1789   |  0.3409   |  0.0      |\n",
    "# |  206      | -0.3913   |  0.1777   |  0.3253   |  0.0      |\n",
    "# |  214      | -0.3903   |  0.1771   |  0.2912   |  0.001228 |"
   ]
  },
  {
   "cell_type": "code",
   "execution_count": 82,
   "metadata": {},
   "outputs": [
    {
     "name": "stdout",
     "output_type": "stream",
     "text": [
      "|   iter    |  target   |  param_b  |  param_m  |  param_r  |\n",
      "-------------------------------------------------------------\n",
      "| \u001b[0m 201     \u001b[0m | \u001b[0m-142.6   \u001b[0m | \u001b[0m 0.9367  \u001b[0m | \u001b[0m 0.06334 \u001b[0m | \u001b[0m 0.9706  \u001b[0m |\n",
      "| \u001b[0m 202     \u001b[0m | \u001b[0m-135.7   \u001b[0m | \u001b[0m 0.9452  \u001b[0m | \u001b[0m 1.386   \u001b[0m | \u001b[0m 0.6978  \u001b[0m |\n",
      "| \u001b[0m 203     \u001b[0m | \u001b[0m-116.9   \u001b[0m | \u001b[0m 0.8719  \u001b[0m | \u001b[0m 1.275   \u001b[0m | \u001b[0m 0.03094 \u001b[0m |\n",
      "| \u001b[0m 204     \u001b[0m | \u001b[0m-330.6   \u001b[0m | \u001b[0m 1.385   \u001b[0m | \u001b[0m 0.3539  \u001b[0m | \u001b[0m 0.9549  \u001b[0m |\n",
      "| \u001b[0m 205     \u001b[0m | \u001b[0m-126.4   \u001b[0m | \u001b[0m 0.7394  \u001b[0m | \u001b[0m 1.405   \u001b[0m | \u001b[0m 1.247   \u001b[0m |\n",
      "| \u001b[95m 206     \u001b[0m | \u001b[95m-0.3913  \u001b[0m | \u001b[95m 0.1777  \u001b[0m | \u001b[95m 0.3253  \u001b[0m | \u001b[95m 0.0     \u001b[0m |\n",
      "| \u001b[0m 207     \u001b[0m | \u001b[0m-0.3913  \u001b[0m | \u001b[0m 0.1777  \u001b[0m | \u001b[0m 0.3254  \u001b[0m | \u001b[0m 0.0     \u001b[0m |\n",
      "| \u001b[0m 208     \u001b[0m | \u001b[0m-0.3966  \u001b[0m | \u001b[0m 0.1833  \u001b[0m | \u001b[0m 0.3192  \u001b[0m | \u001b[0m 0.003311\u001b[0m |\n",
      "| \u001b[0m 209     \u001b[0m | \u001b[0m-0.3913  \u001b[0m | \u001b[0m 0.1794  \u001b[0m | \u001b[0m 0.3313  \u001b[0m | \u001b[0m 2.225e-0\u001b[0m |\n",
      "| \u001b[0m 210     \u001b[0m | \u001b[0m-0.3921  \u001b[0m | \u001b[0m 0.1805  \u001b[0m | \u001b[0m 0.3363  \u001b[0m | \u001b[0m 3.398e-1\u001b[0m |\n",
      "| \u001b[0m 211     \u001b[0m | \u001b[0m-0.3934  \u001b[0m | \u001b[0m 0.1823  \u001b[0m | \u001b[0m 0.3137  \u001b[0m | \u001b[0m 0.0     \u001b[0m |\n",
      "| \u001b[0m 212     \u001b[0m | \u001b[0m-0.396   \u001b[0m | \u001b[0m 0.1823  \u001b[0m | \u001b[0m 0.3028  \u001b[0m | \u001b[0m 0.006283\u001b[0m |\n",
      "| \u001b[0m 213     \u001b[0m | \u001b[0m-0.3937  \u001b[0m | \u001b[0m 0.1817  \u001b[0m | \u001b[0m 0.3454  \u001b[0m | \u001b[0m 8.33e-11\u001b[0m |\n",
      "| \u001b[95m 214     \u001b[0m | \u001b[95m-0.3903  \u001b[0m | \u001b[95m 0.1771  \u001b[0m | \u001b[95m 0.2912  \u001b[0m | \u001b[95m 0.001228\u001b[0m |\n",
      "| \u001b[95m 215     \u001b[0m | \u001b[95m-0.3902  \u001b[0m | \u001b[95m 0.178   \u001b[0m | \u001b[95m 0.3099  \u001b[0m | \u001b[95m 0.0     \u001b[0m |\n",
      "=============================================================\n"
     ]
    }
   ],
   "source": [
    "Opt_Targ2.maximize(init_points=5, n_iter=10)"
   ]
  },
  {
   "cell_type": "code",
   "execution_count": null,
   "metadata": {},
   "outputs": [],
   "source": []
  },
  {
   "cell_type": "code",
   "execution_count": 84,
   "metadata": {},
   "outputs": [],
   "source": [
    "# param_bo=0.1928\n",
    "# param_ro=0.006604\n",
    "# param_mo=0.4942\n",
    "\n",
    "# param_bo=0.1784 \n",
    "# param_ro=0.00655\n",
    "# param_mo=0.1654\n",
    "\n",
    "param_bo=0.1771\n",
    "param_ro=0.001228\n",
    "param_mo=0.2912"
   ]
  },
  {
   "cell_type": "markdown",
   "metadata": {},
   "source": [
    "## Running SIRD Model"
   ]
  },
  {
   "cell_type": "code",
   "execution_count": 85,
   "metadata": {},
   "outputs": [],
   "source": [
    "def sird_model_diff(VALUE_ON_T,t):  \n",
    "    '''The main set of equations'''\n",
    "    Y=np.zeros((4))\n",
    "    dS,dI,dR,dD = VALUE_ON_T  \n",
    "    Y[0] = - param_bo * dS * dI\n",
    "    Y[1] = (param_bo * dS * dI) - (param_ro * dI) - (param_mo * dI)\n",
    "    Y[2] = param_ro * dI\n",
    "    Y[3] = param_mo * dI\n",
    "    \n",
    "    return Y   # For odeint"
   ]
  },
  {
   "cell_type": "code",
   "execution_count": 91,
   "metadata": {},
   "outputs": [],
   "source": [
    "T_start = 0.0\n",
    "T_inc=1.0\n",
    "T_end=30*2\n",
    "I0=2/NUMB_OF_POPS\n",
    "S0=1-I0\n",
    "INPUT = (S0, I0, 0.0, 0.0)\n",
    "\n",
    "T_range = np.arange(T_start, T_end+T_inc, T_inc)\n",
    "RES = spi.odeint(sird_model_diff,INPUT,T_range)"
   ]
  },
  {
   "cell_type": "code",
   "execution_count": 92,
   "metadata": {},
   "outputs": [],
   "source": [
    "# pd.DataFrame(RES,columns=['Sus','Inf','Rec','Dea'])"
   ]
  },
  {
   "cell_type": "code",
   "execution_count": 93,
   "metadata": {},
   "outputs": [],
   "source": [
    "# df_daily_sird2[col_use]"
   ]
  },
  {
   "cell_type": "code",
   "execution_count": 94,
   "metadata": {},
   "outputs": [
    {
     "data": {
      "text/plain": [
       "<matplotlib.axes._subplots.AxesSubplot at 0x1c25038890>"
      ]
     },
     "execution_count": 94,
     "metadata": {},
     "output_type": "execute_result"
    },
    {
     "data": {
      "image/png": "[encoded data removed]",
      "text/plain": [
       "<Figure size 432x288 with 1 Axes>"
      ]
     },
     "metadata": {
      "needs_background": "light"
     },
     "output_type": "display_data"
    }
   ],
   "source": [
    "pd.DataFrame(RES,columns=['Sus','Inf','Rec','Dea'])[['Inf','Rec','Dea']].plot()\n",
    "# pd.DataFrame(RES,columns=['Sus','Inf','Rec','Dea']).plot()"
   ]
  },
  {
   "cell_type": "code",
   "execution_count": 153,
   "metadata": {},
   "outputs": [],
   "source": [
    "# pd.DataFrame(RES,columns=['Sus','Inf','Rec','Dea'])"
   ]
  },
  {
   "cell_type": "code",
   "execution_count": null,
   "metadata": {},
   "outputs": [],
   "source": []
  },
  {
   "cell_type": "markdown",
   "metadata": {},
   "source": [
    "## Interactive"
   ]
  },
  {
   "cell_type": "code",
   "execution_count": null,
   "metadata": {},
   "outputs": [],
   "source": []
  },
  {
   "cell_type": "code",
   "execution_count": null,
   "metadata": {},
   "outputs": [],
   "source": []
  },
  {
   "cell_type": "code",
   "execution_count": null,
   "metadata": {},
   "outputs": [],
   "source": []
  },
  {
   "cell_type": "markdown",
   "metadata": {},
   "source": [
    "## Reference\n",
    "    \n",
    "    Data : https://kawalcovid19.blob.core.windows.net/viz/statistik_harian.html\n",
    "    \n",
    "    Source Script : http://epirecip.es/epicookbook/chapters/kr08/2_1/python_original\n",
    "    \n",
    "    Image 1 : https://www.researchgate.net/figure/Scheme-of-Susceptible-Infectious-Recovered-Death-SIRD-Model-Boxes-represent_fig1_41507287\n",
    "    \n",
    "    Image 2 : https://www.chegg.com/homework-help/questions-and-answers/codes-problem-code-1-function-siddeterm-simulation-deterministic-sird-model-using-differen-q21316613"
   ]
  },
  {
   "cell_type": "code",
   "execution_count": null,
   "metadata": {},
   "outputs": [],
   "source": []
  }
 ],
 "metadata": {
  "kernelspec": {
   "display_name": "py37_env",
   "language": "python",
   "name": "myenv"
  },
  "language_info": {
   "codemirror_mode": {
    "name": "ipython",
    "version": 3
   },
   "file_extension": ".py",
   "mimetype": "text/x-python",
   "name": "python",
   "nbconvert_exporter": "python",
   "pygments_lexer": "ipython3",
   "version": "3.7.6"
  }
 },
 "nbformat": 4,
 "nbformat_minor": 4
}
