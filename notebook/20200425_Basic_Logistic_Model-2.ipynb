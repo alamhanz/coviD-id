{
 "cells": [
  {
   "cell_type": "markdown",
   "metadata": {},
   "source": [
    "# Logistic Model of Cumulative and recovered\n",
    "\n",
    "Basic Logistic model for Indonesia Covid \n",
    "(data until 20200425) using PSO optimization with parameter a,b,c,d and e. The prediction is about cumulative data and cumulative recovered (with assumption death rate is 8.5%)"
   ]
  },
  {
   "cell_type": "markdown",
   "metadata": {},
   "source": [
    "![logit](../images/Logistic-model.png)"
   ]
  },
  {
   "cell_type": "code",
   "execution_count": null,
   "metadata": {},
   "outputs": [],
   "source": []
  },
  {
   "cell_type": "code",
   "execution_count": 1,
   "metadata": {},
   "outputs": [],
   "source": [
    "PATH_DATA = '../data/raw/'\n",
    "PATH_DATA_INTERIM = '../data/interim/'\n",
    "PATH_SRC='../src/'\n",
    "PATH_IMG='../images/'"
   ]
  },
  {
   "cell_type": "code",
   "execution_count": 2,
   "metadata": {},
   "outputs": [],
   "source": [
    "import ipywidgets as widgets\n",
    "from ipywidgets import interact, interact_manual"
   ]
  },
  {
   "cell_type": "code",
   "execution_count": 3,
   "metadata": {},
   "outputs": [],
   "source": [
    "import pandas as pd\n",
    "import scipy.integrate as spi\n",
    "import numpy as np\n",
    "import seaborn as sns\n",
    "from sklearn.linear_model import LinearRegression\n",
    "import statsmodels.api as sm\n",
    "import matplotlib.pyplot as plt\n",
    "import datetime as dt\n",
    "import pyswarms as ps\n",
    "import sys\n",
    "\n",
    "sys.path.insert(1, PATH_SRC)\n",
    "from covid_model import sird_model, pso_logistic, logistic_model"
   ]
  },
  {
   "cell_type": "code",
   "execution_count": 4,
   "metadata": {},
   "outputs": [],
   "source": [
    "## Assumption\n",
    "CURR_DATE='20200425'"
   ]
  },
  {
   "cell_type": "code",
   "execution_count": null,
   "metadata": {},
   "outputs": [],
   "source": []
  },
  {
   "cell_type": "markdown",
   "metadata": {},
   "source": [
    "## Get The Data\n",
    "\n",
    "Getting the data and do the summary"
   ]
  },
  {
   "cell_type": "code",
   "execution_count": 5,
   "metadata": {},
   "outputs": [],
   "source": [
    "col_use=['Sus','Inf','Rec','Dea']\n",
    "col_use_pred=[x+'_pred' for x in col_use]"
   ]
  },
  {
   "cell_type": "code",
   "execution_count": 6,
   "metadata": {},
   "outputs": [],
   "source": [
    "## Get The Raw Data\n",
    "df_daily0=pd.read_csv(PATH_DATA+'20200404_DailyCase_ID.csv')\n",
    "df_daily1=pd.read_csv(PATH_DATA+'20200412_DailyCase_ID.csv')\n",
    "df_daily2=pd.read_csv(PATH_DATA+CURR_DATE+'_DailyCase_ID.csv')\n",
    "\n",
    "df_daily=pd.concat([df_daily0,df_daily1,df_daily2]).drop_duplicates()\n",
    "df_daily=df_daily.reset_index()\n",
    "del df_daily['index']\n",
    "\n",
    "df_daily=df_daily.fillna(0)\n",
    "df_daily['Cumulative']=df_daily['Kasus (Kumulatif)']\n",
    "df_daily['Rec_Cumulative']=df_daily['Sembuh (baru)'].cumsum()"
   ]
  },
  {
   "cell_type": "code",
   "execution_count": 7,
   "metadata": {},
   "outputs": [
    {
     "data": {
      "text/html": [
       "<div>\n",
       "<style scoped>\n",
       "    .dataframe tbody tr th:only-of-type {\n",
       "        vertical-align: middle;\n",
       "    }\n",
       "\n",
       "    .dataframe tbody tr th {\n",
       "        vertical-align: top;\n",
       "    }\n",
       "\n",
       "    .dataframe thead th {\n",
       "        text-align: right;\n",
       "    }\n",
       "</style>\n",
       "<table border=\"1\" class=\"dataframe\">\n",
       "  <thead>\n",
       "    <tr style=\"text-align: right;\">\n",
       "      <th></th>\n",
       "      <th>DT</th>\n",
       "      <th>Kasus (Kumulatif)</th>\n",
       "      <th>Kasus Baru</th>\n",
       "      <th>Sembuh (baru)</th>\n",
       "      <th>Meninggal (baru)</th>\n",
       "      <th>Cumulative</th>\n",
       "      <th>Rec_Cumulative</th>\n",
       "    </tr>\n",
       "  </thead>\n",
       "  <tbody>\n",
       "    <tr>\n",
       "      <th>39</th>\n",
       "      <td>2020-04-10 00:00:00</td>\n",
       "      <td>3512</td>\n",
       "      <td>219.0</td>\n",
       "      <td>30.0</td>\n",
       "      <td>26.0</td>\n",
       "      <td>3512</td>\n",
       "      <td>282.0</td>\n",
       "    </tr>\n",
       "    <tr>\n",
       "      <th>40</th>\n",
       "      <td>2020-04-11 00:00:00</td>\n",
       "      <td>3842</td>\n",
       "      <td>330.0</td>\n",
       "      <td>4.0</td>\n",
       "      <td>21.0</td>\n",
       "      <td>3842</td>\n",
       "      <td>286.0</td>\n",
       "    </tr>\n",
       "    <tr>\n",
       "      <th>41</th>\n",
       "      <td>2020-04-12 00:00:00</td>\n",
       "      <td>4241</td>\n",
       "      <td>399.0</td>\n",
       "      <td>73.0</td>\n",
       "      <td>46.0</td>\n",
       "      <td>4241</td>\n",
       "      <td>359.0</td>\n",
       "    </tr>\n",
       "    <tr>\n",
       "      <th>42</th>\n",
       "      <td>2020-04-13 00:00:00</td>\n",
       "      <td>4557</td>\n",
       "      <td>316.0</td>\n",
       "      <td>21.0</td>\n",
       "      <td>26.0</td>\n",
       "      <td>4557</td>\n",
       "      <td>380.0</td>\n",
       "    </tr>\n",
       "    <tr>\n",
       "      <th>43</th>\n",
       "      <td>2020-04-14 00:00:00</td>\n",
       "      <td>4839</td>\n",
       "      <td>282.0</td>\n",
       "      <td>46.0</td>\n",
       "      <td>60.0</td>\n",
       "      <td>4839</td>\n",
       "      <td>426.0</td>\n",
       "    </tr>\n",
       "    <tr>\n",
       "      <th>44</th>\n",
       "      <td>2020-04-15 00:00:00</td>\n",
       "      <td>5136</td>\n",
       "      <td>297.0</td>\n",
       "      <td>20.0</td>\n",
       "      <td>10.0</td>\n",
       "      <td>5136</td>\n",
       "      <td>446.0</td>\n",
       "    </tr>\n",
       "    <tr>\n",
       "      <th>45</th>\n",
       "      <td>2020-04-16 00:00:00</td>\n",
       "      <td>5516</td>\n",
       "      <td>380.0</td>\n",
       "      <td>102.0</td>\n",
       "      <td>27.0</td>\n",
       "      <td>5516</td>\n",
       "      <td>548.0</td>\n",
       "    </tr>\n",
       "    <tr>\n",
       "      <th>46</th>\n",
       "      <td>2020-04-17 00:00:00</td>\n",
       "      <td>5923</td>\n",
       "      <td>407.0</td>\n",
       "      <td>59.0</td>\n",
       "      <td>24.0</td>\n",
       "      <td>5923</td>\n",
       "      <td>607.0</td>\n",
       "    </tr>\n",
       "    <tr>\n",
       "      <th>47</th>\n",
       "      <td>2020-04-18 00:00:00</td>\n",
       "      <td>6248</td>\n",
       "      <td>325.0</td>\n",
       "      <td>24.0</td>\n",
       "      <td>15.0</td>\n",
       "      <td>6248</td>\n",
       "      <td>631.0</td>\n",
       "    </tr>\n",
       "    <tr>\n",
       "      <th>48</th>\n",
       "      <td>2020-04-19 00:00:00</td>\n",
       "      <td>6575</td>\n",
       "      <td>327.0</td>\n",
       "      <td>55.0</td>\n",
       "      <td>47.0</td>\n",
       "      <td>6575</td>\n",
       "      <td>686.0</td>\n",
       "    </tr>\n",
       "    <tr>\n",
       "      <th>49</th>\n",
       "      <td>2020-04-20 00:00:00</td>\n",
       "      <td>6760</td>\n",
       "      <td>185.0</td>\n",
       "      <td>61.0</td>\n",
       "      <td>8.0</td>\n",
       "      <td>6760</td>\n",
       "      <td>747.0</td>\n",
       "    </tr>\n",
       "    <tr>\n",
       "      <th>50</th>\n",
       "      <td>2020-04-21 00:00:00</td>\n",
       "      <td>7135</td>\n",
       "      <td>375.0</td>\n",
       "      <td>95.0</td>\n",
       "      <td>26.0</td>\n",
       "      <td>7135</td>\n",
       "      <td>842.0</td>\n",
       "    </tr>\n",
       "    <tr>\n",
       "      <th>51</th>\n",
       "      <td>2020-04-22 00:00:00</td>\n",
       "      <td>7418</td>\n",
       "      <td>283.0</td>\n",
       "      <td>71.0</td>\n",
       "      <td>20.0</td>\n",
       "      <td>7418</td>\n",
       "      <td>913.0</td>\n",
       "    </tr>\n",
       "    <tr>\n",
       "      <th>52</th>\n",
       "      <td>2020-04-23 00:00:00</td>\n",
       "      <td>7775</td>\n",
       "      <td>357.0</td>\n",
       "      <td>47.0</td>\n",
       "      <td>11.0</td>\n",
       "      <td>7775</td>\n",
       "      <td>960.0</td>\n",
       "    </tr>\n",
       "    <tr>\n",
       "      <th>53</th>\n",
       "      <td>2020-04-24 00:00:00</td>\n",
       "      <td>8211</td>\n",
       "      <td>436.0</td>\n",
       "      <td>42.0</td>\n",
       "      <td>42.0</td>\n",
       "      <td>8211</td>\n",
       "      <td>1002.0</td>\n",
       "    </tr>\n",
       "  </tbody>\n",
       "</table>\n",
       "</div>"
      ],
      "text/plain": [
       "                     DT  Kasus (Kumulatif)  Kasus Baru  Sembuh (baru)  \\\n",
       "39  2020-04-10 00:00:00               3512       219.0           30.0   \n",
       "40  2020-04-11 00:00:00               3842       330.0            4.0   \n",
       "41  2020-04-12 00:00:00               4241       399.0           73.0   \n",
       "42  2020-04-13 00:00:00               4557       316.0           21.0   \n",
       "43  2020-04-14 00:00:00               4839       282.0           46.0   \n",
       "44  2020-04-15 00:00:00               5136       297.0           20.0   \n",
       "45  2020-04-16 00:00:00               5516       380.0          102.0   \n",
       "46  2020-04-17 00:00:00               5923       407.0           59.0   \n",
       "47  2020-04-18 00:00:00               6248       325.0           24.0   \n",
       "48  2020-04-19 00:00:00               6575       327.0           55.0   \n",
       "49  2020-04-20 00:00:00               6760       185.0           61.0   \n",
       "50  2020-04-21 00:00:00               7135       375.0           95.0   \n",
       "51  2020-04-22 00:00:00               7418       283.0           71.0   \n",
       "52  2020-04-23 00:00:00               7775       357.0           47.0   \n",
       "53  2020-04-24 00:00:00               8211       436.0           42.0   \n",
       "\n",
       "    Meninggal (baru)  Cumulative  Rec_Cumulative  \n",
       "39              26.0        3512           282.0  \n",
       "40              21.0        3842           286.0  \n",
       "41              46.0        4241           359.0  \n",
       "42              26.0        4557           380.0  \n",
       "43              60.0        4839           426.0  \n",
       "44              10.0        5136           446.0  \n",
       "45              27.0        5516           548.0  \n",
       "46              24.0        5923           607.0  \n",
       "47              15.0        6248           631.0  \n",
       "48              47.0        6575           686.0  \n",
       "49               8.0        6760           747.0  \n",
       "50              26.0        7135           842.0  \n",
       "51              20.0        7418           913.0  \n",
       "52              11.0        7775           960.0  \n",
       "53              42.0        8211          1002.0  "
      ]
     },
     "execution_count": 7,
     "metadata": {},
     "output_type": "execute_result"
    }
   ],
   "source": [
    "df_daily.tail(15)"
   ]
  },
  {
   "cell_type": "code",
   "execution_count": 8,
   "metadata": {},
   "outputs": [
    {
     "data": {
      "text/plain": [
       "<matplotlib.axes._subplots.AxesSubplot at 0x1c247d8290>"
      ]
     },
     "execution_count": 8,
     "metadata": {},
     "output_type": "execute_result"
    },
    {
     "data": {
      "image/png": "[encoded data removed]",
      "text/plain": [
       "<Figure size 720x576 with 1 Axes>"
      ]
     },
     "metadata": {
      "needs_background": "light"
     },
     "output_type": "display_data"
    }
   ],
   "source": [
    "df_daily['Cumulative'].plot(figsize=(10,8))"
   ]
  },
  {
   "cell_type": "code",
   "execution_count": null,
   "metadata": {},
   "outputs": [],
   "source": []
  },
  {
   "cell_type": "markdown",
   "metadata": {},
   "source": [
    "## Tuning The Parameter Logistic of All Cases\n",
    "\n",
    "The newest data is more influence the model than the last one.. (using weight)"
   ]
  },
  {
   "cell_type": "code",
   "execution_count": 9,
   "metadata": {},
   "outputs": [],
   "source": [
    "# param_a,param_b,param_c,param_d,param_e"
   ]
  },
  {
   "cell_type": "code",
   "execution_count": 18,
   "metadata": {},
   "outputs": [],
   "source": [
    "## Summary Cummulative Cases\n",
    "## First 20 day --> [48471.4817, 40.7540622, 101.711472, 0.307469945, 5.41640784]  (8.4040045827)\n",
    "## First 27 day --> [108172.109, 45.9734812, 109.122463, 0.215903572, 4.77786082] (23.04402988374216)\n",
    "## First 34 day --> [136977.94, 45.1986732, 100.543712, 0.183285129, 4.4660551] (53.12156689)\n",
    "## First 42 day --> [640543.324, 35.1579225, 106.64473, 0.102669223, 4.31130506]\n",
    "## First 53 day--> [665812.1, 55.5254534, 101.07603, 0.113157825, 4.65867754] (2.4356155)\n"
   ]
  },
  {
   "cell_type": "code",
   "execution_count": null,
   "metadata": {
    "scrolled": true
   },
   "outputs": [],
   "source": []
  },
  {
   "cell_type": "markdown",
   "metadata": {},
   "source": [
    "### Training with All Data Cumulative cases"
   ]
  },
  {
   "cell_type": "code",
   "execution_count": 11,
   "metadata": {},
   "outputs": [],
   "source": [
    "## all current data\n",
    "df_daily0=df_daily[['Cumulative']].copy()\n",
    "prt=int(len(df_daily0)/4)+1\n",
    "weight_ls=[2.5]*prt+[1.5]*prt+[0.5]*prt+[0.1]*prt\n",
    "weight_ls2=weight_ls[:len(df_daily0)]\n",
    "weight_ls2.sort()\n",
    "df_daily0['weight']=weight_ls2"
   ]
  },
  {
   "cell_type": "code",
   "execution_count": 12,
   "metadata": {},
   "outputs": [
    {
     "data": {
      "text/html": [
       "<div>\n",
       "<style scoped>\n",
       "    .dataframe tbody tr th:only-of-type {\n",
       "        vertical-align: middle;\n",
       "    }\n",
       "\n",
       "    .dataframe tbody tr th {\n",
       "        vertical-align: top;\n",
       "    }\n",
       "\n",
       "    .dataframe thead th {\n",
       "        text-align: right;\n",
       "    }\n",
       "</style>\n",
       "<table border=\"1\" class=\"dataframe\">\n",
       "  <thead>\n",
       "    <tr style=\"text-align: right;\">\n",
       "      <th></th>\n",
       "      <th>Cumulative</th>\n",
       "      <th>weight</th>\n",
       "    </tr>\n",
       "  </thead>\n",
       "  <tbody>\n",
       "    <tr>\n",
       "      <th>49</th>\n",
       "      <td>6760</td>\n",
       "      <td>2.5</td>\n",
       "    </tr>\n",
       "    <tr>\n",
       "      <th>50</th>\n",
       "      <td>7135</td>\n",
       "      <td>2.5</td>\n",
       "    </tr>\n",
       "    <tr>\n",
       "      <th>51</th>\n",
       "      <td>7418</td>\n",
       "      <td>2.5</td>\n",
       "    </tr>\n",
       "    <tr>\n",
       "      <th>52</th>\n",
       "      <td>7775</td>\n",
       "      <td>2.5</td>\n",
       "    </tr>\n",
       "    <tr>\n",
       "      <th>53</th>\n",
       "      <td>8211</td>\n",
       "      <td>2.5</td>\n",
       "    </tr>\n",
       "  </tbody>\n",
       "</table>\n",
       "</div>"
      ],
      "text/plain": [
       "    Cumulative  weight\n",
       "49        6760     2.5\n",
       "50        7135     2.5\n",
       "51        7418     2.5\n",
       "52        7775     2.5\n",
       "53        8211     2.5"
      ]
     },
     "execution_count": 12,
     "metadata": {},
     "output_type": "execute_result"
    }
   ],
   "source": [
    "df_daily0.tail()"
   ]
  },
  {
   "cell_type": "code",
   "execution_count": 13,
   "metadata": {},
   "outputs": [],
   "source": [
    "# x=[40,3,0.8,0.9,0.1]\n",
    "# logistic_model(x,[0,1,2])\n",
    "# cost_func_logistic(x,df_daily0,with_pred=True)"
   ]
  },
  {
   "cell_type": "code",
   "execution_count": 14,
   "metadata": {
    "scrolled": true
   },
   "outputs": [
    {
     "name": "stderr",
     "output_type": "stream",
     "text": [
      "2020-04-25 05:24:47,924 - pyswarms.single.global_best - INFO - Optimize for 40 iters with {'c1': 0.15, 'c2': 0.95, 'w': 0.25}\n",
      "pyswarms.single.global_best: 100%|██████████|40/40, best_cost=2.58\n",
      "2020-04-25 05:25:05,777 - pyswarms.single.global_best - INFO - Optimization finished | best cost: 2.5777209423762555, best pos: [6.74164625e+05 5.43599632e+01 1.16630567e+02 1.10025514e-01\n",
      " 4.41953840e+00]\n",
      "2020-04-25 05:25:05,788 - pyswarms.single.global_best - INFO - Optimize for 40 iters with {'c1': 0.15, 'c2': 0.95, 'w': 0.25}\n",
      "pyswarms.single.global_best: 100%|██████████|40/40, best_cost=2.94\n",
      "2020-04-25 05:25:25,057 - pyswarms.single.global_best - INFO - Optimization finished | best cost: 2.9426834386234866, best pos: [6.12611834e+05 5.38956483e+01 1.02356261e+02 1.19069528e-01\n",
      " 4.77223299e+00]\n",
      "2020-04-25 05:25:25,067 - pyswarms.single.global_best - INFO - Optimize for 40 iters with {'c1': 0.15, 'c2': 0.95, 'w': 0.25}\n",
      "pyswarms.single.global_best: 100%|██████████|40/40, best_cost=5.7 \n",
      "2020-04-25 05:25:43,845 - pyswarms.single.global_best - INFO - Optimization finished | best cost: 5.70014640049018, best pos: [6.79562387e+05 4.68506085e+01 1.15455142e+02 9.85612342e-02\n",
      " 4.04691859e+00]\n",
      "2020-04-25 05:25:43,855 - pyswarms.single.global_best - INFO - Optimize for 50 iters with {'c1': 0.15, 'c2': 0.95, 'w': 0.25}\n",
      "pyswarms.single.global_best: 100%|██████████|50/50, best_cost=2.44\n",
      "2020-04-25 05:26:13,292 - pyswarms.single.global_best - INFO - Optimization finished | best cost: 2.435615565900367, best pos: [6.65812100e+05 5.55254534e+01 1.01076030e+02 1.13157825e-01\n",
      " 4.65867754e+00]\n"
     ]
    }
   ],
   "source": [
    "max_b=[750000, 60, 120, 0.3, 6.5]\n",
    "min_b=[600000, 30, 98, 0.001, 4]\n",
    "all_param,cost_value=pso_logistic(df0=df_daily0, \n",
    "                                  max_bound=max_b,\n",
    "                                  min_bound=min_b,\n",
    "                                  factor=0.005)"
   ]
  },
  {
   "cell_type": "code",
   "execution_count": 15,
   "metadata": {},
   "outputs": [
    {
     "name": "stdout",
     "output_type": "stream",
     "text": [
      "665812.0997534989\n",
      "55.52545344352267\n",
      "101.07602987640489\n",
      "0.11315782511326934\n",
      "4.658677543343263\n",
      ".. : 2.435615565900367\n"
     ]
    }
   ],
   "source": [
    "for i in all_param:\n",
    "    print(i)\n",
    "print('.. :',cost_value)"
   ]
  },
  {
   "cell_type": "code",
   "execution_count": 19,
   "metadata": {},
   "outputs": [
    {
     "data": {
      "text/plain": [
       "[665812.1, 55.5254534, 101.07603, 0.113157825, 4.65867754]"
      ]
     },
     "execution_count": 19,
     "metadata": {},
     "output_type": "execute_result"
    }
   ],
   "source": [
    "# all_param = [640543.324, 35.1579225, 106.64473, 0.102669223, 4.31130506] #--> old\n",
    "all_param = [665812.1, 55.5254534, 101.07603, 0.113157825, 4.65867754]\n",
    "all_param"
   ]
  },
  {
   "cell_type": "code",
   "execution_count": 20,
   "metadata": {},
   "outputs": [],
   "source": [
    "## Predict\n",
    "T_start = 0.0\n",
    "T_inc=1.0\n",
    "# T_end = 23+4\n",
    "T_end = 30*7\n",
    "\n",
    "T_range = np.arange(T_start, T_end+T_inc, T_inc)\n",
    "RES = logistic_model(all_param,T_range)\n",
    "df_sird_pred=pd.DataFrame(RES,columns=['Cumulative_pred'])"
   ]
  },
  {
   "cell_type": "code",
   "execution_count": 21,
   "metadata": {},
   "outputs": [],
   "source": [
    "date_1 = dt.datetime.strptime(\"2020-03-02\", \"%Y-%m-%d\")\n",
    "all_date=[date_1 + dt.timedelta(days=int(i)) for i in range(T_end+1)]"
   ]
  },
  {
   "cell_type": "code",
   "execution_count": 22,
   "metadata": {},
   "outputs": [
    {
     "data": {
      "text/plain": [
       "<matplotlib.axes._subplots.AxesSubplot at 0x1c24d77950>"
      ]
     },
     "execution_count": 22,
     "metadata": {},
     "output_type": "execute_result"
    },
    {
     "data": {
      "image/png": "[encoded data removed]",
      "text/plain": [
       "<Figure size 720x576 with 1 Axes>"
      ]
     },
     "metadata": {
      "needs_background": "light"
     },
     "output_type": "display_data"
    }
   ],
   "source": [
    "data_check_all_cases=pd.concat([df_daily0[['Cumulative']],df_sird_pred[['Cumulative_pred']]],axis=1)\n",
    "data_check_all_cases.index=all_date\n",
    "data_check_all_cases[21:55].plot(figsize=(10,8))"
   ]
  },
  {
   "cell_type": "code",
   "execution_count": 23,
   "metadata": {},
   "outputs": [],
   "source": [
    "# ## Old\n",
    "# data_check_all_cases=pd.concat([df_daily0[['Cumulative']],df_sird_pred[['Cumulative_pred']]],axis=1)\n",
    "# data_check_all_cases.index=all_date\n",
    "# ax=data_check_all_cases[34:55].plot(figsize=(10,8),title='True Prediction Range\\n(Suspected Prediction)')\n",
    "# xposition = [pd.to_datetime('2020-04-12'), pd.to_datetime('2020-04-14')]\n",
    "# for xc in xposition:\n",
    "#     ax.axvline(x=xc, color='r', linestyle='--')"
   ]
  },
  {
   "cell_type": "code",
   "execution_count": null,
   "metadata": {},
   "outputs": [],
   "source": []
  },
  {
   "cell_type": "code",
   "execution_count": 24,
   "metadata": {},
   "outputs": [
    {
     "data": {
      "text/plain": [
       "<matplotlib.axes._subplots.AxesSubplot at 0x1c24fc6250>"
      ]
     },
     "execution_count": 24,
     "metadata": {},
     "output_type": "execute_result"
    },
    {
     "data": {
      "image/png": "[encoded data removed]",
      "text/plain": [
       "<Figure size 720x576 with 1 Axes>"
      ]
     },
     "metadata": {
      "needs_background": "light"
     },
     "output_type": "display_data"
    }
   ],
   "source": [
    "data_check_all_cases[:120].plot(figsize=(10,8))"
   ]
  },
  {
   "cell_type": "code",
   "execution_count": 25,
   "metadata": {},
   "outputs": [
    {
     "data": {
      "text/plain": [
       "Cumulative          8211.000000\n",
       "Cumulative_pred    11991.114941\n",
       "dtype: float64"
      ]
     },
     "execution_count": 25,
     "metadata": {},
     "output_type": "execute_result"
    }
   ],
   "source": [
    "data_check_all_cases.max()"
   ]
  },
  {
   "cell_type": "code",
   "execution_count": 26,
   "metadata": {},
   "outputs": [
    {
     "data": {
      "text/html": [
       "<div>\n",
       "<style scoped>\n",
       "    .dataframe tbody tr th:only-of-type {\n",
       "        vertical-align: middle;\n",
       "    }\n",
       "\n",
       "    .dataframe tbody tr th {\n",
       "        vertical-align: top;\n",
       "    }\n",
       "\n",
       "    .dataframe thead th {\n",
       "        text-align: right;\n",
       "    }\n",
       "</style>\n",
       "<table border=\"1\" class=\"dataframe\">\n",
       "  <thead>\n",
       "    <tr style=\"text-align: right;\">\n",
       "      <th></th>\n",
       "      <th>Cumulative</th>\n",
       "      <th>Cumulative_pred</th>\n",
       "    </tr>\n",
       "  </thead>\n",
       "  <tbody>\n",
       "    <tr>\n",
       "      <th>2020-04-16</th>\n",
       "      <td>5516.0</td>\n",
       "      <td>5500.236246</td>\n",
       "    </tr>\n",
       "    <tr>\n",
       "      <th>2020-04-17</th>\n",
       "      <td>5923.0</td>\n",
       "      <td>5838.362880</td>\n",
       "    </tr>\n",
       "    <tr>\n",
       "      <th>2020-04-18</th>\n",
       "      <td>6248.0</td>\n",
       "      <td>6177.493096</td>\n",
       "    </tr>\n",
       "    <tr>\n",
       "      <th>2020-04-19</th>\n",
       "      <td>6575.0</td>\n",
       "      <td>6515.462046</td>\n",
       "    </tr>\n",
       "    <tr>\n",
       "      <th>2020-04-20</th>\n",
       "      <td>6760.0</td>\n",
       "      <td>6850.134375</td>\n",
       "    </tr>\n",
       "    <tr>\n",
       "      <th>2020-04-21</th>\n",
       "      <td>7135.0</td>\n",
       "      <td>7179.457634</td>\n",
       "    </tr>\n",
       "    <tr>\n",
       "      <th>2020-04-22</th>\n",
       "      <td>7418.0</td>\n",
       "      <td>7501.511312</td>\n",
       "    </tr>\n",
       "    <tr>\n",
       "      <th>2020-04-23</th>\n",
       "      <td>7775.0</td>\n",
       "      <td>7814.549073</td>\n",
       "    </tr>\n",
       "    <tr>\n",
       "      <th>2020-04-24</th>\n",
       "      <td>8211.0</td>\n",
       "      <td>8117.032386</td>\n",
       "    </tr>\n",
       "    <tr>\n",
       "      <th>2020-04-25</th>\n",
       "      <td>NaN</td>\n",
       "      <td>8407.654416</td>\n",
       "    </tr>\n",
       "    <tr>\n",
       "      <th>2020-04-26</th>\n",
       "      <td>NaN</td>\n",
       "      <td>8685.353821</td>\n",
       "    </tr>\n",
       "    <tr>\n",
       "      <th>2020-04-27</th>\n",
       "      <td>NaN</td>\n",
       "      <td>8949.318766</td>\n",
       "    </tr>\n",
       "    <tr>\n",
       "      <th>2020-04-28</th>\n",
       "      <td>NaN</td>\n",
       "      <td>9198.982058</td>\n",
       "    </tr>\n",
       "    <tr>\n",
       "      <th>2020-04-29</th>\n",
       "      <td>NaN</td>\n",
       "      <td>9434.008741</td>\n",
       "    </tr>\n",
       "    <tr>\n",
       "      <th>2020-04-30</th>\n",
       "      <td>NaN</td>\n",
       "      <td>9654.277735</td>\n",
       "    </tr>\n",
       "  </tbody>\n",
       "</table>\n",
       "</div>"
      ],
      "text/plain": [
       "            Cumulative  Cumulative_pred\n",
       "2020-04-16      5516.0      5500.236246\n",
       "2020-04-17      5923.0      5838.362880\n",
       "2020-04-18      6248.0      6177.493096\n",
       "2020-04-19      6575.0      6515.462046\n",
       "2020-04-20      6760.0      6850.134375\n",
       "2020-04-21      7135.0      7179.457634\n",
       "2020-04-22      7418.0      7501.511312\n",
       "2020-04-23      7775.0      7814.549073\n",
       "2020-04-24      8211.0      8117.032386\n",
       "2020-04-25         NaN      8407.654416\n",
       "2020-04-26         NaN      8685.353821\n",
       "2020-04-27         NaN      8949.318766\n",
       "2020-04-28         NaN      9198.982058\n",
       "2020-04-29         NaN      9434.008741\n",
       "2020-04-30         NaN      9654.277735"
      ]
     },
     "execution_count": 26,
     "metadata": {},
     "output_type": "execute_result"
    }
   ],
   "source": [
    "data_check_all_cases[45:60]"
   ]
  },
  {
   "cell_type": "code",
   "execution_count": null,
   "metadata": {},
   "outputs": [],
   "source": []
  },
  {
   "cell_type": "code",
   "execution_count": null,
   "metadata": {},
   "outputs": [],
   "source": []
  },
  {
   "cell_type": "markdown",
   "metadata": {},
   "source": [
    "### Training with All Data Recovered\n",
    "\n",
    "with total death rate is 8.5%"
   ]
  },
  {
   "cell_type": "code",
   "execution_count": 27,
   "metadata": {},
   "outputs": [],
   "source": [
    "# 34 --> [ 0.98518133,  1.06919954, 28.79657901,  0.14964926,  4.40898579]\n",
    "# 42 --> [0.98026423, 1.0691996, 39.70484, 0.113262, 4.786129]\n",
    "# 53 --> [ 0.89474875,  1.06546736, 38.18543954,  0.09902955,  3.70800671] (1920.56797)"
   ]
  },
  {
   "cell_type": "code",
   "execution_count": 28,
   "metadata": {},
   "outputs": [],
   "source": [
    "## all current data\n",
    "df_daily0=df_daily[['Rec_Cumulative']].copy()\n",
    "df_daily0['Cumulative']=df_daily0['Rec_Cumulative']\n",
    "df_daily0=df_daily0/(data_check_all_cases.max()['Cumulative_pred']*(1-0.085))\n",
    "\n",
    "prt=int(len(df_daily0)/4)+1\n",
    "weight_ls=[2]*prt+[1]*prt+[0.8]*prt+[0.1]*prt\n",
    "weight_ls2=weight_ls[:len(df_daily0)]\n",
    "weight_ls2.sort()\n",
    "df_daily0['weight']=weight_ls2"
   ]
  },
  {
   "cell_type": "code",
   "execution_count": 29,
   "metadata": {},
   "outputs": [
    {
     "data": {
      "text/html": [
       "<div>\n",
       "<style scoped>\n",
       "    .dataframe tbody tr th:only-of-type {\n",
       "        vertical-align: middle;\n",
       "    }\n",
       "\n",
       "    .dataframe tbody tr th {\n",
       "        vertical-align: top;\n",
       "    }\n",
       "\n",
       "    .dataframe thead th {\n",
       "        text-align: right;\n",
       "    }\n",
       "</style>\n",
       "<table border=\"1\" class=\"dataframe\">\n",
       "  <thead>\n",
       "    <tr style=\"text-align: right;\">\n",
       "      <th></th>\n",
       "      <th>Rec_Cumulative</th>\n",
       "      <th>Cumulative</th>\n",
       "      <th>weight</th>\n",
       "    </tr>\n",
       "  </thead>\n",
       "  <tbody>\n",
       "    <tr>\n",
       "      <th>49</th>\n",
       "      <td>0.068083</td>\n",
       "      <td>0.068083</td>\n",
       "      <td>2.0</td>\n",
       "    </tr>\n",
       "    <tr>\n",
       "      <th>50</th>\n",
       "      <td>0.076742</td>\n",
       "      <td>0.076742</td>\n",
       "      <td>2.0</td>\n",
       "    </tr>\n",
       "    <tr>\n",
       "      <th>51</th>\n",
       "      <td>0.083213</td>\n",
       "      <td>0.083213</td>\n",
       "      <td>2.0</td>\n",
       "    </tr>\n",
       "    <tr>\n",
       "      <th>52</th>\n",
       "      <td>0.087496</td>\n",
       "      <td>0.087496</td>\n",
       "      <td>2.0</td>\n",
       "    </tr>\n",
       "    <tr>\n",
       "      <th>53</th>\n",
       "      <td>0.091324</td>\n",
       "      <td>0.091324</td>\n",
       "      <td>2.0</td>\n",
       "    </tr>\n",
       "  </tbody>\n",
       "</table>\n",
       "</div>"
      ],
      "text/plain": [
       "    Rec_Cumulative  Cumulative  weight\n",
       "49        0.068083    0.068083     2.0\n",
       "50        0.076742    0.076742     2.0\n",
       "51        0.083213    0.083213     2.0\n",
       "52        0.087496    0.087496     2.0\n",
       "53        0.091324    0.091324     2.0"
      ]
     },
     "execution_count": 29,
     "metadata": {},
     "output_type": "execute_result"
    }
   ],
   "source": [
    "df_daily0.tail()"
   ]
  },
  {
   "cell_type": "code",
   "execution_count": 30,
   "metadata": {},
   "outputs": [],
   "source": [
    "# x=[40,3,0.8,0.9,0.1]\n",
    "# logistic_model(x,[0,1,2])\n",
    "# cost_func_logistic(x,df_daily0,with_pred=True)"
   ]
  },
  {
   "cell_type": "code",
   "execution_count": 31,
   "metadata": {
    "scrolled": true
   },
   "outputs": [
    {
     "name": "stderr",
     "output_type": "stream",
     "text": [
      "2020-04-25 05:30:23,994 - pyswarms.single.global_best - INFO - Optimize for 40 iters with {'c1': 0.15, 'c2': 0.95, 'w': 0.25}\n",
      "pyswarms.single.global_best: 100%|██████████|40/40, best_cost=2e+3  \n",
      "2020-04-25 05:30:42,621 - pyswarms.single.global_best - INFO - Optimization finished | best cost: 1996.7409863045496, best pos: [ 0.97256971  0.97913524 40.85027114  0.09775663  3.67620856]\n",
      "2020-04-25 05:30:42,631 - pyswarms.single.global_best - INFO - Optimize for 40 iters with {'c1': 0.15, 'c2': 0.95, 'w': 0.25}\n",
      "pyswarms.single.global_best: 100%|██████████|40/40, best_cost=1.99e+3\n",
      "2020-04-25 05:31:01,414 - pyswarms.single.global_best - INFO - Optimization finished | best cost: 1993.5371177102206, best pos: [ 0.97254488  0.98654391 37.8636108   0.09788267  3.7576052 ]\n",
      "2020-04-25 05:31:01,423 - pyswarms.single.global_best - INFO - Optimize for 40 iters with {'c1': 0.15, 'c2': 0.95, 'w': 0.25}\n",
      "pyswarms.single.global_best: 100%|██████████|40/40, best_cost=2e+3  \n",
      "2020-04-25 05:31:19,382 - pyswarms.single.global_best - INFO - Optimization finished | best cost: 1997.8380573658112, best pos: [ 0.97981335  0.98376697 34.70957803  0.09779639  3.84853456]\n",
      "2020-04-25 05:31:19,392 - pyswarms.single.global_best - INFO - Optimize for 50 iters with {'c1': 0.15, 'c2': 0.95, 'w': 0.25}\n",
      "pyswarms.single.global_best: 100%|██████████|50/50, best_cost=1.92e+3\n",
      "2020-04-25 05:31:48,065 - pyswarms.single.global_best - INFO - Optimization finished | best cost: 1920.5679777847088, best pos: [ 0.89474875  1.06546736 38.18543954  0.09902955  3.70800671]\n"
     ]
    }
   ],
   "source": [
    "min_b=[0.97, 0.97, 32, 0.01, 3]\n",
    "max_b=[0.99, 0.99, 45, 0.2, 6]\n",
    "\n",
    "all_param,cost_value=pso_logistic(df0=df_daily0, max_bound=max_b, min_bound=min_b, factor=5000000000)"
   ]
  },
  {
   "cell_type": "code",
   "execution_count": 32,
   "metadata": {},
   "outputs": [
    {
     "name": "stdout",
     "output_type": "stream",
     "text": [
      "0.8947487509078861\n",
      "1.0654673581243348\n",
      "38.185439537106035\n",
      "0.0990295526813014\n",
      "3.708006711449317\n",
      ".. : 1920.5679777847088\n"
     ]
    }
   ],
   "source": [
    "# all_param,cost_value\n",
    "for i in all_param:\n",
    "    print(i)\n",
    "print('.. :',cost_value)"
   ]
  },
  {
   "cell_type": "code",
   "execution_count": 33,
   "metadata": {},
   "outputs": [
    {
     "data": {
      "text/plain": [
       "array([ 0.89474875,  1.06546736, 38.18543954,  0.09902955,  3.70800671])"
      ]
     },
     "execution_count": 33,
     "metadata": {},
     "output_type": "execute_result"
    }
   ],
   "source": [
    "# all_param = [ 0.89474875,  1.06546736, 38.18543954,  0.09902955,  3.70800671]\n",
    "all_param"
   ]
  },
  {
   "cell_type": "code",
   "execution_count": 34,
   "metadata": {},
   "outputs": [],
   "source": [
    "## Predict\n",
    "T_start = 0.0\n",
    "T_inc=1.0\n",
    "# T_end = 23+4\n",
    "T_end = 30*10\n",
    "\n",
    "T_range = np.arange(T_start, T_end+T_inc, T_inc)\n",
    "RES = logistic_model(all_param,T_range)\n",
    "df_sird_pred=pd.DataFrame(RES,columns=['Cumulative_pred'])"
   ]
  },
  {
   "cell_type": "code",
   "execution_count": 35,
   "metadata": {},
   "outputs": [],
   "source": [
    "date_1 = dt.datetime.strptime(\"2020-03-02\", \"%Y-%m-%d\")\n",
    "all_date=[date_1 + dt.timedelta(days=int(i)) for i in range(T_end+1)]"
   ]
  },
  {
   "cell_type": "code",
   "execution_count": null,
   "metadata": {},
   "outputs": [],
   "source": []
  },
  {
   "cell_type": "code",
   "execution_count": 36,
   "metadata": {},
   "outputs": [
    {
     "data": {
      "text/plain": [
       "<matplotlib.axes._subplots.AxesSubplot at 0x1c24fc6f10>"
      ]
     },
     "execution_count": 36,
     "metadata": {},
     "output_type": "execute_result"
    },
    {
     "data": {
      "image/png": "[encoded data removed]",
      "text/plain": [
       "<Figure size 720x576 with 1 Axes>"
      ]
     },
     "metadata": {
      "needs_background": "light"
     },
     "output_type": "display_data"
    }
   ],
   "source": [
    "data_check_rec=pd.concat([df_daily0[['Rec_Cumulative']],df_sird_pred[['Cumulative_pred']]],axis=1)\n",
    "data_check_rec.columns=['Rec_Cumulative','Rec_Cumulative_pred']\n",
    "data_check_rec=data_check_rec*(data_check_all_cases.max()['Cumulative_pred']*(1-0.085))\n",
    "data_check_rec.index=all_date\n",
    "data_check_rec[35:55].plot(figsize=(10,8))"
   ]
  },
  {
   "cell_type": "code",
   "execution_count": 37,
   "metadata": {},
   "outputs": [],
   "source": [
    "# data_check_rec=pd.concat([df_daily0[['Rec_Cumulative']],df_sird_pred[['Cumulative_pred']]],axis=1)\n",
    "# data_check_rec.columns=['Rec_Cumulative','Rec_Cumulative_pred']\n",
    "# data_check_rec=data_check_rec*(data_check_all_cases.max()['Cumulative_pred']*(1-0.085))\n",
    "# data_check_rec.index=all_date\n",
    "# ax=data_check_rec[35:55].plot(figsize=(10,8),title='True Prediction Range \\n (Recover Prediction)')\n",
    "\n",
    "# xposition = [pd.to_datetime('2020-04-12'), pd.to_datetime('2020-04-18')]\n",
    "# for xc in xposition:\n",
    "#     ax.axvline(x=xc, color='r', linestyle='--')"
   ]
  },
  {
   "cell_type": "code",
   "execution_count": null,
   "metadata": {},
   "outputs": [],
   "source": []
  },
  {
   "cell_type": "code",
   "execution_count": 38,
   "metadata": {},
   "outputs": [
    {
     "data": {
      "text/plain": [
       "<matplotlib.axes._subplots.AxesSubplot at 0x1c25032a90>"
      ]
     },
     "execution_count": 38,
     "metadata": {},
     "output_type": "execute_result"
    },
    {
     "data": {
      "image/png": "[encoded data removed]",
      "text/plain": [
       "<Figure size 720x576 with 1 Axes>"
      ]
     },
     "metadata": {
      "needs_background": "light"
     },
     "output_type": "display_data"
    }
   ],
   "source": [
    "data_check_rec[:150].plot(figsize=(10,8))"
   ]
  },
  {
   "cell_type": "code",
   "execution_count": 39,
   "metadata": {},
   "outputs": [],
   "source": [
    "data_check_rec['Rec_Cumulative_pred_before']=data_check_rec['Rec_Cumulative_pred'].shift(1)\n",
    "data_check_rec['Rec_Cumulative_before']=data_check_rec['Rec_Cumulative'].shift(1)\n",
    "\n",
    "data_check_rec['Prediksi Sembuh Harian']=data_check_rec['Rec_Cumulative_pred']-data_check_rec['Rec_Cumulative_pred_before']\n",
    "data_check_rec['Real Sembuh Harian']=data_check_rec['Rec_Cumulative']-data_check_rec['Rec_Cumulative_before']"
   ]
  },
  {
   "cell_type": "code",
   "execution_count": 40,
   "metadata": {},
   "outputs": [
    {
     "data": {
      "text/html": [
       "<div>\n",
       "<style scoped>\n",
       "    .dataframe tbody tr th:only-of-type {\n",
       "        vertical-align: middle;\n",
       "    }\n",
       "\n",
       "    .dataframe tbody tr th {\n",
       "        vertical-align: top;\n",
       "    }\n",
       "\n",
       "    .dataframe thead th {\n",
       "        text-align: right;\n",
       "    }\n",
       "</style>\n",
       "<table border=\"1\" class=\"dataframe\">\n",
       "  <thead>\n",
       "    <tr style=\"text-align: right;\">\n",
       "      <th></th>\n",
       "      <th>Real Sembuh Harian</th>\n",
       "      <th>Prediksi Sembuh Harian</th>\n",
       "    </tr>\n",
       "  </thead>\n",
       "  <tbody>\n",
       "    <tr>\n",
       "      <th>2020-04-16</th>\n",
       "      <td>102.0</td>\n",
       "      <td>45.923325</td>\n",
       "    </tr>\n",
       "    <tr>\n",
       "      <th>2020-04-17</th>\n",
       "      <td>59.0</td>\n",
       "      <td>50.146982</td>\n",
       "    </tr>\n",
       "    <tr>\n",
       "      <th>2020-04-18</th>\n",
       "      <td>24.0</td>\n",
       "      <td>54.700036</td>\n",
       "    </tr>\n",
       "    <tr>\n",
       "      <th>2020-04-19</th>\n",
       "      <td>55.0</td>\n",
       "      <td>59.596293</td>\n",
       "    </tr>\n",
       "    <tr>\n",
       "      <th>2020-04-20</th>\n",
       "      <td>61.0</td>\n",
       "      <td>64.847608</td>\n",
       "    </tr>\n",
       "    <tr>\n",
       "      <th>2020-04-21</th>\n",
       "      <td>95.0</td>\n",
       "      <td>70.463259</td>\n",
       "    </tr>\n",
       "    <tr>\n",
       "      <th>2020-04-22</th>\n",
       "      <td>71.0</td>\n",
       "      <td>76.449228</td>\n",
       "    </tr>\n",
       "    <tr>\n",
       "      <th>2020-04-23</th>\n",
       "      <td>47.0</td>\n",
       "      <td>82.807412</td>\n",
       "    </tr>\n",
       "    <tr>\n",
       "      <th>2020-04-24</th>\n",
       "      <td>42.0</td>\n",
       "      <td>89.534765</td>\n",
       "    </tr>\n",
       "    <tr>\n",
       "      <th>2020-04-25</th>\n",
       "      <td>NaN</td>\n",
       "      <td>96.622388</td>\n",
       "    </tr>\n",
       "    <tr>\n",
       "      <th>2020-04-26</th>\n",
       "      <td>NaN</td>\n",
       "      <td>104.054600</td>\n",
       "    </tr>\n",
       "    <tr>\n",
       "      <th>2020-04-27</th>\n",
       "      <td>NaN</td>\n",
       "      <td>111.808005</td>\n",
       "    </tr>\n",
       "    <tr>\n",
       "      <th>2020-04-28</th>\n",
       "      <td>NaN</td>\n",
       "      <td>119.850619</td>\n",
       "    </tr>\n",
       "    <tr>\n",
       "      <th>2020-04-29</th>\n",
       "      <td>NaN</td>\n",
       "      <td>128.141089</td>\n",
       "    </tr>\n",
       "    <tr>\n",
       "      <th>2020-04-30</th>\n",
       "      <td>NaN</td>\n",
       "      <td>136.628082</td>\n",
       "    </tr>\n",
       "    <tr>\n",
       "      <th>2020-05-01</th>\n",
       "      <td>NaN</td>\n",
       "      <td>145.249897</td>\n",
       "    </tr>\n",
       "    <tr>\n",
       "      <th>2020-05-02</th>\n",
       "      <td>NaN</td>\n",
       "      <td>153.934376</td>\n",
       "    </tr>\n",
       "    <tr>\n",
       "      <th>2020-05-03</th>\n",
       "      <td>NaN</td>\n",
       "      <td>162.599189</td>\n",
       "    </tr>\n",
       "    <tr>\n",
       "      <th>2020-05-04</th>\n",
       "      <td>NaN</td>\n",
       "      <td>171.152545</td>\n",
       "    </tr>\n",
       "    <tr>\n",
       "      <th>2020-05-05</th>\n",
       "      <td>NaN</td>\n",
       "      <td>179.494392</td>\n",
       "    </tr>\n",
       "  </tbody>\n",
       "</table>\n",
       "</div>"
      ],
      "text/plain": [
       "            Real Sembuh Harian  Prediksi Sembuh Harian\n",
       "2020-04-16               102.0               45.923325\n",
       "2020-04-17                59.0               50.146982\n",
       "2020-04-18                24.0               54.700036\n",
       "2020-04-19                55.0               59.596293\n",
       "2020-04-20                61.0               64.847608\n",
       "2020-04-21                95.0               70.463259\n",
       "2020-04-22                71.0               76.449228\n",
       "2020-04-23                47.0               82.807412\n",
       "2020-04-24                42.0               89.534765\n",
       "2020-04-25                 NaN               96.622388\n",
       "2020-04-26                 NaN              104.054600\n",
       "2020-04-27                 NaN              111.808005\n",
       "2020-04-28                 NaN              119.850619\n",
       "2020-04-29                 NaN              128.141089\n",
       "2020-04-30                 NaN              136.628082\n",
       "2020-05-01                 NaN              145.249897\n",
       "2020-05-02                 NaN              153.934376\n",
       "2020-05-03                 NaN              162.599189\n",
       "2020-05-04                 NaN              171.152545\n",
       "2020-05-05                 NaN              179.494392"
      ]
     },
     "execution_count": 40,
     "metadata": {},
     "output_type": "execute_result"
    }
   ],
   "source": [
    "data_check_rec[['Real Sembuh Harian','Prediksi Sembuh Harian']][45:65]"
   ]
  },
  {
   "cell_type": "code",
   "execution_count": null,
   "metadata": {},
   "outputs": [],
   "source": []
  },
  {
   "cell_type": "markdown",
   "metadata": {},
   "source": [
    "## Merge result"
   ]
  },
  {
   "cell_type": "code",
   "execution_count": 41,
   "metadata": {},
   "outputs": [],
   "source": [
    "df_merge_pred=pd.concat([data_check_rec[['Rec_Cumulative_pred']],data_check_all_cases[['Cumulative_pred']]],axis=1)"
   ]
  },
  {
   "cell_type": "code",
   "execution_count": 45,
   "metadata": {},
   "outputs": [
    {
     "data": {
      "image/png": "[encoded data removed]",
      "text/plain": [
       "<Figure size 720x576 with 1 Axes>"
      ]
     },
     "metadata": {
      "needs_background": "light"
     },
     "output_type": "display_data"
    }
   ],
   "source": [
    "tx1='Cumulative Prediction of Total cases and Recovery\\nCovid-19 in Indonesia (Prediction Date : 25 April 2020, Death rate = 8.5%)'\n",
    "tx1+='\\nKasus Baru mungkin akan berhenti tanggal 01 Juni 2020'\n",
    "tx1+='\\ndan Recovery Total pada tanggal 07 Juli 2020'\n",
    "\n",
    "ax=df_merge_pred[:175].plot(figsize=(10,8),title=tx1)\n",
    "xposition = [pd.to_datetime('2020-06-01'), pd.to_datetime('2020-06-30')]\n",
    "for xc in xposition:\n",
    "    ax.axvline(x=xc, color='r', linestyle='--')"
   ]
  },
  {
   "cell_type": "code",
   "execution_count": 46,
   "metadata": {},
   "outputs": [],
   "source": [
    "# tx1='Cumulative Prediction of Total cases and Recovery\\nCovid-19 in Indonesia (Prediction Date : 4 April 2020, Death rate = 8.5%)'\n",
    "# tx1+='\\nKasus Baru mungkin akan berhenti tanggal 10 Juni 2020'\n",
    "# tx1+='\\ndan Recovery Total pada tanggal 30 Juni 2020'\n",
    "\n",
    "# ax=df_merge_pred[:180].plot(figsize=(10,8),title=tx1)\n",
    "# xposition = [pd.to_datetime('2020-06-10'), pd.to_datetime('2020-06-30')]\n",
    "# for xc in xposition:\n",
    "#     ax.axvline(x=xc, color='r', linestyle='--')"
   ]
  },
  {
   "cell_type": "code",
   "execution_count": null,
   "metadata": {},
   "outputs": [],
   "source": []
  },
  {
   "cell_type": "code",
   "execution_count": 47,
   "metadata": {},
   "outputs": [],
   "source": [
    "df_merge_pred2=pd.concat([data_check_rec[['Real Sembuh Harian','Prediksi Sembuh Harian']],data_check_all_cases[['Cumulative','Cumulative_pred']]],axis=1)"
   ]
  },
  {
   "cell_type": "code",
   "execution_count": 50,
   "metadata": {},
   "outputs": [
    {
     "data": {
      "text/html": [
       "<div>\n",
       "<style scoped>\n",
       "    .dataframe tbody tr th:only-of-type {\n",
       "        vertical-align: middle;\n",
       "    }\n",
       "\n",
       "    .dataframe tbody tr th {\n",
       "        vertical-align: top;\n",
       "    }\n",
       "\n",
       "    .dataframe thead th {\n",
       "        text-align: right;\n",
       "    }\n",
       "</style>\n",
       "<table border=\"1\" class=\"dataframe\">\n",
       "  <thead>\n",
       "    <tr style=\"text-align: right;\">\n",
       "      <th></th>\n",
       "      <th>Real Sembuh Harian</th>\n",
       "      <th>Prediksi Sembuh Harian</th>\n",
       "      <th>Cumulative</th>\n",
       "      <th>Cumulative_pred</th>\n",
       "    </tr>\n",
       "  </thead>\n",
       "  <tbody>\n",
       "    <tr>\n",
       "      <th>2020-04-16</th>\n",
       "      <td>102.0</td>\n",
       "      <td>45.923325</td>\n",
       "      <td>5516.0</td>\n",
       "      <td>5500.236246</td>\n",
       "    </tr>\n",
       "    <tr>\n",
       "      <th>2020-04-17</th>\n",
       "      <td>59.0</td>\n",
       "      <td>50.146982</td>\n",
       "      <td>5923.0</td>\n",
       "      <td>5838.362880</td>\n",
       "    </tr>\n",
       "    <tr>\n",
       "      <th>2020-04-18</th>\n",
       "      <td>24.0</td>\n",
       "      <td>54.700036</td>\n",
       "      <td>6248.0</td>\n",
       "      <td>6177.493096</td>\n",
       "    </tr>\n",
       "    <tr>\n",
       "      <th>2020-04-19</th>\n",
       "      <td>55.0</td>\n",
       "      <td>59.596293</td>\n",
       "      <td>6575.0</td>\n",
       "      <td>6515.462046</td>\n",
       "    </tr>\n",
       "    <tr>\n",
       "      <th>2020-04-20</th>\n",
       "      <td>61.0</td>\n",
       "      <td>64.847608</td>\n",
       "      <td>6760.0</td>\n",
       "      <td>6850.134375</td>\n",
       "    </tr>\n",
       "    <tr>\n",
       "      <th>2020-04-21</th>\n",
       "      <td>95.0</td>\n",
       "      <td>70.463259</td>\n",
       "      <td>7135.0</td>\n",
       "      <td>7179.457634</td>\n",
       "    </tr>\n",
       "    <tr>\n",
       "      <th>2020-04-22</th>\n",
       "      <td>71.0</td>\n",
       "      <td>76.449228</td>\n",
       "      <td>7418.0</td>\n",
       "      <td>7501.511312</td>\n",
       "    </tr>\n",
       "    <tr>\n",
       "      <th>2020-04-23</th>\n",
       "      <td>47.0</td>\n",
       "      <td>82.807412</td>\n",
       "      <td>7775.0</td>\n",
       "      <td>7814.549073</td>\n",
       "    </tr>\n",
       "    <tr>\n",
       "      <th>2020-04-24</th>\n",
       "      <td>42.0</td>\n",
       "      <td>89.534765</td>\n",
       "      <td>8211.0</td>\n",
       "      <td>8117.032386</td>\n",
       "    </tr>\n",
       "    <tr>\n",
       "      <th>2020-04-25</th>\n",
       "      <td>NaN</td>\n",
       "      <td>96.622388</td>\n",
       "      <td>NaN</td>\n",
       "      <td>8407.654416</td>\n",
       "    </tr>\n",
       "    <tr>\n",
       "      <th>2020-04-26</th>\n",
       "      <td>NaN</td>\n",
       "      <td>104.054600</td>\n",
       "      <td>NaN</td>\n",
       "      <td>8685.353821</td>\n",
       "    </tr>\n",
       "    <tr>\n",
       "      <th>2020-04-27</th>\n",
       "      <td>NaN</td>\n",
       "      <td>111.808005</td>\n",
       "      <td>NaN</td>\n",
       "      <td>8949.318766</td>\n",
       "    </tr>\n",
       "    <tr>\n",
       "      <th>2020-04-28</th>\n",
       "      <td>NaN</td>\n",
       "      <td>119.850619</td>\n",
       "      <td>NaN</td>\n",
       "      <td>9198.982058</td>\n",
       "    </tr>\n",
       "    <tr>\n",
       "      <th>2020-04-29</th>\n",
       "      <td>NaN</td>\n",
       "      <td>128.141089</td>\n",
       "      <td>NaN</td>\n",
       "      <td>9434.008741</td>\n",
       "    </tr>\n",
       "    <tr>\n",
       "      <th>2020-04-30</th>\n",
       "      <td>NaN</td>\n",
       "      <td>136.628082</td>\n",
       "      <td>NaN</td>\n",
       "      <td>9654.277735</td>\n",
       "    </tr>\n",
       "    <tr>\n",
       "      <th>2020-05-01</th>\n",
       "      <td>NaN</td>\n",
       "      <td>145.249897</td>\n",
       "      <td>NaN</td>\n",
       "      <td>9859.859215</td>\n",
       "    </tr>\n",
       "    <tr>\n",
       "      <th>2020-05-02</th>\n",
       "      <td>NaN</td>\n",
       "      <td>153.934376</td>\n",
       "      <td>NaN</td>\n",
       "      <td>10050.989362</td>\n",
       "    </tr>\n",
       "    <tr>\n",
       "      <th>2020-05-03</th>\n",
       "      <td>NaN</td>\n",
       "      <td>162.599189</td>\n",
       "      <td>NaN</td>\n",
       "      <td>10228.043976</td>\n",
       "    </tr>\n",
       "    <tr>\n",
       "      <th>2020-05-04</th>\n",
       "      <td>NaN</td>\n",
       "      <td>171.152545</td>\n",
       "      <td>NaN</td>\n",
       "      <td>10391.512209</td>\n",
       "    </tr>\n",
       "    <tr>\n",
       "      <th>2020-05-05</th>\n",
       "      <td>NaN</td>\n",
       "      <td>179.494392</td>\n",
       "      <td>NaN</td>\n",
       "      <td>10541.971426</td>\n",
       "    </tr>\n",
       "  </tbody>\n",
       "</table>\n",
       "</div>"
      ],
      "text/plain": [
       "            Real Sembuh Harian  Prediksi Sembuh Harian  Cumulative  \\\n",
       "2020-04-16               102.0               45.923325      5516.0   \n",
       "2020-04-17                59.0               50.146982      5923.0   \n",
       "2020-04-18                24.0               54.700036      6248.0   \n",
       "2020-04-19                55.0               59.596293      6575.0   \n",
       "2020-04-20                61.0               64.847608      6760.0   \n",
       "2020-04-21                95.0               70.463259      7135.0   \n",
       "2020-04-22                71.0               76.449228      7418.0   \n",
       "2020-04-23                47.0               82.807412      7775.0   \n",
       "2020-04-24                42.0               89.534765      8211.0   \n",
       "2020-04-25                 NaN               96.622388         NaN   \n",
       "2020-04-26                 NaN              104.054600         NaN   \n",
       "2020-04-27                 NaN              111.808005         NaN   \n",
       "2020-04-28                 NaN              119.850619         NaN   \n",
       "2020-04-29                 NaN              128.141089         NaN   \n",
       "2020-04-30                 NaN              136.628082         NaN   \n",
       "2020-05-01                 NaN              145.249897         NaN   \n",
       "2020-05-02                 NaN              153.934376         NaN   \n",
       "2020-05-03                 NaN              162.599189         NaN   \n",
       "2020-05-04                 NaN              171.152545         NaN   \n",
       "2020-05-05                 NaN              179.494392         NaN   \n",
       "\n",
       "            Cumulative_pred  \n",
       "2020-04-16      5500.236246  \n",
       "2020-04-17      5838.362880  \n",
       "2020-04-18      6177.493096  \n",
       "2020-04-19      6515.462046  \n",
       "2020-04-20      6850.134375  \n",
       "2020-04-21      7179.457634  \n",
       "2020-04-22      7501.511312  \n",
       "2020-04-23      7814.549073  \n",
       "2020-04-24      8117.032386  \n",
       "2020-04-25      8407.654416  \n",
       "2020-04-26      8685.353821  \n",
       "2020-04-27      8949.318766  \n",
       "2020-04-28      9198.982058  \n",
       "2020-04-29      9434.008741  \n",
       "2020-04-30      9654.277735  \n",
       "2020-05-01      9859.859215  \n",
       "2020-05-02     10050.989362  \n",
       "2020-05-03     10228.043976  \n",
       "2020-05-04     10391.512209  \n",
       "2020-05-05     10541.971426  "
      ]
     },
     "execution_count": 50,
     "metadata": {},
     "output_type": "execute_result"
    }
   ],
   "source": [
    "df_merge_pred2[45:65]"
   ]
  },
  {
   "cell_type": "code",
   "execution_count": null,
   "metadata": {},
   "outputs": [],
   "source": []
  },
  {
   "cell_type": "code",
   "execution_count": 61,
   "metadata": {},
   "outputs": [],
   "source": []
  },
  {
   "cell_type": "markdown",
   "metadata": {},
   "source": [
    "## Conclusion\n",
    "\n",
    "..."
   ]
  },
  {
   "cell_type": "code",
   "execution_count": null,
   "metadata": {},
   "outputs": [],
   "source": []
  },
  {
   "cell_type": "code",
   "execution_count": null,
   "metadata": {},
   "outputs": [],
   "source": []
  }
 ],
 "metadata": {
  "kernelspec": {
   "display_name": "py37_env",
   "language": "python",
   "name": "myenv"
  },
  "language_info": {
   "codemirror_mode": {
    "name": "ipython",
    "version": 3
   },
   "file_extension": ".py",
   "mimetype": "text/x-python",
   "name": "python",
   "nbconvert_exporter": "python",
   "pygments_lexer": "ipython3",
   "version": "3.7.6"
  }
 },
 "nbformat": 4,
 "nbformat_minor": 4
}
